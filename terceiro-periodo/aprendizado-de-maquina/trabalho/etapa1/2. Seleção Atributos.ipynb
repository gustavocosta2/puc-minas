{
 "cells": [
  {
   "cell_type": "markdown",
   "id": "cae049ff-dd92-48ea-8961-a70905eb281a",
   "metadata": {},
   "source": [
    "# **2. Seleção de Atributos**"
   ]
  },
  {
   "cell_type": "markdown",
   "id": "62cdad1a-8a6a-45b1-8991-fbfdc0dccf3c",
   "metadata": {},
   "source": [
    "O propósito desse notebook é **exclusivamente** selecionar os atributos do Mapa Conceitual selecionados após a leitura dos artigos científicos."
   ]
  },
  {
   "cell_type": "markdown",
   "id": "9fb648b4-b179-4153-92f7-627a7c05a65a",
   "metadata": {},
   "source": [
    "## **2.1. Importando as bases separadas**"
   ]
  },
  {
   "cell_type": "code",
   "execution_count": 24,
   "id": "a3191d6b-5d09-4de1-93aa-ae7e66a8ccda",
   "metadata": {},
   "outputs": [],
   "source": [
    "# Importação das bibliotecas necessárias.\n",
    "import pandas as pd\n",
    "import os"
   ]
  },
  {
   "cell_type": "code",
   "execution_count": 25,
   "id": "4117802e-9a43-46c9-ac80-ba01f6ed06da",
   "metadata": {},
   "outputs": [],
   "source": [
    "# Base de dados de pessoas exclusivamente saudáveis.\n",
    "df_saudaveis = pd.read_csv(\"C://Users//Gustavo//OneDrive//Documentos//PUC//3° Periodo//Mineraçao de Dados//trabalho//dados//df_saudaveis.csv\")\n",
    "\n",
    "# Base de dados de pessoas que possuem hipertensão.\n",
    "df_hipertensos = pd.read_csv(\"C://Users//Gustavo//OneDrive//Documentos//PUC//3° Periodo//Mineraçao de Dados//trabalho//dados//df_hipertensao.csv\")\n",
    "\n",
    "# Base de dados de pessoas que possuem hipertensão e doenças cardiovasculares.\n",
    "df_hiper_cvd = pd.read_csv(\"C://Users//Gustavo//OneDrive//Documentos//PUC//3° Periodo//Mineraçao de Dados//trabalho//dados//df_hipercvd.csv\")\n"
   ]
  },
  {
   "cell_type": "code",
   "execution_count": 26,
   "id": "2b69c9f2-6288-4751-b946-512f8ddb2cf6",
   "metadata": {},
   "outputs": [
    {
     "name": "stdout",
     "output_type": "stream",
     "text": [
      "112551 20123 2984\n"
     ]
    }
   ],
   "source": [
    "print(df_saudaveis.shape[0], df_hipertensos.shape[0], df_hiper_cvd.shape[0])"
   ]
  },
  {
   "cell_type": "markdown",
   "id": "f54cb239-0de0-482c-b2ae-920ae77926db",
   "metadata": {},
   "source": [
    "Como podemos notar, há:\n",
    "\n",
    "- **112.551 pessoas que são saudáveis**\n",
    "- **20.123 pessoas que são hipertensas**\n",
    "- **2.984 pessoas que são hipertensas e que possuem problemas cardiovasculares**"
   ]
  },
  {
   "cell_type": "markdown",
   "id": "f4cbc6f9-fa14-489b-9fd3-1b106d6d4325",
   "metadata": {
    "jp-MarkdownHeadingCollapsed": true
   },
   "source": [
    "## **2.2. Junção dos Três Conjuntos**"
   ]
  },
  {
   "cell_type": "markdown",
   "id": "b470c245-ad63-4f86-a6cf-6f043f91d343",
   "metadata": {},
   "source": [
    "Essa etapa consiste em apenas juntar os três conjuntos de dados em um unificado, juntamente com um novo atributo que será o alvo, esse ficará responsável por classificar as instâncias de acordo com suas respectivas classes. "
   ]
  },
  {
   "cell_type": "code",
   "execution_count": 27,
   "id": "ace64647-060c-4b58-a4e3-ecf3764a63df",
   "metadata": {},
   "outputs": [],
   "source": [
    "# Primeiro passo: criar a coluna de rótulo para os três conjuntos de dados.\n",
    "\n",
    "df_saudaveis['Condicao'] = 'Saudavel'\n",
    "df_hipertensos['Condicao'] = 'Hipertenso'\n",
    "df_hiper_cvd['Condicao'] = 'HiperCVD'"
   ]
  },
  {
   "cell_type": "code",
   "execution_count": 28,
   "id": "5d5fedc3-45eb-4910-a1cd-67974800bd94",
   "metadata": {},
   "outputs": [],
   "source": [
    "# Segundo passo: Merge dos três conjuntos de dados.\n",
    "\n",
    "df = pd.concat([df_saudaveis, df_hipertensos, df_hiper_cvd], ignore_index=True)"
   ]
  },
  {
   "cell_type": "code",
   "execution_count": 29,
   "id": "ad8d011c-8ea3-4160-8648-f9c1184d9160",
   "metadata": {},
   "outputs": [
    {
     "data": {
      "text/plain": [
       "(135658, 1088)"
      ]
     },
     "execution_count": 29,
     "metadata": {},
     "output_type": "execute_result"
    }
   ],
   "source": [
    "df.shape"
   ]
  },
  {
   "cell_type": "code",
   "execution_count": 30,
   "id": "70a105b1-f199-4e19-9de1-fc3e0f6be9a4",
   "metadata": {},
   "outputs": [
    {
     "data": {
      "text/plain": [
       "count    135658.000000\n",
       "mean          2.676606\n",
       "std           1.417419\n",
       "min           1.000000\n",
       "25%           1.000000\n",
       "50%           4.000000\n",
       "75%           4.000000\n",
       "max           9.000000\n",
       "Name: C009, dtype: float64"
      ]
     },
     "execution_count": 30,
     "metadata": {},
     "output_type": "execute_result"
    }
   ],
   "source": [
    "df[\"C009\"].describe()"
   ]
  },
  {
   "cell_type": "markdown",
   "id": "d1d6476c-512d-41a8-8b55-585667cfae9a",
   "metadata": {},
   "source": [
    "Agora, temos os três conjuntos de dados concatenados em um Data Frame. O próximo passo é dividir esse conjunto de dados em treino e teste. Isso porque o modelo aprenderá no conjunto de treino e este deve estar balanceado.\n",
    "\n",
    "Conjunto de Dados:\n",
    "\n",
    "- 23.423 instâncias, as três classes estão desbalanceadas.\n",
    "- 1.088 atributos."
   ]
  },
  {
   "cell_type": "markdown",
   "id": "cedc1039-c692-4a93-85ee-57d5619aaf2d",
   "metadata": {
    "jp-MarkdownHeadingCollapsed": true
   },
   "source": [
    "## **2.3. Seleção de Atributos**"
   ]
  },
  {
   "cell_type": "code",
   "execution_count": 31,
   "id": "e4f5f97e-7cc9-4308-a142-6c8107fb546a",
   "metadata": {},
   "outputs": [],
   "source": [
    "df = df[[\"P00104\",# Aspecto Antropometria, 2 atributos relacionados.\n",
    "             \"P00404\",\n",
    "             # Aspecto Características do Indivíduo, 3 atributos relacionados.\n",
    "             \"C006\",\n",
    "             \"C008\",\n",
    "             \"C009\",\n",
    "             # Aspecto Habitos Alimentares, 1 atributos relacionados.\n",
    "             \"P02601\",\n",
    "             # Aspecto - Atividades Físicas, 1 atributo relacionado.\n",
    "             \"P034\",\n",
    "             # Aspecto - Tabagismo, 9 atributos relacionados.\n",
    "             \"P050\",\n",
    "             \"P052\",\n",
    "             \"P05401\",\n",
    "             \"P05404\",\n",
    "             \"P05407\",\n",
    "             \"P05410\",\n",
    "             \"P05413\",\n",
    "             \"P05416\",\n",
    "             \"P05419\",\n",
    "             # Aspecto - Alcoolismo, 3 atributos.\n",
    "             \"P027\",\n",
    "             \"P02801\",\n",
    "             \"P029\",\n",
    "             # Aspecto Acompanhamento Médico, 4 atributos.\n",
    "             \"J037\",\n",
    "             \"H001\",\n",
    "             \"N001\",\n",
    "             \"I00102\",\n",
    "             # Aspecto Social, 2 atributos.\n",
    "             \"D001\",\n",
    "             \"VDD004A\",\n",
    "             # Aspecto Ecônomico, 1 atributos selecionados.\n",
    "             \"VDF004\",\n",
    "             #Rótulo\n",
    "             \"Condicao\"\n",
    "            ]]"
   ]
  },
  {
   "cell_type": "code",
   "execution_count": 32,
   "id": "9f4ba739-483b-44f9-88cc-fe5045c8dc85",
   "metadata": {},
   "outputs": [
    {
     "data": {
      "text/plain": [
       "(135658, 27)"
      ]
     },
     "execution_count": 32,
     "metadata": {},
     "output_type": "execute_result"
    }
   ],
   "source": [
    "df.shape"
   ]
  },
  {
   "cell_type": "markdown",
   "id": "05d2f8c5-11de-49f5-a866-e821d0c71d81",
   "metadata": {},
   "source": [
    "## **2.4. Salvando Conjunto de Dados com Atributos Selecionados**"
   ]
  },
  {
   "cell_type": "code",
   "execution_count": 33,
   "id": "597a622b-59cf-4dc5-8eaf-d061582d4a3a",
   "metadata": {},
   "outputs": [],
   "source": [
    "def salvar_conjunto(dataframe):\n",
    "    diretorio = \"../dados\"\n",
    "\n",
    "    if not os.path.exists(diretorio):\n",
    "        os.makedirs(diretorio)\n",
    "\n",
    "    #Pergunta ao usuário do código o nome do arquivo a ser salvo.\n",
    "    nome = input(\"Digite o nome do arquivo a ser salvo: \")\n",
    "    nome += \".csv\"\n",
    "\n",
    "    caminho_arquivo = os.path.join(diretorio, nome)\n",
    "    \n",
    "    #Salvar o DataFrame em .csv\n",
    "    dataframe.to_csv(caminho_arquivo, index=False)\n",
    "\n",
    "    print(f\"Arquivo salvo em: {caminho_arquivo}\")"
   ]
  },
  {
   "cell_type": "code",
   "execution_count": 34,
   "id": "ecce2d7c-2b17-441b-96bc-d8e70ef1ca0d",
   "metadata": {},
   "outputs": [
    {
     "name": "stdin",
     "output_type": "stream",
     "text": [
      "Digite o nome do arquivo a ser salvo:  df_selecionado\n"
     ]
    },
    {
     "name": "stdout",
     "output_type": "stream",
     "text": [
      "Arquivo salvo em: ../dados\\df_selecionado.csv\n"
     ]
    }
   ],
   "source": [
    "salvar_conjunto(df)"
   ]
  }
 ],
 "metadata": {
  "kernelspec": {
   "display_name": "Python 3 (ipykernel)",
   "language": "python",
   "name": "python3"
  },
  "language_info": {
   "codemirror_mode": {
    "name": "ipython",
    "version": 3
   },
   "file_extension": ".py",
   "mimetype": "text/x-python",
   "name": "python",
   "nbconvert_exporter": "python",
   "pygments_lexer": "ipython3",
   "version": "3.12.4"
  }
 },
 "nbformat": 4,
 "nbformat_minor": 5
}
