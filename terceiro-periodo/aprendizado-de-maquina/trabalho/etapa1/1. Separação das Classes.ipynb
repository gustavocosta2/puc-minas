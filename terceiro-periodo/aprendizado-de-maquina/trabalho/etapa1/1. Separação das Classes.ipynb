{
 "cells": [
  {
   "cell_type": "markdown",
   "id": "4b749b21-ad3a-4aab-981d-993e69503639",
   "metadata": {},
   "source": [
    "# **1. Separando as Classes**"
   ]
  },
  {
   "cell_type": "markdown",
   "id": "7ebef98a-5322-45af-9770-50b87799ada1",
   "metadata": {},
   "source": [
    "O objetivo desse primeiro notebook é **exclusivamente** realizar a separação dos dados que pertencem ao problema, são elas:\n",
    "\n",
    "- Pessoas Saudáveis: São aquelas pessoas que responderam diferente de *'Sim'* para as perguntas de diagnóstico de todas as doenças e que *não são nulos*.\n",
    "\n",
    "- Pessoas Hipertensas: São as pessoas que responderam *'Sim'* para o diagnóstico de hipertensão.\n",
    "\n",
    "- Pessoas HiperCVD: São as pessoas que responderam *'Sim'* para o diagnóstico de hipertensão e doenças cardiovasculares."
   ]
  },
  {
   "cell_type": "code",
   "execution_count": 19,
   "id": "f8d4981a-fddd-48e2-b50e-169b4541eaf0",
   "metadata": {},
   "outputs": [],
   "source": [
    "# Importação das bibliotecas\n",
    "import pandas as pd\n",
    "import numpy as np\n",
    "import matplotlib.pyplot as plt\n",
    "import seaborn as sns\n",
    "import plotly as px\n",
    "import os"
   ]
  },
  {
   "cell_type": "code",
   "execution_count": 20,
   "id": "d3d76e12-f2f9-43d6-9f9a-222bd745df85",
   "metadata": {},
   "outputs": [
    {
     "data": {
      "text/html": [
       "<div>\n",
       "<style scoped>\n",
       "    .dataframe tbody tr th:only-of-type {\n",
       "        vertical-align: middle;\n",
       "    }\n",
       "\n",
       "    .dataframe tbody tr th {\n",
       "        vertical-align: top;\n",
       "    }\n",
       "\n",
       "    .dataframe thead th {\n",
       "        text-align: right;\n",
       "    }\n",
       "</style>\n",
       "<table border=\"1\" class=\"dataframe\">\n",
       "  <thead>\n",
       "    <tr style=\"text-align: right;\">\n",
       "      <th></th>\n",
       "      <th>V0001</th>\n",
       "      <th>V0024</th>\n",
       "      <th>UPA_PNS</th>\n",
       "      <th>V0006_PNS</th>\n",
       "      <th>V0015</th>\n",
       "      <th>V0020</th>\n",
       "      <th>V0022</th>\n",
       "      <th>V0026</th>\n",
       "      <th>V0031</th>\n",
       "      <th>V0025A</th>\n",
       "      <th>...</th>\n",
       "      <th>VDE002</th>\n",
       "      <th>VDE014</th>\n",
       "      <th>VDF002</th>\n",
       "      <th>VDF003</th>\n",
       "      <th>VDF004</th>\n",
       "      <th>VDL001</th>\n",
       "      <th>VDM001</th>\n",
       "      <th>VDP001</th>\n",
       "      <th>VDR001</th>\n",
       "      <th>VDDATA</th>\n",
       "    </tr>\n",
       "  </thead>\n",
       "  <tbody>\n",
       "    <tr>\n",
       "      <th>0</th>\n",
       "      <td>11</td>\n",
       "      <td>1110011</td>\n",
       "      <td>110000016</td>\n",
       "      <td>1</td>\n",
       "      <td>1</td>\n",
       "      <td>2019</td>\n",
       "      <td>6.0</td>\n",
       "      <td>1</td>\n",
       "      <td>1</td>\n",
       "      <td>1.0</td>\n",
       "      <td>...</td>\n",
       "      <td>1.0</td>\n",
       "      <td>6.0</td>\n",
       "      <td>2098.0</td>\n",
       "      <td>350.0</td>\n",
       "      <td>2.0</td>\n",
       "      <td>NaN</td>\n",
       "      <td>NaN</td>\n",
       "      <td>NaN</td>\n",
       "      <td>NaN</td>\n",
       "      <td>20210825</td>\n",
       "    </tr>\n",
       "    <tr>\n",
       "      <th>1</th>\n",
       "      <td>11</td>\n",
       "      <td>1110011</td>\n",
       "      <td>110000016</td>\n",
       "      <td>1</td>\n",
       "      <td>1</td>\n",
       "      <td>2019</td>\n",
       "      <td>6.0</td>\n",
       "      <td>1</td>\n",
       "      <td>1</td>\n",
       "      <td>0.0</td>\n",
       "      <td>...</td>\n",
       "      <td>NaN</td>\n",
       "      <td>NaN</td>\n",
       "      <td>2098.0</td>\n",
       "      <td>350.0</td>\n",
       "      <td>2.0</td>\n",
       "      <td>NaN</td>\n",
       "      <td>NaN</td>\n",
       "      <td>NaN</td>\n",
       "      <td>NaN</td>\n",
       "      <td>20210825</td>\n",
       "    </tr>\n",
       "    <tr>\n",
       "      <th>2</th>\n",
       "      <td>11</td>\n",
       "      <td>1110011</td>\n",
       "      <td>110000016</td>\n",
       "      <td>1</td>\n",
       "      <td>1</td>\n",
       "      <td>2019</td>\n",
       "      <td>6.0</td>\n",
       "      <td>1</td>\n",
       "      <td>1</td>\n",
       "      <td>0.0</td>\n",
       "      <td>...</td>\n",
       "      <td>1.0</td>\n",
       "      <td>4.0</td>\n",
       "      <td>2098.0</td>\n",
       "      <td>350.0</td>\n",
       "      <td>2.0</td>\n",
       "      <td>NaN</td>\n",
       "      <td>NaN</td>\n",
       "      <td>NaN</td>\n",
       "      <td>NaN</td>\n",
       "      <td>20210825</td>\n",
       "    </tr>\n",
       "    <tr>\n",
       "      <th>3</th>\n",
       "      <td>11</td>\n",
       "      <td>1110011</td>\n",
       "      <td>110000016</td>\n",
       "      <td>1</td>\n",
       "      <td>1</td>\n",
       "      <td>2019</td>\n",
       "      <td>6.0</td>\n",
       "      <td>1</td>\n",
       "      <td>1</td>\n",
       "      <td>9.0</td>\n",
       "      <td>...</td>\n",
       "      <td>NaN</td>\n",
       "      <td>NaN</td>\n",
       "      <td>2098.0</td>\n",
       "      <td>350.0</td>\n",
       "      <td>2.0</td>\n",
       "      <td>NaN</td>\n",
       "      <td>NaN</td>\n",
       "      <td>NaN</td>\n",
       "      <td>NaN</td>\n",
       "      <td>20210825</td>\n",
       "    </tr>\n",
       "    <tr>\n",
       "      <th>4</th>\n",
       "      <td>11</td>\n",
       "      <td>1110011</td>\n",
       "      <td>110000016</td>\n",
       "      <td>1</td>\n",
       "      <td>1</td>\n",
       "      <td>2019</td>\n",
       "      <td>6.0</td>\n",
       "      <td>1</td>\n",
       "      <td>1</td>\n",
       "      <td>9.0</td>\n",
       "      <td>...</td>\n",
       "      <td>NaN</td>\n",
       "      <td>NaN</td>\n",
       "      <td>2098.0</td>\n",
       "      <td>350.0</td>\n",
       "      <td>2.0</td>\n",
       "      <td>NaN</td>\n",
       "      <td>NaN</td>\n",
       "      <td>NaN</td>\n",
       "      <td>NaN</td>\n",
       "      <td>20210825</td>\n",
       "    </tr>\n",
       "  </tbody>\n",
       "</table>\n",
       "<p>5 rows × 1087 columns</p>\n",
       "</div>"
      ],
      "text/plain": [
       "   V0001    V0024    UPA_PNS  V0006_PNS  V0015  V0020  V0022  V0026  V0031  \\\n",
       "0     11  1110011  110000016          1      1   2019    6.0      1      1   \n",
       "1     11  1110011  110000016          1      1   2019    6.0      1      1   \n",
       "2     11  1110011  110000016          1      1   2019    6.0      1      1   \n",
       "3     11  1110011  110000016          1      1   2019    6.0      1      1   \n",
       "4     11  1110011  110000016          1      1   2019    6.0      1      1   \n",
       "\n",
       "   V0025A  ...  VDE002  VDE014  VDF002  VDF003  VDF004  VDL001  VDM001  \\\n",
       "0     1.0  ...     1.0     6.0  2098.0   350.0     2.0     NaN     NaN   \n",
       "1     0.0  ...     NaN     NaN  2098.0   350.0     2.0     NaN     NaN   \n",
       "2     0.0  ...     1.0     4.0  2098.0   350.0     2.0     NaN     NaN   \n",
       "3     9.0  ...     NaN     NaN  2098.0   350.0     2.0     NaN     NaN   \n",
       "4     9.0  ...     NaN     NaN  2098.0   350.0     2.0     NaN     NaN   \n",
       "\n",
       "   VDP001  VDR001    VDDATA  \n",
       "0     NaN     NaN  20210825  \n",
       "1     NaN     NaN  20210825  \n",
       "2     NaN     NaN  20210825  \n",
       "3     NaN     NaN  20210825  \n",
       "4     NaN     NaN  20210825  \n",
       "\n",
       "[5 rows x 1087 columns]"
      ]
     },
     "execution_count": 20,
     "metadata": {},
     "output_type": "execute_result"
    }
   ],
   "source": [
    "# Leitura da base de dados\n",
    "df = pd.read_csv(\"C://Users//Gustavo//OneDrive//Documentos//PUC//3° Periodo//Mineraçao de Dados//trabalho//dados//pns2019.csv\")\n",
    "df.head()"
   ]
  },
  {
   "cell_type": "code",
   "execution_count": 21,
   "id": "462fdfe5-fd16-451d-8da3-324b3acea94f",
   "metadata": {},
   "outputs": [
    {
     "data": {
      "text/html": [
       "<div>\n",
       "<style scoped>\n",
       "    .dataframe tbody tr th:only-of-type {\n",
       "        vertical-align: middle;\n",
       "    }\n",
       "\n",
       "    .dataframe tbody tr th {\n",
       "        vertical-align: top;\n",
       "    }\n",
       "\n",
       "    .dataframe thead th {\n",
       "        text-align: right;\n",
       "    }\n",
       "</style>\n",
       "<table border=\"1\" class=\"dataframe\">\n",
       "  <thead>\n",
       "    <tr style=\"text-align: right;\">\n",
       "      <th></th>\n",
       "      <th>V0001</th>\n",
       "      <th>V0024</th>\n",
       "      <th>UPA_PNS</th>\n",
       "      <th>V0006_PNS</th>\n",
       "      <th>V0015</th>\n",
       "      <th>V0020</th>\n",
       "      <th>V0022</th>\n",
       "      <th>V0026</th>\n",
       "      <th>V0031</th>\n",
       "      <th>V0025A</th>\n",
       "      <th>...</th>\n",
       "      <th>VDE002</th>\n",
       "      <th>VDE014</th>\n",
       "      <th>VDF002</th>\n",
       "      <th>VDF003</th>\n",
       "      <th>VDF004</th>\n",
       "      <th>VDL001</th>\n",
       "      <th>VDM001</th>\n",
       "      <th>VDP001</th>\n",
       "      <th>VDR001</th>\n",
       "      <th>VDDATA</th>\n",
       "    </tr>\n",
       "  </thead>\n",
       "  <tbody>\n",
       "    <tr>\n",
       "      <th>293721</th>\n",
       "      <td>53</td>\n",
       "      <td>5310220</td>\n",
       "      <td>530044434</td>\n",
       "      <td>14</td>\n",
       "      <td>1</td>\n",
       "      <td>2019</td>\n",
       "      <td>4.0</td>\n",
       "      <td>2</td>\n",
       "      <td>1</td>\n",
       "      <td>0.0</td>\n",
       "      <td>...</td>\n",
       "      <td>1.0</td>\n",
       "      <td>1.0</td>\n",
       "      <td>13390.0</td>\n",
       "      <td>3348.0</td>\n",
       "      <td>6.0</td>\n",
       "      <td>NaN</td>\n",
       "      <td>NaN</td>\n",
       "      <td>NaN</td>\n",
       "      <td>NaN</td>\n",
       "      <td>20210825</td>\n",
       "    </tr>\n",
       "    <tr>\n",
       "      <th>293722</th>\n",
       "      <td>53</td>\n",
       "      <td>5310220</td>\n",
       "      <td>530044434</td>\n",
       "      <td>14</td>\n",
       "      <td>1</td>\n",
       "      <td>2019</td>\n",
       "      <td>4.0</td>\n",
       "      <td>2</td>\n",
       "      <td>1</td>\n",
       "      <td>1.0</td>\n",
       "      <td>...</td>\n",
       "      <td>NaN</td>\n",
       "      <td>NaN</td>\n",
       "      <td>13390.0</td>\n",
       "      <td>3348.0</td>\n",
       "      <td>6.0</td>\n",
       "      <td>NaN</td>\n",
       "      <td>NaN</td>\n",
       "      <td>NaN</td>\n",
       "      <td>NaN</td>\n",
       "      <td>20210825</td>\n",
       "    </tr>\n",
       "    <tr>\n",
       "      <th>293723</th>\n",
       "      <td>53</td>\n",
       "      <td>5310220</td>\n",
       "      <td>530044434</td>\n",
       "      <td>14</td>\n",
       "      <td>1</td>\n",
       "      <td>2019</td>\n",
       "      <td>4.0</td>\n",
       "      <td>2</td>\n",
       "      <td>1</td>\n",
       "      <td>0.0</td>\n",
       "      <td>...</td>\n",
       "      <td>1.0</td>\n",
       "      <td>7.0</td>\n",
       "      <td>13390.0</td>\n",
       "      <td>3348.0</td>\n",
       "      <td>6.0</td>\n",
       "      <td>NaN</td>\n",
       "      <td>NaN</td>\n",
       "      <td>NaN</td>\n",
       "      <td>NaN</td>\n",
       "      <td>20210825</td>\n",
       "    </tr>\n",
       "    <tr>\n",
       "      <th>293724</th>\n",
       "      <td>53</td>\n",
       "      <td>5310220</td>\n",
       "      <td>530044434</td>\n",
       "      <td>14</td>\n",
       "      <td>1</td>\n",
       "      <td>2019</td>\n",
       "      <td>4.0</td>\n",
       "      <td>2</td>\n",
       "      <td>1</td>\n",
       "      <td>9.0</td>\n",
       "      <td>...</td>\n",
       "      <td>NaN</td>\n",
       "      <td>NaN</td>\n",
       "      <td>13390.0</td>\n",
       "      <td>3348.0</td>\n",
       "      <td>6.0</td>\n",
       "      <td>NaN</td>\n",
       "      <td>NaN</td>\n",
       "      <td>NaN</td>\n",
       "      <td>NaN</td>\n",
       "      <td>20210825</td>\n",
       "    </tr>\n",
       "    <tr>\n",
       "      <th>293725</th>\n",
       "      <td>53</td>\n",
       "      <td>5310220</td>\n",
       "      <td>530044434</td>\n",
       "      <td>15</td>\n",
       "      <td>8</td>\n",
       "      <td>2019</td>\n",
       "      <td>NaN</td>\n",
       "      <td>2</td>\n",
       "      <td>1</td>\n",
       "      <td>NaN</td>\n",
       "      <td>...</td>\n",
       "      <td>NaN</td>\n",
       "      <td>NaN</td>\n",
       "      <td>NaN</td>\n",
       "      <td>NaN</td>\n",
       "      <td>NaN</td>\n",
       "      <td>NaN</td>\n",
       "      <td>NaN</td>\n",
       "      <td>NaN</td>\n",
       "      <td>NaN</td>\n",
       "      <td>20210825</td>\n",
       "    </tr>\n",
       "  </tbody>\n",
       "</table>\n",
       "<p>5 rows × 1087 columns</p>\n",
       "</div>"
      ],
      "text/plain": [
       "        V0001    V0024    UPA_PNS  V0006_PNS  V0015  V0020  V0022  V0026  \\\n",
       "293721     53  5310220  530044434         14      1   2019    4.0      2   \n",
       "293722     53  5310220  530044434         14      1   2019    4.0      2   \n",
       "293723     53  5310220  530044434         14      1   2019    4.0      2   \n",
       "293724     53  5310220  530044434         14      1   2019    4.0      2   \n",
       "293725     53  5310220  530044434         15      8   2019    NaN      2   \n",
       "\n",
       "        V0031  V0025A  ...  VDE002  VDE014   VDF002  VDF003  VDF004  VDL001  \\\n",
       "293721      1     0.0  ...     1.0     1.0  13390.0  3348.0     6.0     NaN   \n",
       "293722      1     1.0  ...     NaN     NaN  13390.0  3348.0     6.0     NaN   \n",
       "293723      1     0.0  ...     1.0     7.0  13390.0  3348.0     6.0     NaN   \n",
       "293724      1     9.0  ...     NaN     NaN  13390.0  3348.0     6.0     NaN   \n",
       "293725      1     NaN  ...     NaN     NaN      NaN     NaN     NaN     NaN   \n",
       "\n",
       "        VDM001  VDP001  VDR001    VDDATA  \n",
       "293721     NaN     NaN     NaN  20210825  \n",
       "293722     NaN     NaN     NaN  20210825  \n",
       "293723     NaN     NaN     NaN  20210825  \n",
       "293724     NaN     NaN     NaN  20210825  \n",
       "293725     NaN     NaN     NaN  20210825  \n",
       "\n",
       "[5 rows x 1087 columns]"
      ]
     },
     "execution_count": 21,
     "metadata": {},
     "output_type": "execute_result"
    }
   ],
   "source": [
    "df.tail()"
   ]
  },
  {
   "cell_type": "code",
   "execution_count": 22,
   "id": "2180a18a-b781-4416-bdd4-6e5f4b15b9e1",
   "metadata": {},
   "outputs": [
    {
     "data": {
      "text/plain": [
       "(293726, 1087)"
      ]
     },
     "execution_count": 22,
     "metadata": {},
     "output_type": "execute_result"
    }
   ],
   "source": [
    "df.shape"
   ]
  },
  {
   "cell_type": "markdown",
   "id": "b58a554d-a84a-4e82-856a-85a512aa0e77",
   "metadata": {},
   "source": [
    "PNS 2019:\n",
    "\n",
    "- 293.726 registros.\n",
    "- 1.087 atributos."
   ]
  },
  {
   "cell_type": "markdown",
   "id": "3ca2cee1-0eb5-4dab-b1b6-05e56315c2a3",
   "metadata": {
    "jp-MarkdownHeadingCollapsed": true
   },
   "source": [
    "## **1.1. Filtrando o conjunto de dados pela idade**"
   ]
  },
  {
   "cell_type": "markdown",
   "id": "b9c58c53-fa9c-45ba-ba0e-19a69c9df356",
   "metadata": {},
   "source": [
    "Foi **definido** que a idade será de pessoas que possuem pelo menos 30 anos."
   ]
  },
  {
   "cell_type": "code",
   "execution_count": 23,
   "id": "ff701871-b18b-4c96-be55-b5cb24337c69",
   "metadata": {},
   "outputs": [],
   "source": [
    "# Separação do conjunto de dados com pessoas com mais de 30 anos.\n",
    "df = df.loc[df[\"C008\"] >= 30]"
   ]
  },
  {
   "cell_type": "code",
   "execution_count": 24,
   "id": "b3f47dcb-2f4a-407c-8edb-e2b8916fe678",
   "metadata": {},
   "outputs": [
    {
     "data": {
      "text/plain": [
       "(157835, 1087)"
      ]
     },
     "execution_count": 24,
     "metadata": {},
     "output_type": "execute_result"
    }
   ],
   "source": [
    "df.shape"
   ]
  },
  {
   "cell_type": "markdown",
   "id": "80f81129-0307-4128-9700-710232636eff",
   "metadata": {},
   "source": [
    "Há 157.835 instâncias de pessoas que possuem no mínimo 30 anos."
   ]
  },
  {
   "cell_type": "markdown",
   "id": "c5483cc7-b94a-4afb-9b78-a51825658c2e",
   "metadata": {},
   "source": [
    "## **1.2. Conjunto 1: Pessoas Saudáveis**"
   ]
  },
  {
   "cell_type": "markdown",
   "id": "d682254d-736a-4674-985d-f9dcf253e074",
   "metadata": {},
   "source": [
    "Por definição, as pessoas saudáveis serão todas aquelas que responderam diferente de Sim para os diagnósticos e que não tenham como resposta nulo."
   ]
  },
  {
   "cell_type": "code",
   "execution_count": 25,
   "id": "e006a86d-54b9-485a-b93f-8ad4f33c53bd",
   "metadata": {},
   "outputs": [],
   "source": [
    "def salvar_conjunto(dataframe):\n",
    "    diretorio = \"../dados\"\n",
    "\n",
    "    if not os.path.exists(diretorio):\n",
    "        os.makedirs(diretorio)\n",
    "\n",
    "    #Pergunta ao usuário do código o nome do arquivo a ser salvo.\n",
    "    nome = input(\"Digite o nome do arquivo a ser salvo: \")\n",
    "    nome += \".csv\"\n",
    "\n",
    "    caminho_arquivo = os.path.join(diretorio, nome)\n",
    "    \n",
    "    #Salvar o DataFrame em .csv\n",
    "    dataframe.to_csv(caminho_arquivo, index=False)\n",
    "\n",
    "    print(f\"Arquivo salvo em: {caminho_arquivo}\")\n",
    "\n",
    "    "
   ]
  },
  {
   "cell_type": "code",
   "execution_count": 26,
   "id": "c41749a1-2372-401d-ad49-b7d67514a4aa",
   "metadata": {},
   "outputs": [],
   "source": [
    "# Encontrando o total de pessoas SAUDÁVEIS, isto é, sem NENHUMA comorbidade.\n",
    "df_saudaveis = df.loc[\n",
    "    (df['Q03001'] != 1) & #diabetes\n",
    "    (df['Q060'] != 1)   & #colesterol alto\n",
    "    (df['Q068'] != 1)   & #avc\n",
    "    (df['Q074'] != 1)   & #asma\n",
    "    (df['Q079'] != 1)   & #artrite\n",
    "    (df['Q088'] != 1)   & #dort\n",
    "    (df['Q092'] != 1)   & #depressao\n",
    "    (df['Q11006'] != 1) & #doencas mentais\n",
    "    (df['Q11604'] != 1) & #doenca cronica pulmonar\n",
    "    (df['Q120'] != 1)   & #cancer\n",
    "    (df['Q124'] != 1)   & #insuficiencia renal\n",
    "    (df['K047'] != 1)   & #catarata\n",
    "    (df['Q00201'] != 1) & #pressao alta\n",
    "    (df['Q06306'] != 1)   # doenças cardiovasculares\n",
    "]"
   ]
  },
  {
   "cell_type": "code",
   "execution_count": 27,
   "id": "4cc171d9-cba4-4ba4-bcdd-df234b6634f8",
   "metadata": {},
   "outputs": [
    {
     "data": {
      "text/plain": [
       "(112551, 1087)"
      ]
     },
     "execution_count": 27,
     "metadata": {},
     "output_type": "execute_result"
    }
   ],
   "source": [
    "df_saudaveis.shape"
   ]
  },
  {
   "cell_type": "code",
   "execution_count": 28,
   "id": "9d51868e-c0ec-4656-9f0d-07d078c9dbd2",
   "metadata": {},
   "outputs": [
    {
     "data": {
      "text/plain": [
       "V0001             0\n",
       "V0024             0\n",
       "UPA_PNS           0\n",
       "V0006_PNS         0\n",
       "V0015             0\n",
       "              ...  \n",
       "VDL001       112551\n",
       "VDM001        92459\n",
       "VDP001       109262\n",
       "VDR001       105871\n",
       "VDDATA            0\n",
       "Length: 1087, dtype: int64"
      ]
     },
     "execution_count": 28,
     "metadata": {},
     "output_type": "execute_result"
    }
   ],
   "source": [
    "df_saudaveis.isnull().sum()"
   ]
  },
  {
   "cell_type": "markdown",
   "id": "506a3cf5-b94b-4c59-9750-ed937f782938",
   "metadata": {},
   "source": [
    "Há  112.551 pessoas consideradas como saudáveis."
   ]
  },
  {
   "cell_type": "code",
   "execution_count": 29,
   "id": "6b7032a0-eebc-4dd1-974d-278f56802f13",
   "metadata": {},
   "outputs": [
    {
     "name": "stdin",
     "output_type": "stream",
     "text": [
      "Digite o nome do arquivo a ser salvo:  df_saudaveis\n"
     ]
    },
    {
     "name": "stdout",
     "output_type": "stream",
     "text": [
      "Arquivo salvo em: ../dados\\df_saudaveis.csv\n"
     ]
    }
   ],
   "source": [
    "salvar_conjunto(df_saudaveis)"
   ]
  },
  {
   "cell_type": "markdown",
   "id": "4b1421ac-015b-4042-885f-1eee5099f66f",
   "metadata": {},
   "source": [
    "## **1.3. Conjunto 2: Pessoas Hipertensas**"
   ]
  },
  {
   "cell_type": "code",
   "execution_count": 30,
   "id": "e0c053e1-aca8-4b58-9150-6d3f2b1a03d1",
   "metadata": {},
   "outputs": [],
   "source": [
    "# Encontrando o total de pessoas que possuem hipertensão.\n",
    "df_hipertensao = df.loc[\n",
    "    (df['Q00201'] == 1) & #pressao alta\n",
    "    (df['Q06306'] == 2)\n",
    "]"
   ]
  },
  {
   "cell_type": "code",
   "execution_count": 31,
   "id": "c974bd79-a72c-4c8e-95b9-7f498ad5a380",
   "metadata": {},
   "outputs": [
    {
     "data": {
      "text/plain": [
       "(20123, 1087)"
      ]
     },
     "execution_count": 31,
     "metadata": {},
     "output_type": "execute_result"
    }
   ],
   "source": [
    "df_hipertensao.shape"
   ]
  },
  {
   "cell_type": "markdown",
   "id": "50f9ef6f-df89-4713-bfd5-546ef8a978ce",
   "metadata": {},
   "source": [
    "Há 20.123 pessoas hipertensas que **não possuem doenças cardiovasculares.**"
   ]
  },
  {
   "cell_type": "code",
   "execution_count": 32,
   "id": "a76e7e91-e731-4e3a-a467-807e6f8715cb",
   "metadata": {},
   "outputs": [
    {
     "name": "stdin",
     "output_type": "stream",
     "text": [
      "Digite o nome do arquivo a ser salvo:  df_hipertensao\n"
     ]
    },
    {
     "name": "stdout",
     "output_type": "stream",
     "text": [
      "Arquivo salvo em: ../dados\\df_hipertensao.csv\n"
     ]
    }
   ],
   "source": [
    "salvar_conjunto(df_hipertensao)"
   ]
  },
  {
   "cell_type": "markdown",
   "id": "dde6e0e3-860b-4881-9dc5-155236ac2840",
   "metadata": {},
   "source": [
    "## **1.4. Conjunto 3: Pessoas HiperCVD**"
   ]
  },
  {
   "cell_type": "code",
   "execution_count": 33,
   "id": "b015435e-5477-41fd-9ddd-8e6702f4c161",
   "metadata": {},
   "outputs": [],
   "source": [
    "# Encontrando o total de pessoas que possuem hipertensão e alguma doença cardiovascular.\n",
    "df_hiperCVD = df.loc[\n",
    "    (df['Q00201'] == 1) & #pressao alta\n",
    "    (df['Q06306'] == 1) # doenças cardiovasculares\n",
    "]"
   ]
  },
  {
   "cell_type": "code",
   "execution_count": 34,
   "id": "eac49fea-ba7c-46bb-8f8d-f0cb8f9a377b",
   "metadata": {},
   "outputs": [
    {
     "data": {
      "text/plain": [
       "(2984, 1087)"
      ]
     },
     "execution_count": 34,
     "metadata": {},
     "output_type": "execute_result"
    }
   ],
   "source": [
    "df_hiperCVD.shape"
   ]
  },
  {
   "cell_type": "markdown",
   "id": "8db9703f-d209-40db-b1a4-84223834f019",
   "metadata": {},
   "source": [
    "Há 2.984 pessoas com hipertensão e doenças cardiovasculares (cvd)."
   ]
  },
  {
   "cell_type": "code",
   "execution_count": 35,
   "id": "47d38455-4e4f-4fa0-881b-597da6fd043d",
   "metadata": {},
   "outputs": [
    {
     "name": "stdin",
     "output_type": "stream",
     "text": [
      "Digite o nome do arquivo a ser salvo:  df_hipercvd\n"
     ]
    },
    {
     "name": "stdout",
     "output_type": "stream",
     "text": [
      "Arquivo salvo em: ../dados\\df_hipercvd.csv\n"
     ]
    }
   ],
   "source": [
    "salvar_conjunto(df_hiperCVD)"
   ]
  }
 ],
 "metadata": {
  "kernelspec": {
   "display_name": "Python 3 (ipykernel)",
   "language": "python",
   "name": "python3"
  },
  "language_info": {
   "codemirror_mode": {
    "name": "ipython",
    "version": 3
   },
   "file_extension": ".py",
   "mimetype": "text/x-python",
   "name": "python",
   "nbconvert_exporter": "python",
   "pygments_lexer": "ipython3",
   "version": "3.12.4"
  }
 },
 "nbformat": 4,
 "nbformat_minor": 5
}
