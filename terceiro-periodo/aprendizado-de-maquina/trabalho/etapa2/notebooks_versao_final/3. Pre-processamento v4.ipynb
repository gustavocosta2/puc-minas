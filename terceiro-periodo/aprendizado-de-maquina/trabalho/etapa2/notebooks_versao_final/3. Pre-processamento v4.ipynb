{
 "cells": [
  {
   "cell_type": "markdown",
   "id": "803ab4bd-5623-424b-bed9-0414d193eacc",
   "metadata": {},
   "source": [
    "# **3. Pré-Processamento**"
   ]
  },
  {
   "cell_type": "markdown",
   "id": "abae87a4-50e2-4401-8148-ce62bbc679a8",
   "metadata": {},
   "source": [
    "O objetivo desse notebook é **exclusivamente** realizar o pré-processamento dos atributos selecionados, são as seguintes ações:\n",
    "\n",
    "- Remoção de Outliers\n",
    "- Imputação de valores ausentes\n",
    "- Discretização de atributos numéricos contínuos\n",
    "- Categorização"
   ]
  },
  {
   "cell_type": "code",
   "execution_count": 225,
   "id": "ed7b803d-ead4-4aa2-91ac-b746c9bd5332",
   "metadata": {},
   "outputs": [],
   "source": [
    "#Importando bibliotecas.\n",
    "import pandas as pd\n",
    "import numpy as np\n",
    "import plotly.express as px\n",
    "import seaborn as sns\n",
    "import matplotlib.pyplot as plt\n",
    "from sklearn.preprocessing import OneHotEncoder"
   ]
  },
  {
   "cell_type": "code",
   "execution_count": 226,
   "id": "b59e630c-f705-487e-b483-ae878d9fa2de",
   "metadata": {},
   "outputs": [],
   "source": [
    "# Aplicar o estilo do Seaborn\n",
    "sns.set(style=\"whitegrid\")"
   ]
  },
  {
   "cell_type": "code",
   "execution_count": 227,
   "id": "55dced5b-72f8-4bc1-ad49-1c5142bb963b",
   "metadata": {},
   "outputs": [],
   "source": [
    "df = pd.read_csv(\"C://Users//Gustavo//OneDrive//Documentos//PUC//3° Periodo//Mineraçao de Dados//trabalho//dados_final//df_2.csv\")"
   ]
  },
  {
   "cell_type": "code",
   "execution_count": 228,
   "id": "1a0dbc13-e785-4bab-bd74-e48beb83104c",
   "metadata": {},
   "outputs": [
    {
     "data": {
      "text/plain": [
       "(45757, 36)"
      ]
     },
     "execution_count": 228,
     "metadata": {},
     "output_type": "execute_result"
    }
   ],
   "source": [
    "df.shape"
   ]
  },
  {
   "cell_type": "markdown",
   "id": "aec7496e-a938-46d9-849c-63ad777b74c2",
   "metadata": {},
   "source": [
    "## **3.1. Interpretabilidade: Renomeação das Colunas**"
   ]
  },
  {
   "cell_type": "code",
   "execution_count": 229,
   "id": "12b60a9c-916d-4891-84f6-2466c6372c31",
   "metadata": {},
   "outputs": [],
   "source": [
    "df.rename(columns={'P00104': 'Peso'}, inplace=True)\n",
    "df.rename(columns={'P00404': 'Altura'}, inplace=True)\n",
    "df.rename(columns={'C006': 'Sexo'}, inplace=True)\n",
    "df.rename(columns={'C008': 'Idade'}, inplace=True)\n",
    "df.rename(columns={'C009': 'Raca_etnia'}, inplace=True)\n",
    "df.rename(columns={'VDF004': 'Faixa_salarial'}, inplace=True)\n",
    "df.rename(columns={'VDD004A': 'Escolaridade'}, inplace=True)\n",
    "df.rename(columns={'D001': 'Alfabetizacao'}, inplace=True)\n",
    "df.rename(columns={'P027': 'Frequencia_alcoolismo'}, inplace=True)\n",
    "df.rename(columns={'P02801': 'Qtd_alcool_semanal'}, inplace=True)\n",
    "df.rename(columns={'P029': 'Qtd_doses_alcoolicas'}, inplace=True)\n",
    "df.rename(columns={'P02601': 'Consumo_sal'}, inplace=True)\n",
    "df.rename(columns={'P034': 'Atividades_fisicas'}, inplace=True)\n",
    "df.rename(columns={'H001': 'Ultima_consulta'}, inplace=True)\n",
    "df.rename(columns={'J037': 'Ficou_internado'}, inplace=True) \n",
    "df.rename(columns={'I00102': 'Tem_plano'}, inplace=True)\n",
    "df.rename(columns={'N001': 'Percepcao_estado_saude'}, inplace=True)\n",
    "##\n",
    "##\n",
    "df.rename(columns={'N004': 'Cansa_subida'}, inplace=True)\n",
    "df.rename(columns={'N005': 'Cansa_plano'}, inplace=True)\n",
    "df.rename(columns={'P035': 'Freq_atividade_fisica'}, inplace=True)\n",
    "df.rename(columns={'A01501': 'Esgoto'}, inplace=True)\n",
    "df.rename(columns={'A016010': 'Destino_lixo'}, inplace=True)\n",
    "df.rename(columns={'A01901': 'Acesso_internet'}, inplace=True)\n",
    "df.rename(columns={'A005010': 'Abastecimento_agua'}, inplace=True)\n",
    "df.rename(columns={'Q03001': 'Tem_diabetes'}, inplace=True)\n",
    "df.rename(columns={'V0026': 'Area_moradia'}, inplace=True)"
   ]
  },
  {
   "cell_type": "code",
   "execution_count": 230,
   "id": "43f02559-b806-46d6-a6cd-c0357446ca56",
   "metadata": {},
   "outputs": [
    {
     "data": {
      "text/plain": [
       "Index(['Peso', 'Altura', 'Sexo', 'Idade', 'Raca_etnia', 'Consumo_sal',\n",
       "       'Atividades_fisicas', 'Freq_atividade_fisica', 'P050', 'P052', 'P05401',\n",
       "       'P05404', 'P05407', 'P05410', 'P05413', 'P05416', 'P05419',\n",
       "       'Frequencia_alcoolismo', 'Qtd_alcool_semanal', 'Qtd_doses_alcoolicas',\n",
       "       'Ficou_internado', 'Ultima_consulta', 'Percepcao_estado_saude',\n",
       "       'Tem_plano', 'Cansa_subida', 'Cansa_plano', 'Alfabetizacao',\n",
       "       'Escolaridade', 'Area_moradia', 'Esgoto', 'Destino_lixo',\n",
       "       'Acesso_internet', 'Abastecimento_agua', 'Faixa_salarial',\n",
       "       'Tem_diabetes', 'Condicao'],\n",
       "      dtype='object')"
      ]
     },
     "execution_count": 230,
     "metadata": {},
     "output_type": "execute_result"
    }
   ],
   "source": [
    "df.columns"
   ]
  },
  {
   "cell_type": "markdown",
   "id": "b7ad47ef-e36c-44bc-8e9c-fa61f83d1d5d",
   "metadata": {},
   "source": [
    "## **3.2. Aspecto - Características do Indivíduo**"
   ]
  },
  {
   "cell_type": "markdown",
   "id": "905d7c2e-a096-42f7-a272-0dc42c80c8f2",
   "metadata": {},
   "source": [
    "### 3.2.1. Nulos"
   ]
  },
  {
   "cell_type": "code",
   "execution_count": 231,
   "id": "35338a21-5245-4bb5-abcc-cb5d10713550",
   "metadata": {},
   "outputs": [
    {
     "data": {
      "text/plain": [
       "Condicao\n",
       "Saudavel    573\n",
       "HiperCVD      2\n",
       "Name: count, dtype: int64"
      ]
     },
     "execution_count": 231,
     "metadata": {},
     "output_type": "execute_result"
    }
   ],
   "source": [
    "df.loc[df['Peso'].isna(), 'Condicao'].value_counts()"
   ]
  },
  {
   "cell_type": "code",
   "execution_count": 232,
   "id": "c0a15801-a4f1-4c67-a38f-b5527359947b",
   "metadata": {},
   "outputs": [
    {
     "data": {
      "text/plain": [
       "Condicao\n",
       "Saudavel    573\n",
       "HiperCVD      2\n",
       "Name: count, dtype: int64"
      ]
     },
     "execution_count": 232,
     "metadata": {},
     "output_type": "execute_result"
    }
   ],
   "source": [
    "df.loc[df['Altura'].isna(), 'Condicao'].value_counts()"
   ]
  },
  {
   "cell_type": "markdown",
   "id": "9e5cc1ef-06d6-495b-92ed-24befa9af624",
   "metadata": {},
   "source": [
    "Há mais de 550 registros nulos de Peso e Altura, são os mesmos índices, isso quer dizer que são as mesmas pessoas que não informaram essas características.\n",
    "\n",
    "Não há como imputar esses valores nulos para essas pessoas, portanto, como trata-se de apenas 100 instâncias da base de dados, sendo:\n",
    "\n",
    "- 573 pessoas da classe de Saudaveis\n",
    "- 2 pessoas da classe de HiperCVD\n",
    "\n",
    "Irei apenas removê-las."
   ]
  },
  {
   "cell_type": "code",
   "execution_count": 233,
   "id": "e3c85bfe-3356-4de1-a06b-c6ccd6b977a7",
   "metadata": {},
   "outputs": [],
   "source": [
    "df = df.dropna(subset=[\"Peso\", \"Altura\"])"
   ]
  },
  {
   "cell_type": "code",
   "execution_count": 234,
   "id": "0501866f-029b-4b48-b79e-6a8a1eb099c3",
   "metadata": {},
   "outputs": [
    {
     "data": {
      "text/plain": [
       "Peso      0\n",
       "Altura    0\n",
       "dtype: int64"
      ]
     },
     "execution_count": 234,
     "metadata": {},
     "output_type": "execute_result"
    }
   ],
   "source": [
    "df[['Peso','Altura']].isna().sum()"
   ]
  },
  {
   "cell_type": "markdown",
   "id": "6d598943-77a7-4cd6-9800-473b1d844339",
   "metadata": {},
   "source": [
    "Nulos removidos."
   ]
  },
  {
   "cell_type": "markdown",
   "id": "1d805f4c-dace-48fb-aacd-127065aea3a7",
   "metadata": {},
   "source": [
    "### 3.2.2. Outliers"
   ]
  },
  {
   "cell_type": "code",
   "execution_count": 235,
   "id": "2233bd74-57af-47d0-9198-e9bd6108bece",
   "metadata": {},
   "outputs": [
    {
     "data": {
      "image/png": "[encoded data removed]",
      "text/plain": [
       "<Figure size 640x480 with 1 Axes>"
      ]
     },
     "metadata": {},
     "output_type": "display_data"
    }
   ],
   "source": [
    "# Boxplot de alturas.\n",
    "\n",
    "sns.boxplot(x = \"Sexo\", y = \"Altura\", data=df, palette=\"Set2\", hue=\"Sexo\")\n",
    "\n",
    "plt.title(\"Boxplots Altura x Sexo para Homens e Mulheres\")\n",
    "plt.xlabel(\"Sexo\")\n",
    "plt.ylabel(\"Altura (cm)\")\n",
    "plt.show()"
   ]
  },
  {
   "cell_type": "markdown",
   "id": "2fcc110d-a5c8-417d-8db7-b5f5394089e7",
   "metadata": {},
   "source": [
    "O boxplot, pelo intervalo interquartil, acusa algumas pessoas sendo outliers em relação à altura. Entretanto, acredito que não seja realmente isso."
   ]
  },
  {
   "cell_type": "code",
   "execution_count": 236,
   "id": "55ce9d8a-f309-4e75-93bb-5168e206479d",
   "metadata": {},
   "outputs": [
    {
     "data": {
      "text/plain": [
       "count    45182.000000\n",
       "mean       166.043867\n",
       "std          9.657095\n",
       "min        130.000000\n",
       "25%        160.000000\n",
       "50%        165.000000\n",
       "75%        173.000000\n",
       "max        202.000000\n",
       "Name: Altura, dtype: float64"
      ]
     },
     "execution_count": 236,
     "metadata": {},
     "output_type": "execute_result"
    }
   ],
   "source": [
    "df['Altura'].describe()"
   ]
  },
  {
   "cell_type": "markdown",
   "id": "98173ca3-612e-403f-ab5e-a3e3c99d32df",
   "metadata": {},
   "source": [
    "- Altura Mínima: 1,28m\n",
    "- Altura Máxima: 2,0m\n",
    "- Desvio Padrão: 9.71"
   ]
  },
  {
   "cell_type": "code",
   "execution_count": 237,
   "id": "097c9c6c-1d8d-48b2-8224-859b5c39d0bf",
   "metadata": {},
   "outputs": [
    {
     "name": "stdout",
     "output_type": "stream",
     "text": [
      "Os limites superiores e inferiores utilizando a diferença de 3 desvios-padrão são: [137.0725809395692 - 195.0151531138149]\n"
     ]
    }
   ],
   "source": [
    "desvio_padrao = df['Altura'].std()\n",
    "media = df['Altura'].mean()\n",
    "\n",
    "limite_superior = media + 3 * desvio_padrao\n",
    "limite_inferior = media - 3 * desvio_padrao\n",
    "\n",
    "print(f'Os limites superiores e inferiores utilizando a diferença de 3 desvios-padrão são: [{limite_inferior} - {limite_superior}]')"
   ]
  },
  {
   "cell_type": "code",
   "execution_count": 238,
   "id": "b70e89cb-ccae-4839-a631-7165cf7d22cc",
   "metadata": {
    "scrolled": true
   },
   "outputs": [],
   "source": [
    "outliers_index = df.loc[(df['Altura'] < limite_inferior) | (df['Altura'] > limite_superior)].index\n",
    "df = df.copy()  # Cria uma cópia explícita\n",
    "df.drop(outliers_index, inplace=True)\n"
   ]
  },
  {
   "cell_type": "markdown",
   "id": "c5179f4e-b94f-4168-8679-447fe1be26d5",
   "metadata": {},
   "source": [
    "Outliers de altura removidos baseado em 3 desvios padrão da média."
   ]
  },
  {
   "cell_type": "code",
   "execution_count": 239,
   "id": "fb298659-0513-4d09-b882-517c04e13d86",
   "metadata": {},
   "outputs": [
    {
     "data": {
      "image/png": "[encoded data removed]",
      "text/plain": [
       "<Figure size 640x480 with 1 Axes>"
      ]
     },
     "metadata": {},
     "output_type": "display_data"
    }
   ],
   "source": [
    "# Boxplot de pesos.\n",
    "\n",
    "sns.boxplot(x = \"Sexo\", y = \"Peso\", data=df, palette=\"Set2\", hue=\"Sexo\")\n",
    "\n",
    "plt.title(\"Boxplots Peso x Sexo para Homens e Mulheres\")\n",
    "plt.xlabel(\"Sexo\")\n",
    "plt.ylabel(\"Peso (kg)\")\n",
    "plt.show()"
   ]
  },
  {
   "cell_type": "markdown",
   "id": "81059b6a-f12e-45d2-8f6e-c2867e543f6b",
   "metadata": {},
   "source": [
    "Pelo boxplot, principalmente para as mulheres, há a acusação de múltiplos outliers que se encontram acima do limite superior do IQR, o que é não são de fato outliers, apenas pessoas possívelmente obesas e que provavelmente possuem as comorbidades selecionadas por essa condição configurar-se como um **fator de risco**. \n",
    "\n",
    "O mais importante é avaliar o limite inferior, que seriam o caso de pessoas que pesam menos de 40kg com no mínimo 18 anos, oque configura-se como uma situação muito atípica."
   ]
  },
  {
   "cell_type": "code",
   "execution_count": 240,
   "id": "738c9c3b-dd6d-439e-a374-34ef2d5cad4b",
   "metadata": {},
   "outputs": [],
   "source": [
    "def calculo_iqr(lista):\n",
    "    \n",
    "    lista = lista.sort_values()\n",
    "\n",
    "    q1= np.percentile(lista, 25)\n",
    "    q3 = np.percentile(lista, 75)\n",
    "\n",
    "    iqr = q3 - q1\n",
    "\n",
    "    return q1, q3, iqr"
   ]
  },
  {
   "cell_type": "code",
   "execution_count": 241,
   "id": "cd07f788-21cc-48c7-8d4f-aff96d73c881",
   "metadata": {},
   "outputs": [],
   "source": [
    "def calculo_outliers(lista):\n",
    "    q1, q3, iqr = calculo_iqr(lista)\n",
    "\n",
    "    #Limite inferior e superior IQR\n",
    "    lim_inferior = q1 - (1.5*iqr)\n",
    "    lim_superior = q3 + (1.5*iqr)\n",
    "    print(f\"Limites:[{lim_inferior} - {lim_superior}]\")\n",
    "\n",
    "    outliers_min = [elemento for elemento in lista if elemento < lim_inferior]\n",
    "    outliers_max = [elemento for elemento in lista if elemento > lim_superior]\n",
    "\n",
    "    outliers = outliers_min + outliers_max\n",
    "    return outliers"
   ]
  },
  {
   "cell_type": "code",
   "execution_count": 242,
   "id": "5e42057e-dc67-43aa-9e1e-97ffbbc7e4c9",
   "metadata": {},
   "outputs": [
    {
     "name": "stdout",
     "output_type": "stream",
     "text": [
      "Limites:[35.0 - 107.0]\n"
     ]
    }
   ],
   "source": [
    "outliers_peso = calculo_outliers(df[\"Peso\"])"
   ]
  },
  {
   "cell_type": "markdown",
   "id": "faf6dec4-3faf-4613-8077-8c089c31a4ed",
   "metadata": {},
   "source": [
    "Os outliers para o peso estão:\n",
    "\n",
    "- Abaixo de 33.5kg\n",
    "- Acima de 109.5kg\n",
    "\n",
    "Pesos acima de 109.5kg são comuns e se enquadram  em **sobrepeso ou obesidade**. Entretanto, pessoas que pesam menos de 33.5kg com 18 anos de idade não são comuns."
   ]
  },
  {
   "cell_type": "code",
   "execution_count": 243,
   "id": "5ce59062-a30f-400b-910d-38fa44ff6c6a",
   "metadata": {},
   "outputs": [
    {
     "name": "stdout",
     "output_type": "stream",
     "text": [
      "Quantidade de Possíveis Outliers (VARIÁVEL PESO): 851\n"
     ]
    }
   ],
   "source": [
    "print(f\"Quantidade de Possíveis Outliers (VARIÁVEL PESO): {len(outliers_peso)}\")"
   ]
  },
  {
   "cell_type": "code",
   "execution_count": 244,
   "id": "25abf3b9-b31d-4237-a76c-0dfe35826f99",
   "metadata": {},
   "outputs": [
    {
     "data": {
      "text/plain": [
       "Condicao\n",
       "Saudavel    9\n",
       "HiperCVD    1\n",
       "Name: count, dtype: int64"
      ]
     },
     "execution_count": 244,
     "metadata": {},
     "output_type": "execute_result"
    }
   ],
   "source": [
    "df.loc[(df[\"Peso\"] <= 40) & (df['Sexo'] == 1), [ 'Condicao']].value_counts()"
   ]
  },
  {
   "cell_type": "markdown",
   "id": "aa007929-c409-423d-ab69-60a4fe634d0a",
   "metadata": {},
   "source": [
    "Observando o limite inferior do IQR, nota-se que há 20 homens que pesam menos de 40kg e que possuem no mínimo 18 anos de idade, são outliers e serão removidos.\n",
    "\n",
    "Ademais, há 2 mulheres que também se encontram abaixo do IQR, ou seja, pesam menos de 31.5kg e serão removidas."
   ]
  },
  {
   "cell_type": "code",
   "execution_count": 245,
   "id": "89c8f5ee-9955-46bb-9886-e979653dd77a",
   "metadata": {},
   "outputs": [],
   "source": [
    "# Remoção dos outliers nos homens.\n",
    "\n",
    "index_removido = df.loc[(df[\"Peso\"] <=40) & (df[\"Sexo\"]==1)].index\n",
    "df.drop(index_removido, inplace=True)\n",
    "\n",
    "# Remoção dos outliers nas mulheres.\n",
    "index_removido = df.loc[(df[\"Peso\"] <=31.5) & (df[\"Sexo\"]==2)].index\n",
    "df.drop(index_removido, inplace=True)"
   ]
  },
  {
   "cell_type": "markdown",
   "id": "c2c75d2a-e6ab-4e19-a5b0-1e27564e2d4f",
   "metadata": {},
   "source": [
    "### 3.2.3. Codificação: IMC"
   ]
  },
  {
   "cell_type": "code",
   "execution_count": 246,
   "id": "31e8d315-99e2-4bbd-8761-96aa15e132ef",
   "metadata": {},
   "outputs": [],
   "source": [
    "# Fórmula, cálculo do IMC\n",
    "df[\"IMC\"] = df[\"Peso\"] / (df[\"Altura\"]/100)**2"
   ]
  },
  {
   "cell_type": "code",
   "execution_count": 247,
   "id": "7f6649e4-b0be-44ea-98b8-7f3bf8c02693",
   "metadata": {},
   "outputs": [],
   "source": [
    "bins = [-float('inf'), 18.5, 24.9, 29.9, float('inf')]\n",
    "labels = ['Baixo Peso', 'Peso Ideal', 'Sobrepeso', 'Obeso']\n",
    "\n",
    "\n",
    "#Categorizando as pessoas de acordo com o valor de IMC.\n",
    "df[\"Categoria_IMC\"] = pd.cut(df[\"IMC\"], bins=bins, labels=labels)"
   ]
  },
  {
   "cell_type": "code",
   "execution_count": 248,
   "id": "aea48eb6-0a5c-4f2f-b458-13308fa34b60",
   "metadata": {},
   "outputs": [
    {
     "data": {
      "text/plain": [
       "Categoria_IMC\n",
       "Peso Ideal    19300\n",
       "Sobrepeso     17054\n",
       "Obeso          7703\n",
       "Baixo Peso     1002\n",
       "Name: count, dtype: int64"
      ]
     },
     "execution_count": 248,
     "metadata": {},
     "output_type": "execute_result"
    }
   ],
   "source": [
    "df[\"Categoria_IMC\"].value_counts()"
   ]
  },
  {
   "cell_type": "code",
   "execution_count": 249,
   "id": "1ecbdc66-087e-402b-84f1-972c1dc41f1e",
   "metadata": {},
   "outputs": [
    {
     "data": {
      "image/png": "[encoded data removed]",
      "text/plain": [
       "<Figure size 640x480 with 1 Axes>"
      ]
     },
     "metadata": {},
     "output_type": "display_data"
    }
   ],
   "source": [
    "ax = sns.histplot(data=df, x='Categoria_IMC', color='purple')\n",
    "\n",
    "# Adicionar rótulos de frequência relativa no topo das colunas\n",
    "for p in ax.patches:\n",
    "    # Calcula a frequência relativa como um percentual\n",
    "    frequency_relative = (p.get_height() / len(df)) * 100\n",
    "    # Adiciona o rótulo na barra\n",
    "    ax.annotate(f'{frequency_relative:.1f}%',  # Formato percentual\n",
    "                (p.get_x() + p.get_width() / 2, p.get_height()),  # Posição do rótulo\n",
    "                ha='center', va='bottom')  # Centraliza o rótulo\n",
    "\n",
    "plt.title('Distribuição das Categorias de Peso')\n",
    "plt.xlabel('Categoria IMC')\n",
    "\n",
    "plt.show()"
   ]
  },
  {
   "cell_type": "markdown",
   "id": "0dcd6e66-e0cd-4047-af07-f839a3890881",
   "metadata": {},
   "source": [
    "Como podemos observar pelo Histograma, 54.9% estão acima do peso."
   ]
  },
  {
   "cell_type": "code",
   "execution_count": 250,
   "id": "3444724d-a28f-45fc-8ffc-071e9c3e694b",
   "metadata": {},
   "outputs": [],
   "source": [
    "df.drop([\"IMC\", \"Peso\", \"Altura\"], axis=1, inplace=True)"
   ]
  },
  {
   "cell_type": "markdown",
   "id": "30b2c8f8-784b-4379-b25b-eaddbb81c8b0",
   "metadata": {},
   "source": [
    "### 3.2.4. Discretização Categoria IMC"
   ]
  },
  {
   "cell_type": "markdown",
   "id": "0d98abfa-94ef-4c7f-9455-73ef2f73004b",
   "metadata": {},
   "source": [
    "A categoria do IMC tem uma ordem natural, logo aqui é preciso aplicar um LabelEncoder para que o modelo possa utilizar futuramente."
   ]
  },
  {
   "cell_type": "code",
   "execution_count": 251,
   "id": "70e8a240-f76d-42d3-b15a-a8a7927b800e",
   "metadata": {},
   "outputs": [],
   "source": [
    "df[\"Categoria_IMC\"] = [0 if x == \"Baixo Peso\" else 1 if x == \"Peso Ideal\" else 2 if x == \"Sobrepeso\" else 3 for x in df[\"Categoria_IMC\"]]"
   ]
  },
  {
   "cell_type": "markdown",
   "id": "6cac05a0-eb4b-4a1d-b3e7-4c3ed0d6d65d",
   "metadata": {},
   "source": [
    "## **3.3. Aspecto - Antropometria**"
   ]
  },
  {
   "cell_type": "markdown",
   "id": "c109614a-204c-42e3-a1f7-a670c4dc646a",
   "metadata": {},
   "source": [
    "### 3.3.1. Nulos"
   ]
  },
  {
   "cell_type": "code",
   "execution_count": 252,
   "id": "d075e05d-bf94-4144-b536-5c78ef206f59",
   "metadata": {},
   "outputs": [
    {
     "data": {
      "text/plain": [
       "Idade         0\n",
       "Sexo          0\n",
       "Raca_etnia    0\n",
       "dtype: int64"
      ]
     },
     "execution_count": 252,
     "metadata": {},
     "output_type": "execute_result"
    }
   ],
   "source": [
    "colunas_especificas = [\n",
    "             \"Idade\",\n",
    "             \"Sexo\",\n",
    "             \"Raca_etnia\",\n",
    "]\n",
    "\n",
    "df[colunas_especificas].isnull().sum()"
   ]
  },
  {
   "cell_type": "markdown",
   "id": "f679d557-872d-4892-a0ee-548efe3c126e",
   "metadata": {},
   "source": [
    "Não há nulos."
   ]
  },
  {
   "cell_type": "markdown",
   "id": "8a2df5fd-59a9-4121-9c80-77d485c09a8e",
   "metadata": {},
   "source": [
    "### 3.3.2. Codificação: Categorização das Raças: Pretos e Não Pretos"
   ]
  },
  {
   "cell_type": "markdown",
   "id": "f383fd35-d077-4ec8-af81-4ab8c6992229",
   "metadata": {},
   "source": [
    "Como visto na literatura dos artigos científicos da área médica, as pessoas que são pardas e pretas possuem um **fator genético que as predispõe à desenvolver hipertensão**.\n",
    "\n",
    "Portanto, é válido categorizar as diferentes raças e etnias em Pretos e Não Pretos para restringir o escopo do problema."
   ]
  },
  {
   "cell_type": "code",
   "execution_count": 253,
   "id": "607bcd46-2045-48ae-8a91-f2d6f8e34f78",
   "metadata": {},
   "outputs": [
    {
     "data": {
      "application/vnd.plotly.v1+json": {
       "config": {
        "plotlyServerURL": "https://plot.ly"
       },
       "data": [
        {
         "alignmentgroup": "True",
         "hovertemplate": "Raca=%{x}<br>Contagem=%{text}<extra></extra>",
         "legendgroup": "Pardos",
         "marker": {
          "color": "#636efa",
          "pattern": {
           "shape": ""
          }
         },
         "name": "Pardos",
         "offsetgroup": "Pardos",
         "orientation": "v",
         "showlegend": true,
         "text": [
          23828
         ],
         "textposition": "outside",
         "type": "bar",
         "x": [
          "Pardos"
         ],
         "xaxis": "x",
         "y": [
          23828
         ],
         "yaxis": "y"
        },
        {
         "alignmentgroup": "True",
         "hovertemplate": "Raca=%{x}<br>Contagem=%{text}<extra></extra>",
         "legendgroup": "Brancos",
         "marker": {
          "color": "#EF553B",
          "pattern": {
           "shape": ""
          }
         },
         "name": "Brancos",
         "offsetgroup": "Brancos",
         "orientation": "v",
         "showlegend": true,
         "text": [
          15368
         ],
         "textposition": "outside",
         "type": "bar",
         "x": [
          "Brancos"
         ],
         "xaxis": "x",
         "y": [
          15368
         ],
         "yaxis": "y"
        },
        {
         "alignmentgroup": "True",
         "hovertemplate": "Raca=%{x}<br>Contagem=%{text}<extra></extra>",
         "legendgroup": "Pretos",
         "marker": {
          "color": "#00cc96",
          "pattern": {
           "shape": ""
          }
         },
         "name": "Pretos",
         "offsetgroup": "Pretos",
         "orientation": "v",
         "showlegend": true,
         "text": [
          5166
         ],
         "textposition": "outside",
         "type": "bar",
         "x": [
          "Pretos"
         ],
         "xaxis": "x",
         "y": [
          5166
         ],
         "yaxis": "y"
        },
        {
         "alignmentgroup": "True",
         "hovertemplate": "Raca=%{x}<br>Contagem=%{text}<extra></extra>",
         "legendgroup": "Indigenas",
         "marker": {
          "color": "#ab63fa",
          "pattern": {
           "shape": ""
          }
         },
         "name": "Indigenas",
         "offsetgroup": "Indigenas",
         "orientation": "v",
         "showlegend": true,
         "text": [
          360
         ],
         "textposition": "outside",
         "type": "bar",
         "x": [
          "Indigenas"
         ],
         "xaxis": "x",
         "y": [
          360
         ],
         "yaxis": "y"
        },
        {
         "alignmentgroup": "True",
         "hovertemplate": "Raca=%{x}<br>Contagem=%{text}<extra></extra>",
         "legendgroup": "Amarelos",
         "marker": {
          "color": "#FFA15A",
          "pattern": {
           "shape": ""
          }
         },
         "name": "Amarelos",
         "offsetgroup": "Amarelos",
         "orientation": "v",
         "showlegend": true,
         "text": [
          330
         ],
         "textposition": "outside",
         "type": "bar",
         "x": [
          "Amarelos"
         ],
         "xaxis": "x",
         "y": [
          330
         ],
         "yaxis": "y"
        },
        {
         "alignmentgroup": "True",
         "hovertemplate": "Raca=%{x}<br>Contagem=%{text}<extra></extra>",
         "legendgroup": "Ignorado",
         "marker": {
          "color": "#19d3f3",
          "pattern": {
           "shape": ""
          }
         },
         "name": "Ignorado",
         "offsetgroup": "Ignorado",
         "orientation": "v",
         "showlegend": true,
         "text": [
          7
         ],
         "textposition": "outside",
         "type": "bar",
         "x": [
          "Ignorado"
         ],
         "xaxis": "x",
         "y": [
          7
         ],
         "yaxis": "y"
        }
       ],
       "layout": {
        "barmode": "relative",
        "height": 500,
        "legend": {
         "title": {
          "text": "Raca"
         },
         "tracegroupgap": 0
        },
        "template": {
         "data": {
          "bar": [
           {
            "error_x": {
             "color": "#2a3f5f"
            },
            "error_y": {
             "color": "#2a3f5f"
            },
            "marker": {
             "line": {
              "color": "#E5ECF6",
              "width": 0.5
             },
             "pattern": {
              "fillmode": "overlay",
              "size": 10,
              "solidity": 0.2
             }
            },
            "type": "bar"
           }
          ],
          "barpolar": [
           {
            "marker": {
             "line": {
              "color": "#E5ECF6",
              "width": 0.5
             },
             "pattern": {
              "fillmode": "overlay",
              "size": 10,
              "solidity": 0.2
             }
            },
            "type": "barpolar"
           }
          ],
          "carpet": [
           {
            "aaxis": {
             "endlinecolor": "#2a3f5f",
             "gridcolor": "white",
             "linecolor": "white",
             "minorgridcolor": "white",
             "startlinecolor": "#2a3f5f"
            },
            "baxis": {
             "endlinecolor": "#2a3f5f",
             "gridcolor": "white",
             "linecolor": "white",
             "minorgridcolor": "white",
             "startlinecolor": "#2a3f5f"
            },
            "type": "carpet"
           }
          ],
          "choropleth": [
           {
            "colorbar": {
             "outlinewidth": 0,
             "ticks": ""
            },
            "type": "choropleth"
           }
          ],
          "contour": [
           {
            "colorbar": {
             "outlinewidth": 0,
             "ticks": ""
            },
            "colorscale": [
             [
              0,
              "#0d0887"
             ],
             [
              0.1111111111111111,
              "#46039f"
             ],
             [
              0.2222222222222222,
              "#7201a8"
             ],
             [
              0.3333333333333333,
              "#9c179e"
             ],
             [
              0.4444444444444444,
              "#bd3786"
             ],
             [
              0.5555555555555556,
              "#d8576b"
             ],
             [
              0.6666666666666666,
              "#ed7953"
             ],
             [
              0.7777777777777778,
              "#fb9f3a"
             ],
             [
              0.8888888888888888,
              "#fdca26"
             ],
             [
              1,
              "#f0f921"
             ]
            ],
            "type": "contour"
           }
          ],
          "contourcarpet": [
           {
            "colorbar": {
             "outlinewidth": 0,
             "ticks": ""
            },
            "type": "contourcarpet"
           }
          ],
          "heatmap": [
           {
            "colorbar": {
             "outlinewidth": 0,
             "ticks": ""
            },
            "colorscale": [
             [
              0,
              "#0d0887"
             ],
             [
              0.1111111111111111,
              "#46039f"
             ],
             [
              0.2222222222222222,
              "#7201a8"
             ],
             [
              0.3333333333333333,
              "#9c179e"
             ],
             [
              0.4444444444444444,
              "#bd3786"
             ],
             [
              0.5555555555555556,
              "#d8576b"
             ],
             [
              0.6666666666666666,
              "#ed7953"
             ],
             [
              0.7777777777777778,
              "#fb9f3a"
             ],
             [
              0.8888888888888888,
              "#fdca26"
             ],
             [
              1,
              "#f0f921"
             ]
            ],
            "type": "heatmap"
           }
          ],
          "heatmapgl": [
           {
            "colorbar": {
             "outlinewidth": 0,
             "ticks": ""
            },
            "colorscale": [
             [
              0,
              "#0d0887"
             ],
             [
              0.1111111111111111,
              "#46039f"
             ],
             [
              0.2222222222222222,
              "#7201a8"
             ],
             [
              0.3333333333333333,
              "#9c179e"
             ],
             [
              0.4444444444444444,
              "#bd3786"
             ],
             [
              0.5555555555555556,
              "#d8576b"
             ],
             [
              0.6666666666666666,
              "#ed7953"
             ],
             [
              0.7777777777777778,
              "#fb9f3a"
             ],
             [
              0.8888888888888888,
              "#fdca26"
             ],
             [
              1,
              "#f0f921"
             ]
            ],
            "type": "heatmapgl"
           }
          ],
          "histogram": [
           {
            "marker": {
             "pattern": {
              "fillmode": "overlay",
              "size": 10,
              "solidity": 0.2
             }
            },
            "type": "histogram"
           }
          ],
          "histogram2d": [
           {
            "colorbar": {
             "outlinewidth": 0,
             "ticks": ""
            },
            "colorscale": [
             [
              0,
              "#0d0887"
             ],
             [
              0.1111111111111111,
              "#46039f"
             ],
             [
              0.2222222222222222,
              "#7201a8"
             ],
             [
              0.3333333333333333,
              "#9c179e"
             ],
             [
              0.4444444444444444,
              "#bd3786"
             ],
             [
              0.5555555555555556,
              "#d8576b"
             ],
             [
              0.6666666666666666,
              "#ed7953"
             ],
             [
              0.7777777777777778,
              "#fb9f3a"
             ],
             [
              0.8888888888888888,
              "#fdca26"
             ],
             [
              1,
              "#f0f921"
             ]
            ],
            "type": "histogram2d"
           }
          ],
          "histogram2dcontour": [
           {
            "colorbar": {
             "outlinewidth": 0,
             "ticks": ""
            },
            "colorscale": [
             [
              0,
              "#0d0887"
             ],
             [
              0.1111111111111111,
              "#46039f"
             ],
             [
              0.2222222222222222,
              "#7201a8"
             ],
             [
              0.3333333333333333,
              "#9c179e"
             ],
             [
              0.4444444444444444,
              "#bd3786"
             ],
             [
              0.5555555555555556,
              "#d8576b"
             ],
             [
              0.6666666666666666,
              "#ed7953"
             ],
             [
              0.7777777777777778,
              "#fb9f3a"
             ],
             [
              0.8888888888888888,
              "#fdca26"
             ],
             [
              1,
              "#f0f921"
             ]
            ],
            "type": "histogram2dcontour"
           }
          ],
          "mesh3d": [
           {
            "colorbar": {
             "outlinewidth": 0,
             "ticks": ""
            },
            "type": "mesh3d"
           }
          ],
          "parcoords": [
           {
            "line": {
             "colorbar": {
              "outlinewidth": 0,
              "ticks": ""
             }
            },
            "type": "parcoords"
           }
          ],
          "pie": [
           {
            "automargin": true,
            "type": "pie"
           }
          ],
          "scatter": [
           {
            "fillpattern": {
             "fillmode": "overlay",
             "size": 10,
             "solidity": 0.2
            },
            "type": "scatter"
           }
          ],
          "scatter3d": [
           {
            "line": {
             "colorbar": {
              "outlinewidth": 0,
              "ticks": ""
             }
            },
            "marker": {
             "colorbar": {
              "outlinewidth": 0,
              "ticks": ""
             }
            },
            "type": "scatter3d"
           }
          ],
          "scattercarpet": [
           {
            "marker": {
             "colorbar": {
              "outlinewidth": 0,
              "ticks": ""
             }
            },
            "type": "scattercarpet"
           }
          ],
          "scattergeo": [
           {
            "marker": {
             "colorbar": {
              "outlinewidth": 0,
              "ticks": ""
             }
            },
            "type": "scattergeo"
           }
          ],
          "scattergl": [
           {
            "marker": {
             "colorbar": {
              "outlinewidth": 0,
              "ticks": ""
             }
            },
            "type": "scattergl"
           }
          ],
          "scattermapbox": [
           {
            "marker": {
             "colorbar": {
              "outlinewidth": 0,
              "ticks": ""
             }
            },
            "type": "scattermapbox"
           }
          ],
          "scatterpolar": [
           {
            "marker": {
             "colorbar": {
              "outlinewidth": 0,
              "ticks": ""
             }
            },
            "type": "scatterpolar"
           }
          ],
          "scatterpolargl": [
           {
            "marker": {
             "colorbar": {
              "outlinewidth": 0,
              "ticks": ""
             }
            },
            "type": "scatterpolargl"
           }
          ],
          "scatterternary": [
           {
            "marker": {
             "colorbar": {
              "outlinewidth": 0,
              "ticks": ""
             }
            },
            "type": "scatterternary"
           }
          ],
          "surface": [
           {
            "colorbar": {
             "outlinewidth": 0,
             "ticks": ""
            },
            "colorscale": [
             [
              0,
              "#0d0887"
             ],
             [
              0.1111111111111111,
              "#46039f"
             ],
             [
              0.2222222222222222,
              "#7201a8"
             ],
             [
              0.3333333333333333,
              "#9c179e"
             ],
             [
              0.4444444444444444,
              "#bd3786"
             ],
             [
              0.5555555555555556,
              "#d8576b"
             ],
             [
              0.6666666666666666,
              "#ed7953"
             ],
             [
              0.7777777777777778,
              "#fb9f3a"
             ],
             [
              0.8888888888888888,
              "#fdca26"
             ],
             [
              1,
              "#f0f921"
             ]
            ],
            "type": "surface"
           }
          ],
          "table": [
           {
            "cells": {
             "fill": {
              "color": "#EBF0F8"
             },
             "line": {
              "color": "white"
             }
            },
            "header": {
             "fill": {
              "color": "#C8D4E3"
             },
             "line": {
              "color": "white"
             }
            },
            "type": "table"
           }
          ]
         },
         "layout": {
          "annotationdefaults": {
           "arrowcolor": "#2a3f5f",
           "arrowhead": 0,
           "arrowwidth": 1
          },
          "autotypenumbers": "strict",
          "coloraxis": {
           "colorbar": {
            "outlinewidth": 0,
            "ticks": ""
           }
          },
          "colorscale": {
           "diverging": [
            [
             0,
             "#8e0152"
            ],
            [
             0.1,
             "#c51b7d"
            ],
            [
             0.2,
             "#de77ae"
            ],
            [
             0.3,
             "#f1b6da"
            ],
            [
             0.4,
             "#fde0ef"
            ],
            [
             0.5,
             "#f7f7f7"
            ],
            [
             0.6,
             "#e6f5d0"
            ],
            [
             0.7,
             "#b8e186"
            ],
            [
             0.8,
             "#7fbc41"
            ],
            [
             0.9,
             "#4d9221"
            ],
            [
             1,
             "#276419"
            ]
           ],
           "sequential": [
            [
             0,
             "#0d0887"
            ],
            [
             0.1111111111111111,
             "#46039f"
            ],
            [
             0.2222222222222222,
             "#7201a8"
            ],
            [
             0.3333333333333333,
             "#9c179e"
            ],
            [
             0.4444444444444444,
             "#bd3786"
            ],
            [
             0.5555555555555556,
             "#d8576b"
            ],
            [
             0.6666666666666666,
             "#ed7953"
            ],
            [
             0.7777777777777778,
             "#fb9f3a"
            ],
            [
             0.8888888888888888,
             "#fdca26"
            ],
            [
             1,
             "#f0f921"
            ]
           ],
           "sequentialminus": [
            [
             0,
             "#0d0887"
            ],
            [
             0.1111111111111111,
             "#46039f"
            ],
            [
             0.2222222222222222,
             "#7201a8"
            ],
            [
             0.3333333333333333,
             "#9c179e"
            ],
            [
             0.4444444444444444,
             "#bd3786"
            ],
            [
             0.5555555555555556,
             "#d8576b"
            ],
            [
             0.6666666666666666,
             "#ed7953"
            ],
            [
             0.7777777777777778,
             "#fb9f3a"
            ],
            [
             0.8888888888888888,
             "#fdca26"
            ],
            [
             1,
             "#f0f921"
            ]
           ]
          },
          "colorway": [
           "#636efa",
           "#EF553B",
           "#00cc96",
           "#ab63fa",
           "#FFA15A",
           "#19d3f3",
           "#FF6692",
           "#B6E880",
           "#FF97FF",
           "#FECB52"
          ],
          "font": {
           "color": "#2a3f5f"
          },
          "geo": {
           "bgcolor": "white",
           "lakecolor": "white",
           "landcolor": "#E5ECF6",
           "showlakes": true,
           "showland": true,
           "subunitcolor": "white"
          },
          "hoverlabel": {
           "align": "left"
          },
          "hovermode": "closest",
          "mapbox": {
           "style": "light"
          },
          "paper_bgcolor": "white",
          "plot_bgcolor": "#E5ECF6",
          "polar": {
           "angularaxis": {
            "gridcolor": "white",
            "linecolor": "white",
            "ticks": ""
           },
           "bgcolor": "#E5ECF6",
           "radialaxis": {
            "gridcolor": "white",
            "linecolor": "white",
            "ticks": ""
           }
          },
          "scene": {
           "xaxis": {
            "backgroundcolor": "#E5ECF6",
            "gridcolor": "white",
            "gridwidth": 2,
            "linecolor": "white",
            "showbackground": true,
            "ticks": "",
            "zerolinecolor": "white"
           },
           "yaxis": {
            "backgroundcolor": "#E5ECF6",
            "gridcolor": "white",
            "gridwidth": 2,
            "linecolor": "white",
            "showbackground": true,
            "ticks": "",
            "zerolinecolor": "white"
           },
           "zaxis": {
            "backgroundcolor": "#E5ECF6",
            "gridcolor": "white",
            "gridwidth": 2,
            "linecolor": "white",
            "showbackground": true,
            "ticks": "",
            "zerolinecolor": "white"
           }
          },
          "shapedefaults": {
           "line": {
            "color": "#2a3f5f"
           }
          },
          "ternary": {
           "aaxis": {
            "gridcolor": "white",
            "linecolor": "white",
            "ticks": ""
           },
           "baxis": {
            "gridcolor": "white",
            "linecolor": "white",
            "ticks": ""
           },
           "bgcolor": "#E5ECF6",
           "caxis": {
            "gridcolor": "white",
            "linecolor": "white",
            "ticks": ""
           }
          },
          "title": {
           "x": 0.05
          },
          "xaxis": {
           "automargin": true,
           "gridcolor": "white",
           "linecolor": "white",
           "ticks": "",
           "title": {
            "standoff": 15
           },
           "zerolinecolor": "white",
           "zerolinewidth": 2
          },
          "yaxis": {
           "automargin": true,
           "gridcolor": "white",
           "linecolor": "white",
           "ticks": "",
           "title": {
            "standoff": 15
           },
           "zerolinecolor": "white",
           "zerolinewidth": 2
          }
         }
        },
        "title": {
         "text": "Distribuição das Raças/Enias"
        },
        "width": 1000,
        "xaxis": {
         "anchor": "y",
         "autorange": true,
         "categoryarray": [
          "Pardos",
          "Brancos",
          "Pretos",
          "Indigenas",
          "Amarelos",
          "Ignorado"
         ],
         "categoryorder": "array",
         "domain": [
          0,
          1
         ],
         "range": [
          -0.5,
          5.5
         ],
         "title": {
          "text": "Raca"
         },
         "type": "category"
        },
        "yaxis": {
         "anchor": "x",
         "autorange": true,
         "domain": [
          0,
          1
         ],
         "range": [
          0,
          25082.105263157893
         ],
         "title": {
          "text": "Contagem"
         },
         "type": "linear"
        }
       }
      },
      "image/png": "[encoded data removed]",
      "text/html": [
       "<div>                            <div id=\"7ddb73d1-1695-44d1-98bd-0ac1cb6625f6\" class=\"plotly-graph-div\" style=\"height:500px; width:1000px;\"></div>            <script type=\"text/javascript\">                require([\"plotly\"], function(Plotly) {                    window.PLOTLYENV=window.PLOTLYENV || {};                                    if (document.getElementById(\"7ddb73d1-1695-44d1-98bd-0ac1cb6625f6\")) {                    Plotly.newPlot(                        \"7ddb73d1-1695-44d1-98bd-0ac1cb6625f6\",                        [{\"alignmentgroup\":\"True\",\"hovertemplate\":\"Raca=%{x}\\u003cbr\\u003eContagem=%{text}\\u003cextra\\u003e\\u003c\\u002fextra\\u003e\",\"legendgroup\":\"Pardos\",\"marker\":{\"color\":\"#636efa\",\"pattern\":{\"shape\":\"\"}},\"name\":\"Pardos\",\"offsetgroup\":\"Pardos\",\"orientation\":\"v\",\"showlegend\":true,\"text\":[23828.0],\"textposition\":\"outside\",\"x\":[\"Pardos\"],\"xaxis\":\"x\",\"y\":[23828],\"yaxis\":\"y\",\"type\":\"bar\"},{\"alignmentgroup\":\"True\",\"hovertemplate\":\"Raca=%{x}\\u003cbr\\u003eContagem=%{text}\\u003cextra\\u003e\\u003c\\u002fextra\\u003e\",\"legendgroup\":\"Brancos\",\"marker\":{\"color\":\"#EF553B\",\"pattern\":{\"shape\":\"\"}},\"name\":\"Brancos\",\"offsetgroup\":\"Brancos\",\"orientation\":\"v\",\"showlegend\":true,\"text\":[15368.0],\"textposition\":\"outside\",\"x\":[\"Brancos\"],\"xaxis\":\"x\",\"y\":[15368],\"yaxis\":\"y\",\"type\":\"bar\"},{\"alignmentgroup\":\"True\",\"hovertemplate\":\"Raca=%{x}\\u003cbr\\u003eContagem=%{text}\\u003cextra\\u003e\\u003c\\u002fextra\\u003e\",\"legendgroup\":\"Pretos\",\"marker\":{\"color\":\"#00cc96\",\"pattern\":{\"shape\":\"\"}},\"name\":\"Pretos\",\"offsetgroup\":\"Pretos\",\"orientation\":\"v\",\"showlegend\":true,\"text\":[5166.0],\"textposition\":\"outside\",\"x\":[\"Pretos\"],\"xaxis\":\"x\",\"y\":[5166],\"yaxis\":\"y\",\"type\":\"bar\"},{\"alignmentgroup\":\"True\",\"hovertemplate\":\"Raca=%{x}\\u003cbr\\u003eContagem=%{text}\\u003cextra\\u003e\\u003c\\u002fextra\\u003e\",\"legendgroup\":\"Indigenas\",\"marker\":{\"color\":\"#ab63fa\",\"pattern\":{\"shape\":\"\"}},\"name\":\"Indigenas\",\"offsetgroup\":\"Indigenas\",\"orientation\":\"v\",\"showlegend\":true,\"text\":[360.0],\"textposition\":\"outside\",\"x\":[\"Indigenas\"],\"xaxis\":\"x\",\"y\":[360],\"yaxis\":\"y\",\"type\":\"bar\"},{\"alignmentgroup\":\"True\",\"hovertemplate\":\"Raca=%{x}\\u003cbr\\u003eContagem=%{text}\\u003cextra\\u003e\\u003c\\u002fextra\\u003e\",\"legendgroup\":\"Amarelos\",\"marker\":{\"color\":\"#FFA15A\",\"pattern\":{\"shape\":\"\"}},\"name\":\"Amarelos\",\"offsetgroup\":\"Amarelos\",\"orientation\":\"v\",\"showlegend\":true,\"text\":[330.0],\"textposition\":\"outside\",\"x\":[\"Amarelos\"],\"xaxis\":\"x\",\"y\":[330],\"yaxis\":\"y\",\"type\":\"bar\"},{\"alignmentgroup\":\"True\",\"hovertemplate\":\"Raca=%{x}\\u003cbr\\u003eContagem=%{text}\\u003cextra\\u003e\\u003c\\u002fextra\\u003e\",\"legendgroup\":\"Ignorado\",\"marker\":{\"color\":\"#19d3f3\",\"pattern\":{\"shape\":\"\"}},\"name\":\"Ignorado\",\"offsetgroup\":\"Ignorado\",\"orientation\":\"v\",\"showlegend\":true,\"text\":[7.0],\"textposition\":\"outside\",\"x\":[\"Ignorado\"],\"xaxis\":\"x\",\"y\":[7],\"yaxis\":\"y\",\"type\":\"bar\"}],                        {\"template\":{\"data\":{\"histogram2dcontour\":[{\"type\":\"histogram2dcontour\",\"colorbar\":{\"outlinewidth\":0,\"ticks\":\"\"},\"colorscale\":[[0.0,\"#0d0887\"],[0.1111111111111111,\"#46039f\"],[0.2222222222222222,\"#7201a8\"],[0.3333333333333333,\"#9c179e\"],[0.4444444444444444,\"#bd3786\"],[0.5555555555555556,\"#d8576b\"],[0.6666666666666666,\"#ed7953\"],[0.7777777777777778,\"#fb9f3a\"],[0.8888888888888888,\"#fdca26\"],[1.0,\"#f0f921\"]]}],\"choropleth\":[{\"type\":\"choropleth\",\"colorbar\":{\"outlinewidth\":0,\"ticks\":\"\"}}],\"histogram2d\":[{\"type\":\"histogram2d\",\"colorbar\":{\"outlinewidth\":0,\"ticks\":\"\"},\"colorscale\":[[0.0,\"#0d0887\"],[0.1111111111111111,\"#46039f\"],[0.2222222222222222,\"#7201a8\"],[0.3333333333333333,\"#9c179e\"],[0.4444444444444444,\"#bd3786\"],[0.5555555555555556,\"#d8576b\"],[0.6666666666666666,\"#ed7953\"],[0.7777777777777778,\"#fb9f3a\"],[0.8888888888888888,\"#fdca26\"],[1.0,\"#f0f921\"]]}],\"heatmap\":[{\"type\":\"heatmap\",\"colorbar\":{\"outlinewidth\":0,\"ticks\":\"\"},\"colorscale\":[[0.0,\"#0d0887\"],[0.1111111111111111,\"#46039f\"],[0.2222222222222222,\"#7201a8\"],[0.3333333333333333,\"#9c179e\"],[0.4444444444444444,\"#bd3786\"],[0.5555555555555556,\"#d8576b\"],[0.6666666666666666,\"#ed7953\"],[0.7777777777777778,\"#fb9f3a\"],[0.8888888888888888,\"#fdca26\"],[1.0,\"#f0f921\"]]}],\"heatmapgl\":[{\"type\":\"heatmapgl\",\"colorbar\":{\"outlinewidth\":0,\"ticks\":\"\"},\"colorscale\":[[0.0,\"#0d0887\"],[0.1111111111111111,\"#46039f\"],[0.2222222222222222,\"#7201a8\"],[0.3333333333333333,\"#9c179e\"],[0.4444444444444444,\"#bd3786\"],[0.5555555555555556,\"#d8576b\"],[0.6666666666666666,\"#ed7953\"],[0.7777777777777778,\"#fb9f3a\"],[0.8888888888888888,\"#fdca26\"],[1.0,\"#f0f921\"]]}],\"contourcarpet\":[{\"type\":\"contourcarpet\",\"colorbar\":{\"outlinewidth\":0,\"ticks\":\"\"}}],\"contour\":[{\"type\":\"contour\",\"colorbar\":{\"outlinewidth\":0,\"ticks\":\"\"},\"colorscale\":[[0.0,\"#0d0887\"],[0.1111111111111111,\"#46039f\"],[0.2222222222222222,\"#7201a8\"],[0.3333333333333333,\"#9c179e\"],[0.4444444444444444,\"#bd3786\"],[0.5555555555555556,\"#d8576b\"],[0.6666666666666666,\"#ed7953\"],[0.7777777777777778,\"#fb9f3a\"],[0.8888888888888888,\"#fdca26\"],[1.0,\"#f0f921\"]]}],\"surface\":[{\"type\":\"surface\",\"colorbar\":{\"outlinewidth\":0,\"ticks\":\"\"},\"colorscale\":[[0.0,\"#0d0887\"],[0.1111111111111111,\"#46039f\"],[0.2222222222222222,\"#7201a8\"],[0.3333333333333333,\"#9c179e\"],[0.4444444444444444,\"#bd3786\"],[0.5555555555555556,\"#d8576b\"],[0.6666666666666666,\"#ed7953\"],[0.7777777777777778,\"#fb9f3a\"],[0.8888888888888888,\"#fdca26\"],[1.0,\"#f0f921\"]]}],\"mesh3d\":[{\"type\":\"mesh3d\",\"colorbar\":{\"outlinewidth\":0,\"ticks\":\"\"}}],\"scatter\":[{\"fillpattern\":{\"fillmode\":\"overlay\",\"size\":10,\"solidity\":0.2},\"type\":\"scatter\"}],\"parcoords\":[{\"type\":\"parcoords\",\"line\":{\"colorbar\":{\"outlinewidth\":0,\"ticks\":\"\"}}}],\"scatterpolargl\":[{\"type\":\"scatterpolargl\",\"marker\":{\"colorbar\":{\"outlinewidth\":0,\"ticks\":\"\"}}}],\"bar\":[{\"error_x\":{\"color\":\"#2a3f5f\"},\"error_y\":{\"color\":\"#2a3f5f\"},\"marker\":{\"line\":{\"color\":\"#E5ECF6\",\"width\":0.5},\"pattern\":{\"fillmode\":\"overlay\",\"size\":10,\"solidity\":0.2}},\"type\":\"bar\"}],\"scattergeo\":[{\"type\":\"scattergeo\",\"marker\":{\"colorbar\":{\"outlinewidth\":0,\"ticks\":\"\"}}}],\"scatterpolar\":[{\"type\":\"scatterpolar\",\"marker\":{\"colorbar\":{\"outlinewidth\":0,\"ticks\":\"\"}}}],\"histogram\":[{\"marker\":{\"pattern\":{\"fillmode\":\"overlay\",\"size\":10,\"solidity\":0.2}},\"type\":\"histogram\"}],\"scattergl\":[{\"type\":\"scattergl\",\"marker\":{\"colorbar\":{\"outlinewidth\":0,\"ticks\":\"\"}}}],\"scatter3d\":[{\"type\":\"scatter3d\",\"line\":{\"colorbar\":{\"outlinewidth\":0,\"ticks\":\"\"}},\"marker\":{\"colorbar\":{\"outlinewidth\":0,\"ticks\":\"\"}}}],\"scattermapbox\":[{\"type\":\"scattermapbox\",\"marker\":{\"colorbar\":{\"outlinewidth\":0,\"ticks\":\"\"}}}],\"scatterternary\":[{\"type\":\"scatterternary\",\"marker\":{\"colorbar\":{\"outlinewidth\":0,\"ticks\":\"\"}}}],\"scattercarpet\":[{\"type\":\"scattercarpet\",\"marker\":{\"colorbar\":{\"outlinewidth\":0,\"ticks\":\"\"}}}],\"carpet\":[{\"aaxis\":{\"endlinecolor\":\"#2a3f5f\",\"gridcolor\":\"white\",\"linecolor\":\"white\",\"minorgridcolor\":\"white\",\"startlinecolor\":\"#2a3f5f\"},\"baxis\":{\"endlinecolor\":\"#2a3f5f\",\"gridcolor\":\"white\",\"linecolor\":\"white\",\"minorgridcolor\":\"white\",\"startlinecolor\":\"#2a3f5f\"},\"type\":\"carpet\"}],\"table\":[{\"cells\":{\"fill\":{\"color\":\"#EBF0F8\"},\"line\":{\"color\":\"white\"}},\"header\":{\"fill\":{\"color\":\"#C8D4E3\"},\"line\":{\"color\":\"white\"}},\"type\":\"table\"}],\"barpolar\":[{\"marker\":{\"line\":{\"color\":\"#E5ECF6\",\"width\":0.5},\"pattern\":{\"fillmode\":\"overlay\",\"size\":10,\"solidity\":0.2}},\"type\":\"barpolar\"}],\"pie\":[{\"automargin\":true,\"type\":\"pie\"}]},\"layout\":{\"autotypenumbers\":\"strict\",\"colorway\":[\"#636efa\",\"#EF553B\",\"#00cc96\",\"#ab63fa\",\"#FFA15A\",\"#19d3f3\",\"#FF6692\",\"#B6E880\",\"#FF97FF\",\"#FECB52\"],\"font\":{\"color\":\"#2a3f5f\"},\"hovermode\":\"closest\",\"hoverlabel\":{\"align\":\"left\"},\"paper_bgcolor\":\"white\",\"plot_bgcolor\":\"#E5ECF6\",\"polar\":{\"bgcolor\":\"#E5ECF6\",\"angularaxis\":{\"gridcolor\":\"white\",\"linecolor\":\"white\",\"ticks\":\"\"},\"radialaxis\":{\"gridcolor\":\"white\",\"linecolor\":\"white\",\"ticks\":\"\"}},\"ternary\":{\"bgcolor\":\"#E5ECF6\",\"aaxis\":{\"gridcolor\":\"white\",\"linecolor\":\"white\",\"ticks\":\"\"},\"baxis\":{\"gridcolor\":\"white\",\"linecolor\":\"white\",\"ticks\":\"\"},\"caxis\":{\"gridcolor\":\"white\",\"linecolor\":\"white\",\"ticks\":\"\"}},\"coloraxis\":{\"colorbar\":{\"outlinewidth\":0,\"ticks\":\"\"}},\"colorscale\":{\"sequential\":[[0.0,\"#0d0887\"],[0.1111111111111111,\"#46039f\"],[0.2222222222222222,\"#7201a8\"],[0.3333333333333333,\"#9c179e\"],[0.4444444444444444,\"#bd3786\"],[0.5555555555555556,\"#d8576b\"],[0.6666666666666666,\"#ed7953\"],[0.7777777777777778,\"#fb9f3a\"],[0.8888888888888888,\"#fdca26\"],[1.0,\"#f0f921\"]],\"sequentialminus\":[[0.0,\"#0d0887\"],[0.1111111111111111,\"#46039f\"],[0.2222222222222222,\"#7201a8\"],[0.3333333333333333,\"#9c179e\"],[0.4444444444444444,\"#bd3786\"],[0.5555555555555556,\"#d8576b\"],[0.6666666666666666,\"#ed7953\"],[0.7777777777777778,\"#fb9f3a\"],[0.8888888888888888,\"#fdca26\"],[1.0,\"#f0f921\"]],\"diverging\":[[0,\"#8e0152\"],[0.1,\"#c51b7d\"],[0.2,\"#de77ae\"],[0.3,\"#f1b6da\"],[0.4,\"#fde0ef\"],[0.5,\"#f7f7f7\"],[0.6,\"#e6f5d0\"],[0.7,\"#b8e186\"],[0.8,\"#7fbc41\"],[0.9,\"#4d9221\"],[1,\"#276419\"]]},\"xaxis\":{\"gridcolor\":\"white\",\"linecolor\":\"white\",\"ticks\":\"\",\"title\":{\"standoff\":15},\"zerolinecolor\":\"white\",\"automargin\":true,\"zerolinewidth\":2},\"yaxis\":{\"gridcolor\":\"white\",\"linecolor\":\"white\",\"ticks\":\"\",\"title\":{\"standoff\":15},\"zerolinecolor\":\"white\",\"automargin\":true,\"zerolinewidth\":2},\"scene\":{\"xaxis\":{\"backgroundcolor\":\"#E5ECF6\",\"gridcolor\":\"white\",\"linecolor\":\"white\",\"showbackground\":true,\"ticks\":\"\",\"zerolinecolor\":\"white\",\"gridwidth\":2},\"yaxis\":{\"backgroundcolor\":\"#E5ECF6\",\"gridcolor\":\"white\",\"linecolor\":\"white\",\"showbackground\":true,\"ticks\":\"\",\"zerolinecolor\":\"white\",\"gridwidth\":2},\"zaxis\":{\"backgroundcolor\":\"#E5ECF6\",\"gridcolor\":\"white\",\"linecolor\":\"white\",\"showbackground\":true,\"ticks\":\"\",\"zerolinecolor\":\"white\",\"gridwidth\":2}},\"shapedefaults\":{\"line\":{\"color\":\"#2a3f5f\"}},\"annotationdefaults\":{\"arrowcolor\":\"#2a3f5f\",\"arrowhead\":0,\"arrowwidth\":1},\"geo\":{\"bgcolor\":\"white\",\"landcolor\":\"#E5ECF6\",\"subunitcolor\":\"white\",\"showland\":true,\"showlakes\":true,\"lakecolor\":\"white\"},\"title\":{\"x\":0.05},\"mapbox\":{\"style\":\"light\"}}},\"xaxis\":{\"anchor\":\"y\",\"domain\":[0.0,1.0],\"title\":{\"text\":\"Raca\"},\"categoryorder\":\"array\",\"categoryarray\":[\"Pardos\",\"Brancos\",\"Pretos\",\"Indigenas\",\"Amarelos\",\"Ignorado\"]},\"yaxis\":{\"anchor\":\"x\",\"domain\":[0.0,1.0],\"title\":{\"text\":\"Contagem\"}},\"legend\":{\"title\":{\"text\":\"Raca\"},\"tracegroupgap\":0},\"title\":{\"text\":\"Distribui\\u00e7\\u00e3o das Ra\\u00e7as\\u002fEnias\"},\"barmode\":\"relative\",\"width\":1000,\"height\":500},                        {\"responsive\": true}                    ).then(function(){\n",
       "                            \n",
       "var gd = document.getElementById('7ddb73d1-1695-44d1-98bd-0ac1cb6625f6');\n",
       "var x = new MutationObserver(function (mutations, observer) {{\n",
       "        var display = window.getComputedStyle(gd).display;\n",
       "        if (!display || display === 'none') {{\n",
       "            console.log([gd, 'removed!']);\n",
       "            Plotly.purge(gd);\n",
       "            observer.disconnect();\n",
       "        }}\n",
       "}});\n",
       "\n",
       "// Listen for the removal of the full notebook cells\n",
       "var notebookContainer = gd.closest('#notebook-container');\n",
       "if (notebookContainer) {{\n",
       "    x.observe(notebookContainer, {childList: true});\n",
       "}}\n",
       "\n",
       "// Listen for the clearing of the current output cell\n",
       "var outputEl = gd.closest('.output');\n",
       "if (outputEl) {{\n",
       "    x.observe(outputEl, {childList: true});\n",
       "}}\n",
       "\n",
       "                        })                };                });            </script>        </div>"
      ]
     },
     "metadata": {},
     "output_type": "display_data"
    }
   ],
   "source": [
    "#Dicionario para mapeamento.\n",
    "dicionario = {\n",
    "    1: 'Brancos',\n",
    "    2: 'Pretos',\n",
    "    3: 'Amarelos',\n",
    "    4: 'Pardos',\n",
    "    5: 'Indigenas',\n",
    "    9: 'Ignorado',\n",
    "}\n",
    "\n",
    "contagem = df[\"Raca_etnia\"].value_counts().reset_index()\n",
    "contagem.columns = ['Raca', 'Contagem']\n",
    "\n",
    "#mapeamento das instruções na própria coluna Instrução.\n",
    "contagem['Raca'] = contagem['Raca'].map(dicionario)\n",
    "contagem = contagem.sort_values(by='Contagem', ascending=False)\n",
    "\n",
    "# Supondo que a coluna de nível de instrução seja 'NivelInstrucao'\n",
    "fig = px.bar(\n",
    "    contagem,\n",
    "    x='Raca',\n",
    "    y='Contagem',\n",
    "    labels={'count': 'Contagem', 'Raca_etnia': 'Raça/Etnia'},\n",
    "    title='Distribuição das Raças/Enias',\n",
    "    color='Raca',\n",
    "    text='Contagem'\n",
    ")\n",
    "\n",
    "fig.update_traces(textposition='outside')\n",
    "\n",
    "fig.update_layout(\n",
    "    width=1000,\n",
    "    height=500,\n",
    ")\n",
    "\n",
    "fig.show()"
   ]
  },
  {
   "cell_type": "markdown",
   "id": "acc69ac9-f24d-4857-845b-ebdb2f3d9885",
   "metadata": {},
   "source": [
    "A maioria das pessoas consideram-se pardas, em seguida temos os brancos e em terceiro lugar as pessoas pretas."
   ]
  },
  {
   "cell_type": "code",
   "execution_count": 254,
   "id": "53016458-dabe-42e7-bd27-056a4db2e7bd",
   "metadata": {},
   "outputs": [
    {
     "name": "stdout",
     "output_type": "stream",
     "text": [
      "Raca_etnia_categoria\n",
      "Pardo     23828\n",
      "Branco    16065\n",
      "Preto      5166\n",
      "Name: count, dtype: int64\n"
     ]
    }
   ],
   "source": [
    "# Criar uma nova coluna com base nas condições\n",
    "conditions = [\n",
    "    df[\"Raca_etnia\"].isin([1, 3, 5, 9]),  # Brancos, amarelos, indígenas, ignorados\n",
    "    df[\"Raca_etnia\"] == 2,               # Pretos\n",
    "    df[\"Raca_etnia\"] == 4                # Pardos\n",
    "]\n",
    "\n",
    "choices = ['Branco', 'Preto', 'Pardo']\n",
    "\n",
    "# Aplicar as condições e atribuir os valores\n",
    "df[\"Raca_etnia_categoria\"] = np.select(conditions, choices, default='Outros')\n",
    "\n",
    "# Opcional: conferir a distribuição das categorias\n",
    "print(df[\"Raca_etnia_categoria\"].value_counts())\n"
   ]
  },
  {
   "cell_type": "code",
   "execution_count": 255,
   "id": "988f1c5b-ceb6-4368-839d-007f30d389b4",
   "metadata": {},
   "outputs": [
    {
     "data": {
      "application/vnd.plotly.v1+json": {
       "config": {
        "plotlyServerURL": "https://plot.ly"
       },
       "data": [
        {
         "alignmentgroup": "True",
         "hovertemplate": "Raca=%{x}<br>Contagem=%{y}<br>text=%{text}<extra></extra>",
         "legendgroup": "Pardo",
         "marker": {
          "color": "#636efa",
          "pattern": {
           "shape": ""
          }
         },
         "name": "Pardo",
         "offsetgroup": "Pardo",
         "orientation": "v",
         "showlegend": true,
         "text": [
          "52.9%"
         ],
         "textposition": "outside",
         "type": "bar",
         "x": [
          "Pardo"
         ],
         "xaxis": "x",
         "y": [
          23828
         ],
         "yaxis": "y"
        },
        {
         "alignmentgroup": "True",
         "hovertemplate": "Raca=%{x}<br>Contagem=%{y}<br>text=%{text}<extra></extra>",
         "legendgroup": "Branco",
         "marker": {
          "color": "#EF553B",
          "pattern": {
           "shape": ""
          }
         },
         "name": "Branco",
         "offsetgroup": "Branco",
         "orientation": "v",
         "showlegend": true,
         "text": [
          "35.7%"
         ],
         "textposition": "outside",
         "type": "bar",
         "x": [
          "Branco"
         ],
         "xaxis": "x",
         "y": [
          16065
         ],
         "yaxis": "y"
        },
        {
         "alignmentgroup": "True",
         "hovertemplate": "Raca=%{x}<br>Contagem=%{y}<br>text=%{text}<extra></extra>",
         "legendgroup": "Preto",
         "marker": {
          "color": "#00cc96",
          "pattern": {
           "shape": ""
          }
         },
         "name": "Preto",
         "offsetgroup": "Preto",
         "orientation": "v",
         "showlegend": true,
         "text": [
          "11.5%"
         ],
         "textposition": "outside",
         "type": "bar",
         "x": [
          "Preto"
         ],
         "xaxis": "x",
         "y": [
          5166
         ],
         "yaxis": "y"
        }
       ],
       "layout": {
        "barmode": "relative",
        "height": 500,
        "legend": {
         "title": {
          "text": "Raca"
         },
         "tracegroupgap": 0
        },
        "template": {
         "data": {
          "bar": [
           {
            "error_x": {
             "color": "#2a3f5f"
            },
            "error_y": {
             "color": "#2a3f5f"
            },
            "marker": {
             "line": {
              "color": "#E5ECF6",
              "width": 0.5
             },
             "pattern": {
              "fillmode": "overlay",
              "size": 10,
              "solidity": 0.2
             }
            },
            "type": "bar"
           }
          ],
          "barpolar": [
           {
            "marker": {
             "line": {
              "color": "#E5ECF6",
              "width": 0.5
             },
             "pattern": {
              "fillmode": "overlay",
              "size": 10,
              "solidity": 0.2
             }
            },
            "type": "barpolar"
           }
          ],
          "carpet": [
           {
            "aaxis": {
             "endlinecolor": "#2a3f5f",
             "gridcolor": "white",
             "linecolor": "white",
             "minorgridcolor": "white",
             "startlinecolor": "#2a3f5f"
            },
            "baxis": {
             "endlinecolor": "#2a3f5f",
             "gridcolor": "white",
             "linecolor": "white",
             "minorgridcolor": "white",
             "startlinecolor": "#2a3f5f"
            },
            "type": "carpet"
           }
          ],
          "choropleth": [
           {
            "colorbar": {
             "outlinewidth": 0,
             "ticks": ""
            },
            "type": "choropleth"
           }
          ],
          "contour": [
           {
            "colorbar": {
             "outlinewidth": 0,
             "ticks": ""
            },
            "colorscale": [
             [
              0,
              "#0d0887"
             ],
             [
              0.1111111111111111,
              "#46039f"
             ],
             [
              0.2222222222222222,
              "#7201a8"
             ],
             [
              0.3333333333333333,
              "#9c179e"
             ],
             [
              0.4444444444444444,
              "#bd3786"
             ],
             [
              0.5555555555555556,
              "#d8576b"
             ],
             [
              0.6666666666666666,
              "#ed7953"
             ],
             [
              0.7777777777777778,
              "#fb9f3a"
             ],
             [
              0.8888888888888888,
              "#fdca26"
             ],
             [
              1,
              "#f0f921"
             ]
            ],
            "type": "contour"
           }
          ],
          "contourcarpet": [
           {
            "colorbar": {
             "outlinewidth": 0,
             "ticks": ""
            },
            "type": "contourcarpet"
           }
          ],
          "heatmap": [
           {
            "colorbar": {
             "outlinewidth": 0,
             "ticks": ""
            },
            "colorscale": [
             [
              0,
              "#0d0887"
             ],
             [
              0.1111111111111111,
              "#46039f"
             ],
             [
              0.2222222222222222,
              "#7201a8"
             ],
             [
              0.3333333333333333,
              "#9c179e"
             ],
             [
              0.4444444444444444,
              "#bd3786"
             ],
             [
              0.5555555555555556,
              "#d8576b"
             ],
             [
              0.6666666666666666,
              "#ed7953"
             ],
             [
              0.7777777777777778,
              "#fb9f3a"
             ],
             [
              0.8888888888888888,
              "#fdca26"
             ],
             [
              1,
              "#f0f921"
             ]
            ],
            "type": "heatmap"
           }
          ],
          "heatmapgl": [
           {
            "colorbar": {
             "outlinewidth": 0,
             "ticks": ""
            },
            "colorscale": [
             [
              0,
              "#0d0887"
             ],
             [
              0.1111111111111111,
              "#46039f"
             ],
             [
              0.2222222222222222,
              "#7201a8"
             ],
             [
              0.3333333333333333,
              "#9c179e"
             ],
             [
              0.4444444444444444,
              "#bd3786"
             ],
             [
              0.5555555555555556,
              "#d8576b"
             ],
             [
              0.6666666666666666,
              "#ed7953"
             ],
             [
              0.7777777777777778,
              "#fb9f3a"
             ],
             [
              0.8888888888888888,
              "#fdca26"
             ],
             [
              1,
              "#f0f921"
             ]
            ],
            "type": "heatmapgl"
           }
          ],
          "histogram": [
           {
            "marker": {
             "pattern": {
              "fillmode": "overlay",
              "size": 10,
              "solidity": 0.2
             }
            },
            "type": "histogram"
           }
          ],
          "histogram2d": [
           {
            "colorbar": {
             "outlinewidth": 0,
             "ticks": ""
            },
            "colorscale": [
             [
              0,
              "#0d0887"
             ],
             [
              0.1111111111111111,
              "#46039f"
             ],
             [
              0.2222222222222222,
              "#7201a8"
             ],
             [
              0.3333333333333333,
              "#9c179e"
             ],
             [
              0.4444444444444444,
              "#bd3786"
             ],
             [
              0.5555555555555556,
              "#d8576b"
             ],
             [
              0.6666666666666666,
              "#ed7953"
             ],
             [
              0.7777777777777778,
              "#fb9f3a"
             ],
             [
              0.8888888888888888,
              "#fdca26"
             ],
             [
              1,
              "#f0f921"
             ]
            ],
            "type": "histogram2d"
           }
          ],
          "histogram2dcontour": [
           {
            "colorbar": {
             "outlinewidth": 0,
             "ticks": ""
            },
            "colorscale": [
             [
              0,
              "#0d0887"
             ],
             [
              0.1111111111111111,
              "#46039f"
             ],
             [
              0.2222222222222222,
              "#7201a8"
             ],
             [
              0.3333333333333333,
              "#9c179e"
             ],
             [
              0.4444444444444444,
              "#bd3786"
             ],
             [
              0.5555555555555556,
              "#d8576b"
             ],
             [
              0.6666666666666666,
              "#ed7953"
             ],
             [
              0.7777777777777778,
              "#fb9f3a"
             ],
             [
              0.8888888888888888,
              "#fdca26"
             ],
             [
              1,
              "#f0f921"
             ]
            ],
            "type": "histogram2dcontour"
           }
          ],
          "mesh3d": [
           {
            "colorbar": {
             "outlinewidth": 0,
             "ticks": ""
            },
            "type": "mesh3d"
           }
          ],
          "parcoords": [
           {
            "line": {
             "colorbar": {
              "outlinewidth": 0,
              "ticks": ""
             }
            },
            "type": "parcoords"
           }
          ],
          "pie": [
           {
            "automargin": true,
            "type": "pie"
           }
          ],
          "scatter": [
           {
            "fillpattern": {
             "fillmode": "overlay",
             "size": 10,
             "solidity": 0.2
            },
            "type": "scatter"
           }
          ],
          "scatter3d": [
           {
            "line": {
             "colorbar": {
              "outlinewidth": 0,
              "ticks": ""
             }
            },
            "marker": {
             "colorbar": {
              "outlinewidth": 0,
              "ticks": ""
             }
            },
            "type": "scatter3d"
           }
          ],
          "scattercarpet": [
           {
            "marker": {
             "colorbar": {
              "outlinewidth": 0,
              "ticks": ""
             }
            },
            "type": "scattercarpet"
           }
          ],
          "scattergeo": [
           {
            "marker": {
             "colorbar": {
              "outlinewidth": 0,
              "ticks": ""
             }
            },
            "type": "scattergeo"
           }
          ],
          "scattergl": [
           {
            "marker": {
             "colorbar": {
              "outlinewidth": 0,
              "ticks": ""
             }
            },
            "type": "scattergl"
           }
          ],
          "scattermapbox": [
           {
            "marker": {
             "colorbar": {
              "outlinewidth": 0,
              "ticks": ""
             }
            },
            "type": "scattermapbox"
           }
          ],
          "scatterpolar": [
           {
            "marker": {
             "colorbar": {
              "outlinewidth": 0,
              "ticks": ""
             }
            },
            "type": "scatterpolar"
           }
          ],
          "scatterpolargl": [
           {
            "marker": {
             "colorbar": {
              "outlinewidth": 0,
              "ticks": ""
             }
            },
            "type": "scatterpolargl"
           }
          ],
          "scatterternary": [
           {
            "marker": {
             "colorbar": {
              "outlinewidth": 0,
              "ticks": ""
             }
            },
            "type": "scatterternary"
           }
          ],
          "surface": [
           {
            "colorbar": {
             "outlinewidth": 0,
             "ticks": ""
            },
            "colorscale": [
             [
              0,
              "#0d0887"
             ],
             [
              0.1111111111111111,
              "#46039f"
             ],
             [
              0.2222222222222222,
              "#7201a8"
             ],
             [
              0.3333333333333333,
              "#9c179e"
             ],
             [
              0.4444444444444444,
              "#bd3786"
             ],
             [
              0.5555555555555556,
              "#d8576b"
             ],
             [
              0.6666666666666666,
              "#ed7953"
             ],
             [
              0.7777777777777778,
              "#fb9f3a"
             ],
             [
              0.8888888888888888,
              "#fdca26"
             ],
             [
              1,
              "#f0f921"
             ]
            ],
            "type": "surface"
           }
          ],
          "table": [
           {
            "cells": {
             "fill": {
              "color": "#EBF0F8"
             },
             "line": {
              "color": "white"
             }
            },
            "header": {
             "fill": {
              "color": "#C8D4E3"
             },
             "line": {
              "color": "white"
             }
            },
            "type": "table"
           }
          ]
         },
         "layout": {
          "annotationdefaults": {
           "arrowcolor": "#2a3f5f",
           "arrowhead": 0,
           "arrowwidth": 1
          },
          "autotypenumbers": "strict",
          "coloraxis": {
           "colorbar": {
            "outlinewidth": 0,
            "ticks": ""
           }
          },
          "colorscale": {
           "diverging": [
            [
             0,
             "#8e0152"
            ],
            [
             0.1,
             "#c51b7d"
            ],
            [
             0.2,
             "#de77ae"
            ],
            [
             0.3,
             "#f1b6da"
            ],
            [
             0.4,
             "#fde0ef"
            ],
            [
             0.5,
             "#f7f7f7"
            ],
            [
             0.6,
             "#e6f5d0"
            ],
            [
             0.7,
             "#b8e186"
            ],
            [
             0.8,
             "#7fbc41"
            ],
            [
             0.9,
             "#4d9221"
            ],
            [
             1,
             "#276419"
            ]
           ],
           "sequential": [
            [
             0,
             "#0d0887"
            ],
            [
             0.1111111111111111,
             "#46039f"
            ],
            [
             0.2222222222222222,
             "#7201a8"
            ],
            [
             0.3333333333333333,
             "#9c179e"
            ],
            [
             0.4444444444444444,
             "#bd3786"
            ],
            [
             0.5555555555555556,
             "#d8576b"
            ],
            [
             0.6666666666666666,
             "#ed7953"
            ],
            [
             0.7777777777777778,
             "#fb9f3a"
            ],
            [
             0.8888888888888888,
             "#fdca26"
            ],
            [
             1,
             "#f0f921"
            ]
           ],
           "sequentialminus": [
            [
             0,
             "#0d0887"
            ],
            [
             0.1111111111111111,
             "#46039f"
            ],
            [
             0.2222222222222222,
             "#7201a8"
            ],
            [
             0.3333333333333333,
             "#9c179e"
            ],
            [
             0.4444444444444444,
             "#bd3786"
            ],
            [
             0.5555555555555556,
             "#d8576b"
            ],
            [
             0.6666666666666666,
             "#ed7953"
            ],
            [
             0.7777777777777778,
             "#fb9f3a"
            ],
            [
             0.8888888888888888,
             "#fdca26"
            ],
            [
             1,
             "#f0f921"
            ]
           ]
          },
          "colorway": [
           "#636efa",
           "#EF553B",
           "#00cc96",
           "#ab63fa",
           "#FFA15A",
           "#19d3f3",
           "#FF6692",
           "#B6E880",
           "#FF97FF",
           "#FECB52"
          ],
          "font": {
           "color": "#2a3f5f"
          },
          "geo": {
           "bgcolor": "white",
           "lakecolor": "white",
           "landcolor": "#E5ECF6",
           "showlakes": true,
           "showland": true,
           "subunitcolor": "white"
          },
          "hoverlabel": {
           "align": "left"
          },
          "hovermode": "closest",
          "mapbox": {
           "style": "light"
          },
          "paper_bgcolor": "white",
          "plot_bgcolor": "#E5ECF6",
          "polar": {
           "angularaxis": {
            "gridcolor": "white",
            "linecolor": "white",
            "ticks": ""
           },
           "bgcolor": "#E5ECF6",
           "radialaxis": {
            "gridcolor": "white",
            "linecolor": "white",
            "ticks": ""
           }
          },
          "scene": {
           "xaxis": {
            "backgroundcolor": "#E5ECF6",
            "gridcolor": "white",
            "gridwidth": 2,
            "linecolor": "white",
            "showbackground": true,
            "ticks": "",
            "zerolinecolor": "white"
           },
           "yaxis": {
            "backgroundcolor": "#E5ECF6",
            "gridcolor": "white",
            "gridwidth": 2,
            "linecolor": "white",
            "showbackground": true,
            "ticks": "",
            "zerolinecolor": "white"
           },
           "zaxis": {
            "backgroundcolor": "#E5ECF6",
            "gridcolor": "white",
            "gridwidth": 2,
            "linecolor": "white",
            "showbackground": true,
            "ticks": "",
            "zerolinecolor": "white"
           }
          },
          "shapedefaults": {
           "line": {
            "color": "#2a3f5f"
           }
          },
          "ternary": {
           "aaxis": {
            "gridcolor": "white",
            "linecolor": "white",
            "ticks": ""
           },
           "baxis": {
            "gridcolor": "white",
            "linecolor": "white",
            "ticks": ""
           },
           "bgcolor": "#E5ECF6",
           "caxis": {
            "gridcolor": "white",
            "linecolor": "white",
            "ticks": ""
           }
          },
          "title": {
           "x": 0.05
          },
          "xaxis": {
           "automargin": true,
           "gridcolor": "white",
           "linecolor": "white",
           "ticks": "",
           "title": {
            "standoff": 15
           },
           "zerolinecolor": "white",
           "zerolinewidth": 2
          },
          "yaxis": {
           "automargin": true,
           "gridcolor": "white",
           "linecolor": "white",
           "ticks": "",
           "title": {
            "standoff": 15
           },
           "zerolinecolor": "white",
           "zerolinewidth": 2
          }
         }
        },
        "title": {
         "text": "Distribuição das Raças/Enias"
        },
        "width": 1000,
        "xaxis": {
         "anchor": "y",
         "autorange": true,
         "categoryarray": [
          "Pardo",
          "Branco",
          "Preto"
         ],
         "categoryorder": "array",
         "domain": [
          0,
          1
         ],
         "range": [
          -0.5,
          2.5
         ],
         "title": {
          "text": "Raca"
         },
         "type": "category"
        },
        "yaxis": {
         "anchor": "x",
         "autorange": true,
         "domain": [
          0,
          1
         ],
         "range": [
          0,
          25082.105263157893
         ],
         "title": {
          "text": "Contagem"
         },
         "type": "linear"
        }
       }
      },
      "image/png": "[encoded data removed]",
      "text/html": [
       "<div>                            <div id=\"2f400d22-f0e5-4414-ba1b-e8fb7216b539\" class=\"plotly-graph-div\" style=\"height:500px; width:1000px;\"></div>            <script type=\"text/javascript\">                require([\"plotly\"], function(Plotly) {                    window.PLOTLYENV=window.PLOTLYENV || {};                                    if (document.getElementById(\"2f400d22-f0e5-4414-ba1b-e8fb7216b539\")) {                    Plotly.newPlot(                        \"2f400d22-f0e5-4414-ba1b-e8fb7216b539\",                        [{\"alignmentgroup\":\"True\",\"hovertemplate\":\"Raca=%{x}\\u003cbr\\u003eContagem=%{y}\\u003cbr\\u003etext=%{text}\\u003cextra\\u003e\\u003c\\u002fextra\\u003e\",\"legendgroup\":\"Pardo\",\"marker\":{\"color\":\"#636efa\",\"pattern\":{\"shape\":\"\"}},\"name\":\"Pardo\",\"offsetgroup\":\"Pardo\",\"orientation\":\"v\",\"showlegend\":true,\"text\":[\"52.9%\"],\"textposition\":\"outside\",\"x\":[\"Pardo\"],\"xaxis\":\"x\",\"y\":[23828],\"yaxis\":\"y\",\"type\":\"bar\"},{\"alignmentgroup\":\"True\",\"hovertemplate\":\"Raca=%{x}\\u003cbr\\u003eContagem=%{y}\\u003cbr\\u003etext=%{text}\\u003cextra\\u003e\\u003c\\u002fextra\\u003e\",\"legendgroup\":\"Branco\",\"marker\":{\"color\":\"#EF553B\",\"pattern\":{\"shape\":\"\"}},\"name\":\"Branco\",\"offsetgroup\":\"Branco\",\"orientation\":\"v\",\"showlegend\":true,\"text\":[\"35.7%\"],\"textposition\":\"outside\",\"x\":[\"Branco\"],\"xaxis\":\"x\",\"y\":[16065],\"yaxis\":\"y\",\"type\":\"bar\"},{\"alignmentgroup\":\"True\",\"hovertemplate\":\"Raca=%{x}\\u003cbr\\u003eContagem=%{y}\\u003cbr\\u003etext=%{text}\\u003cextra\\u003e\\u003c\\u002fextra\\u003e\",\"legendgroup\":\"Preto\",\"marker\":{\"color\":\"#00cc96\",\"pattern\":{\"shape\":\"\"}},\"name\":\"Preto\",\"offsetgroup\":\"Preto\",\"orientation\":\"v\",\"showlegend\":true,\"text\":[\"11.5%\"],\"textposition\":\"outside\",\"x\":[\"Preto\"],\"xaxis\":\"x\",\"y\":[5166],\"yaxis\":\"y\",\"type\":\"bar\"}],                        {\"template\":{\"data\":{\"histogram2dcontour\":[{\"type\":\"histogram2dcontour\",\"colorbar\":{\"outlinewidth\":0,\"ticks\":\"\"},\"colorscale\":[[0.0,\"#0d0887\"],[0.1111111111111111,\"#46039f\"],[0.2222222222222222,\"#7201a8\"],[0.3333333333333333,\"#9c179e\"],[0.4444444444444444,\"#bd3786\"],[0.5555555555555556,\"#d8576b\"],[0.6666666666666666,\"#ed7953\"],[0.7777777777777778,\"#fb9f3a\"],[0.8888888888888888,\"#fdca26\"],[1.0,\"#f0f921\"]]}],\"choropleth\":[{\"type\":\"choropleth\",\"colorbar\":{\"outlinewidth\":0,\"ticks\":\"\"}}],\"histogram2d\":[{\"type\":\"histogram2d\",\"colorbar\":{\"outlinewidth\":0,\"ticks\":\"\"},\"colorscale\":[[0.0,\"#0d0887\"],[0.1111111111111111,\"#46039f\"],[0.2222222222222222,\"#7201a8\"],[0.3333333333333333,\"#9c179e\"],[0.4444444444444444,\"#bd3786\"],[0.5555555555555556,\"#d8576b\"],[0.6666666666666666,\"#ed7953\"],[0.7777777777777778,\"#fb9f3a\"],[0.8888888888888888,\"#fdca26\"],[1.0,\"#f0f921\"]]}],\"heatmap\":[{\"type\":\"heatmap\",\"colorbar\":{\"outlinewidth\":0,\"ticks\":\"\"},\"colorscale\":[[0.0,\"#0d0887\"],[0.1111111111111111,\"#46039f\"],[0.2222222222222222,\"#7201a8\"],[0.3333333333333333,\"#9c179e\"],[0.4444444444444444,\"#bd3786\"],[0.5555555555555556,\"#d8576b\"],[0.6666666666666666,\"#ed7953\"],[0.7777777777777778,\"#fb9f3a\"],[0.8888888888888888,\"#fdca26\"],[1.0,\"#f0f921\"]]}],\"heatmapgl\":[{\"type\":\"heatmapgl\",\"colorbar\":{\"outlinewidth\":0,\"ticks\":\"\"},\"colorscale\":[[0.0,\"#0d0887\"],[0.1111111111111111,\"#46039f\"],[0.2222222222222222,\"#7201a8\"],[0.3333333333333333,\"#9c179e\"],[0.4444444444444444,\"#bd3786\"],[0.5555555555555556,\"#d8576b\"],[0.6666666666666666,\"#ed7953\"],[0.7777777777777778,\"#fb9f3a\"],[0.8888888888888888,\"#fdca26\"],[1.0,\"#f0f921\"]]}],\"contourcarpet\":[{\"type\":\"contourcarpet\",\"colorbar\":{\"outlinewidth\":0,\"ticks\":\"\"}}],\"contour\":[{\"type\":\"contour\",\"colorbar\":{\"outlinewidth\":0,\"ticks\":\"\"},\"colorscale\":[[0.0,\"#0d0887\"],[0.1111111111111111,\"#46039f\"],[0.2222222222222222,\"#7201a8\"],[0.3333333333333333,\"#9c179e\"],[0.4444444444444444,\"#bd3786\"],[0.5555555555555556,\"#d8576b\"],[0.6666666666666666,\"#ed7953\"],[0.7777777777777778,\"#fb9f3a\"],[0.8888888888888888,\"#fdca26\"],[1.0,\"#f0f921\"]]}],\"surface\":[{\"type\":\"surface\",\"colorbar\":{\"outlinewidth\":0,\"ticks\":\"\"},\"colorscale\":[[0.0,\"#0d0887\"],[0.1111111111111111,\"#46039f\"],[0.2222222222222222,\"#7201a8\"],[0.3333333333333333,\"#9c179e\"],[0.4444444444444444,\"#bd3786\"],[0.5555555555555556,\"#d8576b\"],[0.6666666666666666,\"#ed7953\"],[0.7777777777777778,\"#fb9f3a\"],[0.8888888888888888,\"#fdca26\"],[1.0,\"#f0f921\"]]}],\"mesh3d\":[{\"type\":\"mesh3d\",\"colorbar\":{\"outlinewidth\":0,\"ticks\":\"\"}}],\"scatter\":[{\"fillpattern\":{\"fillmode\":\"overlay\",\"size\":10,\"solidity\":0.2},\"type\":\"scatter\"}],\"parcoords\":[{\"type\":\"parcoords\",\"line\":{\"colorbar\":{\"outlinewidth\":0,\"ticks\":\"\"}}}],\"scatterpolargl\":[{\"type\":\"scatterpolargl\",\"marker\":{\"colorbar\":{\"outlinewidth\":0,\"ticks\":\"\"}}}],\"bar\":[{\"error_x\":{\"color\":\"#2a3f5f\"},\"error_y\":{\"color\":\"#2a3f5f\"},\"marker\":{\"line\":{\"color\":\"#E5ECF6\",\"width\":0.5},\"pattern\":{\"fillmode\":\"overlay\",\"size\":10,\"solidity\":0.2}},\"type\":\"bar\"}],\"scattergeo\":[{\"type\":\"scattergeo\",\"marker\":{\"colorbar\":{\"outlinewidth\":0,\"ticks\":\"\"}}}],\"scatterpolar\":[{\"type\":\"scatterpolar\",\"marker\":{\"colorbar\":{\"outlinewidth\":0,\"ticks\":\"\"}}}],\"histogram\":[{\"marker\":{\"pattern\":{\"fillmode\":\"overlay\",\"size\":10,\"solidity\":0.2}},\"type\":\"histogram\"}],\"scattergl\":[{\"type\":\"scattergl\",\"marker\":{\"colorbar\":{\"outlinewidth\":0,\"ticks\":\"\"}}}],\"scatter3d\":[{\"type\":\"scatter3d\",\"line\":{\"colorbar\":{\"outlinewidth\":0,\"ticks\":\"\"}},\"marker\":{\"colorbar\":{\"outlinewidth\":0,\"ticks\":\"\"}}}],\"scattermapbox\":[{\"type\":\"scattermapbox\",\"marker\":{\"colorbar\":{\"outlinewidth\":0,\"ticks\":\"\"}}}],\"scatterternary\":[{\"type\":\"scatterternary\",\"marker\":{\"colorbar\":{\"outlinewidth\":0,\"ticks\":\"\"}}}],\"scattercarpet\":[{\"type\":\"scattercarpet\",\"marker\":{\"colorbar\":{\"outlinewidth\":0,\"ticks\":\"\"}}}],\"carpet\":[{\"aaxis\":{\"endlinecolor\":\"#2a3f5f\",\"gridcolor\":\"white\",\"linecolor\":\"white\",\"minorgridcolor\":\"white\",\"startlinecolor\":\"#2a3f5f\"},\"baxis\":{\"endlinecolor\":\"#2a3f5f\",\"gridcolor\":\"white\",\"linecolor\":\"white\",\"minorgridcolor\":\"white\",\"startlinecolor\":\"#2a3f5f\"},\"type\":\"carpet\"}],\"table\":[{\"cells\":{\"fill\":{\"color\":\"#EBF0F8\"},\"line\":{\"color\":\"white\"}},\"header\":{\"fill\":{\"color\":\"#C8D4E3\"},\"line\":{\"color\":\"white\"}},\"type\":\"table\"}],\"barpolar\":[{\"marker\":{\"line\":{\"color\":\"#E5ECF6\",\"width\":0.5},\"pattern\":{\"fillmode\":\"overlay\",\"size\":10,\"solidity\":0.2}},\"type\":\"barpolar\"}],\"pie\":[{\"automargin\":true,\"type\":\"pie\"}]},\"layout\":{\"autotypenumbers\":\"strict\",\"colorway\":[\"#636efa\",\"#EF553B\",\"#00cc96\",\"#ab63fa\",\"#FFA15A\",\"#19d3f3\",\"#FF6692\",\"#B6E880\",\"#FF97FF\",\"#FECB52\"],\"font\":{\"color\":\"#2a3f5f\"},\"hovermode\":\"closest\",\"hoverlabel\":{\"align\":\"left\"},\"paper_bgcolor\":\"white\",\"plot_bgcolor\":\"#E5ECF6\",\"polar\":{\"bgcolor\":\"#E5ECF6\",\"angularaxis\":{\"gridcolor\":\"white\",\"linecolor\":\"white\",\"ticks\":\"\"},\"radialaxis\":{\"gridcolor\":\"white\",\"linecolor\":\"white\",\"ticks\":\"\"}},\"ternary\":{\"bgcolor\":\"#E5ECF6\",\"aaxis\":{\"gridcolor\":\"white\",\"linecolor\":\"white\",\"ticks\":\"\"},\"baxis\":{\"gridcolor\":\"white\",\"linecolor\":\"white\",\"ticks\":\"\"},\"caxis\":{\"gridcolor\":\"white\",\"linecolor\":\"white\",\"ticks\":\"\"}},\"coloraxis\":{\"colorbar\":{\"outlinewidth\":0,\"ticks\":\"\"}},\"colorscale\":{\"sequential\":[[0.0,\"#0d0887\"],[0.1111111111111111,\"#46039f\"],[0.2222222222222222,\"#7201a8\"],[0.3333333333333333,\"#9c179e\"],[0.4444444444444444,\"#bd3786\"],[0.5555555555555556,\"#d8576b\"],[0.6666666666666666,\"#ed7953\"],[0.7777777777777778,\"#fb9f3a\"],[0.8888888888888888,\"#fdca26\"],[1.0,\"#f0f921\"]],\"sequentialminus\":[[0.0,\"#0d0887\"],[0.1111111111111111,\"#46039f\"],[0.2222222222222222,\"#7201a8\"],[0.3333333333333333,\"#9c179e\"],[0.4444444444444444,\"#bd3786\"],[0.5555555555555556,\"#d8576b\"],[0.6666666666666666,\"#ed7953\"],[0.7777777777777778,\"#fb9f3a\"],[0.8888888888888888,\"#fdca26\"],[1.0,\"#f0f921\"]],\"diverging\":[[0,\"#8e0152\"],[0.1,\"#c51b7d\"],[0.2,\"#de77ae\"],[0.3,\"#f1b6da\"],[0.4,\"#fde0ef\"],[0.5,\"#f7f7f7\"],[0.6,\"#e6f5d0\"],[0.7,\"#b8e186\"],[0.8,\"#7fbc41\"],[0.9,\"#4d9221\"],[1,\"#276419\"]]},\"xaxis\":{\"gridcolor\":\"white\",\"linecolor\":\"white\",\"ticks\":\"\",\"title\":{\"standoff\":15},\"zerolinecolor\":\"white\",\"automargin\":true,\"zerolinewidth\":2},\"yaxis\":{\"gridcolor\":\"white\",\"linecolor\":\"white\",\"ticks\":\"\",\"title\":{\"standoff\":15},\"zerolinecolor\":\"white\",\"automargin\":true,\"zerolinewidth\":2},\"scene\":{\"xaxis\":{\"backgroundcolor\":\"#E5ECF6\",\"gridcolor\":\"white\",\"linecolor\":\"white\",\"showbackground\":true,\"ticks\":\"\",\"zerolinecolor\":\"white\",\"gridwidth\":2},\"yaxis\":{\"backgroundcolor\":\"#E5ECF6\",\"gridcolor\":\"white\",\"linecolor\":\"white\",\"showbackground\":true,\"ticks\":\"\",\"zerolinecolor\":\"white\",\"gridwidth\":2},\"zaxis\":{\"backgroundcolor\":\"#E5ECF6\",\"gridcolor\":\"white\",\"linecolor\":\"white\",\"showbackground\":true,\"ticks\":\"\",\"zerolinecolor\":\"white\",\"gridwidth\":2}},\"shapedefaults\":{\"line\":{\"color\":\"#2a3f5f\"}},\"annotationdefaults\":{\"arrowcolor\":\"#2a3f5f\",\"arrowhead\":0,\"arrowwidth\":1},\"geo\":{\"bgcolor\":\"white\",\"landcolor\":\"#E5ECF6\",\"subunitcolor\":\"white\",\"showland\":true,\"showlakes\":true,\"lakecolor\":\"white\"},\"title\":{\"x\":0.05},\"mapbox\":{\"style\":\"light\"}}},\"xaxis\":{\"anchor\":\"y\",\"domain\":[0.0,1.0],\"title\":{\"text\":\"Raca\"},\"categoryorder\":\"array\",\"categoryarray\":[\"Pardo\",\"Branco\",\"Preto\"]},\"yaxis\":{\"anchor\":\"x\",\"domain\":[0.0,1.0],\"title\":{\"text\":\"Contagem\"}},\"legend\":{\"title\":{\"text\":\"Raca\"},\"tracegroupgap\":0},\"title\":{\"text\":\"Distribui\\u00e7\\u00e3o das Ra\\u00e7as\\u002fEnias\"},\"barmode\":\"relative\",\"width\":1000,\"height\":500},                        {\"responsive\": true}                    ).then(function(){\n",
       "                            \n",
       "var gd = document.getElementById('2f400d22-f0e5-4414-ba1b-e8fb7216b539');\n",
       "var x = new MutationObserver(function (mutations, observer) {{\n",
       "        var display = window.getComputedStyle(gd).display;\n",
       "        if (!display || display === 'none') {{\n",
       "            console.log([gd, 'removed!']);\n",
       "            Plotly.purge(gd);\n",
       "            observer.disconnect();\n",
       "        }}\n",
       "}});\n",
       "\n",
       "// Listen for the removal of the full notebook cells\n",
       "var notebookContainer = gd.closest('#notebook-container');\n",
       "if (notebookContainer) {{\n",
       "    x.observe(notebookContainer, {childList: true});\n",
       "}}\n",
       "\n",
       "// Listen for the clearing of the current output cell\n",
       "var outputEl = gd.closest('.output');\n",
       "if (outputEl) {{\n",
       "    x.observe(outputEl, {childList: true});\n",
       "}}\n",
       "\n",
       "                        })                };                });            </script>        </div>"
      ]
     },
     "metadata": {},
     "output_type": "display_data"
    }
   ],
   "source": [
    "contagem = df[\"Raca_etnia_categoria\"].value_counts().reset_index()\n",
    "contagem.columns = ['Raca', 'Contagem']\n",
    "contagem = contagem.sort_values(by='Contagem', ascending=False)\n",
    "\n",
    "# Calculando a frequência relativa.\n",
    "contagem['Frequencia (%)'] = (contagem['Contagem'] / contagem['Contagem'].sum()) * 100\n",
    "\n",
    "\n",
    "# Supondo que a coluna de nível de instrução seja 'NivelInstrucao'\n",
    "fig = px.bar(\n",
    "    contagem,\n",
    "    x='Raca',\n",
    "    y='Contagem',\n",
    "    labels={'count': 'Contagem', 'Raca_etnia_categoria': 'Raça/Etnia'},\n",
    "    title='Distribuição das Raças/Enias',\n",
    "    color='Raca',\n",
    "    text=contagem['Frequencia (%)'].round(1).astype(str) + '%'\n",
    ")\n",
    "\n",
    "fig.update_traces(textposition='outside')\n",
    "\n",
    "fig.update_layout(\n",
    "    width=1000,\n",
    "    height=500,\n",
    ")\n",
    "\n",
    "fig.show()"
   ]
  },
  {
   "cell_type": "markdown",
   "id": "97f495ea-c70d-4dcc-a36f-71422b5a9c98",
   "metadata": {},
   "source": [
    "### 3.3.3. Aplicação do OneHotEncoder nas Raças/Etnias"
   ]
  },
  {
   "cell_type": "code",
   "execution_count": 256,
   "id": "8eb5a58f-1fca-463f-86fa-da2c30e1f533",
   "metadata": {},
   "outputs": [],
   "source": [
    "from sklearn.preprocessing import OneHotEncoder"
   ]
  },
  {
   "cell_type": "code",
   "execution_count": 257,
   "id": "c3ff1a80-4193-46c9-95af-524cd3fb9f00",
   "metadata": {},
   "outputs": [],
   "source": [
    "# Instanciar o OneHotEncoder\n",
    "encoder = OneHotEncoder(sparse_output=False, drop=None)  # sparse_output=False retorna um array denso\n",
    "\n",
    "# Ajustar e transformar os dados\n",
    "encoded = encoder.fit_transform(df[[\"Raca_etnia_categoria\"]])\n",
    "\n",
    "# Criar um DataFrame com os valores codificados\n",
    "encoded_df = pd.DataFrame(\n",
    "    encoded,\n",
    "    columns=encoder.get_feature_names_out([\"Raca_etnia_categoria\"]),\n",
    "    index=df.index\n",
    ")\n",
    "\n",
    "# Concatenar o DataFrame original com os codificados\n",
    "df = pd.concat([df, encoded_df], axis=1)"
   ]
  },
  {
   "cell_type": "code",
   "execution_count": 258,
   "id": "abe11f54-097f-47e6-9d67-e499934961d4",
   "metadata": {},
   "outputs": [
    {
     "data": {
      "text/plain": [
       "Index(['Sexo', 'Idade', 'Raca_etnia', 'Consumo_sal', 'Atividades_fisicas',\n",
       "       'Freq_atividade_fisica', 'P050', 'P052', 'P05401', 'P05404', 'P05407',\n",
       "       'P05410', 'P05413', 'P05416', 'P05419', 'Frequencia_alcoolismo',\n",
       "       'Qtd_alcool_semanal', 'Qtd_doses_alcoolicas', 'Ficou_internado',\n",
       "       'Ultima_consulta', 'Percepcao_estado_saude', 'Tem_plano',\n",
       "       'Cansa_subida', 'Cansa_plano', 'Alfabetizacao', 'Escolaridade',\n",
       "       'Area_moradia', 'Esgoto', 'Destino_lixo', 'Acesso_internet',\n",
       "       'Abastecimento_agua', 'Faixa_salarial', 'Tem_diabetes', 'Condicao',\n",
       "       'Categoria_IMC', 'Raca_etnia_categoria', 'Raca_etnia_categoria_Branco',\n",
       "       'Raca_etnia_categoria_Pardo', 'Raca_etnia_categoria_Preto'],\n",
       "      dtype='object')"
      ]
     },
     "execution_count": 258,
     "metadata": {},
     "output_type": "execute_result"
    }
   ],
   "source": [
    "df.columns"
   ]
  },
  {
   "cell_type": "markdown",
   "id": "c402cc66-ee70-478a-b6bd-a5fb0ecfccae",
   "metadata": {},
   "source": [
    "OneHotEncoder aplicado em Raça, agora vamos dropar as colunas de Raca_etnia_categoria e Raca_etnia"
   ]
  },
  {
   "cell_type": "code",
   "execution_count": 259,
   "id": "9c165b9e-a02f-4dc6-837c-100301595485",
   "metadata": {},
   "outputs": [],
   "source": [
    "df.drop([\"Raca_etnia\", \"Raca_etnia_categoria\"], axis=1, inplace=True)"
   ]
  },
  {
   "cell_type": "markdown",
   "id": "f7aca5cf-35e9-43e1-adf5-1834dc19959a",
   "metadata": {},
   "source": [
    "### 3.3.3. Categorização das Faixas Etárias"
   ]
  },
  {
   "cell_type": "code",
   "execution_count": 260,
   "id": "17743782-1ca7-44a6-8cb4-beaac97dc887",
   "metadata": {},
   "outputs": [],
   "source": [
    "# Criando as faixas etárias\n",
    "bins = [18, 25, 35, 45, 60, 80, 100]  # Intervalos\n",
    "labels = ['18-24', '25-34', '35-44', '45-59', '60-79', '80+']  # Rótulos\n",
    "\n",
    "df['Faixa_Etaria'] = pd.cut(df['Idade'], bins=bins, labels=labels, right=False)"
   ]
  },
  {
   "cell_type": "code",
   "execution_count": 261,
   "id": "c980ee3f-07e3-40ad-b1a4-b9556a046742",
   "metadata": {},
   "outputs": [],
   "source": [
    "# Dicionário de mapeamento\n",
    "faixa_map = {'18-24': 0, '25-34': 1, '35-44': 2, '45-59': 3, '60-79': 4, '80+': 5}\n",
    "\n",
    "# Aplicando o mapeamento\n",
    "df['Faixa_Etaria_Numerica'] = df['Faixa_Etaria'].map(faixa_map)\n",
    "df.dropna(subset=['Faixa_Etaria_Numerica'], inplace=True)\n",
    "df['Faixa_Etaria_Numerica'] = df['Faixa_Etaria_Numerica'].astype('int64')"
   ]
  },
  {
   "cell_type": "code",
   "execution_count": 262,
   "id": "c4b8b055-072c-4fb1-a16a-3272014e1c1b",
   "metadata": {},
   "outputs": [],
   "source": [
    "df.drop([\"Idade\", \"Faixa_Etaria\"], axis=1, inplace=True)"
   ]
  },
  {
   "cell_type": "markdown",
   "id": "4f31ea00-3f48-4a92-89c9-7a04849f4731",
   "metadata": {},
   "source": [
    "## **3.4. Aspecto - Hábitos Alimentares**"
   ]
  },
  {
   "cell_type": "code",
   "execution_count": 263,
   "id": "54bd733b-4e11-456e-9f8b-e0d362012688",
   "metadata": {},
   "outputs": [
    {
     "data": {
      "text/plain": [
       "Consumo_sal    0\n",
       "dtype: int64"
      ]
     },
     "execution_count": 263,
     "metadata": {},
     "output_type": "execute_result"
    }
   ],
   "source": [
    "colunas_especificas = [\n",
    "             \"Consumo_sal\",\n",
    "]\n",
    "\n",
    "df[colunas_especificas].isnull().sum()"
   ]
  },
  {
   "cell_type": "markdown",
   "id": "ba5fb8f0-7982-4cde-bc31-5c933b174c9a",
   "metadata": {},
   "source": [
    "Não há nulos no consumo de sal."
   ]
  },
  {
   "cell_type": "markdown",
   "id": "5401f6d9-b364-4e30-8fe3-fe094e24ec57",
   "metadata": {},
   "source": [
    "## **3.5 Aspecto - Atividades Físicas**"
   ]
  },
  {
   "cell_type": "markdown",
   "id": "cdf10ced-83eb-4d45-a296-e90db4e7ead1",
   "metadata": {},
   "source": [
    "### 3.5.1. Nulos"
   ]
  },
  {
   "cell_type": "code",
   "execution_count": 264,
   "id": "2a7445d1-f78e-4600-b85a-0b5b473613a2",
   "metadata": {},
   "outputs": [
    {
     "data": {
      "text/plain": [
       "Atividades_fisicas           0\n",
       "Freq_atividade_fisica    26358\n",
       "dtype: int64"
      ]
     },
     "execution_count": 264,
     "metadata": {},
     "output_type": "execute_result"
    }
   ],
   "source": [
    "colunas_especificas = [\n",
    "     \"Atividades_fisicas\",\n",
    "     \"Freq_atividade_fisica\",\n",
    "]\n",
    "\n",
    "df[colunas_especificas].isnull().sum()"
   ]
  },
  {
   "cell_type": "code",
   "execution_count": 265,
   "id": "b7c75f8b-6b6c-4a48-9fa2-9078f4ed086b",
   "metadata": {},
   "outputs": [
    {
     "data": {
      "text/html": [
       "<div>\n",
       "<style scoped>\n",
       "    .dataframe tbody tr th:only-of-type {\n",
       "        vertical-align: middle;\n",
       "    }\n",
       "\n",
       "    .dataframe tbody tr th {\n",
       "        vertical-align: top;\n",
       "    }\n",
       "\n",
       "    .dataframe thead th {\n",
       "        text-align: right;\n",
       "    }\n",
       "</style>\n",
       "<table border=\"1\" class=\"dataframe\">\n",
       "  <thead>\n",
       "    <tr style=\"text-align: right;\">\n",
       "      <th></th>\n",
       "      <th>Sexo</th>\n",
       "      <th>Consumo_sal</th>\n",
       "      <th>Atividades_fisicas</th>\n",
       "      <th>Freq_atividade_fisica</th>\n",
       "      <th>P050</th>\n",
       "      <th>P052</th>\n",
       "      <th>P05401</th>\n",
       "      <th>P05404</th>\n",
       "      <th>P05407</th>\n",
       "      <th>P05410</th>\n",
       "      <th>...</th>\n",
       "      <th>Acesso_internet</th>\n",
       "      <th>Abastecimento_agua</th>\n",
       "      <th>Faixa_salarial</th>\n",
       "      <th>Tem_diabetes</th>\n",
       "      <th>Condicao</th>\n",
       "      <th>Categoria_IMC</th>\n",
       "      <th>Raca_etnia_categoria_Branco</th>\n",
       "      <th>Raca_etnia_categoria_Pardo</th>\n",
       "      <th>Raca_etnia_categoria_Preto</th>\n",
       "      <th>Faixa_Etaria_Numerica</th>\n",
       "    </tr>\n",
       "  </thead>\n",
       "  <tbody>\n",
       "    <tr>\n",
       "      <th>0</th>\n",
       "      <td>2.0</td>\n",
       "      <td>3.0</td>\n",
       "      <td>2.0</td>\n",
       "      <td>NaN</td>\n",
       "      <td>1.0</td>\n",
       "      <td>NaN</td>\n",
       "      <td>5.0</td>\n",
       "      <td>5.0</td>\n",
       "      <td>5.0</td>\n",
       "      <td>5.0</td>\n",
       "      <td>...</td>\n",
       "      <td>1.0</td>\n",
       "      <td>3.0</td>\n",
       "      <td>2.0</td>\n",
       "      <td>2.0</td>\n",
       "      <td>Saudavel</td>\n",
       "      <td>2</td>\n",
       "      <td>0.0</td>\n",
       "      <td>1.0</td>\n",
       "      <td>0.0</td>\n",
       "      <td>0</td>\n",
       "    </tr>\n",
       "    <tr>\n",
       "      <th>1</th>\n",
       "      <td>2.0</td>\n",
       "      <td>4.0</td>\n",
       "      <td>2.0</td>\n",
       "      <td>NaN</td>\n",
       "      <td>3.0</td>\n",
       "      <td>1.0</td>\n",
       "      <td>NaN</td>\n",
       "      <td>NaN</td>\n",
       "      <td>NaN</td>\n",
       "      <td>NaN</td>\n",
       "      <td>...</td>\n",
       "      <td>1.0</td>\n",
       "      <td>1.0</td>\n",
       "      <td>3.0</td>\n",
       "      <td>2.0</td>\n",
       "      <td>Saudavel</td>\n",
       "      <td>3</td>\n",
       "      <td>0.0</td>\n",
       "      <td>0.0</td>\n",
       "      <td>1.0</td>\n",
       "      <td>3</td>\n",
       "    </tr>\n",
       "    <tr>\n",
       "      <th>5</th>\n",
       "      <td>2.0</td>\n",
       "      <td>4.0</td>\n",
       "      <td>2.0</td>\n",
       "      <td>NaN</td>\n",
       "      <td>2.0</td>\n",
       "      <td>NaN</td>\n",
       "      <td>2.0</td>\n",
       "      <td>5.0</td>\n",
       "      <td>5.0</td>\n",
       "      <td>5.0</td>\n",
       "      <td>...</td>\n",
       "      <td>1.0</td>\n",
       "      <td>1.0</td>\n",
       "      <td>1.0</td>\n",
       "      <td>2.0</td>\n",
       "      <td>Saudavel</td>\n",
       "      <td>1</td>\n",
       "      <td>1.0</td>\n",
       "      <td>0.0</td>\n",
       "      <td>0.0</td>\n",
       "      <td>2</td>\n",
       "    </tr>\n",
       "    <tr>\n",
       "      <th>9</th>\n",
       "      <td>1.0</td>\n",
       "      <td>2.0</td>\n",
       "      <td>2.0</td>\n",
       "      <td>NaN</td>\n",
       "      <td>3.0</td>\n",
       "      <td>3.0</td>\n",
       "      <td>NaN</td>\n",
       "      <td>NaN</td>\n",
       "      <td>NaN</td>\n",
       "      <td>NaN</td>\n",
       "      <td>...</td>\n",
       "      <td>1.0</td>\n",
       "      <td>2.0</td>\n",
       "      <td>6.0</td>\n",
       "      <td>2.0</td>\n",
       "      <td>Saudavel</td>\n",
       "      <td>3</td>\n",
       "      <td>0.0</td>\n",
       "      <td>1.0</td>\n",
       "      <td>0.0</td>\n",
       "      <td>0</td>\n",
       "    </tr>\n",
       "    <tr>\n",
       "      <th>10</th>\n",
       "      <td>2.0</td>\n",
       "      <td>3.0</td>\n",
       "      <td>2.0</td>\n",
       "      <td>NaN</td>\n",
       "      <td>3.0</td>\n",
       "      <td>3.0</td>\n",
       "      <td>NaN</td>\n",
       "      <td>NaN</td>\n",
       "      <td>NaN</td>\n",
       "      <td>NaN</td>\n",
       "      <td>...</td>\n",
       "      <td>1.0</td>\n",
       "      <td>2.0</td>\n",
       "      <td>4.0</td>\n",
       "      <td>2.0</td>\n",
       "      <td>Saudavel</td>\n",
       "      <td>2</td>\n",
       "      <td>1.0</td>\n",
       "      <td>0.0</td>\n",
       "      <td>0.0</td>\n",
       "      <td>1</td>\n",
       "    </tr>\n",
       "    <tr>\n",
       "      <th>...</th>\n",
       "      <td>...</td>\n",
       "      <td>...</td>\n",
       "      <td>...</td>\n",
       "      <td>...</td>\n",
       "      <td>...</td>\n",
       "      <td>...</td>\n",
       "      <td>...</td>\n",
       "      <td>...</td>\n",
       "      <td>...</td>\n",
       "      <td>...</td>\n",
       "      <td>...</td>\n",
       "      <td>...</td>\n",
       "      <td>...</td>\n",
       "      <td>...</td>\n",
       "      <td>...</td>\n",
       "      <td>...</td>\n",
       "      <td>...</td>\n",
       "      <td>...</td>\n",
       "      <td>...</td>\n",
       "      <td>...</td>\n",
       "      <td>...</td>\n",
       "    </tr>\n",
       "    <tr>\n",
       "      <th>45752</th>\n",
       "      <td>2.0</td>\n",
       "      <td>4.0</td>\n",
       "      <td>2.0</td>\n",
       "      <td>NaN</td>\n",
       "      <td>3.0</td>\n",
       "      <td>3.0</td>\n",
       "      <td>NaN</td>\n",
       "      <td>NaN</td>\n",
       "      <td>NaN</td>\n",
       "      <td>NaN</td>\n",
       "      <td>...</td>\n",
       "      <td>1.0</td>\n",
       "      <td>2.0</td>\n",
       "      <td>3.0</td>\n",
       "      <td>1.0</td>\n",
       "      <td>HiperCVD</td>\n",
       "      <td>3</td>\n",
       "      <td>1.0</td>\n",
       "      <td>0.0</td>\n",
       "      <td>0.0</td>\n",
       "      <td>3</td>\n",
       "    </tr>\n",
       "    <tr>\n",
       "      <th>45753</th>\n",
       "      <td>1.0</td>\n",
       "      <td>3.0</td>\n",
       "      <td>2.0</td>\n",
       "      <td>NaN</td>\n",
       "      <td>3.0</td>\n",
       "      <td>1.0</td>\n",
       "      <td>NaN</td>\n",
       "      <td>NaN</td>\n",
       "      <td>NaN</td>\n",
       "      <td>NaN</td>\n",
       "      <td>...</td>\n",
       "      <td>1.0</td>\n",
       "      <td>3.0</td>\n",
       "      <td>3.0</td>\n",
       "      <td>2.0</td>\n",
       "      <td>HiperCVD</td>\n",
       "      <td>2</td>\n",
       "      <td>1.0</td>\n",
       "      <td>0.0</td>\n",
       "      <td>0.0</td>\n",
       "      <td>4</td>\n",
       "    </tr>\n",
       "    <tr>\n",
       "      <th>45754</th>\n",
       "      <td>1.0</td>\n",
       "      <td>4.0</td>\n",
       "      <td>2.0</td>\n",
       "      <td>NaN</td>\n",
       "      <td>3.0</td>\n",
       "      <td>1.0</td>\n",
       "      <td>NaN</td>\n",
       "      <td>NaN</td>\n",
       "      <td>NaN</td>\n",
       "      <td>NaN</td>\n",
       "      <td>...</td>\n",
       "      <td>2.0</td>\n",
       "      <td>4.0</td>\n",
       "      <td>4.0</td>\n",
       "      <td>1.0</td>\n",
       "      <td>HiperCVD</td>\n",
       "      <td>2</td>\n",
       "      <td>0.0</td>\n",
       "      <td>0.0</td>\n",
       "      <td>1.0</td>\n",
       "      <td>4</td>\n",
       "    </tr>\n",
       "    <tr>\n",
       "      <th>45755</th>\n",
       "      <td>2.0</td>\n",
       "      <td>4.0</td>\n",
       "      <td>2.0</td>\n",
       "      <td>NaN</td>\n",
       "      <td>1.0</td>\n",
       "      <td>NaN</td>\n",
       "      <td>1.0</td>\n",
       "      <td>5.0</td>\n",
       "      <td>5.0</td>\n",
       "      <td>5.0</td>\n",
       "      <td>...</td>\n",
       "      <td>1.0</td>\n",
       "      <td>2.0</td>\n",
       "      <td>1.0</td>\n",
       "      <td>2.0</td>\n",
       "      <td>HiperCVD</td>\n",
       "      <td>1</td>\n",
       "      <td>1.0</td>\n",
       "      <td>0.0</td>\n",
       "      <td>0.0</td>\n",
       "      <td>2</td>\n",
       "    </tr>\n",
       "    <tr>\n",
       "      <th>45756</th>\n",
       "      <td>1.0</td>\n",
       "      <td>4.0</td>\n",
       "      <td>2.0</td>\n",
       "      <td>NaN</td>\n",
       "      <td>3.0</td>\n",
       "      <td>3.0</td>\n",
       "      <td>NaN</td>\n",
       "      <td>NaN</td>\n",
       "      <td>NaN</td>\n",
       "      <td>NaN</td>\n",
       "      <td>...</td>\n",
       "      <td>2.0</td>\n",
       "      <td>3.0</td>\n",
       "      <td>3.0</td>\n",
       "      <td>2.0</td>\n",
       "      <td>HiperCVD</td>\n",
       "      <td>1</td>\n",
       "      <td>0.0</td>\n",
       "      <td>1.0</td>\n",
       "      <td>0.0</td>\n",
       "      <td>3</td>\n",
       "    </tr>\n",
       "  </tbody>\n",
       "</table>\n",
       "<p>26358 rows × 37 columns</p>\n",
       "</div>"
      ],
      "text/plain": [
       "       Sexo  Consumo_sal  Atividades_fisicas  Freq_atividade_fisica  P050  \\\n",
       "0       2.0          3.0                 2.0                    NaN   1.0   \n",
       "1       2.0          4.0                 2.0                    NaN   3.0   \n",
       "5       2.0          4.0                 2.0                    NaN   2.0   \n",
       "9       1.0          2.0                 2.0                    NaN   3.0   \n",
       "10      2.0          3.0                 2.0                    NaN   3.0   \n",
       "...     ...          ...                 ...                    ...   ...   \n",
       "45752   2.0          4.0                 2.0                    NaN   3.0   \n",
       "45753   1.0          3.0                 2.0                    NaN   3.0   \n",
       "45754   1.0          4.0                 2.0                    NaN   3.0   \n",
       "45755   2.0          4.0                 2.0                    NaN   1.0   \n",
       "45756   1.0          4.0                 2.0                    NaN   3.0   \n",
       "\n",
       "       P052  P05401  P05404  P05407  P05410  ...  Acesso_internet  \\\n",
       "0       NaN     5.0     5.0     5.0     5.0  ...              1.0   \n",
       "1       1.0     NaN     NaN     NaN     NaN  ...              1.0   \n",
       "5       NaN     2.0     5.0     5.0     5.0  ...              1.0   \n",
       "9       3.0     NaN     NaN     NaN     NaN  ...              1.0   \n",
       "10      3.0     NaN     NaN     NaN     NaN  ...              1.0   \n",
       "...     ...     ...     ...     ...     ...  ...              ...   \n",
       "45752   3.0     NaN     NaN     NaN     NaN  ...              1.0   \n",
       "45753   1.0     NaN     NaN     NaN     NaN  ...              1.0   \n",
       "45754   1.0     NaN     NaN     NaN     NaN  ...              2.0   \n",
       "45755   NaN     1.0     5.0     5.0     5.0  ...              1.0   \n",
       "45756   3.0     NaN     NaN     NaN     NaN  ...              2.0   \n",
       "\n",
       "       Abastecimento_agua  Faixa_salarial  Tem_diabetes  Condicao  \\\n",
       "0                     3.0             2.0           2.0  Saudavel   \n",
       "1                     1.0             3.0           2.0  Saudavel   \n",
       "5                     1.0             1.0           2.0  Saudavel   \n",
       "9                     2.0             6.0           2.0  Saudavel   \n",
       "10                    2.0             4.0           2.0  Saudavel   \n",
       "...                   ...             ...           ...       ...   \n",
       "45752                 2.0             3.0           1.0  HiperCVD   \n",
       "45753                 3.0             3.0           2.0  HiperCVD   \n",
       "45754                 4.0             4.0           1.0  HiperCVD   \n",
       "45755                 2.0             1.0           2.0  HiperCVD   \n",
       "45756                 3.0             3.0           2.0  HiperCVD   \n",
       "\n",
       "       Categoria_IMC  Raca_etnia_categoria_Branco  Raca_etnia_categoria_Pardo  \\\n",
       "0                  2                          0.0                         1.0   \n",
       "1                  3                          0.0                         0.0   \n",
       "5                  1                          1.0                         0.0   \n",
       "9                  3                          0.0                         1.0   \n",
       "10                 2                          1.0                         0.0   \n",
       "...              ...                          ...                         ...   \n",
       "45752              3                          1.0                         0.0   \n",
       "45753              2                          1.0                         0.0   \n",
       "45754              2                          0.0                         0.0   \n",
       "45755              1                          1.0                         0.0   \n",
       "45756              1                          0.0                         1.0   \n",
       "\n",
       "       Raca_etnia_categoria_Preto  Faixa_Etaria_Numerica  \n",
       "0                             0.0                      0  \n",
       "1                             1.0                      3  \n",
       "5                             0.0                      2  \n",
       "9                             0.0                      0  \n",
       "10                            0.0                      1  \n",
       "...                           ...                    ...  \n",
       "45752                         0.0                      3  \n",
       "45753                         0.0                      4  \n",
       "45754                         1.0                      4  \n",
       "45755                         0.0                      2  \n",
       "45756                         0.0                      3  \n",
       "\n",
       "[26358 rows x 37 columns]"
      ]
     },
     "execution_count": 265,
     "metadata": {},
     "output_type": "execute_result"
    }
   ],
   "source": [
    "df[(df[\"Atividades_fisicas\"]==2) & (df[\"Freq_atividade_fisica\"].isna())]"
   ]
  },
  {
   "cell_type": "markdown",
   "id": "c1f79c48-4133-42a3-9625-2484507265b6",
   "metadata": {},
   "source": [
    "Todos os nulos que estão contidos na frequência da prática de atividades físicas responderam que não se exercitaram nos últimos 3 meses. Ou seja, eles não se exercitam em nenhum dia da semana."
   ]
  },
  {
   "cell_type": "code",
   "execution_count": 266,
   "id": "2937775a-55fc-46da-8410-9ad9e6f7896f",
   "metadata": {},
   "outputs": [],
   "source": [
    "df[\"Freq_atividade_fisica\"] = df[\"Freq_atividade_fisica\"].fillna(0)"
   ]
  },
  {
   "cell_type": "code",
   "execution_count": 267,
   "id": "ecbbb009-3647-49e0-a51b-b276c2e16fb0",
   "metadata": {},
   "outputs": [
    {
     "data": {
      "text/plain": [
       "Freq_atividade_fisica\n",
       "0.0    27008\n",
       "3.0     4148\n",
       "2.0     3383\n",
       "1.0     3315\n",
       "5.0     3208\n",
       "7.0     1691\n",
       "4.0     1457\n",
       "6.0      840\n",
       "Name: count, dtype: int64"
      ]
     },
     "execution_count": 267,
     "metadata": {},
     "output_type": "execute_result"
    }
   ],
   "source": [
    "df[\"Freq_atividade_fisica\"].value_counts()"
   ]
  },
  {
   "cell_type": "markdown",
   "id": "becc8e81-6735-4de2-96a7-4e5800990dcd",
   "metadata": {},
   "source": [
    "### 3.5.2. Categorização da Frequência de Atividades Físicas."
   ]
  },
  {
   "cell_type": "code",
   "execution_count": 268,
   "id": "f289058f-8388-4560-bc3d-302f67ee88fd",
   "metadata": {},
   "outputs": [
    {
     "name": "stdout",
     "output_type": "stream",
     "text": [
      "Nivel_atividade_fisica\n",
      "0    27008\n",
      "1    10846\n",
      "2     7196\n",
      "Name: count, dtype: int64\n"
     ]
    }
   ],
   "source": [
    "# Categorizar a frequência de atividade física\n",
    "conditions = [\n",
    "    df[\"Freq_atividade_fisica\"] == 0,                  # Não se exercita\n",
    "    df[\"Freq_atividade_fisica\"].between(1, 3, 'both'),  # Exercita-se pouco\n",
    "    df[\"Freq_atividade_fisica\"] > 3                   # Exercita-se bem\n",
    "]\n",
    "\n",
    "choices = [0, 1, 2] #0 não se exercita, 1 se exercita pouco, 2 se exercita bem.\n",
    "\n",
    "# Aplicar as categorias\n",
    "df[\"Nivel_atividade_fisica\"] = np.select(conditions, choices, default=\"Desconhecido\")\n",
    "\n",
    "# Verificar a distribuição\n",
    "print(df[\"Nivel_atividade_fisica\"].value_counts())\n"
   ]
  },
  {
   "cell_type": "markdown",
   "id": "f09b1f30-8230-4609-ae37-070d70968952",
   "metadata": {},
   "source": [
    "Agora já é possível dropar as colunas de freq_atividade_fisica e atividades_fisicas."
   ]
  },
  {
   "cell_type": "code",
   "execution_count": 269,
   "id": "924f8cdb-78d6-4157-b4ae-dd5c1899ad69",
   "metadata": {},
   "outputs": [],
   "source": [
    "df.drop([\"Freq_atividade_fisica\", \"Atividades_fisicas\"], axis=1, inplace=True)"
   ]
  },
  {
   "cell_type": "markdown",
   "id": "a4138db9-a23b-4ae1-8442-dae05b2441f3",
   "metadata": {},
   "source": [
    "## **3.6. Aspecto - Tabagismo**"
   ]
  },
  {
   "cell_type": "markdown",
   "id": "39b9579c-1436-48a2-892b-3cb6ec6e0fa5",
   "metadata": {},
   "source": [
    "### 3.6.1. Nulos"
   ]
  },
  {
   "cell_type": "code",
   "execution_count": 270,
   "id": "76d6b251-1bdf-463e-8205-0dcfd6b9106d",
   "metadata": {},
   "outputs": [
    {
     "data": {
      "text/plain": [
       "P050          0\n",
       "P052       5923\n",
       "P05401    39127\n",
       "P05404    39127\n",
       "P05407    39127\n",
       "P05410    39127\n",
       "P05413    39127\n",
       "P05416    39127\n",
       "P05419    39127\n",
       "dtype: int64"
      ]
     },
     "execution_count": 270,
     "metadata": {},
     "output_type": "execute_result"
    }
   ],
   "source": [
    "colunas_especificas = [\n",
    "    \"P050\",\n",
    "     \"P052\",\n",
    "     \"P05401\",\n",
    "     \"P05404\",\n",
    "     \"P05407\",\n",
    "     \"P05410\",\n",
    "     \"P05413\",\n",
    "     \"P05416\",\n",
    "     \"P05419\",\n",
    "]\n",
    "\n",
    "df[colunas_especificas].isnull().sum()"
   ]
  },
  {
   "cell_type": "markdown",
   "id": "f8146969-bc1d-407f-969b-18593f66193f",
   "metadata": {},
   "source": [
    "Há muitos nulos nos produtos de tabaco, mas é necessário analisar se a pessoa fuma um produto X mas não fuma um produto Y."
   ]
  },
  {
   "cell_type": "code",
   "execution_count": 271,
   "id": "f5959267-294c-4dc9-bbfd-35e37e485b60",
   "metadata": {},
   "outputs": [
    {
     "data": {
      "text/html": [
       "<div>\n",
       "<style scoped>\n",
       "    .dataframe tbody tr th:only-of-type {\n",
       "        vertical-align: middle;\n",
       "    }\n",
       "\n",
       "    .dataframe tbody tr th {\n",
       "        vertical-align: top;\n",
       "    }\n",
       "\n",
       "    .dataframe thead th {\n",
       "        text-align: right;\n",
       "    }\n",
       "</style>\n",
       "<table border=\"1\" class=\"dataframe\">\n",
       "  <thead>\n",
       "    <tr style=\"text-align: right;\">\n",
       "      <th></th>\n",
       "      <th>Sexo</th>\n",
       "      <th>Consumo_sal</th>\n",
       "      <th>P050</th>\n",
       "      <th>P052</th>\n",
       "      <th>P05401</th>\n",
       "      <th>P05404</th>\n",
       "      <th>P05407</th>\n",
       "      <th>P05410</th>\n",
       "      <th>P05413</th>\n",
       "      <th>P05416</th>\n",
       "      <th>...</th>\n",
       "      <th>Abastecimento_agua</th>\n",
       "      <th>Faixa_salarial</th>\n",
       "      <th>Tem_diabetes</th>\n",
       "      <th>Condicao</th>\n",
       "      <th>Categoria_IMC</th>\n",
       "      <th>Raca_etnia_categoria_Branco</th>\n",
       "      <th>Raca_etnia_categoria_Pardo</th>\n",
       "      <th>Raca_etnia_categoria_Preto</th>\n",
       "      <th>Faixa_Etaria_Numerica</th>\n",
       "      <th>Nivel_atividade_fisica</th>\n",
       "    </tr>\n",
       "  </thead>\n",
       "  <tbody>\n",
       "    <tr>\n",
       "      <th>1</th>\n",
       "      <td>2.0</td>\n",
       "      <td>4.0</td>\n",
       "      <td>3.0</td>\n",
       "      <td>1.0</td>\n",
       "      <td>NaN</td>\n",
       "      <td>NaN</td>\n",
       "      <td>NaN</td>\n",
       "      <td>NaN</td>\n",
       "      <td>NaN</td>\n",
       "      <td>NaN</td>\n",
       "      <td>...</td>\n",
       "      <td>1.0</td>\n",
       "      <td>3.0</td>\n",
       "      <td>2.0</td>\n",
       "      <td>Saudavel</td>\n",
       "      <td>3</td>\n",
       "      <td>0.0</td>\n",
       "      <td>0.0</td>\n",
       "      <td>1.0</td>\n",
       "      <td>3</td>\n",
       "      <td>0</td>\n",
       "    </tr>\n",
       "    <tr>\n",
       "      <th>2</th>\n",
       "      <td>2.0</td>\n",
       "      <td>3.0</td>\n",
       "      <td>3.0</td>\n",
       "      <td>3.0</td>\n",
       "      <td>NaN</td>\n",
       "      <td>NaN</td>\n",
       "      <td>NaN</td>\n",
       "      <td>NaN</td>\n",
       "      <td>NaN</td>\n",
       "      <td>NaN</td>\n",
       "      <td>...</td>\n",
       "      <td>1.0</td>\n",
       "      <td>2.0</td>\n",
       "      <td>2.0</td>\n",
       "      <td>Saudavel</td>\n",
       "      <td>1</td>\n",
       "      <td>0.0</td>\n",
       "      <td>0.0</td>\n",
       "      <td>1.0</td>\n",
       "      <td>3</td>\n",
       "      <td>1</td>\n",
       "    </tr>\n",
       "    <tr>\n",
       "      <th>3</th>\n",
       "      <td>2.0</td>\n",
       "      <td>3.0</td>\n",
       "      <td>3.0</td>\n",
       "      <td>3.0</td>\n",
       "      <td>NaN</td>\n",
       "      <td>NaN</td>\n",
       "      <td>NaN</td>\n",
       "      <td>NaN</td>\n",
       "      <td>NaN</td>\n",
       "      <td>NaN</td>\n",
       "      <td>...</td>\n",
       "      <td>1.0</td>\n",
       "      <td>1.0</td>\n",
       "      <td>2.0</td>\n",
       "      <td>Saudavel</td>\n",
       "      <td>0</td>\n",
       "      <td>0.0</td>\n",
       "      <td>1.0</td>\n",
       "      <td>0.0</td>\n",
       "      <td>1</td>\n",
       "      <td>1</td>\n",
       "    </tr>\n",
       "    <tr>\n",
       "      <th>4</th>\n",
       "      <td>2.0</td>\n",
       "      <td>3.0</td>\n",
       "      <td>3.0</td>\n",
       "      <td>3.0</td>\n",
       "      <td>NaN</td>\n",
       "      <td>NaN</td>\n",
       "      <td>NaN</td>\n",
       "      <td>NaN</td>\n",
       "      <td>NaN</td>\n",
       "      <td>NaN</td>\n",
       "      <td>...</td>\n",
       "      <td>2.0</td>\n",
       "      <td>4.0</td>\n",
       "      <td>2.0</td>\n",
       "      <td>Saudavel</td>\n",
       "      <td>2</td>\n",
       "      <td>0.0</td>\n",
       "      <td>1.0</td>\n",
       "      <td>0.0</td>\n",
       "      <td>2</td>\n",
       "      <td>2</td>\n",
       "    </tr>\n",
       "    <tr>\n",
       "      <th>6</th>\n",
       "      <td>1.0</td>\n",
       "      <td>3.0</td>\n",
       "      <td>3.0</td>\n",
       "      <td>2.0</td>\n",
       "      <td>NaN</td>\n",
       "      <td>NaN</td>\n",
       "      <td>NaN</td>\n",
       "      <td>NaN</td>\n",
       "      <td>NaN</td>\n",
       "      <td>NaN</td>\n",
       "      <td>...</td>\n",
       "      <td>1.0</td>\n",
       "      <td>3.0</td>\n",
       "      <td>2.0</td>\n",
       "      <td>Saudavel</td>\n",
       "      <td>2</td>\n",
       "      <td>0.0</td>\n",
       "      <td>1.0</td>\n",
       "      <td>0.0</td>\n",
       "      <td>1</td>\n",
       "      <td>2</td>\n",
       "    </tr>\n",
       "    <tr>\n",
       "      <th>...</th>\n",
       "      <td>...</td>\n",
       "      <td>...</td>\n",
       "      <td>...</td>\n",
       "      <td>...</td>\n",
       "      <td>...</td>\n",
       "      <td>...</td>\n",
       "      <td>...</td>\n",
       "      <td>...</td>\n",
       "      <td>...</td>\n",
       "      <td>...</td>\n",
       "      <td>...</td>\n",
       "      <td>...</td>\n",
       "      <td>...</td>\n",
       "      <td>...</td>\n",
       "      <td>...</td>\n",
       "      <td>...</td>\n",
       "      <td>...</td>\n",
       "      <td>...</td>\n",
       "      <td>...</td>\n",
       "      <td>...</td>\n",
       "      <td>...</td>\n",
       "    </tr>\n",
       "    <tr>\n",
       "      <th>45751</th>\n",
       "      <td>2.0</td>\n",
       "      <td>3.0</td>\n",
       "      <td>3.0</td>\n",
       "      <td>3.0</td>\n",
       "      <td>NaN</td>\n",
       "      <td>NaN</td>\n",
       "      <td>NaN</td>\n",
       "      <td>NaN</td>\n",
       "      <td>NaN</td>\n",
       "      <td>NaN</td>\n",
       "      <td>...</td>\n",
       "      <td>1.0</td>\n",
       "      <td>3.0</td>\n",
       "      <td>1.0</td>\n",
       "      <td>HiperCVD</td>\n",
       "      <td>2</td>\n",
       "      <td>1.0</td>\n",
       "      <td>0.0</td>\n",
       "      <td>0.0</td>\n",
       "      <td>3</td>\n",
       "      <td>0</td>\n",
       "    </tr>\n",
       "    <tr>\n",
       "      <th>45752</th>\n",
       "      <td>2.0</td>\n",
       "      <td>4.0</td>\n",
       "      <td>3.0</td>\n",
       "      <td>3.0</td>\n",
       "      <td>NaN</td>\n",
       "      <td>NaN</td>\n",
       "      <td>NaN</td>\n",
       "      <td>NaN</td>\n",
       "      <td>NaN</td>\n",
       "      <td>NaN</td>\n",
       "      <td>...</td>\n",
       "      <td>2.0</td>\n",
       "      <td>3.0</td>\n",
       "      <td>1.0</td>\n",
       "      <td>HiperCVD</td>\n",
       "      <td>3</td>\n",
       "      <td>1.0</td>\n",
       "      <td>0.0</td>\n",
       "      <td>0.0</td>\n",
       "      <td>3</td>\n",
       "      <td>0</td>\n",
       "    </tr>\n",
       "    <tr>\n",
       "      <th>45753</th>\n",
       "      <td>1.0</td>\n",
       "      <td>3.0</td>\n",
       "      <td>3.0</td>\n",
       "      <td>1.0</td>\n",
       "      <td>NaN</td>\n",
       "      <td>NaN</td>\n",
       "      <td>NaN</td>\n",
       "      <td>NaN</td>\n",
       "      <td>NaN</td>\n",
       "      <td>NaN</td>\n",
       "      <td>...</td>\n",
       "      <td>3.0</td>\n",
       "      <td>3.0</td>\n",
       "      <td>2.0</td>\n",
       "      <td>HiperCVD</td>\n",
       "      <td>2</td>\n",
       "      <td>1.0</td>\n",
       "      <td>0.0</td>\n",
       "      <td>0.0</td>\n",
       "      <td>4</td>\n",
       "      <td>0</td>\n",
       "    </tr>\n",
       "    <tr>\n",
       "      <th>45754</th>\n",
       "      <td>1.0</td>\n",
       "      <td>4.0</td>\n",
       "      <td>3.0</td>\n",
       "      <td>1.0</td>\n",
       "      <td>NaN</td>\n",
       "      <td>NaN</td>\n",
       "      <td>NaN</td>\n",
       "      <td>NaN</td>\n",
       "      <td>NaN</td>\n",
       "      <td>NaN</td>\n",
       "      <td>...</td>\n",
       "      <td>4.0</td>\n",
       "      <td>4.0</td>\n",
       "      <td>1.0</td>\n",
       "      <td>HiperCVD</td>\n",
       "      <td>2</td>\n",
       "      <td>0.0</td>\n",
       "      <td>0.0</td>\n",
       "      <td>1.0</td>\n",
       "      <td>4</td>\n",
       "      <td>0</td>\n",
       "    </tr>\n",
       "    <tr>\n",
       "      <th>45756</th>\n",
       "      <td>1.0</td>\n",
       "      <td>4.0</td>\n",
       "      <td>3.0</td>\n",
       "      <td>3.0</td>\n",
       "      <td>NaN</td>\n",
       "      <td>NaN</td>\n",
       "      <td>NaN</td>\n",
       "      <td>NaN</td>\n",
       "      <td>NaN</td>\n",
       "      <td>NaN</td>\n",
       "      <td>...</td>\n",
       "      <td>3.0</td>\n",
       "      <td>3.0</td>\n",
       "      <td>2.0</td>\n",
       "      <td>HiperCVD</td>\n",
       "      <td>1</td>\n",
       "      <td>0.0</td>\n",
       "      <td>1.0</td>\n",
       "      <td>0.0</td>\n",
       "      <td>3</td>\n",
       "      <td>0</td>\n",
       "    </tr>\n",
       "  </tbody>\n",
       "</table>\n",
       "<p>39127 rows × 36 columns</p>\n",
       "</div>"
      ],
      "text/plain": [
       "       Sexo  Consumo_sal  P050  P052  P05401  P05404  P05407  P05410  P05413  \\\n",
       "1       2.0          4.0   3.0   1.0     NaN     NaN     NaN     NaN     NaN   \n",
       "2       2.0          3.0   3.0   3.0     NaN     NaN     NaN     NaN     NaN   \n",
       "3       2.0          3.0   3.0   3.0     NaN     NaN     NaN     NaN     NaN   \n",
       "4       2.0          3.0   3.0   3.0     NaN     NaN     NaN     NaN     NaN   \n",
       "6       1.0          3.0   3.0   2.0     NaN     NaN     NaN     NaN     NaN   \n",
       "...     ...          ...   ...   ...     ...     ...     ...     ...     ...   \n",
       "45751   2.0          3.0   3.0   3.0     NaN     NaN     NaN     NaN     NaN   \n",
       "45752   2.0          4.0   3.0   3.0     NaN     NaN     NaN     NaN     NaN   \n",
       "45753   1.0          3.0   3.0   1.0     NaN     NaN     NaN     NaN     NaN   \n",
       "45754   1.0          4.0   3.0   1.0     NaN     NaN     NaN     NaN     NaN   \n",
       "45756   1.0          4.0   3.0   3.0     NaN     NaN     NaN     NaN     NaN   \n",
       "\n",
       "       P05416  ...  Abastecimento_agua  Faixa_salarial  Tem_diabetes  \\\n",
       "1         NaN  ...                 1.0             3.0           2.0   \n",
       "2         NaN  ...                 1.0             2.0           2.0   \n",
       "3         NaN  ...                 1.0             1.0           2.0   \n",
       "4         NaN  ...                 2.0             4.0           2.0   \n",
       "6         NaN  ...                 1.0             3.0           2.0   \n",
       "...       ...  ...                 ...             ...           ...   \n",
       "45751     NaN  ...                 1.0             3.0           1.0   \n",
       "45752     NaN  ...                 2.0             3.0           1.0   \n",
       "45753     NaN  ...                 3.0             3.0           2.0   \n",
       "45754     NaN  ...                 4.0             4.0           1.0   \n",
       "45756     NaN  ...                 3.0             3.0           2.0   \n",
       "\n",
       "       Condicao  Categoria_IMC  Raca_etnia_categoria_Branco  \\\n",
       "1      Saudavel              3                          0.0   \n",
       "2      Saudavel              1                          0.0   \n",
       "3      Saudavel              0                          0.0   \n",
       "4      Saudavel              2                          0.0   \n",
       "6      Saudavel              2                          0.0   \n",
       "...         ...            ...                          ...   \n",
       "45751  HiperCVD              2                          1.0   \n",
       "45752  HiperCVD              3                          1.0   \n",
       "45753  HiperCVD              2                          1.0   \n",
       "45754  HiperCVD              2                          0.0   \n",
       "45756  HiperCVD              1                          0.0   \n",
       "\n",
       "       Raca_etnia_categoria_Pardo  Raca_etnia_categoria_Preto  \\\n",
       "1                             0.0                         1.0   \n",
       "2                             0.0                         1.0   \n",
       "3                             1.0                         0.0   \n",
       "4                             1.0                         0.0   \n",
       "6                             1.0                         0.0   \n",
       "...                           ...                         ...   \n",
       "45751                         0.0                         0.0   \n",
       "45752                         0.0                         0.0   \n",
       "45753                         0.0                         0.0   \n",
       "45754                         0.0                         1.0   \n",
       "45756                         1.0                         0.0   \n",
       "\n",
       "       Faixa_Etaria_Numerica  Nivel_atividade_fisica  \n",
       "1                          3                       0  \n",
       "2                          3                       1  \n",
       "3                          1                       1  \n",
       "4                          2                       2  \n",
       "6                          1                       2  \n",
       "...                      ...                     ...  \n",
       "45751                      3                       0  \n",
       "45752                      3                       0  \n",
       "45753                      4                       0  \n",
       "45754                      4                       0  \n",
       "45756                      3                       0  \n",
       "\n",
       "[39127 rows x 36 columns]"
      ]
     },
     "execution_count": 271,
     "metadata": {},
     "output_type": "execute_result"
    }
   ],
   "source": [
    "df.loc[(df[\"P050\"] == 3) & (df[\"P05401\"].isna())]"
   ]
  },
  {
   "cell_type": "markdown",
   "id": "2ee32724-69be-429f-a95b-83e92710c8f8",
   "metadata": {},
   "source": [
    "Olha que **interessante!** As pessoas que não responderam sobre o consumo e a frequência dos produtos do tabaco é porque **elas não fumam!** Logo, vamos substituir todos esses nulos por 0.\n",
    "\n",
    "**Conclusão:** Substituição dos nulos por 0, que significa que a pessoa não usa esse tipo de produto."
   ]
  },
  {
   "cell_type": "code",
   "execution_count": 272,
   "id": "fe2046f7-bc0b-4882-961c-165ff4259943",
   "metadata": {},
   "outputs": [],
   "source": [
    "# Lista das colunas a serem 'consertados' os valores nulos\n",
    "colunas_a_substituir = [\"P05401\", \"P05404\", \"P05407\", \"P05410\", \"P05413\", \"P05416\", \"P05419\"]\n",
    "\n",
    "# Substituindo por 0, coluna por coluna\n",
    "for coluna in colunas_a_substituir:\n",
    "    df.loc[(df[\"P050\"] == 3) & (df[coluna].isna()), coluna] = 0"
   ]
  },
  {
   "cell_type": "code",
   "execution_count": 273,
   "id": "48ef3346-07ca-431a-b3a7-a10c250f1844",
   "metadata": {},
   "outputs": [
    {
     "data": {
      "text/plain": [
       "P050         0\n",
       "P052      5923\n",
       "P05401       0\n",
       "P05404       0\n",
       "P05407       0\n",
       "P05410       0\n",
       "P05413       0\n",
       "P05416       0\n",
       "P05419       0\n",
       "dtype: int64"
      ]
     },
     "execution_count": 273,
     "metadata": {},
     "output_type": "execute_result"
    }
   ],
   "source": [
    "colunas_especificas = [\n",
    "    \"P050\",\n",
    "     \"P052\",\n",
    "     \"P05401\",\n",
    "     \"P05404\",\n",
    "     \"P05407\",\n",
    "     \"P05410\",\n",
    "     \"P05413\",\n",
    "     \"P05416\",\n",
    "     \"P05419\",\n",
    "]\n",
    "\n",
    "df[colunas_especificas].isnull().sum()"
   ]
  },
  {
   "cell_type": "code",
   "execution_count": 274,
   "id": "5573f259-d4fd-48a4-aab9-02d4e743bd49",
   "metadata": {},
   "outputs": [
    {
     "data": {
      "text/html": [
       "<div>\n",
       "<style scoped>\n",
       "    .dataframe tbody tr th:only-of-type {\n",
       "        vertical-align: middle;\n",
       "    }\n",
       "\n",
       "    .dataframe tbody tr th {\n",
       "        vertical-align: top;\n",
       "    }\n",
       "\n",
       "    .dataframe thead th {\n",
       "        text-align: right;\n",
       "    }\n",
       "</style>\n",
       "<table border=\"1\" class=\"dataframe\">\n",
       "  <thead>\n",
       "    <tr style=\"text-align: right;\">\n",
       "      <th></th>\n",
       "      <th>Sexo</th>\n",
       "      <th>Consumo_sal</th>\n",
       "      <th>P050</th>\n",
       "      <th>P052</th>\n",
       "      <th>P05401</th>\n",
       "      <th>P05404</th>\n",
       "      <th>P05407</th>\n",
       "      <th>P05410</th>\n",
       "      <th>P05413</th>\n",
       "      <th>P05416</th>\n",
       "      <th>...</th>\n",
       "      <th>Abastecimento_agua</th>\n",
       "      <th>Faixa_salarial</th>\n",
       "      <th>Tem_diabetes</th>\n",
       "      <th>Condicao</th>\n",
       "      <th>Categoria_IMC</th>\n",
       "      <th>Raca_etnia_categoria_Branco</th>\n",
       "      <th>Raca_etnia_categoria_Pardo</th>\n",
       "      <th>Raca_etnia_categoria_Preto</th>\n",
       "      <th>Faixa_Etaria_Numerica</th>\n",
       "      <th>Nivel_atividade_fisica</th>\n",
       "    </tr>\n",
       "  </thead>\n",
       "  <tbody>\n",
       "    <tr>\n",
       "      <th>0</th>\n",
       "      <td>2.0</td>\n",
       "      <td>3.0</td>\n",
       "      <td>1.0</td>\n",
       "      <td>NaN</td>\n",
       "      <td>5.0</td>\n",
       "      <td>5.0</td>\n",
       "      <td>5.0</td>\n",
       "      <td>5.0</td>\n",
       "      <td>5.0</td>\n",
       "      <td>1.0</td>\n",
       "      <td>...</td>\n",
       "      <td>3.0</td>\n",
       "      <td>2.0</td>\n",
       "      <td>2.0</td>\n",
       "      <td>Saudavel</td>\n",
       "      <td>2</td>\n",
       "      <td>0.0</td>\n",
       "      <td>1.0</td>\n",
       "      <td>0.0</td>\n",
       "      <td>0</td>\n",
       "      <td>0</td>\n",
       "    </tr>\n",
       "    <tr>\n",
       "      <th>18</th>\n",
       "      <td>1.0</td>\n",
       "      <td>3.0</td>\n",
       "      <td>1.0</td>\n",
       "      <td>NaN</td>\n",
       "      <td>1.0</td>\n",
       "      <td>5.0</td>\n",
       "      <td>5.0</td>\n",
       "      <td>5.0</td>\n",
       "      <td>5.0</td>\n",
       "      <td>5.0</td>\n",
       "      <td>...</td>\n",
       "      <td>2.0</td>\n",
       "      <td>4.0</td>\n",
       "      <td>2.0</td>\n",
       "      <td>Saudavel</td>\n",
       "      <td>1</td>\n",
       "      <td>0.0</td>\n",
       "      <td>1.0</td>\n",
       "      <td>0.0</td>\n",
       "      <td>3</td>\n",
       "      <td>0</td>\n",
       "    </tr>\n",
       "    <tr>\n",
       "      <th>22</th>\n",
       "      <td>1.0</td>\n",
       "      <td>1.0</td>\n",
       "      <td>1.0</td>\n",
       "      <td>NaN</td>\n",
       "      <td>1.0</td>\n",
       "      <td>2.0</td>\n",
       "      <td>5.0</td>\n",
       "      <td>5.0</td>\n",
       "      <td>5.0</td>\n",
       "      <td>5.0</td>\n",
       "      <td>...</td>\n",
       "      <td>3.0</td>\n",
       "      <td>3.0</td>\n",
       "      <td>2.0</td>\n",
       "      <td>Saudavel</td>\n",
       "      <td>1</td>\n",
       "      <td>0.0</td>\n",
       "      <td>1.0</td>\n",
       "      <td>0.0</td>\n",
       "      <td>3</td>\n",
       "      <td>0</td>\n",
       "    </tr>\n",
       "    <tr>\n",
       "      <th>35</th>\n",
       "      <td>1.0</td>\n",
       "      <td>4.0</td>\n",
       "      <td>1.0</td>\n",
       "      <td>NaN</td>\n",
       "      <td>1.0</td>\n",
       "      <td>2.0</td>\n",
       "      <td>5.0</td>\n",
       "      <td>5.0</td>\n",
       "      <td>5.0</td>\n",
       "      <td>5.0</td>\n",
       "      <td>...</td>\n",
       "      <td>2.0</td>\n",
       "      <td>5.0</td>\n",
       "      <td>2.0</td>\n",
       "      <td>Saudavel</td>\n",
       "      <td>2</td>\n",
       "      <td>1.0</td>\n",
       "      <td>0.0</td>\n",
       "      <td>0.0</td>\n",
       "      <td>2</td>\n",
       "      <td>1</td>\n",
       "    </tr>\n",
       "    <tr>\n",
       "      <th>40</th>\n",
       "      <td>1.0</td>\n",
       "      <td>3.0</td>\n",
       "      <td>1.0</td>\n",
       "      <td>NaN</td>\n",
       "      <td>1.0</td>\n",
       "      <td>5.0</td>\n",
       "      <td>5.0</td>\n",
       "      <td>5.0</td>\n",
       "      <td>5.0</td>\n",
       "      <td>5.0</td>\n",
       "      <td>...</td>\n",
       "      <td>3.0</td>\n",
       "      <td>1.0</td>\n",
       "      <td>2.0</td>\n",
       "      <td>Saudavel</td>\n",
       "      <td>1</td>\n",
       "      <td>1.0</td>\n",
       "      <td>0.0</td>\n",
       "      <td>0.0</td>\n",
       "      <td>1</td>\n",
       "      <td>0</td>\n",
       "    </tr>\n",
       "    <tr>\n",
       "      <th>...</th>\n",
       "      <td>...</td>\n",
       "      <td>...</td>\n",
       "      <td>...</td>\n",
       "      <td>...</td>\n",
       "      <td>...</td>\n",
       "      <td>...</td>\n",
       "      <td>...</td>\n",
       "      <td>...</td>\n",
       "      <td>...</td>\n",
       "      <td>...</td>\n",
       "      <td>...</td>\n",
       "      <td>...</td>\n",
       "      <td>...</td>\n",
       "      <td>...</td>\n",
       "      <td>...</td>\n",
       "      <td>...</td>\n",
       "      <td>...</td>\n",
       "      <td>...</td>\n",
       "      <td>...</td>\n",
       "      <td>...</td>\n",
       "      <td>...</td>\n",
       "    </tr>\n",
       "    <tr>\n",
       "      <th>45706</th>\n",
       "      <td>1.0</td>\n",
       "      <td>3.0</td>\n",
       "      <td>1.0</td>\n",
       "      <td>NaN</td>\n",
       "      <td>5.0</td>\n",
       "      <td>5.0</td>\n",
       "      <td>5.0</td>\n",
       "      <td>3.0</td>\n",
       "      <td>3.0</td>\n",
       "      <td>5.0</td>\n",
       "      <td>...</td>\n",
       "      <td>1.0</td>\n",
       "      <td>7.0</td>\n",
       "      <td>2.0</td>\n",
       "      <td>HiperCVD</td>\n",
       "      <td>3</td>\n",
       "      <td>1.0</td>\n",
       "      <td>0.0</td>\n",
       "      <td>0.0</td>\n",
       "      <td>3</td>\n",
       "      <td>0</td>\n",
       "    </tr>\n",
       "    <tr>\n",
       "      <th>45717</th>\n",
       "      <td>1.0</td>\n",
       "      <td>4.0</td>\n",
       "      <td>1.0</td>\n",
       "      <td>NaN</td>\n",
       "      <td>5.0</td>\n",
       "      <td>5.0</td>\n",
       "      <td>5.0</td>\n",
       "      <td>5.0</td>\n",
       "      <td>5.0</td>\n",
       "      <td>5.0</td>\n",
       "      <td>...</td>\n",
       "      <td>1.0</td>\n",
       "      <td>4.0</td>\n",
       "      <td>2.0</td>\n",
       "      <td>HiperCVD</td>\n",
       "      <td>3</td>\n",
       "      <td>1.0</td>\n",
       "      <td>0.0</td>\n",
       "      <td>0.0</td>\n",
       "      <td>3</td>\n",
       "      <td>1</td>\n",
       "    </tr>\n",
       "    <tr>\n",
       "      <th>45718</th>\n",
       "      <td>1.0</td>\n",
       "      <td>2.0</td>\n",
       "      <td>1.0</td>\n",
       "      <td>NaN</td>\n",
       "      <td>1.0</td>\n",
       "      <td>5.0</td>\n",
       "      <td>5.0</td>\n",
       "      <td>5.0</td>\n",
       "      <td>5.0</td>\n",
       "      <td>5.0</td>\n",
       "      <td>...</td>\n",
       "      <td>1.0</td>\n",
       "      <td>7.0</td>\n",
       "      <td>2.0</td>\n",
       "      <td>HiperCVD</td>\n",
       "      <td>2</td>\n",
       "      <td>1.0</td>\n",
       "      <td>0.0</td>\n",
       "      <td>0.0</td>\n",
       "      <td>3</td>\n",
       "      <td>0</td>\n",
       "    </tr>\n",
       "    <tr>\n",
       "      <th>45747</th>\n",
       "      <td>1.0</td>\n",
       "      <td>3.0</td>\n",
       "      <td>1.0</td>\n",
       "      <td>NaN</td>\n",
       "      <td>1.0</td>\n",
       "      <td>5.0</td>\n",
       "      <td>5.0</td>\n",
       "      <td>5.0</td>\n",
       "      <td>5.0</td>\n",
       "      <td>5.0</td>\n",
       "      <td>...</td>\n",
       "      <td>1.0</td>\n",
       "      <td>4.0</td>\n",
       "      <td>1.0</td>\n",
       "      <td>HiperCVD</td>\n",
       "      <td>1</td>\n",
       "      <td>1.0</td>\n",
       "      <td>0.0</td>\n",
       "      <td>0.0</td>\n",
       "      <td>4</td>\n",
       "      <td>0</td>\n",
       "    </tr>\n",
       "    <tr>\n",
       "      <th>45755</th>\n",
       "      <td>2.0</td>\n",
       "      <td>4.0</td>\n",
       "      <td>1.0</td>\n",
       "      <td>NaN</td>\n",
       "      <td>1.0</td>\n",
       "      <td>5.0</td>\n",
       "      <td>5.0</td>\n",
       "      <td>5.0</td>\n",
       "      <td>5.0</td>\n",
       "      <td>5.0</td>\n",
       "      <td>...</td>\n",
       "      <td>2.0</td>\n",
       "      <td>1.0</td>\n",
       "      <td>2.0</td>\n",
       "      <td>HiperCVD</td>\n",
       "      <td>1</td>\n",
       "      <td>1.0</td>\n",
       "      <td>0.0</td>\n",
       "      <td>0.0</td>\n",
       "      <td>2</td>\n",
       "      <td>0</td>\n",
       "    </tr>\n",
       "  </tbody>\n",
       "</table>\n",
       "<p>5268 rows × 36 columns</p>\n",
       "</div>"
      ],
      "text/plain": [
       "       Sexo  Consumo_sal  P050  P052  P05401  P05404  P05407  P05410  P05413  \\\n",
       "0       2.0          3.0   1.0   NaN     5.0     5.0     5.0     5.0     5.0   \n",
       "18      1.0          3.0   1.0   NaN     1.0     5.0     5.0     5.0     5.0   \n",
       "22      1.0          1.0   1.0   NaN     1.0     2.0     5.0     5.0     5.0   \n",
       "35      1.0          4.0   1.0   NaN     1.0     2.0     5.0     5.0     5.0   \n",
       "40      1.0          3.0   1.0   NaN     1.0     5.0     5.0     5.0     5.0   \n",
       "...     ...          ...   ...   ...     ...     ...     ...     ...     ...   \n",
       "45706   1.0          3.0   1.0   NaN     5.0     5.0     5.0     3.0     3.0   \n",
       "45717   1.0          4.0   1.0   NaN     5.0     5.0     5.0     5.0     5.0   \n",
       "45718   1.0          2.0   1.0   NaN     1.0     5.0     5.0     5.0     5.0   \n",
       "45747   1.0          3.0   1.0   NaN     1.0     5.0     5.0     5.0     5.0   \n",
       "45755   2.0          4.0   1.0   NaN     1.0     5.0     5.0     5.0     5.0   \n",
       "\n",
       "       P05416  ...  Abastecimento_agua  Faixa_salarial  Tem_diabetes  \\\n",
       "0         1.0  ...                 3.0             2.0           2.0   \n",
       "18        5.0  ...                 2.0             4.0           2.0   \n",
       "22        5.0  ...                 3.0             3.0           2.0   \n",
       "35        5.0  ...                 2.0             5.0           2.0   \n",
       "40        5.0  ...                 3.0             1.0           2.0   \n",
       "...       ...  ...                 ...             ...           ...   \n",
       "45706     5.0  ...                 1.0             7.0           2.0   \n",
       "45717     5.0  ...                 1.0             4.0           2.0   \n",
       "45718     5.0  ...                 1.0             7.0           2.0   \n",
       "45747     5.0  ...                 1.0             4.0           1.0   \n",
       "45755     5.0  ...                 2.0             1.0           2.0   \n",
       "\n",
       "       Condicao  Categoria_IMC  Raca_etnia_categoria_Branco  \\\n",
       "0      Saudavel              2                          0.0   \n",
       "18     Saudavel              1                          0.0   \n",
       "22     Saudavel              1                          0.0   \n",
       "35     Saudavel              2                          1.0   \n",
       "40     Saudavel              1                          1.0   \n",
       "...         ...            ...                          ...   \n",
       "45706  HiperCVD              3                          1.0   \n",
       "45717  HiperCVD              3                          1.0   \n",
       "45718  HiperCVD              2                          1.0   \n",
       "45747  HiperCVD              1                          1.0   \n",
       "45755  HiperCVD              1                          1.0   \n",
       "\n",
       "       Raca_etnia_categoria_Pardo  Raca_etnia_categoria_Preto  \\\n",
       "0                             1.0                         0.0   \n",
       "18                            1.0                         0.0   \n",
       "22                            1.0                         0.0   \n",
       "35                            0.0                         0.0   \n",
       "40                            0.0                         0.0   \n",
       "...                           ...                         ...   \n",
       "45706                         0.0                         0.0   \n",
       "45717                         0.0                         0.0   \n",
       "45718                         0.0                         0.0   \n",
       "45747                         0.0                         0.0   \n",
       "45755                         0.0                         0.0   \n",
       "\n",
       "       Faixa_Etaria_Numerica  Nivel_atividade_fisica  \n",
       "0                          0                       0  \n",
       "18                         3                       0  \n",
       "22                         3                       0  \n",
       "35                         2                       1  \n",
       "40                         1                       0  \n",
       "...                      ...                     ...  \n",
       "45706                      3                       0  \n",
       "45717                      3                       1  \n",
       "45718                      3                       0  \n",
       "45747                      4                       0  \n",
       "45755                      2                       0  \n",
       "\n",
       "[5268 rows x 36 columns]"
      ]
     },
     "execution_count": 274,
     "metadata": {},
     "output_type": "execute_result"
    }
   ],
   "source": [
    "df.loc[(df[\"P050\"] == 1) & (df[\"P052\"].isna())]"
   ]
  },
  {
   "cell_type": "markdown",
   "id": "aa85d04a-95ea-4a51-bda9-2d5449455f27",
   "metadata": {},
   "source": [
    "Muitas pessoas que fumam atualmente, não foi aplicadas à elas a pergunta de fumar no passado. De 5923 nulos, 5268 são fumantes diários.\n",
    "\n",
    "**Conclusão:** para essas pessoas, vamos substituir os nulos por 1 que significa que no passado fumaram diariamente."
   ]
  },
  {
   "cell_type": "code",
   "execution_count": 275,
   "id": "1b0a7dae-7b37-4d4f-b1c7-9ace58880571",
   "metadata": {},
   "outputs": [
    {
     "data": {
      "text/html": [
       "<div>\n",
       "<style scoped>\n",
       "    .dataframe tbody tr th:only-of-type {\n",
       "        vertical-align: middle;\n",
       "    }\n",
       "\n",
       "    .dataframe tbody tr th {\n",
       "        vertical-align: top;\n",
       "    }\n",
       "\n",
       "    .dataframe thead th {\n",
       "        text-align: right;\n",
       "    }\n",
       "</style>\n",
       "<table border=\"1\" class=\"dataframe\">\n",
       "  <thead>\n",
       "    <tr style=\"text-align: right;\">\n",
       "      <th></th>\n",
       "      <th>Sexo</th>\n",
       "      <th>Consumo_sal</th>\n",
       "      <th>P050</th>\n",
       "      <th>P052</th>\n",
       "      <th>P05401</th>\n",
       "      <th>P05404</th>\n",
       "      <th>P05407</th>\n",
       "      <th>P05410</th>\n",
       "      <th>P05413</th>\n",
       "      <th>P05416</th>\n",
       "      <th>...</th>\n",
       "      <th>Abastecimento_agua</th>\n",
       "      <th>Faixa_salarial</th>\n",
       "      <th>Tem_diabetes</th>\n",
       "      <th>Condicao</th>\n",
       "      <th>Categoria_IMC</th>\n",
       "      <th>Raca_etnia_categoria_Branco</th>\n",
       "      <th>Raca_etnia_categoria_Pardo</th>\n",
       "      <th>Raca_etnia_categoria_Preto</th>\n",
       "      <th>Faixa_Etaria_Numerica</th>\n",
       "      <th>Nivel_atividade_fisica</th>\n",
       "    </tr>\n",
       "  </thead>\n",
       "  <tbody>\n",
       "    <tr>\n",
       "      <th>5</th>\n",
       "      <td>2.0</td>\n",
       "      <td>4.0</td>\n",
       "      <td>2.0</td>\n",
       "      <td>NaN</td>\n",
       "      <td>2.0</td>\n",
       "      <td>5.0</td>\n",
       "      <td>5.0</td>\n",
       "      <td>5.0</td>\n",
       "      <td>5.0</td>\n",
       "      <td>5.0</td>\n",
       "      <td>...</td>\n",
       "      <td>1.0</td>\n",
       "      <td>1.0</td>\n",
       "      <td>2.0</td>\n",
       "      <td>Saudavel</td>\n",
       "      <td>1</td>\n",
       "      <td>1.0</td>\n",
       "      <td>0.0</td>\n",
       "      <td>0.0</td>\n",
       "      <td>2</td>\n",
       "      <td>0</td>\n",
       "    </tr>\n",
       "    <tr>\n",
       "      <th>47</th>\n",
       "      <td>1.0</td>\n",
       "      <td>3.0</td>\n",
       "      <td>2.0</td>\n",
       "      <td>NaN</td>\n",
       "      <td>2.0</td>\n",
       "      <td>5.0</td>\n",
       "      <td>5.0</td>\n",
       "      <td>5.0</td>\n",
       "      <td>5.0</td>\n",
       "      <td>5.0</td>\n",
       "      <td>...</td>\n",
       "      <td>3.0</td>\n",
       "      <td>2.0</td>\n",
       "      <td>2.0</td>\n",
       "      <td>Saudavel</td>\n",
       "      <td>2</td>\n",
       "      <td>1.0</td>\n",
       "      <td>0.0</td>\n",
       "      <td>0.0</td>\n",
       "      <td>1</td>\n",
       "      <td>1</td>\n",
       "    </tr>\n",
       "    <tr>\n",
       "      <th>65</th>\n",
       "      <td>1.0</td>\n",
       "      <td>3.0</td>\n",
       "      <td>2.0</td>\n",
       "      <td>NaN</td>\n",
       "      <td>3.0</td>\n",
       "      <td>5.0</td>\n",
       "      <td>5.0</td>\n",
       "      <td>5.0</td>\n",
       "      <td>5.0</td>\n",
       "      <td>5.0</td>\n",
       "      <td>...</td>\n",
       "      <td>1.0</td>\n",
       "      <td>4.0</td>\n",
       "      <td>2.0</td>\n",
       "      <td>Saudavel</td>\n",
       "      <td>2</td>\n",
       "      <td>0.0</td>\n",
       "      <td>1.0</td>\n",
       "      <td>0.0</td>\n",
       "      <td>3</td>\n",
       "      <td>0</td>\n",
       "    </tr>\n",
       "    <tr>\n",
       "      <th>129</th>\n",
       "      <td>1.0</td>\n",
       "      <td>3.0</td>\n",
       "      <td>2.0</td>\n",
       "      <td>NaN</td>\n",
       "      <td>4.0</td>\n",
       "      <td>5.0</td>\n",
       "      <td>5.0</td>\n",
       "      <td>5.0</td>\n",
       "      <td>5.0</td>\n",
       "      <td>5.0</td>\n",
       "      <td>...</td>\n",
       "      <td>2.0</td>\n",
       "      <td>7.0</td>\n",
       "      <td>2.0</td>\n",
       "      <td>Saudavel</td>\n",
       "      <td>1</td>\n",
       "      <td>0.0</td>\n",
       "      <td>1.0</td>\n",
       "      <td>0.0</td>\n",
       "      <td>2</td>\n",
       "      <td>2</td>\n",
       "    </tr>\n",
       "    <tr>\n",
       "      <th>196</th>\n",
       "      <td>1.0</td>\n",
       "      <td>3.0</td>\n",
       "      <td>2.0</td>\n",
       "      <td>NaN</td>\n",
       "      <td>3.0</td>\n",
       "      <td>5.0</td>\n",
       "      <td>5.0</td>\n",
       "      <td>5.0</td>\n",
       "      <td>5.0</td>\n",
       "      <td>5.0</td>\n",
       "      <td>...</td>\n",
       "      <td>1.0</td>\n",
       "      <td>3.0</td>\n",
       "      <td>2.0</td>\n",
       "      <td>Saudavel</td>\n",
       "      <td>1</td>\n",
       "      <td>1.0</td>\n",
       "      <td>0.0</td>\n",
       "      <td>0.0</td>\n",
       "      <td>3</td>\n",
       "      <td>0</td>\n",
       "    </tr>\n",
       "    <tr>\n",
       "      <th>...</th>\n",
       "      <td>...</td>\n",
       "      <td>...</td>\n",
       "      <td>...</td>\n",
       "      <td>...</td>\n",
       "      <td>...</td>\n",
       "      <td>...</td>\n",
       "      <td>...</td>\n",
       "      <td>...</td>\n",
       "      <td>...</td>\n",
       "      <td>...</td>\n",
       "      <td>...</td>\n",
       "      <td>...</td>\n",
       "      <td>...</td>\n",
       "      <td>...</td>\n",
       "      <td>...</td>\n",
       "      <td>...</td>\n",
       "      <td>...</td>\n",
       "      <td>...</td>\n",
       "      <td>...</td>\n",
       "      <td>...</td>\n",
       "      <td>...</td>\n",
       "    </tr>\n",
       "    <tr>\n",
       "      <th>45003</th>\n",
       "      <td>2.0</td>\n",
       "      <td>3.0</td>\n",
       "      <td>2.0</td>\n",
       "      <td>NaN</td>\n",
       "      <td>2.0</td>\n",
       "      <td>5.0</td>\n",
       "      <td>5.0</td>\n",
       "      <td>5.0</td>\n",
       "      <td>5.0</td>\n",
       "      <td>5.0</td>\n",
       "      <td>...</td>\n",
       "      <td>1.0</td>\n",
       "      <td>1.0</td>\n",
       "      <td>1.0</td>\n",
       "      <td>HiperCVD</td>\n",
       "      <td>3</td>\n",
       "      <td>1.0</td>\n",
       "      <td>0.0</td>\n",
       "      <td>0.0</td>\n",
       "      <td>3</td>\n",
       "      <td>0</td>\n",
       "    </tr>\n",
       "    <tr>\n",
       "      <th>45039</th>\n",
       "      <td>1.0</td>\n",
       "      <td>3.0</td>\n",
       "      <td>2.0</td>\n",
       "      <td>NaN</td>\n",
       "      <td>5.0</td>\n",
       "      <td>2.0</td>\n",
       "      <td>5.0</td>\n",
       "      <td>5.0</td>\n",
       "      <td>5.0</td>\n",
       "      <td>5.0</td>\n",
       "      <td>...</td>\n",
       "      <td>1.0</td>\n",
       "      <td>1.0</td>\n",
       "      <td>1.0</td>\n",
       "      <td>HiperCVD</td>\n",
       "      <td>2</td>\n",
       "      <td>1.0</td>\n",
       "      <td>0.0</td>\n",
       "      <td>0.0</td>\n",
       "      <td>3</td>\n",
       "      <td>0</td>\n",
       "    </tr>\n",
       "    <tr>\n",
       "      <th>45288</th>\n",
       "      <td>2.0</td>\n",
       "      <td>3.0</td>\n",
       "      <td>2.0</td>\n",
       "      <td>NaN</td>\n",
       "      <td>2.0</td>\n",
       "      <td>5.0</td>\n",
       "      <td>5.0</td>\n",
       "      <td>5.0</td>\n",
       "      <td>5.0</td>\n",
       "      <td>5.0</td>\n",
       "      <td>...</td>\n",
       "      <td>1.0</td>\n",
       "      <td>5.0</td>\n",
       "      <td>2.0</td>\n",
       "      <td>HiperCVD</td>\n",
       "      <td>1</td>\n",
       "      <td>1.0</td>\n",
       "      <td>0.0</td>\n",
       "      <td>0.0</td>\n",
       "      <td>4</td>\n",
       "      <td>1</td>\n",
       "    </tr>\n",
       "    <tr>\n",
       "      <th>45580</th>\n",
       "      <td>2.0</td>\n",
       "      <td>4.0</td>\n",
       "      <td>2.0</td>\n",
       "      <td>NaN</td>\n",
       "      <td>2.0</td>\n",
       "      <td>5.0</td>\n",
       "      <td>5.0</td>\n",
       "      <td>5.0</td>\n",
       "      <td>5.0</td>\n",
       "      <td>5.0</td>\n",
       "      <td>...</td>\n",
       "      <td>3.0</td>\n",
       "      <td>4.0</td>\n",
       "      <td>1.0</td>\n",
       "      <td>HiperCVD</td>\n",
       "      <td>3</td>\n",
       "      <td>1.0</td>\n",
       "      <td>0.0</td>\n",
       "      <td>0.0</td>\n",
       "      <td>3</td>\n",
       "      <td>1</td>\n",
       "    </tr>\n",
       "    <tr>\n",
       "      <th>45693</th>\n",
       "      <td>1.0</td>\n",
       "      <td>3.0</td>\n",
       "      <td>2.0</td>\n",
       "      <td>NaN</td>\n",
       "      <td>3.0</td>\n",
       "      <td>5.0</td>\n",
       "      <td>5.0</td>\n",
       "      <td>5.0</td>\n",
       "      <td>5.0</td>\n",
       "      <td>5.0</td>\n",
       "      <td>...</td>\n",
       "      <td>2.0</td>\n",
       "      <td>4.0</td>\n",
       "      <td>2.0</td>\n",
       "      <td>HiperCVD</td>\n",
       "      <td>0</td>\n",
       "      <td>0.0</td>\n",
       "      <td>0.0</td>\n",
       "      <td>1.0</td>\n",
       "      <td>4</td>\n",
       "      <td>0</td>\n",
       "    </tr>\n",
       "  </tbody>\n",
       "</table>\n",
       "<p>655 rows × 36 columns</p>\n",
       "</div>"
      ],
      "text/plain": [
       "       Sexo  Consumo_sal  P050  P052  P05401  P05404  P05407  P05410  P05413  \\\n",
       "5       2.0          4.0   2.0   NaN     2.0     5.0     5.0     5.0     5.0   \n",
       "47      1.0          3.0   2.0   NaN     2.0     5.0     5.0     5.0     5.0   \n",
       "65      1.0          3.0   2.0   NaN     3.0     5.0     5.0     5.0     5.0   \n",
       "129     1.0          3.0   2.0   NaN     4.0     5.0     5.0     5.0     5.0   \n",
       "196     1.0          3.0   2.0   NaN     3.0     5.0     5.0     5.0     5.0   \n",
       "...     ...          ...   ...   ...     ...     ...     ...     ...     ...   \n",
       "45003   2.0          3.0   2.0   NaN     2.0     5.0     5.0     5.0     5.0   \n",
       "45039   1.0          3.0   2.0   NaN     5.0     2.0     5.0     5.0     5.0   \n",
       "45288   2.0          3.0   2.0   NaN     2.0     5.0     5.0     5.0     5.0   \n",
       "45580   2.0          4.0   2.0   NaN     2.0     5.0     5.0     5.0     5.0   \n",
       "45693   1.0          3.0   2.0   NaN     3.0     5.0     5.0     5.0     5.0   \n",
       "\n",
       "       P05416  ...  Abastecimento_agua  Faixa_salarial  Tem_diabetes  \\\n",
       "5         5.0  ...                 1.0             1.0           2.0   \n",
       "47        5.0  ...                 3.0             2.0           2.0   \n",
       "65        5.0  ...                 1.0             4.0           2.0   \n",
       "129       5.0  ...                 2.0             7.0           2.0   \n",
       "196       5.0  ...                 1.0             3.0           2.0   \n",
       "...       ...  ...                 ...             ...           ...   \n",
       "45003     5.0  ...                 1.0             1.0           1.0   \n",
       "45039     5.0  ...                 1.0             1.0           1.0   \n",
       "45288     5.0  ...                 1.0             5.0           2.0   \n",
       "45580     5.0  ...                 3.0             4.0           1.0   \n",
       "45693     5.0  ...                 2.0             4.0           2.0   \n",
       "\n",
       "       Condicao  Categoria_IMC  Raca_etnia_categoria_Branco  \\\n",
       "5      Saudavel              1                          1.0   \n",
       "47     Saudavel              2                          1.0   \n",
       "65     Saudavel              2                          0.0   \n",
       "129    Saudavel              1                          0.0   \n",
       "196    Saudavel              1                          1.0   \n",
       "...         ...            ...                          ...   \n",
       "45003  HiperCVD              3                          1.0   \n",
       "45039  HiperCVD              2                          1.0   \n",
       "45288  HiperCVD              1                          1.0   \n",
       "45580  HiperCVD              3                          1.0   \n",
       "45693  HiperCVD              0                          0.0   \n",
       "\n",
       "       Raca_etnia_categoria_Pardo  Raca_etnia_categoria_Preto  \\\n",
       "5                             0.0                         0.0   \n",
       "47                            0.0                         0.0   \n",
       "65                            1.0                         0.0   \n",
       "129                           1.0                         0.0   \n",
       "196                           0.0                         0.0   \n",
       "...                           ...                         ...   \n",
       "45003                         0.0                         0.0   \n",
       "45039                         0.0                         0.0   \n",
       "45288                         0.0                         0.0   \n",
       "45580                         0.0                         0.0   \n",
       "45693                         0.0                         1.0   \n",
       "\n",
       "       Faixa_Etaria_Numerica  Nivel_atividade_fisica  \n",
       "5                          2                       0  \n",
       "47                         1                       1  \n",
       "65                         3                       0  \n",
       "129                        2                       2  \n",
       "196                        3                       0  \n",
       "...                      ...                     ...  \n",
       "45003                      3                       0  \n",
       "45039                      3                       0  \n",
       "45288                      4                       1  \n",
       "45580                      3                       1  \n",
       "45693                      4                       0  \n",
       "\n",
       "[655 rows x 36 columns]"
      ]
     },
     "execution_count": 275,
     "metadata": {},
     "output_type": "execute_result"
    }
   ],
   "source": [
    "df.loc[(df[\"P050\"] == 2) & (df[\"P052\"].isna())]"
   ]
  },
  {
   "cell_type": "markdown",
   "id": "19b9d504-58a8-4dfd-a70f-4e9a730758ec",
   "metadata": {},
   "source": [
    "A mesma coisa ocorre para pessoas que responderam que fumam menos que diariamente. Não foi aplicada a pergunta de tabagismo delas no passado, vamos substituir esses valores nulos por 2.\n",
    "\n",
    "**Conclusão:** para as pessoas que fumam menos que diariamente atualmente, receberão 2 para o tabagismo no passado."
   ]
  },
  {
   "cell_type": "code",
   "execution_count": 276,
   "id": "e2eafe07-4ae3-4ae0-a9c9-046296a876af",
   "metadata": {},
   "outputs": [],
   "source": [
    "# Substituição dos nulos das pessoas que fumam diariamente mas que não tiveram a pergunta do passado aplicada.\n",
    "df.loc[(df[\"P050\"] == 1) & (df[\"P052\"].isna()), \"P052\"] = 1\n",
    "\n",
    "# Substituição dos nulos das pessoas que fumam menos que diariamente mas que não tiveram a pergunta do passado aplicada.\n",
    "df.loc[(df[\"P050\"] == 2) & (df[\"P052\"].isna()), \"P052\"] = 2"
   ]
  },
  {
   "cell_type": "code",
   "execution_count": 277,
   "id": "40fb10be-78bb-417d-8bcc-9e2038d17b04",
   "metadata": {},
   "outputs": [
    {
     "data": {
      "text/plain": [
       "P050      0\n",
       "P052      0\n",
       "P05401    0\n",
       "P05404    0\n",
       "P05407    0\n",
       "P05410    0\n",
       "P05413    0\n",
       "P05416    0\n",
       "P05419    0\n",
       "dtype: int64"
      ]
     },
     "execution_count": 277,
     "metadata": {},
     "output_type": "execute_result"
    }
   ],
   "source": [
    "colunas_especificas = [\n",
    "    \"P050\",\n",
    "     \"P052\",\n",
    "     \"P05401\",\n",
    "     \"P05404\",\n",
    "     \"P05407\",\n",
    "     \"P05410\",\n",
    "     \"P05413\",\n",
    "     \"P05416\",\n",
    "     \"P05419\",\n",
    "]\n",
    "\n",
    "df[colunas_especificas].isnull().sum()"
   ]
  },
  {
   "cell_type": "markdown",
   "id": "46527891-59aa-41cc-bd71-3aba664bc05f",
   "metadata": {},
   "source": [
    "Todos os nulos foram devidamente tratados. Agora, vamos criar classificações de hábito de tabagismo para as pessoas, de maneira que vamos fundir atributos do tabaco. Assim, será feita a **redução de dimensionalidade**"
   ]
  },
  {
   "cell_type": "markdown",
   "id": "80b98a68-fc15-4dae-b367-5e5e7a8893be",
   "metadata": {},
   "source": [
    "### 3.6.2. Categorização dos Fumantes"
   ]
  },
  {
   "cell_type": "markdown",
   "id": "dada3287-3d7b-49a8-9b1f-3063fb1d452e",
   "metadata": {},
   "source": [
    "O objetivo dessa etapa é dizer o seguinte:\n",
    "\n",
    "- Fuma muito\n",
    "- Fuma razoavelmente\n",
    "- Fuma pouco\n",
    "- Não fuma"
   ]
  },
  {
   "cell_type": "code",
   "execution_count": 278,
   "id": "e7e7212f-520e-4c24-9805-37920e9b75d7",
   "metadata": {},
   "outputs": [],
   "source": [
    "def categorizar_fumantes(linha):\n",
    "\n",
    "    if linha[\"P050\"] == 3 and linha[\"P052\"] == 1: # Se não fuma atualmente, mas fumou diariamente no passado -> FUMA RAZOAVEL\n",
    "        return 2\n",
    "    elif linha[\"P050\"] == 3 and linha[\"P052\"] == 2: # Se não fuma atualmente mas fumou menos que diariamente no passado -> FUMA POUCO.\n",
    "        return 3\n",
    "    elif linha[\"P050\"] == 1: # Se fuma diariamente atualmente -> FUMA MUITO.\n",
    "        return 1\n",
    "    elif linha[\"P050\"] == 2: # Se fuma menos que diariamente atualmente -> DEPENDE\n",
    "        if linha[\"P05401\"] == 1 or linha[\"P05404\"] == 1 or linha[\"P05410\"] == 1 or linha[\"P05413\"] == 1 or linha[\"P05416\"] == 1 or linha[\"P05419\"] == 1:\n",
    "            return 1 # fuma muito.\n",
    "        elif linha[\"P05401\"] == 2 or linha[\"P05404\"] == 2 or linha[\"P05410\"] == 2 or linha[\"P05413\"] == 2 or linha[\"P05416\"] == 2 or linha[\"P05419\"] == 2:\n",
    "            return 2 #fuma razoavelmente.\n",
    "        elif linha[\"P05401\"] == 3 or linha[\"P05404\"] == 3 or linha[\"P05410\"] == 3 or linha[\"P05413\"] == 3 or linha[\"P05416\"] == 3 or linha[\"P05419\"] == 3:\n",
    "            return 3 # fuma pouco.\n",
    "        elif linha[\"P05401\"] == 4 or linha[\"P05404\"] == 4 or linha[\"P05410\"] == 4 or linha[\"P05413\"] == 4 or linha[\"P05416\"] == 4 or linha[\"P05419\"] == 4:\n",
    "            return 3 # fuma pouco.\n",
    "         \n",
    "    elif linha[\"P050\"] == 3 and linha[\"P052\"] == 3: # Se não fuma atualmente e não fumou no passado -> NÃO FUMA. \n",
    "        return 4\n",
    "    else: # Se houver ignorados, serão considerados como não fumantes\n",
    "        return 4\n",
    "    "
   ]
  },
  {
   "cell_type": "code",
   "execution_count": 279,
   "id": "0441859e-f11d-4c31-899d-755c953339d8",
   "metadata": {},
   "outputs": [],
   "source": [
    "# Aplicando a função a cada linha do DataFrame\n",
    "df[\"Categoria_tabagismo\"] = df.apply(categorizar_fumantes, axis=1)"
   ]
  },
  {
   "cell_type": "code",
   "execution_count": 280,
   "id": "99daeb24-8124-48d3-a09b-77d501acaf7b",
   "metadata": {},
   "outputs": [
    {
     "data": {
      "application/vnd.plotly.v1+json": {
       "config": {
        "plotlyServerURL": "https://plot.ly"
       },
       "data": [
        {
         "alignmentgroup": "True",
         "hovertemplate": "Categoria de Tabagismo=%{x}<br>Contagem=%{text}<extra></extra>",
         "legendgroup": "Não Fuma",
         "marker": {
          "color": "#329347",
          "pattern": {
           "shape": ""
          }
         },
         "name": "Não Fuma",
         "offsetgroup": "Não Fuma",
         "orientation": "v",
         "showlegend": true,
         "text": [
          29005
         ],
         "textposition": "outside",
         "type": "bar",
         "x": [
          "Não Fuma"
         ],
         "xaxis": "x",
         "y": [
          29005
         ],
         "yaxis": "y"
        },
        {
         "alignmentgroup": "True",
         "hovertemplate": "Categoria de Tabagismo=%{x}<br>Contagem=%{text}<extra></extra>",
         "legendgroup": "Fuma Razoavelmente",
         "marker": {
          "color": "#FFA500",
          "pattern": {
           "shape": ""
          }
         },
         "name": "Fuma Razoavelmente",
         "offsetgroup": "Fuma Razoavelmente",
         "orientation": "v",
         "showlegend": true,
         "text": [
          9182
         ],
         "textposition": "outside",
         "type": "bar",
         "x": [
          "Fuma Razoavelmente"
         ],
         "xaxis": "x",
         "y": [
          9182
         ],
         "yaxis": "y"
        },
        {
         "alignmentgroup": "True",
         "hovertemplate": "Categoria de Tabagismo=%{x}<br>Contagem=%{text}<extra></extra>",
         "legendgroup": "Fuma Muito",
         "marker": {
          "color": "#FF0D32",
          "pattern": {
           "shape": ""
          }
         },
         "name": "Fuma Muito",
         "offsetgroup": "Fuma Muito",
         "orientation": "v",
         "showlegend": true,
         "text": [
          5268
         ],
         "textposition": "outside",
         "type": "bar",
         "x": [
          "Fuma Muito"
         ],
         "xaxis": "x",
         "y": [
          5268
         ],
         "yaxis": "y"
        },
        {
         "alignmentgroup": "True",
         "hovertemplate": "Categoria de Tabagismo=%{x}<br>Contagem=%{text}<extra></extra>",
         "legendgroup": "Fuma Pouco",
         "marker": {
          "color": "#0000FF",
          "pattern": {
           "shape": ""
          }
         },
         "name": "Fuma Pouco",
         "offsetgroup": "Fuma Pouco",
         "orientation": "v",
         "showlegend": true,
         "text": [
          1592
         ],
         "textposition": "outside",
         "type": "bar",
         "x": [
          "Fuma Pouco"
         ],
         "xaxis": "x",
         "y": [
          1592
         ],
         "yaxis": "y"
        }
       ],
       "layout": {
        "barmode": "relative",
        "height": 500,
        "legend": {
         "title": {
          "text": "Categoria de Tabagismo"
         },
         "tracegroupgap": 0
        },
        "template": {
         "data": {
          "bar": [
           {
            "error_x": {
             "color": "#2a3f5f"
            },
            "error_y": {
             "color": "#2a3f5f"
            },
            "marker": {
             "line": {
              "color": "#E5ECF6",
              "width": 0.5
             },
             "pattern": {
              "fillmode": "overlay",
              "size": 10,
              "solidity": 0.2
             }
            },
            "type": "bar"
           }
          ],
          "barpolar": [
           {
            "marker": {
             "line": {
              "color": "#E5ECF6",
              "width": 0.5
             },
             "pattern": {
              "fillmode": "overlay",
              "size": 10,
              "solidity": 0.2
             }
            },
            "type": "barpolar"
           }
          ],
          "carpet": [
           {
            "aaxis": {
             "endlinecolor": "#2a3f5f",
             "gridcolor": "white",
             "linecolor": "white",
             "minorgridcolor": "white",
             "startlinecolor": "#2a3f5f"
            },
            "baxis": {
             "endlinecolor": "#2a3f5f",
             "gridcolor": "white",
             "linecolor": "white",
             "minorgridcolor": "white",
             "startlinecolor": "#2a3f5f"
            },
            "type": "carpet"
           }
          ],
          "choropleth": [
           {
            "colorbar": {
             "outlinewidth": 0,
             "ticks": ""
            },
            "type": "choropleth"
           }
          ],
          "contour": [
           {
            "colorbar": {
             "outlinewidth": 0,
             "ticks": ""
            },
            "colorscale": [
             [
              0,
              "#0d0887"
             ],
             [
              0.1111111111111111,
              "#46039f"
             ],
             [
              0.2222222222222222,
              "#7201a8"
             ],
             [
              0.3333333333333333,
              "#9c179e"
             ],
             [
              0.4444444444444444,
              "#bd3786"
             ],
             [
              0.5555555555555556,
              "#d8576b"
             ],
             [
              0.6666666666666666,
              "#ed7953"
             ],
             [
              0.7777777777777778,
              "#fb9f3a"
             ],
             [
              0.8888888888888888,
              "#fdca26"
             ],
             [
              1,
              "#f0f921"
             ]
            ],
            "type": "contour"
           }
          ],
          "contourcarpet": [
           {
            "colorbar": {
             "outlinewidth": 0,
             "ticks": ""
            },
            "type": "contourcarpet"
           }
          ],
          "heatmap": [
           {
            "colorbar": {
             "outlinewidth": 0,
             "ticks": ""
            },
            "colorscale": [
             [
              0,
              "#0d0887"
             ],
             [
              0.1111111111111111,
              "#46039f"
             ],
             [
              0.2222222222222222,
              "#7201a8"
             ],
             [
              0.3333333333333333,
              "#9c179e"
             ],
             [
              0.4444444444444444,
              "#bd3786"
             ],
             [
              0.5555555555555556,
              "#d8576b"
             ],
             [
              0.6666666666666666,
              "#ed7953"
             ],
             [
              0.7777777777777778,
              "#fb9f3a"
             ],
             [
              0.8888888888888888,
              "#fdca26"
             ],
             [
              1,
              "#f0f921"
             ]
            ],
            "type": "heatmap"
           }
          ],
          "heatmapgl": [
           {
            "colorbar": {
             "outlinewidth": 0,
             "ticks": ""
            },
            "colorscale": [
             [
              0,
              "#0d0887"
             ],
             [
              0.1111111111111111,
              "#46039f"
             ],
             [
              0.2222222222222222,
              "#7201a8"
             ],
             [
              0.3333333333333333,
              "#9c179e"
             ],
             [
              0.4444444444444444,
              "#bd3786"
             ],
             [
              0.5555555555555556,
              "#d8576b"
             ],
             [
              0.6666666666666666,
              "#ed7953"
             ],
             [
              0.7777777777777778,
              "#fb9f3a"
             ],
             [
              0.8888888888888888,
              "#fdca26"
             ],
             [
              1,
              "#f0f921"
             ]
            ],
            "type": "heatmapgl"
           }
          ],
          "histogram": [
           {
            "marker": {
             "pattern": {
              "fillmode": "overlay",
              "size": 10,
              "solidity": 0.2
             }
            },
            "type": "histogram"
           }
          ],
          "histogram2d": [
           {
            "colorbar": {
             "outlinewidth": 0,
             "ticks": ""
            },
            "colorscale": [
             [
              0,
              "#0d0887"
             ],
             [
              0.1111111111111111,
              "#46039f"
             ],
             [
              0.2222222222222222,
              "#7201a8"
             ],
             [
              0.3333333333333333,
              "#9c179e"
             ],
             [
              0.4444444444444444,
              "#bd3786"
             ],
             [
              0.5555555555555556,
              "#d8576b"
             ],
             [
              0.6666666666666666,
              "#ed7953"
             ],
             [
              0.7777777777777778,
              "#fb9f3a"
             ],
             [
              0.8888888888888888,
              "#fdca26"
             ],
             [
              1,
              "#f0f921"
             ]
            ],
            "type": "histogram2d"
           }
          ],
          "histogram2dcontour": [
           {
            "colorbar": {
             "outlinewidth": 0,
             "ticks": ""
            },
            "colorscale": [
             [
              0,
              "#0d0887"
             ],
             [
              0.1111111111111111,
              "#46039f"
             ],
             [
              0.2222222222222222,
              "#7201a8"
             ],
             [
              0.3333333333333333,
              "#9c179e"
             ],
             [
              0.4444444444444444,
              "#bd3786"
             ],
             [
              0.5555555555555556,
              "#d8576b"
             ],
             [
              0.6666666666666666,
              "#ed7953"
             ],
             [
              0.7777777777777778,
              "#fb9f3a"
             ],
             [
              0.8888888888888888,
              "#fdca26"
             ],
             [
              1,
              "#f0f921"
             ]
            ],
            "type": "histogram2dcontour"
           }
          ],
          "mesh3d": [
           {
            "colorbar": {
             "outlinewidth": 0,
             "ticks": ""
            },
            "type": "mesh3d"
           }
          ],
          "parcoords": [
           {
            "line": {
             "colorbar": {
              "outlinewidth": 0,
              "ticks": ""
             }
            },
            "type": "parcoords"
           }
          ],
          "pie": [
           {
            "automargin": true,
            "type": "pie"
           }
          ],
          "scatter": [
           {
            "fillpattern": {
             "fillmode": "overlay",
             "size": 10,
             "solidity": 0.2
            },
            "type": "scatter"
           }
          ],
          "scatter3d": [
           {
            "line": {
             "colorbar": {
              "outlinewidth": 0,
              "ticks": ""
             }
            },
            "marker": {
             "colorbar": {
              "outlinewidth": 0,
              "ticks": ""
             }
            },
            "type": "scatter3d"
           }
          ],
          "scattercarpet": [
           {
            "marker": {
             "colorbar": {
              "outlinewidth": 0,
              "ticks": ""
             }
            },
            "type": "scattercarpet"
           }
          ],
          "scattergeo": [
           {
            "marker": {
             "colorbar": {
              "outlinewidth": 0,
              "ticks": ""
             }
            },
            "type": "scattergeo"
           }
          ],
          "scattergl": [
           {
            "marker": {
             "colorbar": {
              "outlinewidth": 0,
              "ticks": ""
             }
            },
            "type": "scattergl"
           }
          ],
          "scattermapbox": [
           {
            "marker": {
             "colorbar": {
              "outlinewidth": 0,
              "ticks": ""
             }
            },
            "type": "scattermapbox"
           }
          ],
          "scatterpolar": [
           {
            "marker": {
             "colorbar": {
              "outlinewidth": 0,
              "ticks": ""
             }
            },
            "type": "scatterpolar"
           }
          ],
          "scatterpolargl": [
           {
            "marker": {
             "colorbar": {
              "outlinewidth": 0,
              "ticks": ""
             }
            },
            "type": "scatterpolargl"
           }
          ],
          "scatterternary": [
           {
            "marker": {
             "colorbar": {
              "outlinewidth": 0,
              "ticks": ""
             }
            },
            "type": "scatterternary"
           }
          ],
          "surface": [
           {
            "colorbar": {
             "outlinewidth": 0,
             "ticks": ""
            },
            "colorscale": [
             [
              0,
              "#0d0887"
             ],
             [
              0.1111111111111111,
              "#46039f"
             ],
             [
              0.2222222222222222,
              "#7201a8"
             ],
             [
              0.3333333333333333,
              "#9c179e"
             ],
             [
              0.4444444444444444,
              "#bd3786"
             ],
             [
              0.5555555555555556,
              "#d8576b"
             ],
             [
              0.6666666666666666,
              "#ed7953"
             ],
             [
              0.7777777777777778,
              "#fb9f3a"
             ],
             [
              0.8888888888888888,
              "#fdca26"
             ],
             [
              1,
              "#f0f921"
             ]
            ],
            "type": "surface"
           }
          ],
          "table": [
           {
            "cells": {
             "fill": {
              "color": "#EBF0F8"
             },
             "line": {
              "color": "white"
             }
            },
            "header": {
             "fill": {
              "color": "#C8D4E3"
             },
             "line": {
              "color": "white"
             }
            },
            "type": "table"
           }
          ]
         },
         "layout": {
          "annotationdefaults": {
           "arrowcolor": "#2a3f5f",
           "arrowhead": 0,
           "arrowwidth": 1
          },
          "autotypenumbers": "strict",
          "coloraxis": {
           "colorbar": {
            "outlinewidth": 0,
            "ticks": ""
           }
          },
          "colorscale": {
           "diverging": [
            [
             0,
             "#8e0152"
            ],
            [
             0.1,
             "#c51b7d"
            ],
            [
             0.2,
             "#de77ae"
            ],
            [
             0.3,
             "#f1b6da"
            ],
            [
             0.4,
             "#fde0ef"
            ],
            [
             0.5,
             "#f7f7f7"
            ],
            [
             0.6,
             "#e6f5d0"
            ],
            [
             0.7,
             "#b8e186"
            ],
            [
             0.8,
             "#7fbc41"
            ],
            [
             0.9,
             "#4d9221"
            ],
            [
             1,
             "#276419"
            ]
           ],
           "sequential": [
            [
             0,
             "#0d0887"
            ],
            [
             0.1111111111111111,
             "#46039f"
            ],
            [
             0.2222222222222222,
             "#7201a8"
            ],
            [
             0.3333333333333333,
             "#9c179e"
            ],
            [
             0.4444444444444444,
             "#bd3786"
            ],
            [
             0.5555555555555556,
             "#d8576b"
            ],
            [
             0.6666666666666666,
             "#ed7953"
            ],
            [
             0.7777777777777778,
             "#fb9f3a"
            ],
            [
             0.8888888888888888,
             "#fdca26"
            ],
            [
             1,
             "#f0f921"
            ]
           ],
           "sequentialminus": [
            [
             0,
             "#0d0887"
            ],
            [
             0.1111111111111111,
             "#46039f"
            ],
            [
             0.2222222222222222,
             "#7201a8"
            ],
            [
             0.3333333333333333,
             "#9c179e"
            ],
            [
             0.4444444444444444,
             "#bd3786"
            ],
            [
             0.5555555555555556,
             "#d8576b"
            ],
            [
             0.6666666666666666,
             "#ed7953"
            ],
            [
             0.7777777777777778,
             "#fb9f3a"
            ],
            [
             0.8888888888888888,
             "#fdca26"
            ],
            [
             1,
             "#f0f921"
            ]
           ]
          },
          "colorway": [
           "#636efa",
           "#EF553B",
           "#00cc96",
           "#ab63fa",
           "#FFA15A",
           "#19d3f3",
           "#FF6692",
           "#B6E880",
           "#FF97FF",
           "#FECB52"
          ],
          "font": {
           "color": "#2a3f5f"
          },
          "geo": {
           "bgcolor": "white",
           "lakecolor": "white",
           "landcolor": "#E5ECF6",
           "showlakes": true,
           "showland": true,
           "subunitcolor": "white"
          },
          "hoverlabel": {
           "align": "left"
          },
          "hovermode": "closest",
          "mapbox": {
           "style": "light"
          },
          "paper_bgcolor": "white",
          "plot_bgcolor": "#E5ECF6",
          "polar": {
           "angularaxis": {
            "gridcolor": "white",
            "linecolor": "white",
            "ticks": ""
           },
           "bgcolor": "#E5ECF6",
           "radialaxis": {
            "gridcolor": "white",
            "linecolor": "white",
            "ticks": ""
           }
          },
          "scene": {
           "xaxis": {
            "backgroundcolor": "#E5ECF6",
            "gridcolor": "white",
            "gridwidth": 2,
            "linecolor": "white",
            "showbackground": true,
            "ticks": "",
            "zerolinecolor": "white"
           },
           "yaxis": {
            "backgroundcolor": "#E5ECF6",
            "gridcolor": "white",
            "gridwidth": 2,
            "linecolor": "white",
            "showbackground": true,
            "ticks": "",
            "zerolinecolor": "white"
           },
           "zaxis": {
            "backgroundcolor": "#E5ECF6",
            "gridcolor": "white",
            "gridwidth": 2,
            "linecolor": "white",
            "showbackground": true,
            "ticks": "",
            "zerolinecolor": "white"
           }
          },
          "shapedefaults": {
           "line": {
            "color": "#2a3f5f"
           }
          },
          "ternary": {
           "aaxis": {
            "gridcolor": "white",
            "linecolor": "white",
            "ticks": ""
           },
           "baxis": {
            "gridcolor": "white",
            "linecolor": "white",
            "ticks": ""
           },
           "bgcolor": "#E5ECF6",
           "caxis": {
            "gridcolor": "white",
            "linecolor": "white",
            "ticks": ""
           }
          },
          "title": {
           "x": 0.05
          },
          "xaxis": {
           "automargin": true,
           "gridcolor": "white",
           "linecolor": "white",
           "ticks": "",
           "title": {
            "standoff": 15
           },
           "zerolinecolor": "white",
           "zerolinewidth": 2
          },
          "yaxis": {
           "automargin": true,
           "gridcolor": "white",
           "linecolor": "white",
           "ticks": "",
           "title": {
            "standoff": 15
           },
           "zerolinecolor": "white",
           "zerolinewidth": 2
          }
         }
        },
        "title": {
         "text": "Distribuição das Categorias de Tabagismo"
        },
        "width": 1000,
        "xaxis": {
         "anchor": "y",
         "autorange": true,
         "categoryarray": [
          "Não Fuma",
          "Fuma Razoavelmente",
          "Fuma Muito",
          "Fuma Pouco"
         ],
         "categoryorder": "array",
         "domain": [
          0,
          1
         ],
         "range": [
          -0.5,
          3.5
         ],
         "title": {
          "text": "Categoria de Tabagismo"
         },
         "type": "category"
        },
        "yaxis": {
         "anchor": "x",
         "autorange": true,
         "domain": [
          0,
          1
         ],
         "range": [
          0,
          30531.57894736842
         ],
         "title": {
          "text": "Contagem"
         },
         "type": "linear"
        }
       }
      },
      "image/png": "[encoded data removed]",
      "text/html": [
       "<div>                            <div id=\"4ed35d71-68cd-4a62-8b26-1c1cb9333ab0\" class=\"plotly-graph-div\" style=\"height:500px; width:1000px;\"></div>            <script type=\"text/javascript\">                require([\"plotly\"], function(Plotly) {                    window.PLOTLYENV=window.PLOTLYENV || {};                                    if (document.getElementById(\"4ed35d71-68cd-4a62-8b26-1c1cb9333ab0\")) {                    Plotly.newPlot(                        \"4ed35d71-68cd-4a62-8b26-1c1cb9333ab0\",                        [{\"alignmentgroup\":\"True\",\"hovertemplate\":\"Categoria de Tabagismo=%{x}\\u003cbr\\u003eContagem=%{text}\\u003cextra\\u003e\\u003c\\u002fextra\\u003e\",\"legendgroup\":\"N\\u00e3o Fuma\",\"marker\":{\"color\":\"#329347\",\"pattern\":{\"shape\":\"\"}},\"name\":\"N\\u00e3o Fuma\",\"offsetgroup\":\"N\\u00e3o Fuma\",\"orientation\":\"v\",\"showlegend\":true,\"text\":[29005.0],\"textposition\":\"outside\",\"x\":[\"N\\u00e3o Fuma\"],\"xaxis\":\"x\",\"y\":[29005],\"yaxis\":\"y\",\"type\":\"bar\"},{\"alignmentgroup\":\"True\",\"hovertemplate\":\"Categoria de Tabagismo=%{x}\\u003cbr\\u003eContagem=%{text}\\u003cextra\\u003e\\u003c\\u002fextra\\u003e\",\"legendgroup\":\"Fuma Razoavelmente\",\"marker\":{\"color\":\"#FFA500\",\"pattern\":{\"shape\":\"\"}},\"name\":\"Fuma Razoavelmente\",\"offsetgroup\":\"Fuma Razoavelmente\",\"orientation\":\"v\",\"showlegend\":true,\"text\":[9182.0],\"textposition\":\"outside\",\"x\":[\"Fuma Razoavelmente\"],\"xaxis\":\"x\",\"y\":[9182],\"yaxis\":\"y\",\"type\":\"bar\"},{\"alignmentgroup\":\"True\",\"hovertemplate\":\"Categoria de Tabagismo=%{x}\\u003cbr\\u003eContagem=%{text}\\u003cextra\\u003e\\u003c\\u002fextra\\u003e\",\"legendgroup\":\"Fuma Muito\",\"marker\":{\"color\":\"#FF0D32\",\"pattern\":{\"shape\":\"\"}},\"name\":\"Fuma Muito\",\"offsetgroup\":\"Fuma Muito\",\"orientation\":\"v\",\"showlegend\":true,\"text\":[5268.0],\"textposition\":\"outside\",\"x\":[\"Fuma Muito\"],\"xaxis\":\"x\",\"y\":[5268],\"yaxis\":\"y\",\"type\":\"bar\"},{\"alignmentgroup\":\"True\",\"hovertemplate\":\"Categoria de Tabagismo=%{x}\\u003cbr\\u003eContagem=%{text}\\u003cextra\\u003e\\u003c\\u002fextra\\u003e\",\"legendgroup\":\"Fuma Pouco\",\"marker\":{\"color\":\"#0000FF\",\"pattern\":{\"shape\":\"\"}},\"name\":\"Fuma Pouco\",\"offsetgroup\":\"Fuma Pouco\",\"orientation\":\"v\",\"showlegend\":true,\"text\":[1592.0],\"textposition\":\"outside\",\"x\":[\"Fuma Pouco\"],\"xaxis\":\"x\",\"y\":[1592],\"yaxis\":\"y\",\"type\":\"bar\"}],                        {\"template\":{\"data\":{\"histogram2dcontour\":[{\"type\":\"histogram2dcontour\",\"colorbar\":{\"outlinewidth\":0,\"ticks\":\"\"},\"colorscale\":[[0.0,\"#0d0887\"],[0.1111111111111111,\"#46039f\"],[0.2222222222222222,\"#7201a8\"],[0.3333333333333333,\"#9c179e\"],[0.4444444444444444,\"#bd3786\"],[0.5555555555555556,\"#d8576b\"],[0.6666666666666666,\"#ed7953\"],[0.7777777777777778,\"#fb9f3a\"],[0.8888888888888888,\"#fdca26\"],[1.0,\"#f0f921\"]]}],\"choropleth\":[{\"type\":\"choropleth\",\"colorbar\":{\"outlinewidth\":0,\"ticks\":\"\"}}],\"histogram2d\":[{\"type\":\"histogram2d\",\"colorbar\":{\"outlinewidth\":0,\"ticks\":\"\"},\"colorscale\":[[0.0,\"#0d0887\"],[0.1111111111111111,\"#46039f\"],[0.2222222222222222,\"#7201a8\"],[0.3333333333333333,\"#9c179e\"],[0.4444444444444444,\"#bd3786\"],[0.5555555555555556,\"#d8576b\"],[0.6666666666666666,\"#ed7953\"],[0.7777777777777778,\"#fb9f3a\"],[0.8888888888888888,\"#fdca26\"],[1.0,\"#f0f921\"]]}],\"heatmap\":[{\"type\":\"heatmap\",\"colorbar\":{\"outlinewidth\":0,\"ticks\":\"\"},\"colorscale\":[[0.0,\"#0d0887\"],[0.1111111111111111,\"#46039f\"],[0.2222222222222222,\"#7201a8\"],[0.3333333333333333,\"#9c179e\"],[0.4444444444444444,\"#bd3786\"],[0.5555555555555556,\"#d8576b\"],[0.6666666666666666,\"#ed7953\"],[0.7777777777777778,\"#fb9f3a\"],[0.8888888888888888,\"#fdca26\"],[1.0,\"#f0f921\"]]}],\"heatmapgl\":[{\"type\":\"heatmapgl\",\"colorbar\":{\"outlinewidth\":0,\"ticks\":\"\"},\"colorscale\":[[0.0,\"#0d0887\"],[0.1111111111111111,\"#46039f\"],[0.2222222222222222,\"#7201a8\"],[0.3333333333333333,\"#9c179e\"],[0.4444444444444444,\"#bd3786\"],[0.5555555555555556,\"#d8576b\"],[0.6666666666666666,\"#ed7953\"],[0.7777777777777778,\"#fb9f3a\"],[0.8888888888888888,\"#fdca26\"],[1.0,\"#f0f921\"]]}],\"contourcarpet\":[{\"type\":\"contourcarpet\",\"colorbar\":{\"outlinewidth\":0,\"ticks\":\"\"}}],\"contour\":[{\"type\":\"contour\",\"colorbar\":{\"outlinewidth\":0,\"ticks\":\"\"},\"colorscale\":[[0.0,\"#0d0887\"],[0.1111111111111111,\"#46039f\"],[0.2222222222222222,\"#7201a8\"],[0.3333333333333333,\"#9c179e\"],[0.4444444444444444,\"#bd3786\"],[0.5555555555555556,\"#d8576b\"],[0.6666666666666666,\"#ed7953\"],[0.7777777777777778,\"#fb9f3a\"],[0.8888888888888888,\"#fdca26\"],[1.0,\"#f0f921\"]]}],\"surface\":[{\"type\":\"surface\",\"colorbar\":{\"outlinewidth\":0,\"ticks\":\"\"},\"colorscale\":[[0.0,\"#0d0887\"],[0.1111111111111111,\"#46039f\"],[0.2222222222222222,\"#7201a8\"],[0.3333333333333333,\"#9c179e\"],[0.4444444444444444,\"#bd3786\"],[0.5555555555555556,\"#d8576b\"],[0.6666666666666666,\"#ed7953\"],[0.7777777777777778,\"#fb9f3a\"],[0.8888888888888888,\"#fdca26\"],[1.0,\"#f0f921\"]]}],\"mesh3d\":[{\"type\":\"mesh3d\",\"colorbar\":{\"outlinewidth\":0,\"ticks\":\"\"}}],\"scatter\":[{\"fillpattern\":{\"fillmode\":\"overlay\",\"size\":10,\"solidity\":0.2},\"type\":\"scatter\"}],\"parcoords\":[{\"type\":\"parcoords\",\"line\":{\"colorbar\":{\"outlinewidth\":0,\"ticks\":\"\"}}}],\"scatterpolargl\":[{\"type\":\"scatterpolargl\",\"marker\":{\"colorbar\":{\"outlinewidth\":0,\"ticks\":\"\"}}}],\"bar\":[{\"error_x\":{\"color\":\"#2a3f5f\"},\"error_y\":{\"color\":\"#2a3f5f\"},\"marker\":{\"line\":{\"color\":\"#E5ECF6\",\"width\":0.5},\"pattern\":{\"fillmode\":\"overlay\",\"size\":10,\"solidity\":0.2}},\"type\":\"bar\"}],\"scattergeo\":[{\"type\":\"scattergeo\",\"marker\":{\"colorbar\":{\"outlinewidth\":0,\"ticks\":\"\"}}}],\"scatterpolar\":[{\"type\":\"scatterpolar\",\"marker\":{\"colorbar\":{\"outlinewidth\":0,\"ticks\":\"\"}}}],\"histogram\":[{\"marker\":{\"pattern\":{\"fillmode\":\"overlay\",\"size\":10,\"solidity\":0.2}},\"type\":\"histogram\"}],\"scattergl\":[{\"type\":\"scattergl\",\"marker\":{\"colorbar\":{\"outlinewidth\":0,\"ticks\":\"\"}}}],\"scatter3d\":[{\"type\":\"scatter3d\",\"line\":{\"colorbar\":{\"outlinewidth\":0,\"ticks\":\"\"}},\"marker\":{\"colorbar\":{\"outlinewidth\":0,\"ticks\":\"\"}}}],\"scattermapbox\":[{\"type\":\"scattermapbox\",\"marker\":{\"colorbar\":{\"outlinewidth\":0,\"ticks\":\"\"}}}],\"scatterternary\":[{\"type\":\"scatterternary\",\"marker\":{\"colorbar\":{\"outlinewidth\":0,\"ticks\":\"\"}}}],\"scattercarpet\":[{\"type\":\"scattercarpet\",\"marker\":{\"colorbar\":{\"outlinewidth\":0,\"ticks\":\"\"}}}],\"carpet\":[{\"aaxis\":{\"endlinecolor\":\"#2a3f5f\",\"gridcolor\":\"white\",\"linecolor\":\"white\",\"minorgridcolor\":\"white\",\"startlinecolor\":\"#2a3f5f\"},\"baxis\":{\"endlinecolor\":\"#2a3f5f\",\"gridcolor\":\"white\",\"linecolor\":\"white\",\"minorgridcolor\":\"white\",\"startlinecolor\":\"#2a3f5f\"},\"type\":\"carpet\"}],\"table\":[{\"cells\":{\"fill\":{\"color\":\"#EBF0F8\"},\"line\":{\"color\":\"white\"}},\"header\":{\"fill\":{\"color\":\"#C8D4E3\"},\"line\":{\"color\":\"white\"}},\"type\":\"table\"}],\"barpolar\":[{\"marker\":{\"line\":{\"color\":\"#E5ECF6\",\"width\":0.5},\"pattern\":{\"fillmode\":\"overlay\",\"size\":10,\"solidity\":0.2}},\"type\":\"barpolar\"}],\"pie\":[{\"automargin\":true,\"type\":\"pie\"}]},\"layout\":{\"autotypenumbers\":\"strict\",\"colorway\":[\"#636efa\",\"#EF553B\",\"#00cc96\",\"#ab63fa\",\"#FFA15A\",\"#19d3f3\",\"#FF6692\",\"#B6E880\",\"#FF97FF\",\"#FECB52\"],\"font\":{\"color\":\"#2a3f5f\"},\"hovermode\":\"closest\",\"hoverlabel\":{\"align\":\"left\"},\"paper_bgcolor\":\"white\",\"plot_bgcolor\":\"#E5ECF6\",\"polar\":{\"bgcolor\":\"#E5ECF6\",\"angularaxis\":{\"gridcolor\":\"white\",\"linecolor\":\"white\",\"ticks\":\"\"},\"radialaxis\":{\"gridcolor\":\"white\",\"linecolor\":\"white\",\"ticks\":\"\"}},\"ternary\":{\"bgcolor\":\"#E5ECF6\",\"aaxis\":{\"gridcolor\":\"white\",\"linecolor\":\"white\",\"ticks\":\"\"},\"baxis\":{\"gridcolor\":\"white\",\"linecolor\":\"white\",\"ticks\":\"\"},\"caxis\":{\"gridcolor\":\"white\",\"linecolor\":\"white\",\"ticks\":\"\"}},\"coloraxis\":{\"colorbar\":{\"outlinewidth\":0,\"ticks\":\"\"}},\"colorscale\":{\"sequential\":[[0.0,\"#0d0887\"],[0.1111111111111111,\"#46039f\"],[0.2222222222222222,\"#7201a8\"],[0.3333333333333333,\"#9c179e\"],[0.4444444444444444,\"#bd3786\"],[0.5555555555555556,\"#d8576b\"],[0.6666666666666666,\"#ed7953\"],[0.7777777777777778,\"#fb9f3a\"],[0.8888888888888888,\"#fdca26\"],[1.0,\"#f0f921\"]],\"sequentialminus\":[[0.0,\"#0d0887\"],[0.1111111111111111,\"#46039f\"],[0.2222222222222222,\"#7201a8\"],[0.3333333333333333,\"#9c179e\"],[0.4444444444444444,\"#bd3786\"],[0.5555555555555556,\"#d8576b\"],[0.6666666666666666,\"#ed7953\"],[0.7777777777777778,\"#fb9f3a\"],[0.8888888888888888,\"#fdca26\"],[1.0,\"#f0f921\"]],\"diverging\":[[0,\"#8e0152\"],[0.1,\"#c51b7d\"],[0.2,\"#de77ae\"],[0.3,\"#f1b6da\"],[0.4,\"#fde0ef\"],[0.5,\"#f7f7f7\"],[0.6,\"#e6f5d0\"],[0.7,\"#b8e186\"],[0.8,\"#7fbc41\"],[0.9,\"#4d9221\"],[1,\"#276419\"]]},\"xaxis\":{\"gridcolor\":\"white\",\"linecolor\":\"white\",\"ticks\":\"\",\"title\":{\"standoff\":15},\"zerolinecolor\":\"white\",\"automargin\":true,\"zerolinewidth\":2},\"yaxis\":{\"gridcolor\":\"white\",\"linecolor\":\"white\",\"ticks\":\"\",\"title\":{\"standoff\":15},\"zerolinecolor\":\"white\",\"automargin\":true,\"zerolinewidth\":2},\"scene\":{\"xaxis\":{\"backgroundcolor\":\"#E5ECF6\",\"gridcolor\":\"white\",\"linecolor\":\"white\",\"showbackground\":true,\"ticks\":\"\",\"zerolinecolor\":\"white\",\"gridwidth\":2},\"yaxis\":{\"backgroundcolor\":\"#E5ECF6\",\"gridcolor\":\"white\",\"linecolor\":\"white\",\"showbackground\":true,\"ticks\":\"\",\"zerolinecolor\":\"white\",\"gridwidth\":2},\"zaxis\":{\"backgroundcolor\":\"#E5ECF6\",\"gridcolor\":\"white\",\"linecolor\":\"white\",\"showbackground\":true,\"ticks\":\"\",\"zerolinecolor\":\"white\",\"gridwidth\":2}},\"shapedefaults\":{\"line\":{\"color\":\"#2a3f5f\"}},\"annotationdefaults\":{\"arrowcolor\":\"#2a3f5f\",\"arrowhead\":0,\"arrowwidth\":1},\"geo\":{\"bgcolor\":\"white\",\"landcolor\":\"#E5ECF6\",\"subunitcolor\":\"white\",\"showland\":true,\"showlakes\":true,\"lakecolor\":\"white\"},\"title\":{\"x\":0.05},\"mapbox\":{\"style\":\"light\"}}},\"xaxis\":{\"anchor\":\"y\",\"domain\":[0.0,1.0],\"title\":{\"text\":\"Categoria de Tabagismo\"},\"categoryorder\":\"array\",\"categoryarray\":[\"N\\u00e3o Fuma\",\"Fuma Razoavelmente\",\"Fuma Muito\",\"Fuma Pouco\"]},\"yaxis\":{\"anchor\":\"x\",\"domain\":[0.0,1.0],\"title\":{\"text\":\"Contagem\"}},\"legend\":{\"title\":{\"text\":\"Categoria de Tabagismo\"},\"tracegroupgap\":0},\"title\":{\"text\":\"Distribui\\u00e7\\u00e3o das Categorias de Tabagismo\"},\"barmode\":\"relative\",\"width\":1000,\"height\":500},                        {\"responsive\": true}                    ).then(function(){\n",
       "                            \n",
       "var gd = document.getElementById('4ed35d71-68cd-4a62-8b26-1c1cb9333ab0');\n",
       "var x = new MutationObserver(function (mutations, observer) {{\n",
       "        var display = window.getComputedStyle(gd).display;\n",
       "        if (!display || display === 'none') {{\n",
       "            console.log([gd, 'removed!']);\n",
       "            Plotly.purge(gd);\n",
       "            observer.disconnect();\n",
       "        }}\n",
       "}});\n",
       "\n",
       "// Listen for the removal of the full notebook cells\n",
       "var notebookContainer = gd.closest('#notebook-container');\n",
       "if (notebookContainer) {{\n",
       "    x.observe(notebookContainer, {childList: true});\n",
       "}}\n",
       "\n",
       "// Listen for the clearing of the current output cell\n",
       "var outputEl = gd.closest('.output');\n",
       "if (outputEl) {{\n",
       "    x.observe(outputEl, {childList: true});\n",
       "}}\n",
       "\n",
       "                        })                };                });            </script>        </div>"
      ]
     },
     "metadata": {},
     "output_type": "display_data"
    }
   ],
   "source": [
    "#Dicionario para mapeamento.\n",
    "dicionario = {\n",
    "    1: 'Fuma Muito',\n",
    "    2: 'Fuma Razoavelmente',\n",
    "    3: 'Fuma Pouco',\n",
    "    4: 'Não Fuma'\n",
    "}\n",
    "\n",
    "contagem = df[\"Categoria_tabagismo\"].value_counts().reset_index()\n",
    "contagem.columns = ['Categoria_tabagismo', 'Contagem']\n",
    "\n",
    "#mapeamento das instruções na própria coluna Instrução.\n",
    "contagem['Categoria_tabagismo'] = contagem['Categoria_tabagismo'].map(dicionario)\n",
    "contagem = contagem.sort_values(by='Contagem', ascending=False)\n",
    "\n",
    "# Supondo que a coluna de nível de instrução seja 'NivelInstrucao'\n",
    "fig = px.bar(\n",
    "    contagem,\n",
    "    x='Categoria_tabagismo',\n",
    "    y='Contagem',\n",
    "    labels={'count': 'Contagem', 'Categoria_tabagismo': 'Categoria de Tabagismo'},\n",
    "    title='Distribuição das Categorias de Tabagismo',\n",
    "    color='Categoria_tabagismo',\n",
    "    text='Contagem',\n",
    "    color_discrete_sequence=[\"#329347\", \"#FFA500\", \"#FF0D32\", \"#0000FF\"]\n",
    ")\n",
    "\n",
    "fig.update_traces(textposition='outside')\n",
    "\n",
    "fig.update_layout(\n",
    "    width=1000,\n",
    "    height=500,\n",
    ")\n",
    "\n",
    "fig.show()"
   ]
  },
  {
   "cell_type": "markdown",
   "id": "6b349f98-fe03-47eb-9af6-291225e69329",
   "metadata": {},
   "source": [
    "**Análise Gráfica:** A maioria das pessoas entrevistadas falaram que não fumam. Entretanto, se fôssemos apenas considerar pessoas que fumam ou não fumam teríamos quase 50% dos entrevistados fumantes e um pouco mais de 50% dos entrevistados não fumantes."
   ]
  },
  {
   "cell_type": "code",
   "execution_count": 281,
   "id": "5ceed31f-01f4-48f1-98be-e95cf9c77700",
   "metadata": {},
   "outputs": [],
   "source": [
    "# Com a coluna 'Categoria_tabagismo' criada, as outras já não são mais interessantes para o modelo, vamos jogá-las fora.\n",
    "df.drop([\"P050\", \"P052\", \"P05401\", \"P05404\", \"P05407\", \"P05410\", \"P05413\", \"P05416\", \"P05419\"], axis=1, inplace=True)"
   ]
  },
  {
   "cell_type": "code",
   "execution_count": 282,
   "id": "87af95a3-811b-41d7-835c-706cd7c6fd0c",
   "metadata": {},
   "outputs": [
    {
     "data": {
      "text/plain": [
       "(45050, 28)"
      ]
     },
     "execution_count": 282,
     "metadata": {},
     "output_type": "execute_result"
    }
   ],
   "source": [
    "df.shape"
   ]
  },
  {
   "cell_type": "markdown",
   "id": "7528b83b-f81b-4be8-b1ad-67b557ab4fc4",
   "metadata": {},
   "source": [
    "## **3.7. Aspecto - Alcoolismo**"
   ]
  },
  {
   "cell_type": "markdown",
   "id": "12012cd0-02db-4960-a378-be34a4497b4a",
   "metadata": {},
   "source": [
    "### 3.7.1. Nulos"
   ]
  },
  {
   "cell_type": "code",
   "execution_count": 283,
   "id": "c4b05e3c-ee4f-4e4e-a0d3-a95bbb26f5ff",
   "metadata": {},
   "outputs": [
    {
     "data": {
      "text/plain": [
       "Frequencia_alcoolismo        0\n",
       "Qtd_alcool_semanal       31409\n",
       "Qtd_doses_alcoolicas     25273\n",
       "dtype: int64"
      ]
     },
     "execution_count": 283,
     "metadata": {},
     "output_type": "execute_result"
    }
   ],
   "source": [
    "colunas_especificas = [\n",
    "             \"Frequencia_alcoolismo\",\n",
    "             \"Qtd_alcool_semanal\",\n",
    "             \"Qtd_doses_alcoolicas\",\n",
    "]\n",
    "\n",
    "df[colunas_especificas].isnull().sum()"
   ]
  },
  {
   "cell_type": "code",
   "execution_count": 284,
   "id": "a6c8363a-907c-4328-bf2c-d19eaa029e9d",
   "metadata": {},
   "outputs": [
    {
     "data": {
      "text/plain": [
       "25273"
      ]
     },
     "execution_count": 284,
     "metadata": {},
     "output_type": "execute_result"
    }
   ],
   "source": [
    "len(df.loc[(df[\"Frequencia_alcoolismo\"] == 1) & (df[\"Qtd_alcool_semanal\"].isna())])"
   ]
  },
  {
   "cell_type": "markdown",
   "id": "afff24c9-1f5c-4b9b-ab6d-e535daa90ac7",
   "metadata": {},
   "source": [
    "Quantidade de pessoas que não responderam sobre a **frequência semanal, pelo fato de não beberem bebidas álcoolicas**."
   ]
  },
  {
   "cell_type": "code",
   "execution_count": 285,
   "id": "02a76b42-8e4c-4af5-9243-699df0478260",
   "metadata": {},
   "outputs": [
    {
     "data": {
      "text/plain": [
       "25273"
      ]
     },
     "execution_count": 285,
     "metadata": {},
     "output_type": "execute_result"
    }
   ],
   "source": [
    "len(df.loc[(df[\"Frequencia_alcoolismo\"] == 1) & (df[\"Qtd_doses_alcoolicas\"].isna())])"
   ]
  },
  {
   "cell_type": "markdown",
   "id": "34fdaeff-c1c7-4a47-990c-d30d53fb30d4",
   "metadata": {},
   "source": [
    "Quantidade de pessoas que não responderam sobre a **quantidade de doses, pelo fato de não beberem bebidas álcoolicas.**"
   ]
  },
  {
   "cell_type": "code",
   "execution_count": 286,
   "id": "d4958259-f9af-438f-935c-52cc1121f61f",
   "metadata": {},
   "outputs": [],
   "source": [
    "# Lista das colunas a serem 'consertados' os valores nulos\n",
    "colunas_a_substituir = [\"Qtd_alcool_semanal\", \"Qtd_doses_alcoolicas\"]\n",
    "\n",
    "# Substituindo por 0, coluna por coluna\n",
    "for coluna in colunas_a_substituir:\n",
    "    df.loc[(df[\"Frequencia_alcoolismo\"] == 1) & (df[coluna].isna()), coluna] = 0"
   ]
  },
  {
   "cell_type": "markdown",
   "id": "a613953a-0942-4327-8882-b5148a7722ef",
   "metadata": {},
   "source": [
    "**Conclusão:** Nulos em relação a frequência semanal e diária substuidos por 0, isso significa que quem respondeu 0 é porque simplesmente não bebe."
   ]
  },
  {
   "cell_type": "code",
   "execution_count": 287,
   "id": "5c164238-ba22-4a72-bbb4-98b0932aabaa",
   "metadata": {},
   "outputs": [
    {
     "data": {
      "text/plain": [
       "Frequencia_alcoolismo       0\n",
       "Qtd_alcool_semanal       6136\n",
       "Qtd_doses_alcoolicas        0\n",
       "dtype: int64"
      ]
     },
     "execution_count": 287,
     "metadata": {},
     "output_type": "execute_result"
    }
   ],
   "source": [
    "colunas_especificas = [\n",
    "             \"Frequencia_alcoolismo\",\n",
    "             \"Qtd_alcool_semanal\",\n",
    "             \"Qtd_doses_alcoolicas\",\n",
    "]\n",
    "\n",
    "df[colunas_especificas].isnull().sum()"
   ]
  },
  {
   "cell_type": "markdown",
   "id": "ef65f5b0-7de9-474c-8fbb-948e1db59503",
   "metadata": {},
   "source": [
    "Ainda assim, há 6.136 valores nulos em relação à frequência semanal de consumo de bebidas álcoolicas. Essas pessoas que não responderam, são pessoas que bebem. Isso porque as que não bebem já foram tratadas anteriormente."
   ]
  },
  {
   "cell_type": "code",
   "execution_count": 288,
   "id": "9eefb58e-d30f-41af-8414-946fc431f458",
   "metadata": {},
   "outputs": [
    {
     "data": {
      "text/plain": [
       "Condicao\n",
       "Saudavel    5863\n",
       "HiperCVD     273\n",
       "Name: count, dtype: int64"
      ]
     },
     "execution_count": 288,
     "metadata": {},
     "output_type": "execute_result"
    }
   ],
   "source": [
    "df.loc[df[\"Qtd_alcool_semanal\"].isnull(), \"Condicao\"].value_counts()"
   ]
  },
  {
   "cell_type": "markdown",
   "id": "9efbe3f7-89b9-4dc2-9ae1-b530d48497ff",
   "metadata": {},
   "source": [
    "Desses 10.364 valores nulos, são:\n",
    "- 8053 pessoas sem diagnóstico/saudáveis\n",
    "- 2038 pessoas hipertensas\n",
    "- 273 pessoas com doenças cardiovasculares e hipertensas"
   ]
  },
  {
   "cell_type": "code",
   "execution_count": 289,
   "id": "4428c797-49e3-4afe-98b8-f3750014921d",
   "metadata": {},
   "outputs": [],
   "source": [
    "df_hipercvd = df.loc[df[\"Condicao\"]== 'HiperCVD']\n",
    "df_sem_diagnostico = df.loc[df[\"Condicao\"]=='Saudavel']"
   ]
  },
  {
   "cell_type": "code",
   "execution_count": 290,
   "id": "d7b2c041-5169-4241-921d-0672dacb0fe6",
   "metadata": {},
   "outputs": [
    {
     "data": {
      "text/plain": [
       "count    2728.000000\n",
       "mean        0.382331\n",
       "std         1.219603\n",
       "min         0.000000\n",
       "25%         0.000000\n",
       "50%         0.000000\n",
       "75%         0.000000\n",
       "max         7.000000\n",
       "Name: Qtd_alcool_semanal, dtype: float64"
      ]
     },
     "execution_count": 290,
     "metadata": {},
     "output_type": "execute_result"
    }
   ],
   "source": [
    "df_hipercvd[\"Qtd_alcool_semanal\"].describe()"
   ]
  },
  {
   "cell_type": "code",
   "execution_count": 291,
   "id": "e48d566a-3a85-4d82-8e8a-e46b88cef0c8",
   "metadata": {},
   "outputs": [
    {
     "data": {
      "text/plain": [
       "count    36186.000000\n",
       "mean         0.651081\n",
       "std          1.281155\n",
       "min          0.000000\n",
       "25%          0.000000\n",
       "50%          0.000000\n",
       "75%          1.000000\n",
       "max          7.000000\n",
       "Name: Qtd_alcool_semanal, dtype: float64"
      ]
     },
     "execution_count": 291,
     "metadata": {},
     "output_type": "execute_result"
    }
   ],
   "source": [
    "df_sem_diagnostico[\"Qtd_alcool_semanal\"].describe()"
   ]
  },
  {
   "cell_type": "markdown",
   "id": "3b8cbd3e-7964-4805-a3c7-1e6ee8c3e091",
   "metadata": {},
   "source": [
    "Todas as três classes possuem uma média e um desvio padrão muito parecidos em relação a qtd de álcool ingeridos semanalmente de aproximadamente 1 dia por semana.\n",
    "\n",
    "Já foi dito anteriormente que esses nulos são pessoas que bebem porque na pergunta em relação a beber, eles responderam que bebem."
   ]
  },
  {
   "cell_type": "code",
   "execution_count": 292,
   "id": "f4bff93f-5853-4e1b-a6cf-33ef065cc112",
   "metadata": {},
   "outputs": [
    {
     "data": {
      "text/html": [
       "<div>\n",
       "<style scoped>\n",
       "    .dataframe tbody tr th:only-of-type {\n",
       "        vertical-align: middle;\n",
       "    }\n",
       "\n",
       "    .dataframe tbody tr th {\n",
       "        vertical-align: top;\n",
       "    }\n",
       "\n",
       "    .dataframe thead th {\n",
       "        text-align: right;\n",
       "    }\n",
       "</style>\n",
       "<table border=\"1\" class=\"dataframe\">\n",
       "  <thead>\n",
       "    <tr style=\"text-align: right;\">\n",
       "      <th></th>\n",
       "      <th>Sexo</th>\n",
       "      <th>Consumo_sal</th>\n",
       "      <th>Frequencia_alcoolismo</th>\n",
       "      <th>Qtd_alcool_semanal</th>\n",
       "      <th>Qtd_doses_alcoolicas</th>\n",
       "      <th>Ficou_internado</th>\n",
       "      <th>Ultima_consulta</th>\n",
       "      <th>Percepcao_estado_saude</th>\n",
       "      <th>Tem_plano</th>\n",
       "      <th>Cansa_subida</th>\n",
       "      <th>...</th>\n",
       "      <th>Faixa_salarial</th>\n",
       "      <th>Tem_diabetes</th>\n",
       "      <th>Condicao</th>\n",
       "      <th>Categoria_IMC</th>\n",
       "      <th>Raca_etnia_categoria_Branco</th>\n",
       "      <th>Raca_etnia_categoria_Pardo</th>\n",
       "      <th>Raca_etnia_categoria_Preto</th>\n",
       "      <th>Faixa_Etaria_Numerica</th>\n",
       "      <th>Nivel_atividade_fisica</th>\n",
       "      <th>Categoria_tabagismo</th>\n",
       "    </tr>\n",
       "  </thead>\n",
       "  <tbody>\n",
       "    <tr>\n",
       "      <th>42746</th>\n",
       "      <td>2.0</td>\n",
       "      <td>4.0</td>\n",
       "      <td>2.0</td>\n",
       "      <td>NaN</td>\n",
       "      <td>2.0</td>\n",
       "      <td>2.0</td>\n",
       "      <td>3.0</td>\n",
       "      <td>3.0</td>\n",
       "      <td>1.0</td>\n",
       "      <td>2.0</td>\n",
       "      <td>...</td>\n",
       "      <td>5.0</td>\n",
       "      <td>2.0</td>\n",
       "      <td>HiperCVD</td>\n",
       "      <td>2</td>\n",
       "      <td>0.0</td>\n",
       "      <td>1.0</td>\n",
       "      <td>0.0</td>\n",
       "      <td>3</td>\n",
       "      <td>2</td>\n",
       "      <td>2.0</td>\n",
       "    </tr>\n",
       "    <tr>\n",
       "      <th>42758</th>\n",
       "      <td>1.0</td>\n",
       "      <td>4.0</td>\n",
       "      <td>2.0</td>\n",
       "      <td>NaN</td>\n",
       "      <td>2.0</td>\n",
       "      <td>1.0</td>\n",
       "      <td>3.0</td>\n",
       "      <td>3.0</td>\n",
       "      <td>1.0</td>\n",
       "      <td>2.0</td>\n",
       "      <td>...</td>\n",
       "      <td>7.0</td>\n",
       "      <td>2.0</td>\n",
       "      <td>HiperCVD</td>\n",
       "      <td>3</td>\n",
       "      <td>1.0</td>\n",
       "      <td>0.0</td>\n",
       "      <td>0.0</td>\n",
       "      <td>3</td>\n",
       "      <td>0</td>\n",
       "      <td>4.0</td>\n",
       "    </tr>\n",
       "    <tr>\n",
       "      <th>42792</th>\n",
       "      <td>1.0</td>\n",
       "      <td>4.0</td>\n",
       "      <td>2.0</td>\n",
       "      <td>NaN</td>\n",
       "      <td>6.0</td>\n",
       "      <td>1.0</td>\n",
       "      <td>1.0</td>\n",
       "      <td>4.0</td>\n",
       "      <td>2.0</td>\n",
       "      <td>1.0</td>\n",
       "      <td>...</td>\n",
       "      <td>2.0</td>\n",
       "      <td>2.0</td>\n",
       "      <td>HiperCVD</td>\n",
       "      <td>3</td>\n",
       "      <td>1.0</td>\n",
       "      <td>0.0</td>\n",
       "      <td>0.0</td>\n",
       "      <td>3</td>\n",
       "      <td>0</td>\n",
       "      <td>1.0</td>\n",
       "    </tr>\n",
       "    <tr>\n",
       "      <th>42794</th>\n",
       "      <td>2.0</td>\n",
       "      <td>4.0</td>\n",
       "      <td>2.0</td>\n",
       "      <td>NaN</td>\n",
       "      <td>1.0</td>\n",
       "      <td>2.0</td>\n",
       "      <td>1.0</td>\n",
       "      <td>4.0</td>\n",
       "      <td>2.0</td>\n",
       "      <td>1.0</td>\n",
       "      <td>...</td>\n",
       "      <td>4.0</td>\n",
       "      <td>2.0</td>\n",
       "      <td>HiperCVD</td>\n",
       "      <td>2</td>\n",
       "      <td>0.0</td>\n",
       "      <td>1.0</td>\n",
       "      <td>0.0</td>\n",
       "      <td>3</td>\n",
       "      <td>2</td>\n",
       "      <td>2.0</td>\n",
       "    </tr>\n",
       "    <tr>\n",
       "      <th>42799</th>\n",
       "      <td>1.0</td>\n",
       "      <td>3.0</td>\n",
       "      <td>2.0</td>\n",
       "      <td>NaN</td>\n",
       "      <td>3.0</td>\n",
       "      <td>2.0</td>\n",
       "      <td>3.0</td>\n",
       "      <td>2.0</td>\n",
       "      <td>2.0</td>\n",
       "      <td>2.0</td>\n",
       "      <td>...</td>\n",
       "      <td>4.0</td>\n",
       "      <td>2.0</td>\n",
       "      <td>HiperCVD</td>\n",
       "      <td>3</td>\n",
       "      <td>1.0</td>\n",
       "      <td>0.0</td>\n",
       "      <td>0.0</td>\n",
       "      <td>2</td>\n",
       "      <td>1</td>\n",
       "      <td>3.0</td>\n",
       "    </tr>\n",
       "    <tr>\n",
       "      <th>...</th>\n",
       "      <td>...</td>\n",
       "      <td>...</td>\n",
       "      <td>...</td>\n",
       "      <td>...</td>\n",
       "      <td>...</td>\n",
       "      <td>...</td>\n",
       "      <td>...</td>\n",
       "      <td>...</td>\n",
       "      <td>...</td>\n",
       "      <td>...</td>\n",
       "      <td>...</td>\n",
       "      <td>...</td>\n",
       "      <td>...</td>\n",
       "      <td>...</td>\n",
       "      <td>...</td>\n",
       "      <td>...</td>\n",
       "      <td>...</td>\n",
       "      <td>...</td>\n",
       "      <td>...</td>\n",
       "      <td>...</td>\n",
       "      <td>...</td>\n",
       "    </tr>\n",
       "    <tr>\n",
       "      <th>45717</th>\n",
       "      <td>1.0</td>\n",
       "      <td>4.0</td>\n",
       "      <td>2.0</td>\n",
       "      <td>NaN</td>\n",
       "      <td>6.0</td>\n",
       "      <td>2.0</td>\n",
       "      <td>3.0</td>\n",
       "      <td>4.0</td>\n",
       "      <td>1.0</td>\n",
       "      <td>2.0</td>\n",
       "      <td>...</td>\n",
       "      <td>4.0</td>\n",
       "      <td>2.0</td>\n",
       "      <td>HiperCVD</td>\n",
       "      <td>3</td>\n",
       "      <td>1.0</td>\n",
       "      <td>0.0</td>\n",
       "      <td>0.0</td>\n",
       "      <td>3</td>\n",
       "      <td>1</td>\n",
       "      <td>1.0</td>\n",
       "    </tr>\n",
       "    <tr>\n",
       "      <th>45723</th>\n",
       "      <td>2.0</td>\n",
       "      <td>3.0</td>\n",
       "      <td>2.0</td>\n",
       "      <td>NaN</td>\n",
       "      <td>1.0</td>\n",
       "      <td>2.0</td>\n",
       "      <td>1.0</td>\n",
       "      <td>2.0</td>\n",
       "      <td>1.0</td>\n",
       "      <td>2.0</td>\n",
       "      <td>...</td>\n",
       "      <td>7.0</td>\n",
       "      <td>2.0</td>\n",
       "      <td>HiperCVD</td>\n",
       "      <td>1</td>\n",
       "      <td>0.0</td>\n",
       "      <td>1.0</td>\n",
       "      <td>0.0</td>\n",
       "      <td>2</td>\n",
       "      <td>1</td>\n",
       "      <td>4.0</td>\n",
       "    </tr>\n",
       "    <tr>\n",
       "      <th>45729</th>\n",
       "      <td>2.0</td>\n",
       "      <td>2.0</td>\n",
       "      <td>2.0</td>\n",
       "      <td>NaN</td>\n",
       "      <td>2.0</td>\n",
       "      <td>2.0</td>\n",
       "      <td>4.0</td>\n",
       "      <td>3.0</td>\n",
       "      <td>2.0</td>\n",
       "      <td>1.0</td>\n",
       "      <td>...</td>\n",
       "      <td>3.0</td>\n",
       "      <td>2.0</td>\n",
       "      <td>HiperCVD</td>\n",
       "      <td>2</td>\n",
       "      <td>0.0</td>\n",
       "      <td>1.0</td>\n",
       "      <td>0.0</td>\n",
       "      <td>1</td>\n",
       "      <td>0</td>\n",
       "      <td>2.0</td>\n",
       "    </tr>\n",
       "    <tr>\n",
       "      <th>45750</th>\n",
       "      <td>2.0</td>\n",
       "      <td>4.0</td>\n",
       "      <td>2.0</td>\n",
       "      <td>NaN</td>\n",
       "      <td>2.0</td>\n",
       "      <td>2.0</td>\n",
       "      <td>1.0</td>\n",
       "      <td>3.0</td>\n",
       "      <td>2.0</td>\n",
       "      <td>2.0</td>\n",
       "      <td>...</td>\n",
       "      <td>5.0</td>\n",
       "      <td>1.0</td>\n",
       "      <td>HiperCVD</td>\n",
       "      <td>3</td>\n",
       "      <td>0.0</td>\n",
       "      <td>1.0</td>\n",
       "      <td>0.0</td>\n",
       "      <td>3</td>\n",
       "      <td>1</td>\n",
       "      <td>4.0</td>\n",
       "    </tr>\n",
       "    <tr>\n",
       "      <th>45755</th>\n",
       "      <td>2.0</td>\n",
       "      <td>4.0</td>\n",
       "      <td>2.0</td>\n",
       "      <td>NaN</td>\n",
       "      <td>2.0</td>\n",
       "      <td>2.0</td>\n",
       "      <td>4.0</td>\n",
       "      <td>2.0</td>\n",
       "      <td>2.0</td>\n",
       "      <td>2.0</td>\n",
       "      <td>...</td>\n",
       "      <td>1.0</td>\n",
       "      <td>2.0</td>\n",
       "      <td>HiperCVD</td>\n",
       "      <td>1</td>\n",
       "      <td>1.0</td>\n",
       "      <td>0.0</td>\n",
       "      <td>0.0</td>\n",
       "      <td>2</td>\n",
       "      <td>0</td>\n",
       "      <td>1.0</td>\n",
       "    </tr>\n",
       "  </tbody>\n",
       "</table>\n",
       "<p>273 rows × 28 columns</p>\n",
       "</div>"
      ],
      "text/plain": [
       "       Sexo  Consumo_sal  Frequencia_alcoolismo  Qtd_alcool_semanal  \\\n",
       "42746   2.0          4.0                    2.0                 NaN   \n",
       "42758   1.0          4.0                    2.0                 NaN   \n",
       "42792   1.0          4.0                    2.0                 NaN   \n",
       "42794   2.0          4.0                    2.0                 NaN   \n",
       "42799   1.0          3.0                    2.0                 NaN   \n",
       "...     ...          ...                    ...                 ...   \n",
       "45717   1.0          4.0                    2.0                 NaN   \n",
       "45723   2.0          3.0                    2.0                 NaN   \n",
       "45729   2.0          2.0                    2.0                 NaN   \n",
       "45750   2.0          4.0                    2.0                 NaN   \n",
       "45755   2.0          4.0                    2.0                 NaN   \n",
       "\n",
       "       Qtd_doses_alcoolicas  Ficou_internado  Ultima_consulta  \\\n",
       "42746                   2.0              2.0              3.0   \n",
       "42758                   2.0              1.0              3.0   \n",
       "42792                   6.0              1.0              1.0   \n",
       "42794                   1.0              2.0              1.0   \n",
       "42799                   3.0              2.0              3.0   \n",
       "...                     ...              ...              ...   \n",
       "45717                   6.0              2.0              3.0   \n",
       "45723                   1.0              2.0              1.0   \n",
       "45729                   2.0              2.0              4.0   \n",
       "45750                   2.0              2.0              1.0   \n",
       "45755                   2.0              2.0              4.0   \n",
       "\n",
       "       Percepcao_estado_saude  Tem_plano  Cansa_subida  ...  Faixa_salarial  \\\n",
       "42746                     3.0        1.0           2.0  ...             5.0   \n",
       "42758                     3.0        1.0           2.0  ...             7.0   \n",
       "42792                     4.0        2.0           1.0  ...             2.0   \n",
       "42794                     4.0        2.0           1.0  ...             4.0   \n",
       "42799                     2.0        2.0           2.0  ...             4.0   \n",
       "...                       ...        ...           ...  ...             ...   \n",
       "45717                     4.0        1.0           2.0  ...             4.0   \n",
       "45723                     2.0        1.0           2.0  ...             7.0   \n",
       "45729                     3.0        2.0           1.0  ...             3.0   \n",
       "45750                     3.0        2.0           2.0  ...             5.0   \n",
       "45755                     2.0        2.0           2.0  ...             1.0   \n",
       "\n",
       "       Tem_diabetes  Condicao  Categoria_IMC  Raca_etnia_categoria_Branco  \\\n",
       "42746           2.0  HiperCVD              2                          0.0   \n",
       "42758           2.0  HiperCVD              3                          1.0   \n",
       "42792           2.0  HiperCVD              3                          1.0   \n",
       "42794           2.0  HiperCVD              2                          0.0   \n",
       "42799           2.0  HiperCVD              3                          1.0   \n",
       "...             ...       ...            ...                          ...   \n",
       "45717           2.0  HiperCVD              3                          1.0   \n",
       "45723           2.0  HiperCVD              1                          0.0   \n",
       "45729           2.0  HiperCVD              2                          0.0   \n",
       "45750           1.0  HiperCVD              3                          0.0   \n",
       "45755           2.0  HiperCVD              1                          1.0   \n",
       "\n",
       "       Raca_etnia_categoria_Pardo  Raca_etnia_categoria_Preto  \\\n",
       "42746                         1.0                         0.0   \n",
       "42758                         0.0                         0.0   \n",
       "42792                         0.0                         0.0   \n",
       "42794                         1.0                         0.0   \n",
       "42799                         0.0                         0.0   \n",
       "...                           ...                         ...   \n",
       "45717                         0.0                         0.0   \n",
       "45723                         1.0                         0.0   \n",
       "45729                         1.0                         0.0   \n",
       "45750                         1.0                         0.0   \n",
       "45755                         0.0                         0.0   \n",
       "\n",
       "       Faixa_Etaria_Numerica  Nivel_atividade_fisica  Categoria_tabagismo  \n",
       "42746                      3                       2                  2.0  \n",
       "42758                      3                       0                  4.0  \n",
       "42792                      3                       0                  1.0  \n",
       "42794                      3                       2                  2.0  \n",
       "42799                      2                       1                  3.0  \n",
       "...                      ...                     ...                  ...  \n",
       "45717                      3                       1                  1.0  \n",
       "45723                      2                       1                  4.0  \n",
       "45729                      1                       0                  2.0  \n",
       "45750                      3                       1                  4.0  \n",
       "45755                      2                       0                  1.0  \n",
       "\n",
       "[273 rows x 28 columns]"
      ]
     },
     "execution_count": 292,
     "metadata": {},
     "output_type": "execute_result"
    }
   ],
   "source": [
    "df_hipercvd.loc[df_hipercvd[\"Frequencia_alcoolismo\"]==2]"
   ]
  },
  {
   "cell_type": "code",
   "execution_count": 293,
   "id": "d5e1451d-1552-43d5-a1a3-a9d4247cfd28",
   "metadata": {},
   "outputs": [
    {
     "data": {
      "text/html": [
       "<div>\n",
       "<style scoped>\n",
       "    .dataframe tbody tr th:only-of-type {\n",
       "        vertical-align: middle;\n",
       "    }\n",
       "\n",
       "    .dataframe tbody tr th {\n",
       "        vertical-align: top;\n",
       "    }\n",
       "\n",
       "    .dataframe thead th {\n",
       "        text-align: right;\n",
       "    }\n",
       "</style>\n",
       "<table border=\"1\" class=\"dataframe\">\n",
       "  <thead>\n",
       "    <tr style=\"text-align: right;\">\n",
       "      <th></th>\n",
       "      <th>Sexo</th>\n",
       "      <th>Consumo_sal</th>\n",
       "      <th>Frequencia_alcoolismo</th>\n",
       "      <th>Qtd_alcool_semanal</th>\n",
       "      <th>Qtd_doses_alcoolicas</th>\n",
       "      <th>Ficou_internado</th>\n",
       "      <th>Ultima_consulta</th>\n",
       "      <th>Percepcao_estado_saude</th>\n",
       "      <th>Tem_plano</th>\n",
       "      <th>Cansa_subida</th>\n",
       "      <th>...</th>\n",
       "      <th>Faixa_salarial</th>\n",
       "      <th>Tem_diabetes</th>\n",
       "      <th>Condicao</th>\n",
       "      <th>Categoria_IMC</th>\n",
       "      <th>Raca_etnia_categoria_Branco</th>\n",
       "      <th>Raca_etnia_categoria_Pardo</th>\n",
       "      <th>Raca_etnia_categoria_Preto</th>\n",
       "      <th>Faixa_Etaria_Numerica</th>\n",
       "      <th>Nivel_atividade_fisica</th>\n",
       "      <th>Categoria_tabagismo</th>\n",
       "    </tr>\n",
       "  </thead>\n",
       "  <tbody>\n",
       "    <tr>\n",
       "      <th>0</th>\n",
       "      <td>2.0</td>\n",
       "      <td>3.0</td>\n",
       "      <td>2.0</td>\n",
       "      <td>NaN</td>\n",
       "      <td>5.0</td>\n",
       "      <td>2.0</td>\n",
       "      <td>3.0</td>\n",
       "      <td>2.0</td>\n",
       "      <td>2.0</td>\n",
       "      <td>2.0</td>\n",
       "      <td>...</td>\n",
       "      <td>2.0</td>\n",
       "      <td>2.0</td>\n",
       "      <td>Saudavel</td>\n",
       "      <td>2</td>\n",
       "      <td>0.0</td>\n",
       "      <td>1.0</td>\n",
       "      <td>0.0</td>\n",
       "      <td>0</td>\n",
       "      <td>0</td>\n",
       "      <td>1.0</td>\n",
       "    </tr>\n",
       "    <tr>\n",
       "      <th>10</th>\n",
       "      <td>2.0</td>\n",
       "      <td>3.0</td>\n",
       "      <td>2.0</td>\n",
       "      <td>NaN</td>\n",
       "      <td>3.0</td>\n",
       "      <td>2.0</td>\n",
       "      <td>3.0</td>\n",
       "      <td>1.0</td>\n",
       "      <td>2.0</td>\n",
       "      <td>2.0</td>\n",
       "      <td>...</td>\n",
       "      <td>4.0</td>\n",
       "      <td>2.0</td>\n",
       "      <td>Saudavel</td>\n",
       "      <td>2</td>\n",
       "      <td>1.0</td>\n",
       "      <td>0.0</td>\n",
       "      <td>0.0</td>\n",
       "      <td>1</td>\n",
       "      <td>0</td>\n",
       "      <td>4.0</td>\n",
       "    </tr>\n",
       "    <tr>\n",
       "      <th>12</th>\n",
       "      <td>1.0</td>\n",
       "      <td>4.0</td>\n",
       "      <td>2.0</td>\n",
       "      <td>NaN</td>\n",
       "      <td>2.0</td>\n",
       "      <td>2.0</td>\n",
       "      <td>3.0</td>\n",
       "      <td>1.0</td>\n",
       "      <td>1.0</td>\n",
       "      <td>2.0</td>\n",
       "      <td>...</td>\n",
       "      <td>7.0</td>\n",
       "      <td>2.0</td>\n",
       "      <td>Saudavel</td>\n",
       "      <td>1</td>\n",
       "      <td>1.0</td>\n",
       "      <td>0.0</td>\n",
       "      <td>0.0</td>\n",
       "      <td>3</td>\n",
       "      <td>1</td>\n",
       "      <td>4.0</td>\n",
       "    </tr>\n",
       "    <tr>\n",
       "      <th>13</th>\n",
       "      <td>2.0</td>\n",
       "      <td>4.0</td>\n",
       "      <td>2.0</td>\n",
       "      <td>NaN</td>\n",
       "      <td>4.0</td>\n",
       "      <td>2.0</td>\n",
       "      <td>3.0</td>\n",
       "      <td>1.0</td>\n",
       "      <td>1.0</td>\n",
       "      <td>2.0</td>\n",
       "      <td>...</td>\n",
       "      <td>5.0</td>\n",
       "      <td>2.0</td>\n",
       "      <td>Saudavel</td>\n",
       "      <td>1</td>\n",
       "      <td>0.0</td>\n",
       "      <td>1.0</td>\n",
       "      <td>0.0</td>\n",
       "      <td>0</td>\n",
       "      <td>0</td>\n",
       "      <td>4.0</td>\n",
       "    </tr>\n",
       "    <tr>\n",
       "      <th>21</th>\n",
       "      <td>2.0</td>\n",
       "      <td>3.0</td>\n",
       "      <td>2.0</td>\n",
       "      <td>NaN</td>\n",
       "      <td>3.0</td>\n",
       "      <td>2.0</td>\n",
       "      <td>1.0</td>\n",
       "      <td>4.0</td>\n",
       "      <td>2.0</td>\n",
       "      <td>2.0</td>\n",
       "      <td>...</td>\n",
       "      <td>2.0</td>\n",
       "      <td>2.0</td>\n",
       "      <td>Saudavel</td>\n",
       "      <td>3</td>\n",
       "      <td>0.0</td>\n",
       "      <td>1.0</td>\n",
       "      <td>0.0</td>\n",
       "      <td>3</td>\n",
       "      <td>2</td>\n",
       "      <td>2.0</td>\n",
       "    </tr>\n",
       "    <tr>\n",
       "      <th>...</th>\n",
       "      <td>...</td>\n",
       "      <td>...</td>\n",
       "      <td>...</td>\n",
       "      <td>...</td>\n",
       "      <td>...</td>\n",
       "      <td>...</td>\n",
       "      <td>...</td>\n",
       "      <td>...</td>\n",
       "      <td>...</td>\n",
       "      <td>...</td>\n",
       "      <td>...</td>\n",
       "      <td>...</td>\n",
       "      <td>...</td>\n",
       "      <td>...</td>\n",
       "      <td>...</td>\n",
       "      <td>...</td>\n",
       "      <td>...</td>\n",
       "      <td>...</td>\n",
       "      <td>...</td>\n",
       "      <td>...</td>\n",
       "      <td>...</td>\n",
       "    </tr>\n",
       "    <tr>\n",
       "      <th>42667</th>\n",
       "      <td>1.0</td>\n",
       "      <td>3.0</td>\n",
       "      <td>2.0</td>\n",
       "      <td>NaN</td>\n",
       "      <td>3.0</td>\n",
       "      <td>2.0</td>\n",
       "      <td>3.0</td>\n",
       "      <td>1.0</td>\n",
       "      <td>2.0</td>\n",
       "      <td>2.0</td>\n",
       "      <td>...</td>\n",
       "      <td>3.0</td>\n",
       "      <td>NaN</td>\n",
       "      <td>Saudavel</td>\n",
       "      <td>2</td>\n",
       "      <td>1.0</td>\n",
       "      <td>0.0</td>\n",
       "      <td>0.0</td>\n",
       "      <td>0</td>\n",
       "      <td>0</td>\n",
       "      <td>4.0</td>\n",
       "    </tr>\n",
       "    <tr>\n",
       "      <th>42668</th>\n",
       "      <td>1.0</td>\n",
       "      <td>4.0</td>\n",
       "      <td>2.0</td>\n",
       "      <td>NaN</td>\n",
       "      <td>3.0</td>\n",
       "      <td>2.0</td>\n",
       "      <td>4.0</td>\n",
       "      <td>1.0</td>\n",
       "      <td>2.0</td>\n",
       "      <td>2.0</td>\n",
       "      <td>...</td>\n",
       "      <td>2.0</td>\n",
       "      <td>NaN</td>\n",
       "      <td>Saudavel</td>\n",
       "      <td>2</td>\n",
       "      <td>0.0</td>\n",
       "      <td>1.0</td>\n",
       "      <td>0.0</td>\n",
       "      <td>2</td>\n",
       "      <td>2</td>\n",
       "      <td>2.0</td>\n",
       "    </tr>\n",
       "    <tr>\n",
       "      <th>42670</th>\n",
       "      <td>1.0</td>\n",
       "      <td>2.0</td>\n",
       "      <td>2.0</td>\n",
       "      <td>NaN</td>\n",
       "      <td>2.0</td>\n",
       "      <td>2.0</td>\n",
       "      <td>3.0</td>\n",
       "      <td>1.0</td>\n",
       "      <td>2.0</td>\n",
       "      <td>2.0</td>\n",
       "      <td>...</td>\n",
       "      <td>3.0</td>\n",
       "      <td>2.0</td>\n",
       "      <td>Saudavel</td>\n",
       "      <td>2</td>\n",
       "      <td>0.0</td>\n",
       "      <td>1.0</td>\n",
       "      <td>0.0</td>\n",
       "      <td>1</td>\n",
       "      <td>1</td>\n",
       "      <td>2.0</td>\n",
       "    </tr>\n",
       "    <tr>\n",
       "      <th>42702</th>\n",
       "      <td>1.0</td>\n",
       "      <td>2.0</td>\n",
       "      <td>2.0</td>\n",
       "      <td>NaN</td>\n",
       "      <td>3.0</td>\n",
       "      <td>2.0</td>\n",
       "      <td>4.0</td>\n",
       "      <td>3.0</td>\n",
       "      <td>2.0</td>\n",
       "      <td>2.0</td>\n",
       "      <td>...</td>\n",
       "      <td>2.0</td>\n",
       "      <td>2.0</td>\n",
       "      <td>Saudavel</td>\n",
       "      <td>2</td>\n",
       "      <td>1.0</td>\n",
       "      <td>0.0</td>\n",
       "      <td>0.0</td>\n",
       "      <td>3</td>\n",
       "      <td>0</td>\n",
       "      <td>3.0</td>\n",
       "    </tr>\n",
       "    <tr>\n",
       "      <th>42720</th>\n",
       "      <td>2.0</td>\n",
       "      <td>3.0</td>\n",
       "      <td>2.0</td>\n",
       "      <td>NaN</td>\n",
       "      <td>2.0</td>\n",
       "      <td>2.0</td>\n",
       "      <td>3.0</td>\n",
       "      <td>2.0</td>\n",
       "      <td>1.0</td>\n",
       "      <td>2.0</td>\n",
       "      <td>...</td>\n",
       "      <td>7.0</td>\n",
       "      <td>2.0</td>\n",
       "      <td>Saudavel</td>\n",
       "      <td>2</td>\n",
       "      <td>1.0</td>\n",
       "      <td>0.0</td>\n",
       "      <td>0.0</td>\n",
       "      <td>3</td>\n",
       "      <td>1</td>\n",
       "      <td>4.0</td>\n",
       "    </tr>\n",
       "  </tbody>\n",
       "</table>\n",
       "<p>5863 rows × 28 columns</p>\n",
       "</div>"
      ],
      "text/plain": [
       "       Sexo  Consumo_sal  Frequencia_alcoolismo  Qtd_alcool_semanal  \\\n",
       "0       2.0          3.0                    2.0                 NaN   \n",
       "10      2.0          3.0                    2.0                 NaN   \n",
       "12      1.0          4.0                    2.0                 NaN   \n",
       "13      2.0          4.0                    2.0                 NaN   \n",
       "21      2.0          3.0                    2.0                 NaN   \n",
       "...     ...          ...                    ...                 ...   \n",
       "42667   1.0          3.0                    2.0                 NaN   \n",
       "42668   1.0          4.0                    2.0                 NaN   \n",
       "42670   1.0          2.0                    2.0                 NaN   \n",
       "42702   1.0          2.0                    2.0                 NaN   \n",
       "42720   2.0          3.0                    2.0                 NaN   \n",
       "\n",
       "       Qtd_doses_alcoolicas  Ficou_internado  Ultima_consulta  \\\n",
       "0                       5.0              2.0              3.0   \n",
       "10                      3.0              2.0              3.0   \n",
       "12                      2.0              2.0              3.0   \n",
       "13                      4.0              2.0              3.0   \n",
       "21                      3.0              2.0              1.0   \n",
       "...                     ...              ...              ...   \n",
       "42667                   3.0              2.0              3.0   \n",
       "42668                   3.0              2.0              4.0   \n",
       "42670                   2.0              2.0              3.0   \n",
       "42702                   3.0              2.0              4.0   \n",
       "42720                   2.0              2.0              3.0   \n",
       "\n",
       "       Percepcao_estado_saude  Tem_plano  Cansa_subida  ...  Faixa_salarial  \\\n",
       "0                         2.0        2.0           2.0  ...             2.0   \n",
       "10                        1.0        2.0           2.0  ...             4.0   \n",
       "12                        1.0        1.0           2.0  ...             7.0   \n",
       "13                        1.0        1.0           2.0  ...             5.0   \n",
       "21                        4.0        2.0           2.0  ...             2.0   \n",
       "...                       ...        ...           ...  ...             ...   \n",
       "42667                     1.0        2.0           2.0  ...             3.0   \n",
       "42668                     1.0        2.0           2.0  ...             2.0   \n",
       "42670                     1.0        2.0           2.0  ...             3.0   \n",
       "42702                     3.0        2.0           2.0  ...             2.0   \n",
       "42720                     2.0        1.0           2.0  ...             7.0   \n",
       "\n",
       "       Tem_diabetes  Condicao  Categoria_IMC  Raca_etnia_categoria_Branco  \\\n",
       "0               2.0  Saudavel              2                          0.0   \n",
       "10              2.0  Saudavel              2                          1.0   \n",
       "12              2.0  Saudavel              1                          1.0   \n",
       "13              2.0  Saudavel              1                          0.0   \n",
       "21              2.0  Saudavel              3                          0.0   \n",
       "...             ...       ...            ...                          ...   \n",
       "42667           NaN  Saudavel              2                          1.0   \n",
       "42668           NaN  Saudavel              2                          0.0   \n",
       "42670           2.0  Saudavel              2                          0.0   \n",
       "42702           2.0  Saudavel              2                          1.0   \n",
       "42720           2.0  Saudavel              2                          1.0   \n",
       "\n",
       "       Raca_etnia_categoria_Pardo  Raca_etnia_categoria_Preto  \\\n",
       "0                             1.0                         0.0   \n",
       "10                            0.0                         0.0   \n",
       "12                            0.0                         0.0   \n",
       "13                            1.0                         0.0   \n",
       "21                            1.0                         0.0   \n",
       "...                           ...                         ...   \n",
       "42667                         0.0                         0.0   \n",
       "42668                         1.0                         0.0   \n",
       "42670                         1.0                         0.0   \n",
       "42702                         0.0                         0.0   \n",
       "42720                         0.0                         0.0   \n",
       "\n",
       "       Faixa_Etaria_Numerica  Nivel_atividade_fisica  Categoria_tabagismo  \n",
       "0                          0                       0                  1.0  \n",
       "10                         1                       0                  4.0  \n",
       "12                         3                       1                  4.0  \n",
       "13                         0                       0                  4.0  \n",
       "21                         3                       2                  2.0  \n",
       "...                      ...                     ...                  ...  \n",
       "42667                      0                       0                  4.0  \n",
       "42668                      2                       2                  2.0  \n",
       "42670                      1                       1                  2.0  \n",
       "42702                      3                       0                  3.0  \n",
       "42720                      3                       1                  4.0  \n",
       "\n",
       "[5863 rows x 28 columns]"
      ]
     },
     "execution_count": 293,
     "metadata": {},
     "output_type": "execute_result"
    }
   ],
   "source": [
    "df_sem_diagnostico.loc[df_sem_diagnostico[\"Frequencia_alcoolismo\"]==2]"
   ]
  },
  {
   "cell_type": "markdown",
   "id": "595dfcf5-2c95-46e9-98bb-485c37b2f4ff",
   "metadata": {},
   "source": [
    "Nas duas classes, o número de pessoas que são têm a informação nula em relação à quantidade semanal que bebem são as mesmas pessoas que responderam que bebem 1 vez ou menos por mês.\n",
    "\n",
    "Logo, imputar '1' para a frequência semanal seria **equivocado**, já que elas já afirmaram beber 1 vez ou menos ao mês. Vamos preencher esses nulos com o valor 0 que significa nunca ou menos de uma vez por semana."
   ]
  },
  {
   "cell_type": "code",
   "execution_count": 294,
   "id": "c0846956-d0b9-44cf-bc7b-55fe195614ea",
   "metadata": {},
   "outputs": [],
   "source": [
    "df[\"Qtd_alcool_semanal\"] = df[\"Qtd_alcool_semanal\"].fillna(0)"
   ]
  },
  {
   "cell_type": "markdown",
   "id": "695ea5ee-79ae-4b43-93bb-641b7df2e940",
   "metadata": {},
   "source": [
    "### 3.7.2. Outliers"
   ]
  },
  {
   "cell_type": "code",
   "execution_count": 295,
   "id": "dd40274e-5474-45f4-a2e8-f17bdad7d519",
   "metadata": {},
   "outputs": [
    {
     "data": {
      "text/plain": [
       "count    45050.000000\n",
       "mean         2.239800\n",
       "std          4.129167\n",
       "min          0.000000\n",
       "25%          0.000000\n",
       "50%          0.000000\n",
       "75%          3.000000\n",
       "max         96.000000\n",
       "Name: Qtd_doses_alcoolicas, dtype: float64"
      ]
     },
     "execution_count": 295,
     "metadata": {},
     "output_type": "execute_result"
    }
   ],
   "source": [
    "df[\"Qtd_doses_alcoolicas\"].describe()"
   ]
  },
  {
   "cell_type": "markdown",
   "id": "7c2b85ef-aef6-4035-850f-de7b7966b693",
   "metadata": {},
   "source": [
    "Há pessoas que tomam 50 doses por dia? Com certeza representa um valor atípico, estamos falando de uma quantidade muito grande de álcool diária mesmo que seja distríbuida. Vamos aprofundar."
   ]
  },
  {
   "cell_type": "code",
   "execution_count": 296,
   "id": "a31f1199-a4af-4a14-bcb8-a461ea358c0a",
   "metadata": {},
   "outputs": [
    {
     "data": {
      "text/plain": [
       "821"
      ]
     },
     "execution_count": 296,
     "metadata": {},
     "output_type": "execute_result"
    }
   ],
   "source": [
    "len(df.loc[df[\"Qtd_doses_alcoolicas\"] >= 15])"
   ]
  },
  {
   "cell_type": "code",
   "execution_count": 297,
   "id": "af289b4d-5dae-4f3e-abba-e4a411ad095a",
   "metadata": {},
   "outputs": [
    {
     "data": {
      "text/plain": [
       "Condicao\n",
       "Saudavel    804\n",
       "HiperCVD     17\n",
       "Name: count, dtype: int64"
      ]
     },
     "execution_count": 297,
     "metadata": {},
     "output_type": "execute_result"
    }
   ],
   "source": [
    "df.loc[df[\"Qtd_doses_alcoolicas\"] >= 15, \"Condicao\"].value_counts()"
   ]
  },
  {
   "cell_type": "markdown",
   "id": "6ee881e8-12f1-4ab4-a314-1ce002ab874b",
   "metadata": {},
   "source": [
    "Outliers. Pessoas que consomem mais de 15 doses de álcool distorcem a grande parte dos dados."
   ]
  },
  {
   "cell_type": "code",
   "execution_count": 298,
   "id": "acc57032-1fb2-4b2f-81a3-117ce89ebb34",
   "metadata": {},
   "outputs": [],
   "source": [
    "index_removidos  = df.loc[df[\"Qtd_doses_alcoolicas\"] >= 15].index\n",
    "df.drop(index_removidos, inplace=True)"
   ]
  },
  {
   "cell_type": "markdown",
   "id": "bbff7587-0be2-4960-a888-e7fc4308e058",
   "metadata": {},
   "source": [
    "Outliers removidos."
   ]
  },
  {
   "cell_type": "markdown",
   "id": "82ac360e-1a12-474d-a938-7ffa8d9187b5",
   "metadata": {},
   "source": [
    "### 3.7.3. Categorização do Alcoolismo"
   ]
  },
  {
   "cell_type": "code",
   "execution_count": 299,
   "id": "15be93ce-7003-4e8d-a454-b7c5f998f156",
   "metadata": {},
   "outputs": [],
   "source": [
    "def categorizar_alcoolismo(row):\n",
    "    # Caso a pessoa não consuma álcool (Frequência == 1)\n",
    "    if row['Frequencia_alcoolismo'] == 1:\n",
    "        return 0  # Não alcoólico\n",
    "    \n",
    "    # Caso a pessoa seja um bebedor social (Pouco consumo)\n",
    "    if row['Qtd_doses_alcoolicas'] < 1 and row['Qtd_alcool_semanal'] < 3 and row['Frequencia_alcoolismo'] == 2:\n",
    "        return 1  # Bebedor social\n",
    "    \n",
    "    # Caso a pessoa seja um bebedor moderado: Bebe de 1 a 2 doses no dia de beber, ou até 3 dias na semana\n",
    "    if (row['Qtd_doses_alcoolicas'] >= 1 and row['Qtd_doses_alcoolicas'] <= 2) or row['Qtd_alcool_semanal'] <= 3:\n",
    "        if row['Frequencia_alcoolismo'] == 3:  # Bebe uma vez ou mais por mês\n",
    "            return 2  # Bebedor moderado\n",
    "    \n",
    "    # Caso a pessoa seja um bebedor frequente: Bebe mais de 2 doses no dia de beber ou até 4 dias na semana\n",
    "    if row['Qtd_doses_alcoolicas'] > 2 or row['Qtd_alcool_semanal'] <= 4:\n",
    "        if row['Frequencia_alcoolismo'] == 4:  # Bebe várias vezes por mês\n",
    "            return 3  # Bebedor frequente\n",
    "    \n",
    "    # Caso a pessoa seja um bebedor excessivo (alcoólatra): Consome mais de 3 doses por dia ou mais de 4 doses por semana\n",
    "    if row['Qtd_doses_alcoolicas'] > 3 or row['Qtd_alcool_semanal'] > 4:\n",
    "        return 4  # Bebedor excessivo\n",
    "    \n",
    "    # Se não atender a nenhuma das condições específicas acima, classifique como bebedor frequente\n",
    "    return 3  # Garantir que qualquer outro caso caia como bebedor frequente"
   ]
  },
  {
   "cell_type": "code",
   "execution_count": 300,
   "id": "c5ddd480-d106-4458-bd88-6f05a33385bc",
   "metadata": {},
   "outputs": [],
   "source": [
    "df['categoria_alcoolismo'] = df.apply(categorizar_alcoolismo, axis=1)"
   ]
  },
  {
   "cell_type": "code",
   "execution_count": 301,
   "id": "695ff723-b87d-4411-a7a0-53ce0d7aab60",
   "metadata": {},
   "outputs": [
    {
     "data": {
      "text/plain": [
       "categoria_alcoolismo\n",
       "0    25273\n",
       "2    12119\n",
       "3     3910\n",
       "4     2927\n",
       "Name: count, dtype: int64"
      ]
     },
     "execution_count": 301,
     "metadata": {},
     "output_type": "execute_result"
    }
   ],
   "source": [
    "df['categoria_alcoolismo'].value_counts()"
   ]
  },
  {
   "cell_type": "code",
   "execution_count": 302,
   "id": "39b08350-24a9-4be4-8aae-dfad118e50b2",
   "metadata": {},
   "outputs": [
    {
     "name": "stderr",
     "output_type": "stream",
     "text": [
      "C:\\Users\\Gustavo\\AppData\\Local\\Temp\\ipykernel_17900\\1746128962.py:17: FutureWarning:\n",
      "\n",
      "\n",
      "\n",
      "Passing `palette` without assigning `hue` is deprecated and will be removed in v0.14.0. Assign the `x` variable to `hue` and set `legend=False` for the same effect.\n",
      "\n",
      "\n"
     ]
    },
    {
     "data": {
      "image/png": "[encoded data removed]",
      "text/plain": [
       "<Figure size 800x600 with 1 Axes>"
      ]
     },
     "metadata": {},
     "output_type": "display_data"
    }
   ],
   "source": [
    "# Mapeando as categorias numéricas para seus respectivos nomes\n",
    "categoria_labels = {\n",
    "    0: \"Não alcoólico\",\n",
    "    2: \"Bebedor moderado\",\n",
    "    3: \"Bebedor frequente\",\n",
    "    4: \"Bebedor excessivo\"\n",
    "}\n",
    "\n",
    "# Contagem das categorias\n",
    "categoria_counts = df['categoria_alcoolismo'].value_counts()\n",
    "\n",
    "# Substituindo os índices numéricos pelas labels correspondentes\n",
    "categoria_counts.index = categoria_counts.index.map(categoria_labels)\n",
    "\n",
    "# Criando o gráfico\n",
    "plt.figure(figsize=(8, 6))\n",
    "sns.barplot(x=categoria_counts.index, y=categoria_counts.values, palette='viridis')\n",
    "\n",
    "# Ajustando o gráfico\n",
    "plt.title('Distribuição das Categorias de Alcoolismo', fontsize=16)\n",
    "plt.xlabel('Categoria de Alcoolismo', fontsize=14)\n",
    "plt.ylabel('Contagem', fontsize=14)\n",
    "plt.xticks(rotation=45, ha=\"right\")\n",
    "plt.show()"
   ]
  },
  {
   "cell_type": "code",
   "execution_count": 303,
   "id": "9917cb16-22de-4339-8340-bc92fcf6649e",
   "metadata": {},
   "outputs": [],
   "source": [
    "# Dropar as colunas de alcool que não são mais necessárias após a categorização.\n",
    "df.drop([\"Frequencia_alcoolismo\", \"Qtd_doses_alcoolicas\", \"Qtd_alcool_semanal\",], axis=1, inplace=True)"
   ]
  },
  {
   "cell_type": "markdown",
   "id": "28761378-aa53-4a24-aa4e-7c419c47a626",
   "metadata": {},
   "source": [
    "## **3.8. Aspecto - Acompanhamento Médico**"
   ]
  },
  {
   "cell_type": "markdown",
   "id": "293c6cb1-2529-4ef9-893c-94cf41c9eb91",
   "metadata": {},
   "source": [
    "### 3.8.1. Nulos"
   ]
  },
  {
   "cell_type": "code",
   "execution_count": 304,
   "id": "00c816e3-274e-4f80-a37a-43af0d71be96",
   "metadata": {},
   "outputs": [
    {
     "data": {
      "text/plain": [
       "Ultima_consulta              0\n",
       "Ficou_internado              0\n",
       "Tem_plano                    0\n",
       "Percepcao_estado_saude       0\n",
       "Cansa_subida               537\n",
       "Cansa_plano                537\n",
       "Tem_diabetes              3746\n",
       "dtype: int64"
      ]
     },
     "execution_count": 304,
     "metadata": {},
     "output_type": "execute_result"
    }
   ],
   "source": [
    "colunas_especificas = [\n",
    "             \"Ultima_consulta\",\n",
    "             \"Ficou_internado\",\n",
    "             \"Tem_plano\",\n",
    "             \"Percepcao_estado_saude\",\n",
    "            \"Cansa_subida\",\n",
    "            \"Cansa_plano\",\n",
    "            \"Tem_diabetes\"\n",
    "]\n",
    "\n",
    "df[colunas_especificas].isnull().sum()"
   ]
  },
  {
   "cell_type": "code",
   "execution_count": 305,
   "id": "85b19d5f-9d6a-4c47-a282-229eea453a93",
   "metadata": {},
   "outputs": [
    {
     "data": {
      "text/plain": [
       "54"
      ]
     },
     "execution_count": 305,
     "metadata": {},
     "output_type": "execute_result"
    }
   ],
   "source": [
    "# Relação: Pessoa fuma atualmente x cansa subida\n",
    "len(df.loc[(df[\"Cansa_subida\"].isna()) & (df[\"Categoria_tabagismo\"] == 1)])"
   ]
  },
  {
   "cell_type": "code",
   "execution_count": 306,
   "id": "b0860465-b0d2-467d-b289-f484f0ac9f82",
   "metadata": {},
   "outputs": [
    {
     "data": {
      "text/plain": [
       "224"
      ]
     },
     "execution_count": 306,
     "metadata": {},
     "output_type": "execute_result"
    }
   ],
   "source": [
    "len(df.loc[(df[\"Cansa_subida\"].isna()) & (df[\"Categoria_tabagismo\"] == 2)])"
   ]
  },
  {
   "cell_type": "code",
   "execution_count": 307,
   "id": "c1c822ee-6a66-40dd-a993-b981c981f9c8",
   "metadata": {},
   "outputs": [
    {
     "data": {
      "text/plain": [
       "15"
      ]
     },
     "execution_count": 307,
     "metadata": {},
     "output_type": "execute_result"
    }
   ],
   "source": [
    "len(df.loc[(df[\"Cansa_subida\"].isna()) & (df[\"Categoria_tabagismo\"] == 3)])"
   ]
  },
  {
   "cell_type": "code",
   "execution_count": 308,
   "id": "df0d040c-527f-4c9d-a333-8761ffb01b3e",
   "metadata": {},
   "outputs": [
    {
     "data": {
      "text/plain": [
       "244"
      ]
     },
     "execution_count": 308,
     "metadata": {},
     "output_type": "execute_result"
    }
   ],
   "source": [
    "len(df.loc[(df[\"Cansa_subida\"].isna()) & (df[\"Categoria_tabagismo\"] == 4)])"
   ]
  },
  {
   "cell_type": "markdown",
   "id": "c894e2d3-d97b-462b-af9d-3f8c146bd873",
   "metadata": {},
   "source": [
    "de 1.180 nulos que cansam na subida há:\n",
    "\n",
    "- 155 que fumam muito.\n",
    "- 723 que fumam razoavelmente.\n",
    "- 60 que fumam pouco.\n",
    "- 850 que não fumam."
   ]
  },
  {
   "cell_type": "code",
   "execution_count": 309,
   "id": "d6a3b8c1-70f6-459c-b5c1-c6b5958c762d",
   "metadata": {},
   "outputs": [
    {
     "data": {
      "text/plain": [
       "537"
      ]
     },
     "execution_count": 309,
     "metadata": {},
     "output_type": "execute_result"
    }
   ],
   "source": [
    "len(df.loc[(df[\"Cansa_plano\"].isna()) & (df[\"Cansa_subida\"].isna())])"
   ]
  },
  {
   "cell_type": "code",
   "execution_count": 310,
   "id": "97b1719d-829e-4e9c-a1b7-f10c617e73be",
   "metadata": {},
   "outputs": [
    {
     "data": {
      "text/plain": [
       "Condicao\n",
       "HiperCVD    271\n",
       "Saudavel    266\n",
       "Name: count, dtype: int64"
      ]
     },
     "execution_count": 310,
     "metadata": {},
     "output_type": "execute_result"
    }
   ],
   "source": [
    "df.loc[(df[\"Cansa_plano\"].isna()) & (df[\"Cansa_subida\"].isna()), 'Condicao'].value_counts()"
   ]
  },
  {
   "cell_type": "markdown",
   "id": "56231ecd-7fef-4917-a296-3a2324d2e6a8",
   "metadata": {},
   "source": [
    "Para as pessoas saudáveis: será imputado que não se cansam, para o hiperCVD será imputado que se cansam e para os hipertensos serão descartados."
   ]
  },
  {
   "cell_type": "code",
   "execution_count": 311,
   "id": "1f1d8b07-e9e8-4323-a73c-3d931880373f",
   "metadata": {},
   "outputs": [],
   "source": [
    "# HiperCVD.\n",
    "df.loc[(df[\"Cansa_plano\"].isna()) & (df[\"Cansa_subida\"].isna()) & (df['Condicao'] == 'HiperCVD'), ['Cansa_plano', 'Cansa_subida']] = 1\n",
    "\n",
    "# Saudáveis.\n",
    "df.loc[(df[\"Cansa_plano\"].isna()) & (df[\"Cansa_subida\"].isna()) & (df['Condicao'] == 'Saudavel'), ['Cansa_plano', 'Cansa_subida']] = 2\n",
    "\n",
    "# Exclui o resto dos nulos = hipertensos apenas.\n",
    "df = df.dropna(subset=['Cansa_plano', 'Cansa_subida'])"
   ]
  },
  {
   "cell_type": "code",
   "execution_count": 312,
   "id": "ec09a3a1-950b-4ddb-bce3-e369155af387",
   "metadata": {},
   "outputs": [
    {
     "data": {
      "text/plain": [
       "0"
      ]
     },
     "execution_count": 312,
     "metadata": {},
     "output_type": "execute_result"
    }
   ],
   "source": [
    "df[\"Cansa_plano\"].isna().sum()"
   ]
  },
  {
   "cell_type": "code",
   "execution_count": 313,
   "id": "47572607-baad-4ff5-82be-e81394963910",
   "metadata": {},
   "outputs": [
    {
     "data": {
      "text/plain": [
       "Condicao\n",
       "Saudavel    3723\n",
       "HiperCVD      23\n",
       "Name: count, dtype: int64"
      ]
     },
     "execution_count": 313,
     "metadata": {},
     "output_type": "execute_result"
    }
   ],
   "source": [
    "df.loc[df[\"Tem_diabetes\"].isna(), [\"Condicao\"]].value_counts()"
   ]
  },
  {
   "cell_type": "code",
   "execution_count": 314,
   "id": "15601ff9-df9d-47ff-aa94-4f09b2610083",
   "metadata": {},
   "outputs": [],
   "source": [
    "df = df.dropna(subset=['Tem_diabetes'])"
   ]
  },
  {
   "cell_type": "markdown",
   "id": "cbc60a91-5e91-4a13-993f-ab364ae0d1a3",
   "metadata": {},
   "source": [
    "## **3.9. Aspecto - Social**"
   ]
  },
  {
   "cell_type": "markdown",
   "id": "dc12d514-34ef-4821-a769-eba816d83b2f",
   "metadata": {},
   "source": [
    "### 3.9.1. Nulos"
   ]
  },
  {
   "cell_type": "code",
   "execution_count": 315,
   "id": "8db37ca6-998a-4e42-a629-252a30fea719",
   "metadata": {},
   "outputs": [
    {
     "data": {
      "text/plain": [
       "Alfabetizacao           0\n",
       "Escolaridade            0\n",
       "Area_moradia            0\n",
       "Esgoto                560\n",
       "Destino_lixo            0\n",
       "Acesso_internet         0\n",
       "Abastecimento_agua      0\n",
       "dtype: int64"
      ]
     },
     "execution_count": 315,
     "metadata": {},
     "output_type": "execute_result"
    }
   ],
   "source": [
    "colunas_especificas = [\n",
    "             \"Alfabetizacao\",\n",
    "             \"Escolaridade\",\n",
    "             \"Area_moradia\",\n",
    "             \"Esgoto\",\n",
    "             \"Destino_lixo\",\n",
    "             \"Acesso_internet\",\n",
    "             \"Abastecimento_agua\"\n",
    "]\n",
    "\n",
    "df[colunas_especificas].isnull().sum()"
   ]
  },
  {
   "cell_type": "markdown",
   "id": "8f12c5b5-c84f-4132-9bf7-24081309ad08",
   "metadata": {},
   "source": [
    "Há 909 valores nulos na coluna de Esgoto, que quer dizer como é o funcionamento de esgoto nessas residências."
   ]
  },
  {
   "cell_type": "code",
   "execution_count": 316,
   "id": "85e7edff-a933-4fb0-a95d-445de3ddf299",
   "metadata": {},
   "outputs": [
    {
     "data": {
      "text/plain": [
       "Condicao\n",
       "Saudavel    533\n",
       "HiperCVD     27\n",
       "Name: count, dtype: int64"
      ]
     },
     "execution_count": 316,
     "metadata": {},
     "output_type": "execute_result"
    }
   ],
   "source": [
    "df.loc[(df[\"Esgoto\"].isna()), ['Condicao']].value_counts()"
   ]
  },
  {
   "cell_type": "markdown",
   "id": "ad88de85-fb1f-4900-9bba-1a7b7033540f",
   "metadata": {},
   "source": [
    "Desses 268 valores nulos em esgoto temos:\n",
    "\n",
    "- 533 Saudáveis\n",
    "- 27 HAS + DCV"
   ]
  },
  {
   "cell_type": "code",
   "execution_count": 317,
   "id": "e7ae50fc-6888-4b99-baec-64b986c7a929",
   "metadata": {},
   "outputs": [
    {
     "data": {
      "text/html": [
       "<div>\n",
       "<style scoped>\n",
       "    .dataframe tbody tr th:only-of-type {\n",
       "        vertical-align: middle;\n",
       "    }\n",
       "\n",
       "    .dataframe tbody tr th {\n",
       "        vertical-align: top;\n",
       "    }\n",
       "\n",
       "    .dataframe thead th {\n",
       "        text-align: right;\n",
       "    }\n",
       "</style>\n",
       "<table border=\"1\" class=\"dataframe\">\n",
       "  <thead>\n",
       "    <tr style=\"text-align: right;\">\n",
       "      <th></th>\n",
       "      <th>Faixa_salarial</th>\n",
       "      <th>Destino_lixo</th>\n",
       "      <th>Area_moradia</th>\n",
       "      <th>Abastecimento_agua</th>\n",
       "    </tr>\n",
       "  </thead>\n",
       "  <tbody>\n",
       "    <tr>\n",
       "      <th>1166</th>\n",
       "      <td>3.0</td>\n",
       "      <td>1.0</td>\n",
       "      <td>1</td>\n",
       "      <td>1.0</td>\n",
       "    </tr>\n",
       "    <tr>\n",
       "      <th>1279</th>\n",
       "      <td>2.0</td>\n",
       "      <td>1.0</td>\n",
       "      <td>1</td>\n",
       "      <td>1.0</td>\n",
       "    </tr>\n",
       "    <tr>\n",
       "      <th>1300</th>\n",
       "      <td>2.0</td>\n",
       "      <td>1.0</td>\n",
       "      <td>1</td>\n",
       "      <td>2.0</td>\n",
       "    </tr>\n",
       "    <tr>\n",
       "      <th>1397</th>\n",
       "      <td>1.0</td>\n",
       "      <td>1.0</td>\n",
       "      <td>1</td>\n",
       "      <td>1.0</td>\n",
       "    </tr>\n",
       "    <tr>\n",
       "      <th>1625</th>\n",
       "      <td>5.0</td>\n",
       "      <td>1.0</td>\n",
       "      <td>1</td>\n",
       "      <td>1.0</td>\n",
       "    </tr>\n",
       "    <tr>\n",
       "      <th>...</th>\n",
       "      <td>...</td>\n",
       "      <td>...</td>\n",
       "      <td>...</td>\n",
       "      <td>...</td>\n",
       "    </tr>\n",
       "    <tr>\n",
       "      <th>32790</th>\n",
       "      <td>1.0</td>\n",
       "      <td>3.0</td>\n",
       "      <td>2</td>\n",
       "      <td>4.0</td>\n",
       "    </tr>\n",
       "    <tr>\n",
       "      <th>34159</th>\n",
       "      <td>3.0</td>\n",
       "      <td>3.0</td>\n",
       "      <td>2</td>\n",
       "      <td>4.0</td>\n",
       "    </tr>\n",
       "    <tr>\n",
       "      <th>39168</th>\n",
       "      <td>2.0</td>\n",
       "      <td>1.0</td>\n",
       "      <td>1</td>\n",
       "      <td>1.0</td>\n",
       "    </tr>\n",
       "    <tr>\n",
       "      <th>39367</th>\n",
       "      <td>4.0</td>\n",
       "      <td>1.0</td>\n",
       "      <td>1</td>\n",
       "      <td>1.0</td>\n",
       "    </tr>\n",
       "    <tr>\n",
       "      <th>39752</th>\n",
       "      <td>2.0</td>\n",
       "      <td>3.0</td>\n",
       "      <td>2</td>\n",
       "      <td>2.0</td>\n",
       "    </tr>\n",
       "  </tbody>\n",
       "</table>\n",
       "<p>533 rows × 4 columns</p>\n",
       "</div>"
      ],
      "text/plain": [
       "       Faixa_salarial  Destino_lixo  Area_moradia  Abastecimento_agua\n",
       "1166              3.0           1.0             1                 1.0\n",
       "1279              2.0           1.0             1                 1.0\n",
       "1300              2.0           1.0             1                 2.0\n",
       "1397              1.0           1.0             1                 1.0\n",
       "1625              5.0           1.0             1                 1.0\n",
       "...               ...           ...           ...                 ...\n",
       "32790             1.0           3.0             2                 4.0\n",
       "34159             3.0           3.0             2                 4.0\n",
       "39168             2.0           1.0             1                 1.0\n",
       "39367             4.0           1.0             1                 1.0\n",
       "39752             2.0           3.0             2                 2.0\n",
       "\n",
       "[533 rows x 4 columns]"
      ]
     },
     "execution_count": 317,
     "metadata": {},
     "output_type": "execute_result"
    }
   ],
   "source": [
    "df.loc[(df[\"Esgoto\"].isna()) &  (df['Condicao'] == 'Saudavel'), ['Faixa_salarial', 'Destino_lixo', 'Area_moradia', 'Abastecimento_agua']]"
   ]
  },
  {
   "cell_type": "code",
   "execution_count": 318,
   "id": "279dda52-e1e8-4d51-b2e9-f9f4c3d999ff",
   "metadata": {},
   "outputs": [
    {
     "data": {
      "text/plain": [
       "Faixa_salarial\n",
       "1.0               267\n",
       "2.0               120\n",
       "3.0               112\n",
       "4.0                30\n",
       "5.0                 2\n",
       "6.0                 2\n",
       "Name: count, dtype: int64"
      ]
     },
     "execution_count": 318,
     "metadata": {},
     "output_type": "execute_result"
    }
   ],
   "source": [
    "df.loc[(df[\"Esgoto\"].isna()) &  (df['Condicao'] == 'Saudavel'), ['Faixa_salarial']].value_counts()"
   ]
  },
  {
   "cell_type": "code",
   "execution_count": 319,
   "id": "d65d47a6-1dd2-4b22-b7b5-678f4c1fdc0f",
   "metadata": {},
   "outputs": [
    {
     "data": {
      "text/plain": [
       "Escolaridade\n",
       "2.0             274\n",
       "1.0             120\n",
       "5.0              60\n",
       "4.0              38\n",
       "3.0              30\n",
       "7.0               9\n",
       "6.0               2\n",
       "Name: count, dtype: int64"
      ]
     },
     "execution_count": 319,
     "metadata": {},
     "output_type": "execute_result"
    }
   ],
   "source": [
    "df.loc[(df[\"Esgoto\"].isna()) &  (df['Condicao'] == 'Saudavel'), ['Escolaridade']].value_counts()"
   ]
  },
  {
   "cell_type": "markdown",
   "id": "b8dbfa7c-e1f9-4fc1-841c-66557aa39892",
   "metadata": {},
   "source": [
    "Essas pessoas saudáveis/sem diagnóstico são em sua maioria pessoas que recebem menos de meio salário mínimo, vivem em zona rural com ensino fundamental incompleto ou nem estudou.\n",
    "\n",
    "Portanto, são pessoas que provavelmente não possuem acesso ao saneamento básico."
   ]
  },
  {
   "cell_type": "code",
   "execution_count": 320,
   "id": "bc5658e6-cc3e-40de-9522-dbdcc091aa52",
   "metadata": {},
   "outputs": [],
   "source": [
    "# Substituição por Fossa Rudimentar para essas pessoas, que é o mais comum em propriedades rurais sem saneamento básico.\n",
    "df.loc[(df[\"Esgoto\"].isna()) &  (df['Condicao'] == 'Saudavel'), ['Esgoto']] = 4"
   ]
  },
  {
   "cell_type": "code",
   "execution_count": 321,
   "id": "833ea130-ecaf-4989-8d64-913c44c91219",
   "metadata": {},
   "outputs": [
    {
     "data": {
      "text/html": [
       "<div>\n",
       "<style scoped>\n",
       "    .dataframe tbody tr th:only-of-type {\n",
       "        vertical-align: middle;\n",
       "    }\n",
       "\n",
       "    .dataframe tbody tr th {\n",
       "        vertical-align: top;\n",
       "    }\n",
       "\n",
       "    .dataframe thead th {\n",
       "        text-align: right;\n",
       "    }\n",
       "</style>\n",
       "<table border=\"1\" class=\"dataframe\">\n",
       "  <thead>\n",
       "    <tr style=\"text-align: right;\">\n",
       "      <th></th>\n",
       "      <th>Faixa_salarial</th>\n",
       "      <th>Destino_lixo</th>\n",
       "      <th>Area_moradia</th>\n",
       "      <th>Abastecimento_agua</th>\n",
       "    </tr>\n",
       "  </thead>\n",
       "  <tbody>\n",
       "    <tr>\n",
       "      <th>42846</th>\n",
       "      <td>1.0</td>\n",
       "      <td>3.0</td>\n",
       "      <td>2</td>\n",
       "      <td>1.0</td>\n",
       "    </tr>\n",
       "    <tr>\n",
       "      <th>42850</th>\n",
       "      <td>3.0</td>\n",
       "      <td>3.0</td>\n",
       "      <td>2</td>\n",
       "      <td>4.0</td>\n",
       "    </tr>\n",
       "    <tr>\n",
       "      <th>42854</th>\n",
       "      <td>5.0</td>\n",
       "      <td>5.0</td>\n",
       "      <td>2</td>\n",
       "      <td>2.0</td>\n",
       "    </tr>\n",
       "    <tr>\n",
       "      <th>42916</th>\n",
       "      <td>2.0</td>\n",
       "      <td>3.0</td>\n",
       "      <td>2</td>\n",
       "      <td>6.0</td>\n",
       "    </tr>\n",
       "    <tr>\n",
       "      <th>42945</th>\n",
       "      <td>3.0</td>\n",
       "      <td>3.0</td>\n",
       "      <td>2</td>\n",
       "      <td>1.0</td>\n",
       "    </tr>\n",
       "    <tr>\n",
       "      <th>42983</th>\n",
       "      <td>1.0</td>\n",
       "      <td>1.0</td>\n",
       "      <td>2</td>\n",
       "      <td>2.0</td>\n",
       "    </tr>\n",
       "    <tr>\n",
       "      <th>43118</th>\n",
       "      <td>3.0</td>\n",
       "      <td>3.0</td>\n",
       "      <td>2</td>\n",
       "      <td>2.0</td>\n",
       "    </tr>\n",
       "    <tr>\n",
       "      <th>43120</th>\n",
       "      <td>3.0</td>\n",
       "      <td>3.0</td>\n",
       "      <td>2</td>\n",
       "      <td>3.0</td>\n",
       "    </tr>\n",
       "    <tr>\n",
       "      <th>43153</th>\n",
       "      <td>3.0</td>\n",
       "      <td>3.0</td>\n",
       "      <td>2</td>\n",
       "      <td>1.0</td>\n",
       "    </tr>\n",
       "    <tr>\n",
       "      <th>43181</th>\n",
       "      <td>2.0</td>\n",
       "      <td>1.0</td>\n",
       "      <td>1</td>\n",
       "      <td>2.0</td>\n",
       "    </tr>\n",
       "    <tr>\n",
       "      <th>43193</th>\n",
       "      <td>3.0</td>\n",
       "      <td>3.0</td>\n",
       "      <td>2</td>\n",
       "      <td>3.0</td>\n",
       "    </tr>\n",
       "    <tr>\n",
       "      <th>43258</th>\n",
       "      <td>2.0</td>\n",
       "      <td>3.0</td>\n",
       "      <td>2</td>\n",
       "      <td>2.0</td>\n",
       "    </tr>\n",
       "    <tr>\n",
       "      <th>43296</th>\n",
       "      <td>2.0</td>\n",
       "      <td>3.0</td>\n",
       "      <td>2</td>\n",
       "      <td>3.0</td>\n",
       "    </tr>\n",
       "    <tr>\n",
       "      <th>43297</th>\n",
       "      <td>3.0</td>\n",
       "      <td>3.0</td>\n",
       "      <td>2</td>\n",
       "      <td>1.0</td>\n",
       "    </tr>\n",
       "    <tr>\n",
       "      <th>43300</th>\n",
       "      <td>4.0</td>\n",
       "      <td>3.0</td>\n",
       "      <td>2</td>\n",
       "      <td>3.0</td>\n",
       "    </tr>\n",
       "    <tr>\n",
       "      <th>43386</th>\n",
       "      <td>2.0</td>\n",
       "      <td>3.0</td>\n",
       "      <td>2</td>\n",
       "      <td>6.0</td>\n",
       "    </tr>\n",
       "    <tr>\n",
       "      <th>43597</th>\n",
       "      <td>2.0</td>\n",
       "      <td>3.0</td>\n",
       "      <td>2</td>\n",
       "      <td>6.0</td>\n",
       "    </tr>\n",
       "    <tr>\n",
       "      <th>43613</th>\n",
       "      <td>3.0</td>\n",
       "      <td>3.0</td>\n",
       "      <td>2</td>\n",
       "      <td>6.0</td>\n",
       "    </tr>\n",
       "    <tr>\n",
       "      <th>43615</th>\n",
       "      <td>2.0</td>\n",
       "      <td>3.0</td>\n",
       "      <td>2</td>\n",
       "      <td>6.0</td>\n",
       "    </tr>\n",
       "    <tr>\n",
       "      <th>43719</th>\n",
       "      <td>2.0</td>\n",
       "      <td>3.0</td>\n",
       "      <td>2</td>\n",
       "      <td>2.0</td>\n",
       "    </tr>\n",
       "    <tr>\n",
       "      <th>43735</th>\n",
       "      <td>3.0</td>\n",
       "      <td>5.0</td>\n",
       "      <td>2</td>\n",
       "      <td>1.0</td>\n",
       "    </tr>\n",
       "    <tr>\n",
       "      <th>43813</th>\n",
       "      <td>2.0</td>\n",
       "      <td>3.0</td>\n",
       "      <td>2</td>\n",
       "      <td>2.0</td>\n",
       "    </tr>\n",
       "    <tr>\n",
       "      <th>43815</th>\n",
       "      <td>3.0</td>\n",
       "      <td>5.0</td>\n",
       "      <td>2</td>\n",
       "      <td>1.0</td>\n",
       "    </tr>\n",
       "    <tr>\n",
       "      <th>43817</th>\n",
       "      <td>2.0</td>\n",
       "      <td>5.0</td>\n",
       "      <td>2</td>\n",
       "      <td>3.0</td>\n",
       "    </tr>\n",
       "    <tr>\n",
       "      <th>43828</th>\n",
       "      <td>2.0</td>\n",
       "      <td>2.0</td>\n",
       "      <td>2</td>\n",
       "      <td>2.0</td>\n",
       "    </tr>\n",
       "    <tr>\n",
       "      <th>43895</th>\n",
       "      <td>3.0</td>\n",
       "      <td>1.0</td>\n",
       "      <td>2</td>\n",
       "      <td>1.0</td>\n",
       "    </tr>\n",
       "    <tr>\n",
       "      <th>44239</th>\n",
       "      <td>3.0</td>\n",
       "      <td>4.0</td>\n",
       "      <td>2</td>\n",
       "      <td>2.0</td>\n",
       "    </tr>\n",
       "  </tbody>\n",
       "</table>\n",
       "</div>"
      ],
      "text/plain": [
       "       Faixa_salarial  Destino_lixo  Area_moradia  Abastecimento_agua\n",
       "42846             1.0           3.0             2                 1.0\n",
       "42850             3.0           3.0             2                 4.0\n",
       "42854             5.0           5.0             2                 2.0\n",
       "42916             2.0           3.0             2                 6.0\n",
       "42945             3.0           3.0             2                 1.0\n",
       "42983             1.0           1.0             2                 2.0\n",
       "43118             3.0           3.0             2                 2.0\n",
       "43120             3.0           3.0             2                 3.0\n",
       "43153             3.0           3.0             2                 1.0\n",
       "43181             2.0           1.0             1                 2.0\n",
       "43193             3.0           3.0             2                 3.0\n",
       "43258             2.0           3.0             2                 2.0\n",
       "43296             2.0           3.0             2                 3.0\n",
       "43297             3.0           3.0             2                 1.0\n",
       "43300             4.0           3.0             2                 3.0\n",
       "43386             2.0           3.0             2                 6.0\n",
       "43597             2.0           3.0             2                 6.0\n",
       "43613             3.0           3.0             2                 6.0\n",
       "43615             2.0           3.0             2                 6.0\n",
       "43719             2.0           3.0             2                 2.0\n",
       "43735             3.0           5.0             2                 1.0\n",
       "43813             2.0           3.0             2                 2.0\n",
       "43815             3.0           5.0             2                 1.0\n",
       "43817             2.0           5.0             2                 3.0\n",
       "43828             2.0           2.0             2                 2.0\n",
       "43895             3.0           1.0             2                 1.0\n",
       "44239             3.0           4.0             2                 2.0"
      ]
     },
     "execution_count": 321,
     "metadata": {},
     "output_type": "execute_result"
    }
   ],
   "source": [
    "df.loc[(df[\"Esgoto\"].isna()) &  (df['Condicao'] == 'HiperCVD'), ['Faixa_salarial', 'Destino_lixo', 'Area_moradia', 'Abastecimento_agua']]"
   ]
  },
  {
   "cell_type": "code",
   "execution_count": 322,
   "id": "c71d309e-df06-475c-952c-7b4f2a185b39",
   "metadata": {},
   "outputs": [],
   "source": [
    "df.loc[(df[\"Esgoto\"].isna()) &  (df['Condicao'] == 'HiperCVD'), ['Esgoto']] = 4"
   ]
  },
  {
   "cell_type": "markdown",
   "id": "a48bfc4a-d59f-46fe-bee0-d2557513b44c",
   "metadata": {},
   "source": [
    "Essas pessoas possuem uma boa condição financeira, portanto não há como saber a realidade em relação ao esgoto delas. Logo vou descartar essas instâncias."
   ]
  },
  {
   "cell_type": "markdown",
   "id": "08510f97-e5d3-40a1-ab69-5b963e4c6003",
   "metadata": {},
   "source": [
    "## **3.10. Aspecto - Econômico**"
   ]
  },
  {
   "cell_type": "markdown",
   "id": "f4ff7b0f-0118-40f0-91f1-892882b09661",
   "metadata": {},
   "source": [
    "### 3.10.1. Nulos"
   ]
  },
  {
   "cell_type": "code",
   "execution_count": 323,
   "id": "b3ebd99f-ba44-4d2a-9aee-b62f619adbdb",
   "metadata": {},
   "outputs": [
    {
     "data": {
      "text/plain": [
       "Faixa_salarial    13\n",
       "dtype: int64"
      ]
     },
     "execution_count": 323,
     "metadata": {},
     "output_type": "execute_result"
    }
   ],
   "source": [
    "colunas_especificas = [\"Faixa_salarial\",]\n",
    "\n",
    "df[colunas_especificas].isnull().sum()"
   ]
  },
  {
   "cell_type": "code",
   "execution_count": 324,
   "id": "6d0612d4-7c2e-4fbe-a338-48998ac8a382",
   "metadata": {},
   "outputs": [],
   "source": [
    "index_removidos = df[df[\"Faixa_salarial\"].isna()].index\n",
    "\n",
    "df.drop(index_removidos, inplace=True)"
   ]
  },
  {
   "cell_type": "markdown",
   "id": "d65a9eeb-af8a-4853-ada4-6fe20e3e69f0",
   "metadata": {},
   "source": [
    "Nulos removidos"
   ]
  },
  {
   "cell_type": "code",
   "execution_count": 325,
   "id": "bea77f16-1449-4928-97fc-6650795e6143",
   "metadata": {},
   "outputs": [],
   "source": [
    "df = df.dropna()"
   ]
  },
  {
   "cell_type": "markdown",
   "id": "3bf5f82a-80ed-42c5-8635-ddb85173676e",
   "metadata": {},
   "source": [
    "## **3.11. Balanceamento das Classes**"
   ]
  },
  {
   "cell_type": "markdown",
   "id": "37eaf545-ea0f-4c0e-bcb9-5af92429069f",
   "metadata": {},
   "source": [
    "O objetivo dessa etapa é ampliar o número de instâncias da classe de pessoas com as duas comorbidades, isso porque a quantidade de instâncias é muito inferior em comparação com as outras duas classes."
   ]
  },
  {
   "cell_type": "code",
   "execution_count": 326,
   "id": "a705906b-1eeb-4a91-99fa-f092469aa262",
   "metadata": {},
   "outputs": [
    {
     "data": {
      "text/plain": [
       "Condicao\n",
       "Saudavel    37507\n",
       "HiperCVD     2961\n",
       "Name: count, dtype: int64"
      ]
     },
     "execution_count": 326,
     "metadata": {},
     "output_type": "execute_result"
    }
   ],
   "source": [
    "df[\"Condicao\"].value_counts()"
   ]
  },
  {
   "cell_type": "markdown",
   "id": "d7b34041-e078-4fd4-a1c3-4e0a959aee97",
   "metadata": {},
   "source": [
    "### 3.11.1. LabelEncoder para as classes."
   ]
  },
  {
   "cell_type": "markdown",
   "id": "7233ae38-fbb1-4a66-97ba-7d815117f9db",
   "metadata": {},
   "source": [
    "As classes precisam ser discretizadas em valores numéricos para os modelos.\n",
    "\n"
   ]
  },
  {
   "cell_type": "code",
   "execution_count": 327,
   "id": "392a70e7-84b7-497d-932a-9fa11db94ff2",
   "metadata": {},
   "outputs": [
    {
     "name": "stderr",
     "output_type": "stream",
     "text": [
      "C:\\Users\\Gustavo\\AppData\\Local\\Temp\\ipykernel_17900\\2880284616.py:2: FutureWarning:\n",
      "\n",
      "Downcasting behavior in `replace` is deprecated and will be removed in a future version. To retain the old behavior, explicitly call `result.infer_objects(copy=False)`. To opt-in to the future behavior, set `pd.set_option('future.no_silent_downcasting', True)`\n",
      "\n"
     ]
    }
   ],
   "source": [
    "# Mapeando os valores na coluna 'Condicao'\n",
    "df['Condicao'] = df['Condicao'].replace({'HiperCVD': 0, 'Saudavel': 1})"
   ]
  },
  {
   "cell_type": "code",
   "execution_count": 328,
   "id": "d724a9ef-f6d0-4633-8a9c-f4ba2e3c2617",
   "metadata": {},
   "outputs": [
    {
     "data": {
      "text/plain": [
       "Condicao\n",
       "1    37507\n",
       "0     2961\n",
       "Name: count, dtype: int64"
      ]
     },
     "execution_count": 328,
     "metadata": {},
     "output_type": "execute_result"
    }
   ],
   "source": [
    "df['Condicao'].value_counts()"
   ]
  },
  {
   "cell_type": "markdown",
   "id": "4655ba4c-1a59-4644-815d-dc906871916b",
   "metadata": {},
   "source": [
    "### 3.11.2. Divisao treino e teste."
   ]
  },
  {
   "cell_type": "code",
   "execution_count": 329,
   "id": "92ff6815-ceb6-4296-bb46-69a1ccc414c8",
   "metadata": {},
   "outputs": [],
   "source": [
    "# Divisão em conjunto de treino e teste.\n",
    "from sklearn.model_selection import train_test_split\n",
    "\n",
    "# Separar o rótulo dos dados.\n",
    "y = df['Condicao']\n",
    "X = df.drop('Condicao', axis=1)\n",
    "\n",
    "X_train, X_test, y_train, y_test = train_test_split(X, y, test_size=0.2, random_state=42, stratify=y)"
   ]
  },
  {
   "cell_type": "code",
   "execution_count": 330,
   "id": "dbee2aa1-21bd-4d9f-9c47-3e6942507137",
   "metadata": {},
   "outputs": [
    {
     "data": {
      "text/plain": [
       "32374"
      ]
     },
     "execution_count": 330,
     "metadata": {},
     "output_type": "execute_result"
    }
   ],
   "source": [
    "len(y_train)"
   ]
  },
  {
   "cell_type": "markdown",
   "id": "a7deffb2-04ee-4ee8-8f1b-a18a8adfc631",
   "metadata": {},
   "source": [
    "18.307 instâncias de treino no primeiro momento, mas ainda é necessário realizar o undersampling da classe das pessoas **com hipertensão e hipertensão + dcv**."
   ]
  },
  {
   "cell_type": "code",
   "execution_count": 331,
   "id": "8722dcfd-8171-4dea-b218-ebcf26597cae",
   "metadata": {},
   "outputs": [
    {
     "data": {
      "text/plain": [
       "Condicao\n",
       "1    30005\n",
       "0     2369\n",
       "Name: count, dtype: int64"
      ]
     },
     "execution_count": 331,
     "metadata": {},
     "output_type": "execute_result"
    }
   ],
   "source": [
    "y_train.value_counts()"
   ]
  },
  {
   "cell_type": "code",
   "execution_count": 333,
   "id": "a3eb2482-386b-4b02-aa1e-44fe6759e62d",
   "metadata": {},
   "outputs": [
    {
     "name": "stdout",
     "output_type": "stream",
     "text": [
      "Contagem no conjunto de treino:\n",
      "Condicao\n",
      "0    2369\n",
      "1    2369\n",
      "Name: count, dtype: int64\n"
     ]
    }
   ],
   "source": [
    "from imblearn.under_sampling import RandomUnderSampler\n",
    "\n",
    "# Aplica o undersampling\n",
    "undersampler = RandomUnderSampler(random_state=42)\n",
    "X_train_balanceado, y_train_balanceado = undersampler.fit_resample(X_train, y_train)\n",
    "\n",
    "# Verificando as novas contagens\n",
    "print(\"Contagem no conjunto de treino:\")\n",
    "print(y_train_balanceado.value_counts())"
   ]
  },
  {
   "cell_type": "code",
   "execution_count": 334,
   "id": "926a95df-bb44-4b32-8f16-3e7837502391",
   "metadata": {},
   "outputs": [
    {
     "data": {
      "text/plain": [
       "(4738, 25)"
      ]
     },
     "execution_count": 334,
     "metadata": {},
     "output_type": "execute_result"
    }
   ],
   "source": [
    "X_train_balanceado.shape"
   ]
  },
  {
   "cell_type": "code",
   "execution_count": 112,
   "id": "a6f7103f-556b-403e-b589-236be9a1a52c",
   "metadata": {},
   "outputs": [
    {
     "data": {
      "text/plain": [
       "8094"
      ]
     },
     "execution_count": 112,
     "metadata": {},
     "output_type": "execute_result"
    }
   ],
   "source": [
    "len(y_test)"
   ]
  },
  {
   "cell_type": "code",
   "execution_count": 113,
   "id": "7e395b21-951d-494c-8ef4-5f0f1b693a9e",
   "metadata": {},
   "outputs": [
    {
     "data": {
      "text/plain": [
       "Condicao\n",
       "1    7502\n",
       "0     592\n",
       "Name: count, dtype: int64"
      ]
     },
     "execution_count": 113,
     "metadata": {},
     "output_type": "execute_result"
    }
   ],
   "source": [
    "y_test.value_counts()"
   ]
  },
  {
   "cell_type": "markdown",
   "id": "fa4a1a3c-b0bb-45de-9cf7-5967c59d727e",
   "metadata": {},
   "source": [
    "## **3.12. Salvar o Conjunto de Dados Pré-Processado e Balanceado**"
   ]
  },
  {
   "cell_type": "code",
   "execution_count": 114,
   "id": "93b0a439-38e0-4920-a56d-afff2328c8a0",
   "metadata": {},
   "outputs": [],
   "source": [
    "import os\n",
    "\n",
    "def salvar_conjunto(dataframe):\n",
    "    diretorio = \"../dados_final\"\n",
    "\n",
    "    # Cria o diretório se ele não existir\n",
    "    if not os.path.exists(diretorio):\n",
    "        os.makedirs(diretorio)\n",
    "\n",
    "    # Pergunta ao usuário o nome do arquivo\n",
    "    nome = input(\"Digite o nome do arquivo a ser salvo: \")\n",
    "\n",
    "    # Pergunta sobre o tipo de arquivo\n",
    "    decisao = int(input(\"Digite (1) para arquivo .csv ou digite (2) para arquivo .xlsx: \"))\n",
    "\n",
    "    # Define o caminho completo do arquivo\n",
    "    if decisao == 1:\n",
    "        caminho_arquivo = os.path.join(diretorio, nome + \".csv\")\n",
    "        dataframe.to_csv(caminho_arquivo, index=False)\n",
    "    elif decisao == 2:\n",
    "        caminho_arquivo = os.path.join(diretorio, nome + \".xlsx\")\n",
    "        dataframe.to_excel(caminho_arquivo, index=False)\n",
    "    else:\n",
    "        print(\"Opção inválida. O arquivo não foi salvo.\")\n",
    "        return -1\n",
    "\n",
    "    print(f\"Arquivo salvo em: {caminho_arquivo}\")"
   ]
  },
  {
   "cell_type": "code",
   "execution_count": 115,
   "id": "15fdccbd-16e3-408a-8811-9b3ca94d20d1",
   "metadata": {},
   "outputs": [
    {
     "name": "stdout",
     "output_type": "stream",
     "text": [
      "Arquivos salvos com sucesso!\n"
     ]
    }
   ],
   "source": [
    "import pickle\n",
    "import os\n",
    "\n",
    "diretorio = \"../dados_final\"\n",
    "\n",
    "# Criar o diretório, se não existir\n",
    "if not os.path.exists(diretorio):\n",
    "    os.makedirs(diretorio)\n",
    "\n",
    "\n",
    "# Salvar X_TRAIN \n",
    "with open(os.path.join(diretorio, 'X_train.pkl'), 'wb') as f:\n",
    "    pickle.dump(X_train_balanceado, f)\n",
    "\n",
    "# Salvar Y_TRAIN \n",
    "with open(os.path.join(diretorio, 'y_train.pkl'), 'wb') as f:\n",
    "    pickle.dump(y_train_balanceado, f)\n",
    "\n",
    "# Salvar X_TEST \n",
    "with open(os.path.join(diretorio, 'X_test.pkl'), 'wb') as f:\n",
    "    pickle.dump(X_test, f)\n",
    "\n",
    "# Salvar Y_TEST \n",
    "with open(os.path.join(diretorio, 'Y_test.pkl'), 'wb') as f:\n",
    "    pickle.dump(y_test, f)\n",
    "\n",
    "print(\"Arquivos salvos com sucesso!\")"
   ]
  },
  {
   "cell_type": "code",
   "execution_count": 116,
   "id": "ef904e3d-0514-4120-a336-3b8be30fd91e",
   "metadata": {},
   "outputs": [
    {
     "name": "stdout",
     "output_type": "stream",
     "text": [
      "Sexo                           float64\n",
      "Consumo_sal                    float64\n",
      "Ficou_internado                float64\n",
      "Ultima_consulta                float64\n",
      "Percepcao_estado_saude         float64\n",
      "Tem_plano                      float64\n",
      "Cansa_subida                   float64\n",
      "Cansa_plano                    float64\n",
      "Alfabetizacao                  float64\n",
      "Escolaridade                   float64\n",
      "Area_moradia                     int64\n",
      "Esgoto                         float64\n",
      "Destino_lixo                   float64\n",
      "Acesso_internet                float64\n",
      "Abastecimento_agua             float64\n",
      "Faixa_salarial                 float64\n",
      "Tem_diabetes                   float64\n",
      "Categoria_IMC                    int64\n",
      "Raca_etnia_categoria_Branco    float64\n",
      "Raca_etnia_categoria_Pardo     float64\n",
      "Raca_etnia_categoria_Preto     float64\n",
      "Faixa_Etaria_Numerica            int64\n",
      "Nivel_atividade_fisica          object\n",
      "Categoria_tabagismo            float64\n",
      "categoria_alcoolismo             int64\n",
      "dtype: object\n"
     ]
    }
   ],
   "source": [
    "print(X_test.dtypes)"
   ]
  }
 ],
 "metadata": {
  "kernelspec": {
   "display_name": "Python 3 (ipykernel)",
   "language": "python",
   "name": "python3"
  },
  "language_info": {
   "codemirror_mode": {
    "name": "ipython",
    "version": 3
   },
   "file_extension": ".py",
   "mimetype": "text/x-python",
   "name": "python",
   "nbconvert_exporter": "python",
   "pygments_lexer": "ipython3",
   "version": "3.12.4"
  }
 },
 "nbformat": 4,
 "nbformat_minor": 5
}
