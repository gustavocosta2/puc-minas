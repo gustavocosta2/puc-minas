{
 "cells": [
  {
   "cell_type": "markdown",
   "id": "4da1f865-c0e5-44fa-a0d6-ded84c247de6",
   "metadata": {},
   "source": [
    "# **2. Seleção dos Atributos**"
   ]
  },
  {
   "cell_type": "markdown",
   "id": "10c84a05-f47e-4983-9216-7c1facf00e89",
   "metadata": {},
   "source": [
    "O objetivo desse notebook é **exclusivamente** realizar a seleção de atributos baseando-se no método CAPTO, onde há a leitura da literatura médica que diz quais são os principais fatores de risco associados às doenças."
   ]
  },
  {
   "cell_type": "code",
   "execution_count": 1,
   "id": "a1c845e3-b13d-4975-b69d-49d8cb5fb9f9",
   "metadata": {},
   "outputs": [],
   "source": [
    "# Importação das bibliotecas necessárias.\n",
    "import pandas as pd\n",
    "import os\n",
    "import matplotlib.pyplot as plt\n",
    "import seaborn as sns"
   ]
  },
  {
   "cell_type": "code",
   "execution_count": 2,
   "id": "0e7b8805-e3cd-43c8-a54c-65ceb08d7c1a",
   "metadata": {},
   "outputs": [],
   "source": [
    "df = pd.read_csv(\"C://Users//Gustavo//OneDrive//Documentos//PUC//3° Periodo//Mineraçao de Dados//trabalho//dados_final//df_1.csv\")"
   ]
  },
  {
   "cell_type": "markdown",
   "id": "a274d64d-1f30-46cc-a3fe-49cdf44447a7",
   "metadata": {},
   "source": [
    "## **2.1. Selecionando Atributos**"
   ]
  },
  {
   "cell_type": "code",
   "execution_count": 3,
   "id": "ece588d7-4805-44fb-9ee1-9db2a4956640",
   "metadata": {},
   "outputs": [],
   "source": [
    "df_selecionado = df[[\"P00104\",# Aspecto Antropometria, 2 atributos relacionados.\n",
    "             \"P00404\",\n",
    "             # Aspecto Características do Indivíduo, 3 atributos relacionados.\n",
    "             \"C006\",\n",
    "             \"C008\",\n",
    "             \"C009\",\n",
    "             # Aspecto Habitos Alimentares, 18 atributos relacionados.\n",
    "             \"P02601\",\n",
    "             # Aspecto - Atividades Físicas, 2 atributo relacionado.\n",
    "             \"P034\",\n",
    "             \"P035\",\n",
    "             # Aspecto - Tabagismo, 9 atributos relacionados.\n",
    "             \"P050\",\n",
    "             \"P052\",\n",
    "             \"P05401\",\n",
    "             \"P05404\",\n",
    "             \"P05407\",\n",
    "             \"P05410\",\n",
    "             \"P05413\",\n",
    "             \"P05416\",\n",
    "             \"P05419\",\n",
    "             # Aspecto - Alcoolismo, 3 atributos.\n",
    "             \"P027\",\n",
    "             \"P02801\",\n",
    "             \"P029\",\n",
    "             # Aspecto Acompanhamento Médico, 6 atributos.\n",
    "             \"J037\",\n",
    "             \"H001\",\n",
    "             \"N001\",\n",
    "             \"I00102\",\n",
    "             \"N004\",\n",
    "             \"N005\",\n",
    "             # Aspecto Social, 2 atributos.\n",
    "             \"D001\",\n",
    "             \"VDD004A\",\n",
    "             \"V0026\",\n",
    "             \"A01501\",\n",
    "             \"A016010\",\n",
    "             \"A01901\",\n",
    "             \"A005010\",\n",
    "             # Aspecto Ecônomico, 1 atributos selecionados.\n",
    "             \"VDF004\",\n",
    "             # Diabetes.\n",
    "             \"Q03001\",\n",
    "             # Rótulo\n",
    "             \"Condicao\"\n",
    "        ]]"
   ]
  },
  {
   "cell_type": "code",
   "execution_count": 4,
   "id": "319e3a06-cdc4-4f05-be38-80e94b4dc368",
   "metadata": {},
   "outputs": [
    {
     "data": {
      "text/plain": [
       "(45757, 36)"
      ]
     },
     "execution_count": 4,
     "metadata": {},
     "output_type": "execute_result"
    }
   ],
   "source": [
    "df_selecionado.shape"
   ]
  },
  {
   "cell_type": "markdown",
   "id": "c9ba28f1-0cd4-4b10-b8e9-572499f78c2d",
   "metadata": {},
   "source": [
    "## **Salvando a Base de Dados Selecionada**"
   ]
  },
  {
   "cell_type": "code",
   "execution_count": 5,
   "id": "fc5df9a8-9af2-483c-b7cd-3a045fe55ed4",
   "metadata": {},
   "outputs": [],
   "source": [
    "def salvar_conjunto(dataframe):\n",
    "    diretorio = \"../dados_final\"\n",
    "\n",
    "    if not os.path.exists(diretorio):\n",
    "        os.makedirs(diretorio)\n",
    "\n",
    "    #Pergunta ao usuário do código o nome do arquivo a ser salvo.\n",
    "    nome = input(\"Digite o nome do arquivo a ser salvo: \")\n",
    "    nome += \".csv\"\n",
    "\n",
    "    caminho_arquivo = os.path.join(diretorio, nome)\n",
    "    \n",
    "    #Salvar o DataFrame em .csv\n",
    "    dataframe.to_csv(caminho_arquivo, index=False)\n",
    "\n",
    "    print(f\"Arquivo salvo em: {caminho_arquivo}\")"
   ]
  },
  {
   "cell_type": "code",
   "execution_count": 6,
   "id": "b508e792-7054-4564-8663-b4a2c05d4f83",
   "metadata": {},
   "outputs": [
    {
     "name": "stdin",
     "output_type": "stream",
     "text": [
      "Digite o nome do arquivo a ser salvo:  df_2\n"
     ]
    },
    {
     "name": "stdout",
     "output_type": "stream",
     "text": [
      "Arquivo salvo em: ../dados_final\\df_2.csv\n"
     ]
    }
   ],
   "source": [
    "salvar_conjunto(df_selecionado)"
   ]
  },
  {
   "cell_type": "code",
   "execution_count": null,
   "id": "b1c75384-5981-4f7c-8d64-0c5139046870",
   "metadata": {},
   "outputs": [],
   "source": []
  }
 ],
 "metadata": {
  "kernelspec": {
   "display_name": "Python 3 (ipykernel)",
   "language": "python",
   "name": "python3"
  },
  "language_info": {
   "codemirror_mode": {
    "name": "ipython",
    "version": 3
   },
   "file_extension": ".py",
   "mimetype": "text/x-python",
   "name": "python",
   "nbconvert_exporter": "python",
   "pygments_lexer": "ipython3",
   "version": "3.12.4"
  }
 },
 "nbformat": 4,
 "nbformat_minor": 5
}
