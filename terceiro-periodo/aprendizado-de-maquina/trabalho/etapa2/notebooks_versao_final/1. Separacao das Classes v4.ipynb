{
 "cells": [
  {
   "cell_type": "markdown",
   "id": "72e60d72-5d32-42cf-bbed-cbc79dda9be2",
   "metadata": {},
   "source": [
    "# **1. Separação das Classes**\n",
    "\n",
    "O objetivo desse notebook é **exclusivamente** realizar a separação das classes na PNS 2019. Isto é, vamos rotular as pessoas no contexto do nosso problema:\n",
    "\n",
    "- Classe 1: Pessoas que possuem o diagnóstico de Doenças Cardiovasculares e Hipertensão no mesmo ano em que foram entrevistadas.\n",
    "\n",
    "- Classe 2: Pessoas que possuem o diagnóstico de Hipertensão e **não** possuem o diagnóstico de Doenças Cardiovasculares no mesmo ano em que foram entrevistadas.\n",
    "\n",
    "- Classe 3: Pessoas que **não** possuem diagnóstico para nenhuma das duas doenças.\n",
    "\n",
    "Em relação à classe 3, essas pessoas que não possuem o diagnóstico podem ser chamadas também de \"saudáveis\", mesmo que o termo mais correto para elas seja pessoas sem diagnóstico, porque apenas responderam não para a pergunta que questiona se elas já receberam um diagnóstico positivo da doença."
   ]
  },
  {
   "cell_type": "code",
   "execution_count": 1,
   "id": "4916f793-be89-4b13-b5f1-afaf0500794d",
   "metadata": {},
   "outputs": [],
   "source": [
    "# Importação das bibliotecas\n",
    "import pandas as pd\n",
    "import numpy as np\n",
    "import matplotlib.pyplot as plt\n",
    "import seaborn as sns\n",
    "import plotly as px\n",
    "import os"
   ]
  },
  {
   "cell_type": "code",
   "execution_count": 2,
   "id": "88f3867e-4e1d-41dc-b1ec-1fd2740c48dc",
   "metadata": {},
   "outputs": [],
   "source": [
    "# Aplicar o estilo do Seaborn\n",
    "sns.set(style=\"whitegrid\")"
   ]
  },
  {
   "cell_type": "code",
   "execution_count": 3,
   "id": "4aec06b4-2316-43ef-b7f7-7326746ca457",
   "metadata": {},
   "outputs": [
    {
     "data": {
      "text/html": [
       "<div>\n",
       "<style scoped>\n",
       "    .dataframe tbody tr th:only-of-type {\n",
       "        vertical-align: middle;\n",
       "    }\n",
       "\n",
       "    .dataframe tbody tr th {\n",
       "        vertical-align: top;\n",
       "    }\n",
       "\n",
       "    .dataframe thead th {\n",
       "        text-align: right;\n",
       "    }\n",
       "</style>\n",
       "<table border=\"1\" class=\"dataframe\">\n",
       "  <thead>\n",
       "    <tr style=\"text-align: right;\">\n",
       "      <th></th>\n",
       "      <th>V0001</th>\n",
       "      <th>V0024</th>\n",
       "      <th>UPA_PNS</th>\n",
       "      <th>V0006_PNS</th>\n",
       "      <th>V0015</th>\n",
       "      <th>V0020</th>\n",
       "      <th>V0022</th>\n",
       "      <th>V0026</th>\n",
       "      <th>V0031</th>\n",
       "      <th>V0025A</th>\n",
       "      <th>...</th>\n",
       "      <th>VDE002</th>\n",
       "      <th>VDE014</th>\n",
       "      <th>VDF002</th>\n",
       "      <th>VDF003</th>\n",
       "      <th>VDF004</th>\n",
       "      <th>VDL001</th>\n",
       "      <th>VDM001</th>\n",
       "      <th>VDP001</th>\n",
       "      <th>VDR001</th>\n",
       "      <th>VDDATA</th>\n",
       "    </tr>\n",
       "  </thead>\n",
       "  <tbody>\n",
       "    <tr>\n",
       "      <th>0</th>\n",
       "      <td>11</td>\n",
       "      <td>1110011</td>\n",
       "      <td>110000016</td>\n",
       "      <td>1</td>\n",
       "      <td>1</td>\n",
       "      <td>2019</td>\n",
       "      <td>6.0</td>\n",
       "      <td>1</td>\n",
       "      <td>1</td>\n",
       "      <td>1.0</td>\n",
       "      <td>...</td>\n",
       "      <td>1.0</td>\n",
       "      <td>6.0</td>\n",
       "      <td>2098.0</td>\n",
       "      <td>350.0</td>\n",
       "      <td>2.0</td>\n",
       "      <td>NaN</td>\n",
       "      <td>NaN</td>\n",
       "      <td>NaN</td>\n",
       "      <td>NaN</td>\n",
       "      <td>20210825</td>\n",
       "    </tr>\n",
       "    <tr>\n",
       "      <th>1</th>\n",
       "      <td>11</td>\n",
       "      <td>1110011</td>\n",
       "      <td>110000016</td>\n",
       "      <td>1</td>\n",
       "      <td>1</td>\n",
       "      <td>2019</td>\n",
       "      <td>6.0</td>\n",
       "      <td>1</td>\n",
       "      <td>1</td>\n",
       "      <td>0.0</td>\n",
       "      <td>...</td>\n",
       "      <td>NaN</td>\n",
       "      <td>NaN</td>\n",
       "      <td>2098.0</td>\n",
       "      <td>350.0</td>\n",
       "      <td>2.0</td>\n",
       "      <td>NaN</td>\n",
       "      <td>NaN</td>\n",
       "      <td>NaN</td>\n",
       "      <td>NaN</td>\n",
       "      <td>20210825</td>\n",
       "    </tr>\n",
       "    <tr>\n",
       "      <th>2</th>\n",
       "      <td>11</td>\n",
       "      <td>1110011</td>\n",
       "      <td>110000016</td>\n",
       "      <td>1</td>\n",
       "      <td>1</td>\n",
       "      <td>2019</td>\n",
       "      <td>6.0</td>\n",
       "      <td>1</td>\n",
       "      <td>1</td>\n",
       "      <td>0.0</td>\n",
       "      <td>...</td>\n",
       "      <td>1.0</td>\n",
       "      <td>4.0</td>\n",
       "      <td>2098.0</td>\n",
       "      <td>350.0</td>\n",
       "      <td>2.0</td>\n",
       "      <td>NaN</td>\n",
       "      <td>NaN</td>\n",
       "      <td>NaN</td>\n",
       "      <td>NaN</td>\n",
       "      <td>20210825</td>\n",
       "    </tr>\n",
       "    <tr>\n",
       "      <th>3</th>\n",
       "      <td>11</td>\n",
       "      <td>1110011</td>\n",
       "      <td>110000016</td>\n",
       "      <td>1</td>\n",
       "      <td>1</td>\n",
       "      <td>2019</td>\n",
       "      <td>6.0</td>\n",
       "      <td>1</td>\n",
       "      <td>1</td>\n",
       "      <td>9.0</td>\n",
       "      <td>...</td>\n",
       "      <td>NaN</td>\n",
       "      <td>NaN</td>\n",
       "      <td>2098.0</td>\n",
       "      <td>350.0</td>\n",
       "      <td>2.0</td>\n",
       "      <td>NaN</td>\n",
       "      <td>NaN</td>\n",
       "      <td>NaN</td>\n",
       "      <td>NaN</td>\n",
       "      <td>20210825</td>\n",
       "    </tr>\n",
       "    <tr>\n",
       "      <th>4</th>\n",
       "      <td>11</td>\n",
       "      <td>1110011</td>\n",
       "      <td>110000016</td>\n",
       "      <td>1</td>\n",
       "      <td>1</td>\n",
       "      <td>2019</td>\n",
       "      <td>6.0</td>\n",
       "      <td>1</td>\n",
       "      <td>1</td>\n",
       "      <td>9.0</td>\n",
       "      <td>...</td>\n",
       "      <td>NaN</td>\n",
       "      <td>NaN</td>\n",
       "      <td>2098.0</td>\n",
       "      <td>350.0</td>\n",
       "      <td>2.0</td>\n",
       "      <td>NaN</td>\n",
       "      <td>NaN</td>\n",
       "      <td>NaN</td>\n",
       "      <td>NaN</td>\n",
       "      <td>20210825</td>\n",
       "    </tr>\n",
       "  </tbody>\n",
       "</table>\n",
       "<p>5 rows × 1087 columns</p>\n",
       "</div>"
      ],
      "text/plain": [
       "   V0001    V0024    UPA_PNS  V0006_PNS  V0015  V0020  V0022  V0026  V0031  \\\n",
       "0     11  1110011  110000016          1      1   2019    6.0      1      1   \n",
       "1     11  1110011  110000016          1      1   2019    6.0      1      1   \n",
       "2     11  1110011  110000016          1      1   2019    6.0      1      1   \n",
       "3     11  1110011  110000016          1      1   2019    6.0      1      1   \n",
       "4     11  1110011  110000016          1      1   2019    6.0      1      1   \n",
       "\n",
       "   V0025A  ...  VDE002  VDE014  VDF002  VDF003  VDF004  VDL001  VDM001  \\\n",
       "0     1.0  ...     1.0     6.0  2098.0   350.0     2.0     NaN     NaN   \n",
       "1     0.0  ...     NaN     NaN  2098.0   350.0     2.0     NaN     NaN   \n",
       "2     0.0  ...     1.0     4.0  2098.0   350.0     2.0     NaN     NaN   \n",
       "3     9.0  ...     NaN     NaN  2098.0   350.0     2.0     NaN     NaN   \n",
       "4     9.0  ...     NaN     NaN  2098.0   350.0     2.0     NaN     NaN   \n",
       "\n",
       "   VDP001  VDR001    VDDATA  \n",
       "0     NaN     NaN  20210825  \n",
       "1     NaN     NaN  20210825  \n",
       "2     NaN     NaN  20210825  \n",
       "3     NaN     NaN  20210825  \n",
       "4     NaN     NaN  20210825  \n",
       "\n",
       "[5 rows x 1087 columns]"
      ]
     },
     "execution_count": 3,
     "metadata": {},
     "output_type": "execute_result"
    }
   ],
   "source": [
    "# Leitura da base de dados\n",
    "df = pd.read_csv(\"C://Users//Gustavo//OneDrive//Documentos//PUC//3° Periodo//Mineraçao de Dados//trabalho//dados//pns2019.csv\")\n",
    "df.head()"
   ]
  },
  {
   "cell_type": "code",
   "execution_count": 4,
   "id": "6e5281c6-b558-41e7-8279-8442aa4bd395",
   "metadata": {},
   "outputs": [
    {
     "data": {
      "text/html": [
       "<div>\n",
       "<style scoped>\n",
       "    .dataframe tbody tr th:only-of-type {\n",
       "        vertical-align: middle;\n",
       "    }\n",
       "\n",
       "    .dataframe tbody tr th {\n",
       "        vertical-align: top;\n",
       "    }\n",
       "\n",
       "    .dataframe thead th {\n",
       "        text-align: right;\n",
       "    }\n",
       "</style>\n",
       "<table border=\"1\" class=\"dataframe\">\n",
       "  <thead>\n",
       "    <tr style=\"text-align: right;\">\n",
       "      <th></th>\n",
       "      <th>V0001</th>\n",
       "      <th>V0024</th>\n",
       "      <th>UPA_PNS</th>\n",
       "      <th>V0006_PNS</th>\n",
       "      <th>V0015</th>\n",
       "      <th>V0020</th>\n",
       "      <th>V0022</th>\n",
       "      <th>V0026</th>\n",
       "      <th>V0031</th>\n",
       "      <th>V0025A</th>\n",
       "      <th>...</th>\n",
       "      <th>VDE002</th>\n",
       "      <th>VDE014</th>\n",
       "      <th>VDF002</th>\n",
       "      <th>VDF003</th>\n",
       "      <th>VDF004</th>\n",
       "      <th>VDL001</th>\n",
       "      <th>VDM001</th>\n",
       "      <th>VDP001</th>\n",
       "      <th>VDR001</th>\n",
       "      <th>VDDATA</th>\n",
       "    </tr>\n",
       "  </thead>\n",
       "  <tbody>\n",
       "    <tr>\n",
       "      <th>293721</th>\n",
       "      <td>53</td>\n",
       "      <td>5310220</td>\n",
       "      <td>530044434</td>\n",
       "      <td>14</td>\n",
       "      <td>1</td>\n",
       "      <td>2019</td>\n",
       "      <td>4.0</td>\n",
       "      <td>2</td>\n",
       "      <td>1</td>\n",
       "      <td>0.0</td>\n",
       "      <td>...</td>\n",
       "      <td>1.0</td>\n",
       "      <td>1.0</td>\n",
       "      <td>13390.0</td>\n",
       "      <td>3348.0</td>\n",
       "      <td>6.0</td>\n",
       "      <td>NaN</td>\n",
       "      <td>NaN</td>\n",
       "      <td>NaN</td>\n",
       "      <td>NaN</td>\n",
       "      <td>20210825</td>\n",
       "    </tr>\n",
       "    <tr>\n",
       "      <th>293722</th>\n",
       "      <td>53</td>\n",
       "      <td>5310220</td>\n",
       "      <td>530044434</td>\n",
       "      <td>14</td>\n",
       "      <td>1</td>\n",
       "      <td>2019</td>\n",
       "      <td>4.0</td>\n",
       "      <td>2</td>\n",
       "      <td>1</td>\n",
       "      <td>1.0</td>\n",
       "      <td>...</td>\n",
       "      <td>NaN</td>\n",
       "      <td>NaN</td>\n",
       "      <td>13390.0</td>\n",
       "      <td>3348.0</td>\n",
       "      <td>6.0</td>\n",
       "      <td>NaN</td>\n",
       "      <td>NaN</td>\n",
       "      <td>NaN</td>\n",
       "      <td>NaN</td>\n",
       "      <td>20210825</td>\n",
       "    </tr>\n",
       "    <tr>\n",
       "      <th>293723</th>\n",
       "      <td>53</td>\n",
       "      <td>5310220</td>\n",
       "      <td>530044434</td>\n",
       "      <td>14</td>\n",
       "      <td>1</td>\n",
       "      <td>2019</td>\n",
       "      <td>4.0</td>\n",
       "      <td>2</td>\n",
       "      <td>1</td>\n",
       "      <td>0.0</td>\n",
       "      <td>...</td>\n",
       "      <td>1.0</td>\n",
       "      <td>7.0</td>\n",
       "      <td>13390.0</td>\n",
       "      <td>3348.0</td>\n",
       "      <td>6.0</td>\n",
       "      <td>NaN</td>\n",
       "      <td>NaN</td>\n",
       "      <td>NaN</td>\n",
       "      <td>NaN</td>\n",
       "      <td>20210825</td>\n",
       "    </tr>\n",
       "    <tr>\n",
       "      <th>293724</th>\n",
       "      <td>53</td>\n",
       "      <td>5310220</td>\n",
       "      <td>530044434</td>\n",
       "      <td>14</td>\n",
       "      <td>1</td>\n",
       "      <td>2019</td>\n",
       "      <td>4.0</td>\n",
       "      <td>2</td>\n",
       "      <td>1</td>\n",
       "      <td>9.0</td>\n",
       "      <td>...</td>\n",
       "      <td>NaN</td>\n",
       "      <td>NaN</td>\n",
       "      <td>13390.0</td>\n",
       "      <td>3348.0</td>\n",
       "      <td>6.0</td>\n",
       "      <td>NaN</td>\n",
       "      <td>NaN</td>\n",
       "      <td>NaN</td>\n",
       "      <td>NaN</td>\n",
       "      <td>20210825</td>\n",
       "    </tr>\n",
       "    <tr>\n",
       "      <th>293725</th>\n",
       "      <td>53</td>\n",
       "      <td>5310220</td>\n",
       "      <td>530044434</td>\n",
       "      <td>15</td>\n",
       "      <td>8</td>\n",
       "      <td>2019</td>\n",
       "      <td>NaN</td>\n",
       "      <td>2</td>\n",
       "      <td>1</td>\n",
       "      <td>NaN</td>\n",
       "      <td>...</td>\n",
       "      <td>NaN</td>\n",
       "      <td>NaN</td>\n",
       "      <td>NaN</td>\n",
       "      <td>NaN</td>\n",
       "      <td>NaN</td>\n",
       "      <td>NaN</td>\n",
       "      <td>NaN</td>\n",
       "      <td>NaN</td>\n",
       "      <td>NaN</td>\n",
       "      <td>20210825</td>\n",
       "    </tr>\n",
       "  </tbody>\n",
       "</table>\n",
       "<p>5 rows × 1087 columns</p>\n",
       "</div>"
      ],
      "text/plain": [
       "        V0001    V0024    UPA_PNS  V0006_PNS  V0015  V0020  V0022  V0026  \\\n",
       "293721     53  5310220  530044434         14      1   2019    4.0      2   \n",
       "293722     53  5310220  530044434         14      1   2019    4.0      2   \n",
       "293723     53  5310220  530044434         14      1   2019    4.0      2   \n",
       "293724     53  5310220  530044434         14      1   2019    4.0      2   \n",
       "293725     53  5310220  530044434         15      8   2019    NaN      2   \n",
       "\n",
       "        V0031  V0025A  ...  VDE002  VDE014   VDF002  VDF003  VDF004  VDL001  \\\n",
       "293721      1     0.0  ...     1.0     1.0  13390.0  3348.0     6.0     NaN   \n",
       "293722      1     1.0  ...     NaN     NaN  13390.0  3348.0     6.0     NaN   \n",
       "293723      1     0.0  ...     1.0     7.0  13390.0  3348.0     6.0     NaN   \n",
       "293724      1     9.0  ...     NaN     NaN  13390.0  3348.0     6.0     NaN   \n",
       "293725      1     NaN  ...     NaN     NaN      NaN     NaN     NaN     NaN   \n",
       "\n",
       "        VDM001  VDP001  VDR001    VDDATA  \n",
       "293721     NaN     NaN     NaN  20210825  \n",
       "293722     NaN     NaN     NaN  20210825  \n",
       "293723     NaN     NaN     NaN  20210825  \n",
       "293724     NaN     NaN     NaN  20210825  \n",
       "293725     NaN     NaN     NaN  20210825  \n",
       "\n",
       "[5 rows x 1087 columns]"
      ]
     },
     "execution_count": 4,
     "metadata": {},
     "output_type": "execute_result"
    }
   ],
   "source": [
    "df.tail()"
   ]
  },
  {
   "cell_type": "code",
   "execution_count": 5,
   "id": "62358ef8-b360-4bf8-942f-a410356c40fa",
   "metadata": {},
   "outputs": [
    {
     "data": {
      "text/plain": [
       "(293726, 1087)"
      ]
     },
     "execution_count": 5,
     "metadata": {},
     "output_type": "execute_result"
    }
   ],
   "source": [
    "df.shape"
   ]
  },
  {
   "cell_type": "markdown",
   "id": "6a4de72d-33bf-474b-bf5e-0e3f483ee6d8",
   "metadata": {},
   "source": [
    "Para a base da PNS 2019, temos:\n",
    "\n",
    "- 293.726 instâncias, ou seja, entrevistados.\n",
    "- 1.087 atributos."
   ]
  },
  {
   "cell_type": "markdown",
   "id": "6830b2ee-f3ce-46a2-a8d4-792aaee20d42",
   "metadata": {},
   "source": [
    "## **1.1. Filtrando o Conjunto de Dados pela Idade**"
   ]
  },
  {
   "cell_type": "code",
   "execution_count": 6,
   "id": "2f59adcf-351b-4436-a743-8a60238241a5",
   "metadata": {},
   "outputs": [],
   "source": [
    "df_idade = df[df[\"C008\"] >=18]"
   ]
  },
  {
   "cell_type": "code",
   "execution_count": 7,
   "id": "de457f9d-f7b0-4ec3-a80b-f449799546fc",
   "metadata": {},
   "outputs": [
    {
     "data": {
      "text/plain": [
       "(207845, 1087)"
      ]
     },
     "execution_count": 7,
     "metadata": {},
     "output_type": "execute_result"
    }
   ],
   "source": [
    "df_idade.shape"
   ]
  },
  {
   "cell_type": "markdown",
   "id": "7c4c010d-53e0-4832-b622-f18fab1affd2",
   "metadata": {},
   "source": [
    "Há 207.845 pessoas com, no mínimo, 18 anos de idade."
   ]
  },
  {
   "cell_type": "markdown",
   "id": "26bd06ba-11c8-4067-ac5a-30d1a48c1074",
   "metadata": {},
   "source": [
    "## **1.2. Criando as Classes**"
   ]
  },
  {
   "cell_type": "code",
   "execution_count": 9,
   "id": "0b15a19a-089f-4dd5-86a3-7668e93ff14a",
   "metadata": {
    "scrolled": true
   },
   "outputs": [
    {
     "name": "stdout",
     "output_type": "stream",
     "text": [
      " O número de pessoas consideradas hiperCVD são: 3015\n",
      " O número de pessoas consideradas saudáveis são: 42742\n"
     ]
    }
   ],
   "source": [
    "# Encontrando o total de pessoas que possuem hipertensão e alguma doença cardiovascular.\n",
    "df_hiperCVD = df_idade.loc[\n",
    "    (df_idade['Q00201'] == 1) & #pressao alta\n",
    "    (df_idade['Q06306'] == 1) # doenças cardiovasculares\n",
    "]\n",
    "\n",
    "df_saudaveis = df_idade.loc[\n",
    "    (df['Q03001'] != 1) & #diabetes\n",
    "    (df['Q060'] != 1)   & #colesterol alto\n",
    "    (df['Q068'] != 1)   & #avc\n",
    "    (df['Q074'] != 1)   & #asma\n",
    "    (df['Q079'] != 1)   & #artrite\n",
    "    (df['Q088'] != 1)   & #dort\n",
    "    (df['Q092'] != 1)   & #depressao\n",
    "    (df['Q11006'] != 1) & #doencas mentais\n",
    "    (df['Q11604'] != 1) & #doenca cronica pulmonar\n",
    "    (df['Q120'] != 1)   & #cancer\n",
    "    (df['Q124'] != 1)   & #insuficiencia renal\n",
    "    (df['K047'] != 1)   & #catarata\n",
    "    (df_idade['Q00201'] == 2) & #pressao alta\n",
    "    (df_idade['Q06306'] == 2)   # doenças cardiovasculares\n",
    "]\n",
    "\n",
    "\n",
    "print(f\" O número de pessoas consideradas hiperCVD são: {len(df_hiperCVD)}\")\n",
    "print(f\" O número de pessoas consideradas saudáveis são: {len(df_saudaveis)}\")"
   ]
  },
  {
   "cell_type": "markdown",
   "id": "fa785d2f-9042-4e14-89b3-5527a172086b",
   "metadata": {},
   "source": [
    "Com a função que classifica as pessoas de acordo com as condições estabelecidas, temos:\n",
    "\n",
    "- Classe 1 (Pessoas com as duas comorbidades): 3.015 instâncias.\n",
    "- Classe 3 (Pessoas sem o diagnóstico das duas comorbidades): 42.742 instâncias."
   ]
  },
  {
   "cell_type": "code",
   "execution_count": 11,
   "id": "8e55d661-1c47-4aef-bd78-9fb73d99ed8d",
   "metadata": {},
   "outputs": [],
   "source": [
    "# Atribuindo os rótulos.\n",
    "df_saudaveis = df_saudaveis.copy()\n",
    "df_saudaveis['Condicao'] = 'Saudavel'\n",
    "\n",
    "df_hiperCVD = df_hiperCVD.copy()\n",
    "df_hiperCVD['Condicao'] = 'HiperCVD'"
   ]
  },
  {
   "cell_type": "code",
   "execution_count": 12,
   "id": "01c22c30-4def-46f3-b599-4c185049e810",
   "metadata": {},
   "outputs": [],
   "source": [
    "# Segundo passo: Merge dos três conjuntos de dados.\n",
    "\n",
    "df_classes = pd.concat([df_saudaveis, df_hiperCVD], ignore_index=True)"
   ]
  },
  {
   "cell_type": "code",
   "execution_count": 13,
   "id": "5a68ef04-e156-4211-b42a-d9391dbf0435",
   "metadata": {},
   "outputs": [
    {
     "data": {
      "text/plain": [
       "(45757, 1088)"
      ]
     },
     "execution_count": 13,
     "metadata": {},
     "output_type": "execute_result"
    }
   ],
   "source": [
    "df_classes.shape"
   ]
  },
  {
   "cell_type": "markdown",
   "id": "82744d86-b9d8-458a-8114-eec96c3cd201",
   "metadata": {},
   "source": [
    "DF com as classes formuladas possui 45.757 instâncias."
   ]
  },
  {
   "cell_type": "markdown",
   "id": "bfa11a53-e213-4f6d-91a3-fbc356779dce",
   "metadata": {},
   "source": [
    "## **1.3 Salvando a Base de Dados**"
   ]
  },
  {
   "cell_type": "code",
   "execution_count": 15,
   "id": "20f30884-8e59-49ce-8085-c01bbfa052a2",
   "metadata": {},
   "outputs": [],
   "source": [
    "def salvar_conjunto(dataframe):\n",
    "    diretorio = \"../dados_final\"\n",
    "\n",
    "    if not os.path.exists(diretorio):\n",
    "        os.makedirs(diretorio)\n",
    "\n",
    "    #Pergunta ao usuário do código o nome do arquivo a ser salvo.\n",
    "    nome = input(\"Digite o nome do arquivo a ser salvo: \")\n",
    "    nome += \".csv\"\n",
    "\n",
    "    caminho_arquivo = os.path.join(diretorio, nome)\n",
    "    \n",
    "    #Salvar o DataFrame em .csv\n",
    "    dataframe.to_csv(caminho_arquivo, index=False)\n",
    "\n",
    "    print(f\"Arquivo salvo em: {caminho_arquivo}\")"
   ]
  },
  {
   "cell_type": "code",
   "execution_count": 16,
   "id": "85c2457b-0107-4d81-857b-f9d52f1bb5c4",
   "metadata": {},
   "outputs": [
    {
     "name": "stdin",
     "output_type": "stream",
     "text": [
      "Digite o nome do arquivo a ser salvo:  df_1\n"
     ]
    },
    {
     "name": "stdout",
     "output_type": "stream",
     "text": [
      "Arquivo salvo em: ../dados_final\\df_1.csv\n"
     ]
    }
   ],
   "source": [
    "salvar_conjunto(df_classes)"
   ]
  },
  {
   "cell_type": "code",
   "execution_count": null,
   "id": "bcea81de-1535-444c-87f8-1ddf53255c13",
   "metadata": {},
   "outputs": [],
   "source": []
  }
 ],
 "metadata": {
  "kernelspec": {
   "display_name": "Python 3 (ipykernel)",
   "language": "python",
   "name": "python3"
  },
  "language_info": {
   "codemirror_mode": {
    "name": "ipython",
    "version": 3
   },
   "file_extension": ".py",
   "mimetype": "text/x-python",
   "name": "python",
   "nbconvert_exporter": "python",
   "pygments_lexer": "ipython3",
   "version": "3.12.4"
  }
 },
 "nbformat": 4,
 "nbformat_minor": 5
}
