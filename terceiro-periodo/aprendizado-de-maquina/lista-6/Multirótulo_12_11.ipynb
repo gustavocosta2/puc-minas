{
  "nbformat": 4,
  "nbformat_minor": 0,
  "metadata": {
    "colab": {
      "provenance": []
    },
    "kernelspec": {
      "name": "python3",
      "display_name": "Python 3"
    },
    "language_info": {
      "name": "python"
    }
  },
  "cells": [
    {
      "cell_type": "code",
      "execution_count": null,
      "metadata": {
        "id": "cLdE0wN2W-x5"
      },
      "outputs": [],
      "source": [
        "from sklearn.datasets import make_multilabel_classification\n",
        "from sklearn.model_selection import train_test_split\n",
        "from sklearn.multiclass import OneVsRestClassifier\n",
        "from sklearn.linear_model import LogisticRegression\n",
        "from sklearn.ensemble import RandomForestClassifier\n",
        "from sklearn.multioutput import MultiOutputClassifier\n",
        "from sklearn.model_selection import train_test_split\n",
        "from sklearn.metrics import hamming_loss\n",
        "from sklearn.metrics import accuracy_score, classification_report\n",
        "\n",
        "# Gere dados de exemplo\n",
        "X, y = make_multilabel_classification(n_samples=10, n_features=5, n_classes=3)"
      ]
    },
    {
      "cell_type": "code",
      "source": [
        "print(X)"
      ],
      "metadata": {
        "colab": {
          "base_uri": "https://localhost:8080/"
        },
        "id": "aGUhuUDafT9c",
        "outputId": "7a782f51-8cba-439b-d5b4-0b32f9f023d1"
      },
      "execution_count": null,
      "outputs": [
        {
          "output_type": "stream",
          "name": "stdout",
          "text": [
            "[[ 5. 16. 10. 14.  9.]\n",
            " [ 6.  7. 20.  8.  6.]\n",
            " [ 4. 11. 21.  6.  8.]\n",
            " [10.  7.  9. 14.  6.]\n",
            " [ 2.  7. 14.  4. 15.]\n",
            " [ 8.  5.  8.  3. 11.]\n",
            " [ 2. 15.  4.  7. 10.]\n",
            " [ 0. 11.  3. 10. 12.]\n",
            " [ 6. 12. 14.  7. 14.]\n",
            " [ 5.  0. 28.  2. 11.]]\n"
          ]
        }
      ]
    },
    {
      "cell_type": "code",
      "source": [
        "print(y)"
      ],
      "metadata": {
        "colab": {
          "base_uri": "https://localhost:8080/"
        },
        "id": "dHluqDKRfVuD",
        "outputId": "e9689db6-e01a-4bf1-ccfc-558488423942"
      },
      "execution_count": null,
      "outputs": [
        {
          "output_type": "stream",
          "name": "stdout",
          "text": [
            "[[1 0 1]\n",
            " [1 1 0]\n",
            " [1 1 0]\n",
            " [0 0 0]\n",
            " [0 1 1]\n",
            " [0 0 0]\n",
            " [1 0 1]\n",
            " [0 0 1]\n",
            " [1 1 1]\n",
            " [0 1 0]]\n"
          ]
        }
      ]
    },
    {
      "cell_type": "code",
      "source": [
        "# Divida os dados em treinamento e teste\n",
        "X_train, X_test, y_train, y_test = train_test_split(X, y, test_size=0.2, random_state=42)"
      ],
      "metadata": {
        "id": "w6XkSuxEUHCv"
      },
      "execution_count": null,
      "outputs": []
    },
    {
      "cell_type": "code",
      "source": [
        "# Crie um classificador multi-rótulo usando regressão logística\n",
        "#Regression = LogisticRegression()\n",
        "#classifier = OneVsRestClassifier(Regression)\n",
        "\n",
        "# Criar o modelo do tipo RandomForestClassifier\n",
        "forest = RandomForestClassifier(random_state=42)\n",
        "classifier = MultiOutputClassifier(forest)\n"
      ],
      "metadata": {
        "id": "EFmw2x4lYFv4"
      },
      "execution_count": null,
      "outputs": []
    },
    {
      "cell_type": "code",
      "source": [
        "# Treine o classificador\n",
        "classifier.fit(X_train, y_train)\n",
        "\n",
        "# Faça previsões no conjunto de teste\n",
        "predictions = classifier.predict(X_test)"
      ],
      "metadata": {
        "id": "to9cWBWTUMjU"
      },
      "execution_count": null,
      "outputs": []
    },
    {
      "cell_type": "code",
      "source": [
        "print(y_test)"
      ],
      "metadata": {
        "colab": {
          "base_uri": "https://localhost:8080/"
        },
        "id": "UjXzOWI1f1u0",
        "outputId": "e4315a6b-01fc-45cc-af1f-37e529b12e24"
      },
      "execution_count": null,
      "outputs": [
        {
          "output_type": "stream",
          "name": "stdout",
          "text": [
            "[[1 1 1]\n",
            " [1 1 0]]\n"
          ]
        }
      ]
    },
    {
      "cell_type": "code",
      "source": [
        "print(predictions)"
      ],
      "metadata": {
        "colab": {
          "base_uri": "https://localhost:8080/"
        },
        "id": "PqEdjdmLfuqD",
        "outputId": "c82355c1-0880-4dd9-eff0-62f0ea13aab6"
      },
      "execution_count": null,
      "outputs": [
        {
          "output_type": "stream",
          "name": "stdout",
          "text": [
            "[[0 1 1]\n",
            " [1 1 0]]\n"
          ]
        }
      ]
    },
    {
      "cell_type": "code",
      "source": [
        "# Avalie as previsões\n",
        "accuracy = accuracy_score(y_test, predictions)\n",
        "report = classification_report(y_test, predictions)\n",
        "\n",
        "print(\"Accuracy:\", accuracy)\n",
        "print(\"Classification Report:\")\n",
        "print(report)"
      ],
      "metadata": {
        "colab": {
          "base_uri": "https://localhost:8080/"
        },
        "id": "PtaMSquyfs70",
        "outputId": "c249627c-cb45-491f-8018-1d5668fb03fb"
      },
      "execution_count": null,
      "outputs": [
        {
          "output_type": "stream",
          "name": "stdout",
          "text": [
            "Accuracy: 0.5\n",
            "Classification Report:\n",
            "              precision    recall  f1-score   support\n",
            "\n",
            "           0       1.00      0.50      0.67         2\n",
            "           1       1.00      1.00      1.00         2\n",
            "           2       1.00      1.00      1.00         1\n",
            "\n",
            "   micro avg       1.00      0.80      0.89         5\n",
            "   macro avg       1.00      0.83      0.89         5\n",
            "weighted avg       1.00      0.80      0.87         5\n",
            " samples avg       1.00      0.83      0.90         5\n",
            "\n"
          ]
        }
      ]
    },
    {
      "cell_type": "code",
      "source": [
        "# Calcular a Hamming Loss\n",
        "hamming = hamming_loss(y_test, predictions)\n",
        "print(f\"Hamming Loss: {hamming:.4f}\")"
      ],
      "metadata": {
        "colab": {
          "base_uri": "https://localhost:8080/"
        },
        "id": "P5J3ISiLfKQu",
        "outputId": "82c57852-aa6e-44da-ca37-c55728c1250d"
      },
      "execution_count": null,
      "outputs": [
        {
          "output_type": "stream",
          "name": "stdout",
          "text": [
            "Hamming Loss: 0.1667\n"
          ]
        }
      ]
    }
  ]
}