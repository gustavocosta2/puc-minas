{
 "cells": [
  {
   "cell_type": "markdown",
   "id": "a9225d4b-a6c1-4aaa-a7ae-28bfbd7b2881",
   "metadata": {},
   "source": [
    "# **3. Pré-processamento**"
   ]
  },
  {
   "cell_type": "markdown",
   "id": "c4dfdcda-3894-4064-af3f-0ea722242d07",
   "metadata": {},
   "source": [
    "O objetivo desse notebook é:\n",
    "\n",
    "- Tratar nulos.\n",
    "- Tratar Outliers.\n",
    "- Fazer novas codificações.\n",
    "- Fazer fusão de atributos.\n",
    "\n",
    "No geral, o objetivo desse notebook é deixar a base totalmente preparada para o uso dos algoritmos de Machine Learning."
   ]
  },
  {
   "cell_type": "code",
   "execution_count": 320,
   "id": "bddb2b53-872c-4ea4-b97e-3341af897bc5",
   "metadata": {},
   "outputs": [],
   "source": [
    "#Importando bibliotecas.\n",
    "import pandas as pd\n",
    "import numpy as np\n",
    "import plotly.express as px\n",
    "import seaborn as sns\n",
    "import matplotlib.pyplot as plt"
   ]
  },
  {
   "cell_type": "code",
   "execution_count": 321,
   "id": "5c21f385-e041-40a5-9a17-06281bea5664",
   "metadata": {},
   "outputs": [],
   "source": [
    "# Aplicar o estilo do Seaborn\n",
    "sns.set(style=\"whitegrid\")"
   ]
  },
  {
   "cell_type": "code",
   "execution_count": 322,
   "id": "976977cc-b52e-4a1e-8108-bbfadeacad69",
   "metadata": {},
   "outputs": [],
   "source": [
    "df = pd.read_csv(\"C://Users//Gustavo//OneDrive//Documentos//PUC//3° Periodo//Mineraçao de Dados//trabalho//dados//df_selecionado.csv\")"
   ]
  },
  {
   "cell_type": "code",
   "execution_count": 323,
   "id": "83e11666-0d8b-46db-b675-1fb15856fd07",
   "metadata": {},
   "outputs": [
    {
     "data": {
      "text/plain": [
       "(135658, 27)"
      ]
     },
     "execution_count": 323,
     "metadata": {},
     "output_type": "execute_result"
    }
   ],
   "source": [
    "df.shape"
   ]
  },
  {
   "cell_type": "markdown",
   "id": "5011b7e2-8fae-4366-bd30-f15f90bb41f0",
   "metadata": {
    "jp-MarkdownHeadingCollapsed": true
   },
   "source": [
    "## Legibilidade: Renomeação de Colunas."
   ]
  },
  {
   "cell_type": "code",
   "execution_count": 324,
   "id": "2a74c7df-c9e9-4c05-98da-ac392b0662a4",
   "metadata": {},
   "outputs": [],
   "source": [
    "df.rename(columns={'P00104': 'Peso'}, inplace=True)\n",
    "df.rename(columns={'P00404': 'Altura'}, inplace=True)\n",
    "df.rename(columns={'C006': 'Sexo'}, inplace=True)\n",
    "df.rename(columns={'C008': 'Idade'}, inplace=True)\n",
    "df.rename(columns={'C009': 'Raca_etnia'}, inplace=True)\n",
    "df.rename(columns={'VDF004': 'Faixa_salarial'}, inplace=True)\n",
    "df.rename(columns={'VDD004A': 'Escolaridade'}, inplace=True)\n",
    "df.rename(columns={'D001': 'Alfabetizacao'}, inplace=True)\n",
    "df.rename(columns={'P027': 'Frequencia_alcoolismo'}, inplace=True)\n",
    "df.rename(columns={'P02801': 'Qtd_alcool_semanal'}, inplace=True)\n",
    "df.rename(columns={'P029': 'Qtd_doses_alcoolicas'}, inplace=True)\n",
    "df.rename(columns={'P02601': 'Consumo_sal'}, inplace=True)\n",
    "df.rename(columns={'P034': 'Atividades_fisicas'}, inplace=True)\n",
    "df.rename(columns={'H001': 'Ultima_consulta'}, inplace=True)\n",
    "df.rename(columns={'J037': 'Ficou_internado'}, inplace=True) \n",
    "df.rename(columns={'I00102': 'Tem_plano'}, inplace=True)\n",
    "df.rename(columns={'N001': 'Percepcao_estado_saude'}, inplace=True)"
   ]
  },
  {
   "cell_type": "code",
   "execution_count": 325,
   "id": "0181a210-c4a7-4671-b352-2fdc0c03bf9b",
   "metadata": {},
   "outputs": [],
   "source": [
    "df_saudaveis = df.loc[df[\"Condicao\"] == \"Saudavel\"]\n",
    "\n",
    "# Base de dados de pessoas que possuem hipertensão.\n",
    "df_hipertensos = df.loc[df[\"Condicao\"] == \"Hipertenso\"]\n",
    "\n",
    "# Base de dados de pessoas que possuem hipertensão e doenças cardiovasculares.\n",
    "df_hiper_cvd = df.loc[df[\"Condicao\"] == \"HiperCVD\"]"
   ]
  },
  {
   "cell_type": "code",
   "execution_count": 326,
   "id": "016793df-99d7-4c78-98b5-b502fff1613b",
   "metadata": {},
   "outputs": [
    {
     "data": {
      "text/plain": [
       "112551"
      ]
     },
     "execution_count": 326,
     "metadata": {},
     "output_type": "execute_result"
    }
   ],
   "source": [
    "len(df_saudaveis)\n",
    "\n",
    "#len(df_hipertensos)\n",
    "\n",
    "#len(df_hiper_cvd)"
   ]
  },
  {
   "cell_type": "markdown",
   "id": "16593a91-0af9-4571-9d84-ffaadfe364d7",
   "metadata": {
    "jp-MarkdownHeadingCollapsed": true
   },
   "source": [
    "## **3.1. Aspecto - Características do Individuo 👨‍👩‍👧‍👦**"
   ]
  },
  {
   "cell_type": "markdown",
   "id": "5197a5d2-ac58-4089-a1ae-3b1d1338c89c",
   "metadata": {
    "jp-MarkdownHeadingCollapsed": true
   },
   "source": [
    "### 3.1.1. Nulos"
   ]
  },
  {
   "cell_type": "code",
   "execution_count": 327,
   "id": "35e8af64-3eb3-472b-a668-6ae8caa3313e",
   "metadata": {},
   "outputs": [
    {
     "data": {
      "text/plain": [
       "Peso      80468\n",
       "Altura    80468\n",
       "dtype: int64"
      ]
     },
     "execution_count": 327,
     "metadata": {},
     "output_type": "execute_result"
    }
   ],
   "source": [
    "colunas_especificas = [\n",
    "             \"Peso\",\n",
    "             \"Altura\",\n",
    "]\n",
    "\n",
    "df[colunas_especificas].isnull().sum()"
   ]
  },
  {
   "cell_type": "markdown",
   "id": "d61c3e4e-50df-4848-b472-901317878333",
   "metadata": {},
   "source": [
    "No aspecto de características do indivíduo, há 80.468 pessoas que não informaram peso e altura."
   ]
  },
  {
   "cell_type": "code",
   "execution_count": 328,
   "id": "c367bcf8-cf9a-4820-bf4e-d2e5b8077f8c",
   "metadata": {},
   "outputs": [],
   "source": [
    "df = df.dropna(subset=['Peso', 'Altura'])"
   ]
  },
  {
   "cell_type": "code",
   "execution_count": 329,
   "id": "734d708d-b081-4a36-ab31-c3f46538b7b3",
   "metadata": {},
   "outputs": [
    {
     "data": {
      "text/plain": [
       "55190"
      ]
     },
     "execution_count": 329,
     "metadata": {},
     "output_type": "execute_result"
    }
   ],
   "source": [
    "len(df['Condicao']=='Saudavel')"
   ]
  },
  {
   "cell_type": "markdown",
   "id": "fd60b564-2ee7-4770-9f90-ddbb3039e8e2",
   "metadata": {},
   "source": [
    "Mesmo descartando por volta de 20 mil instâncias nulas das pessoas saudáveis, ainda restam 55.190 saudáveis que responderam as perguntas em relação à peso e altura. Já as pessoas das outras classes, todas responderam sua altura e seu peso.\n",
    "\n",
    "Todos nulos foram tratados."
   ]
  },
  {
   "cell_type": "markdown",
   "id": "91eb1184-ad3a-4180-89b3-4c5cb8430445",
   "metadata": {
    "jp-MarkdownHeadingCollapsed": true
   },
   "source": [
    "### 3.1.2. Outliers"
   ]
  },
  {
   "cell_type": "markdown",
   "id": "d75eff54-9e90-4033-b235-80d69bc12f7b",
   "metadata": {},
   "source": [
    "**Altura**"
   ]
  },
  {
   "cell_type": "code",
   "execution_count": 330,
   "id": "c3c8e9bf-95f9-45fa-a76b-1cafc30bd353",
   "metadata": {},
   "outputs": [
    {
     "data": {
      "image/png": "[encoded data removed]",
      "text/plain": [
       "<Figure size 640x480 with 1 Axes>"
      ]
     },
     "metadata": {},
     "output_type": "display_data"
    }
   ],
   "source": [
    "# Boxplot de alturas.\n",
    "\n",
    "sns.boxplot(x = \"Sexo\", y = \"Altura\", data=df, palette=\"Set2\", hue=\"Sexo\")\n",
    "\n",
    "plt.title(\"Boxplots Altura x Sexo para Homens e Mulheres\")\n",
    "plt.xlabel(\"Sexo\")\n",
    "plt.ylabel(\"Altura (cm)\")\n",
    "plt.show()"
   ]
  },
  {
   "cell_type": "markdown",
   "id": "8ab1bbda-c403-4013-834d-b634c4e17f8b",
   "metadata": {},
   "source": [
    "Segundo o Ministério da Saúde do Brasil, o **nanismo** configura-se como alturas de pessoas que não ultrapassam de 1.45m para homens e 1.40m para mulheres, mas isso não é uma certeza e sim apenas um indício. Nesse caso, para o IQR essas pessoas estão sendo consideradas como Outliers, assim como pessoas acima de 1.9m para homens e 1.78m, aproximadamente, para mulheres."
   ]
  },
  {
   "cell_type": "code",
   "execution_count": 331,
   "id": "7b63f311-9774-4ea5-b388-6658af95cc2c",
   "metadata": {},
   "outputs": [
    {
     "name": "stdout",
     "output_type": "stream",
     "text": [
      "Pessoas Saudáveis com até 1.45m: 458\n",
      "Pessoas Hipertensas com até 1.45m: 596\n",
      "Pessoas HiperCVD com até 1.45m: 84\n"
     ]
    }
   ],
   "source": [
    "print(f\"Pessoas Saudáveis com até 1.45m: {df_saudaveis[\"Altura\"].loc[df_saudaveis[\"Altura\"] <= 145].count()}\")\n",
    "print(f\"Pessoas Hipertensas com até 1.45m: {df_hipertensos[\"Altura\"].loc[df_hipertensos[\"Altura\"] <= 145].count()}\")\n",
    "print(f\"Pessoas HiperCVD com até 1.45m: {df_hiper_cvd[\"Altura\"].loc[df_hiper_cvd[\"Altura\"] <= 145].count()}\")"
   ]
  },
  {
   "cell_type": "markdown",
   "id": "d0e035db-7a68-4f51-97ea-f72fbd01da79",
   "metadata": {},
   "source": [
    "**Peso**"
   ]
  },
  {
   "cell_type": "code",
   "execution_count": 332,
   "id": "9bf8cb31-68e6-43d9-9bbd-859697ded636",
   "metadata": {},
   "outputs": [
    {
     "data": {
      "image/png": "[encoded data removed]",
      "text/plain": [
       "<Figure size 640x480 with 1 Axes>"
      ]
     },
     "metadata": {},
     "output_type": "display_data"
    }
   ],
   "source": [
    "# Boxplot de pesos.\n",
    "\n",
    "sns.boxplot(x = \"Sexo\", y = \"Peso\", data=df, palette=\"Set2\", hue=\"Sexo\")\n",
    "\n",
    "plt.title(\"Boxplots Peso x Sexo para Homens e Mulheres\")\n",
    "plt.xlabel(\"Sexo\")\n",
    "plt.ylabel(\"Peso (kg)\")\n",
    "plt.show()"
   ]
  },
  {
   "cell_type": "markdown",
   "id": "7a14a0bb-42d9-4484-815d-66ac773c8ce4",
   "metadata": {},
   "source": [
    "O boxplot acusa muitos outliers tanto para homens quanto para mulheres em relação ao peso, entretanto, oque me causa preocupação são os outliers abaixo do limite inferior do IQR, isso porque há pesos entre 20 e 40 kg para pessoas com no mínimo 30 anos de idade. Há três ocorrências.\n",
    "\n",
    "Já os outliers acima do intervalor IQR são pláusiveis em suas quantidades, porque na população global há uma presença cada vez maior de obesidade para ambos os sexos. Pessoas entre 100kg - 170kg estão cada vez mais comuns a sua ocorrência."
   ]
  },
  {
   "cell_type": "code",
   "execution_count": 333,
   "id": "4a167b3e-b9cd-4964-a66a-1d4132305e4c",
   "metadata": {},
   "outputs": [],
   "source": [
    "def calculo_iqr(lista):\n",
    "    \n",
    "    lista = lista.sort_values()\n",
    "\n",
    "    q1= np.percentile(lista, 25)\n",
    "    q3 = np.percentile(lista, 75)\n",
    "\n",
    "    iqr = q3 - q1\n",
    "\n",
    "    return q1, q3, iqr"
   ]
  },
  {
   "cell_type": "code",
   "execution_count": 334,
   "id": "c89b9701-de9b-42a8-b0dd-3aac71a767b1",
   "metadata": {},
   "outputs": [],
   "source": [
    "def calculo_outliers(lista):\n",
    "    q1, q3, iqr = calculo_iqr(lista)\n",
    "\n",
    "    #Limite inferior e superior IQR\n",
    "    lim_inferior = q1 - (1.5*iqr)\n",
    "    lim_superior = q3 + (1.5*iqr)\n",
    "    print(f\"Limites:[{lim_inferior} - {lim_superior}]\")\n",
    "\n",
    "    outliers_min = [elemento for elemento in lista if elemento < lim_inferior]\n",
    "    outliers_max = [elemento for elemento in lista if elemento > lim_superior]\n",
    "\n",
    "    outliers = outliers_min + outliers_max\n",
    "    return outliers"
   ]
  },
  {
   "cell_type": "code",
   "execution_count": 335,
   "id": "bf66c2f2-3401-47d5-8f1c-3303deb0ac04",
   "metadata": {},
   "outputs": [
    {
     "name": "stdout",
     "output_type": "stream",
     "text": [
      "Limites:[32.0 - 112.0]\n"
     ]
    }
   ],
   "source": [
    "outliers_peso = calculo_outliers(df[\"Peso\"])"
   ]
  },
  {
   "cell_type": "markdown",
   "id": "cfedc0d9-63bc-4d04-846d-a800296f05f4",
   "metadata": {},
   "source": [
    "Os outliers para o peso estão:\n",
    "\n",
    "- Abaixo de 32kg\n",
    "- Acima de 112kg\n",
    "\n",
    "Pesos acima de 112kg são comuns e configuram **obesidade**, que é fator de risco para as comorbidades aqui estudadas. Entretanto, pessoas que pesam menos de 32kg com 30 anos de idade configuram-se como outliers já que são muito atípicos."
   ]
  },
  {
   "cell_type": "code",
   "execution_count": 336,
   "id": "a667acd8-3916-43d8-8999-d413920e243c",
   "metadata": {},
   "outputs": [
    {
     "name": "stdout",
     "output_type": "stream",
     "text": [
      "Quantidade de Outliers (VARIÁVEL PESO): 806\n"
     ]
    }
   ],
   "source": [
    "print(f\"Quantidade de Outliers (VARIÁVEL PESO): {len(outliers_peso)}\")"
   ]
  },
  {
   "cell_type": "markdown",
   "id": "e2919b9d-079a-49fb-bfa9-1560c326f219",
   "metadata": {},
   "source": [
    "Há 357 pessoas consideradas como Outliers pelo IQR."
   ]
  },
  {
   "cell_type": "code",
   "execution_count": 337,
   "id": "5f4e830d-74b9-455e-9b87-ffbdbd4b3cea",
   "metadata": {
    "scrolled": true
   },
   "outputs": [
    {
     "data": {
      "text/html": [
       "<div>\n",
       "<style scoped>\n",
       "    .dataframe tbody tr th:only-of-type {\n",
       "        vertical-align: middle;\n",
       "    }\n",
       "\n",
       "    .dataframe tbody tr th {\n",
       "        vertical-align: top;\n",
       "    }\n",
       "\n",
       "    .dataframe thead th {\n",
       "        text-align: right;\n",
       "    }\n",
       "</style>\n",
       "<table border=\"1\" class=\"dataframe\">\n",
       "  <thead>\n",
       "    <tr style=\"text-align: right;\">\n",
       "      <th></th>\n",
       "      <th>Peso</th>\n",
       "      <th>Altura</th>\n",
       "      <th>Sexo</th>\n",
       "      <th>Idade</th>\n",
       "      <th>Raca_etnia</th>\n",
       "      <th>Consumo_sal</th>\n",
       "      <th>Atividades_fisicas</th>\n",
       "      <th>P050</th>\n",
       "      <th>P052</th>\n",
       "      <th>P05401</th>\n",
       "      <th>...</th>\n",
       "      <th>Qtd_alcool_semanal</th>\n",
       "      <th>Qtd_doses_alcoolicas</th>\n",
       "      <th>Ficou_internado</th>\n",
       "      <th>Ultima_consulta</th>\n",
       "      <th>Percepcao_estado_saude</th>\n",
       "      <th>Tem_plano</th>\n",
       "      <th>Alfabetizacao</th>\n",
       "      <th>Escolaridade</th>\n",
       "      <th>Faixa_salarial</th>\n",
       "      <th>Condicao</th>\n",
       "    </tr>\n",
       "  </thead>\n",
       "  <tbody>\n",
       "    <tr>\n",
       "      <th>177</th>\n",
       "      <td>43.0</td>\n",
       "      <td>165.0</td>\n",
       "      <td>2.0</td>\n",
       "      <td>61.0</td>\n",
       "      <td>2.0</td>\n",
       "      <td>4.0</td>\n",
       "      <td>2.0</td>\n",
       "      <td>1.0</td>\n",
       "      <td>NaN</td>\n",
       "      <td>1.0</td>\n",
       "      <td>...</td>\n",
       "      <td>NaN</td>\n",
       "      <td>NaN</td>\n",
       "      <td>2.0</td>\n",
       "      <td>3.0</td>\n",
       "      <td>2.0</td>\n",
       "      <td>1.0</td>\n",
       "      <td>1.0</td>\n",
       "      <td>2.0</td>\n",
       "      <td>3.0</td>\n",
       "      <td>Saudavel</td>\n",
       "    </tr>\n",
       "    <tr>\n",
       "      <th>484</th>\n",
       "      <td>39.0</td>\n",
       "      <td>140.0</td>\n",
       "      <td>2.0</td>\n",
       "      <td>37.0</td>\n",
       "      <td>4.0</td>\n",
       "      <td>2.0</td>\n",
       "      <td>2.0</td>\n",
       "      <td>3.0</td>\n",
       "      <td>3.0</td>\n",
       "      <td>NaN</td>\n",
       "      <td>...</td>\n",
       "      <td>NaN</td>\n",
       "      <td>NaN</td>\n",
       "      <td>2.0</td>\n",
       "      <td>1.0</td>\n",
       "      <td>4.0</td>\n",
       "      <td>2.0</td>\n",
       "      <td>1.0</td>\n",
       "      <td>2.0</td>\n",
       "      <td>2.0</td>\n",
       "      <td>Saudavel</td>\n",
       "    </tr>\n",
       "    <tr>\n",
       "      <th>665</th>\n",
       "      <td>41.0</td>\n",
       "      <td>140.0</td>\n",
       "      <td>2.0</td>\n",
       "      <td>90.0</td>\n",
       "      <td>1.0</td>\n",
       "      <td>3.0</td>\n",
       "      <td>2.0</td>\n",
       "      <td>3.0</td>\n",
       "      <td>1.0</td>\n",
       "      <td>NaN</td>\n",
       "      <td>...</td>\n",
       "      <td>NaN</td>\n",
       "      <td>NaN</td>\n",
       "      <td>2.0</td>\n",
       "      <td>2.0</td>\n",
       "      <td>3.0</td>\n",
       "      <td>2.0</td>\n",
       "      <td>2.0</td>\n",
       "      <td>1.0</td>\n",
       "      <td>4.0</td>\n",
       "      <td>Saudavel</td>\n",
       "    </tr>\n",
       "    <tr>\n",
       "      <th>731</th>\n",
       "      <td>41.0</td>\n",
       "      <td>160.0</td>\n",
       "      <td>2.0</td>\n",
       "      <td>30.0</td>\n",
       "      <td>4.0</td>\n",
       "      <td>3.0</td>\n",
       "      <td>1.0</td>\n",
       "      <td>3.0</td>\n",
       "      <td>3.0</td>\n",
       "      <td>NaN</td>\n",
       "      <td>...</td>\n",
       "      <td>NaN</td>\n",
       "      <td>NaN</td>\n",
       "      <td>2.0</td>\n",
       "      <td>2.0</td>\n",
       "      <td>2.0</td>\n",
       "      <td>2.0</td>\n",
       "      <td>1.0</td>\n",
       "      <td>6.0</td>\n",
       "      <td>4.0</td>\n",
       "      <td>Saudavel</td>\n",
       "    </tr>\n",
       "    <tr>\n",
       "      <th>743</th>\n",
       "      <td>41.0</td>\n",
       "      <td>160.0</td>\n",
       "      <td>2.0</td>\n",
       "      <td>51.0</td>\n",
       "      <td>4.0</td>\n",
       "      <td>4.0</td>\n",
       "      <td>1.0</td>\n",
       "      <td>3.0</td>\n",
       "      <td>3.0</td>\n",
       "      <td>NaN</td>\n",
       "      <td>...</td>\n",
       "      <td>NaN</td>\n",
       "      <td>NaN</td>\n",
       "      <td>2.0</td>\n",
       "      <td>4.0</td>\n",
       "      <td>2.0</td>\n",
       "      <td>2.0</td>\n",
       "      <td>1.0</td>\n",
       "      <td>3.0</td>\n",
       "      <td>3.0</td>\n",
       "      <td>Saudavel</td>\n",
       "    </tr>\n",
       "    <tr>\n",
       "      <th>...</th>\n",
       "      <td>...</td>\n",
       "      <td>...</td>\n",
       "      <td>...</td>\n",
       "      <td>...</td>\n",
       "      <td>...</td>\n",
       "      <td>...</td>\n",
       "      <td>...</td>\n",
       "      <td>...</td>\n",
       "      <td>...</td>\n",
       "      <td>...</td>\n",
       "      <td>...</td>\n",
       "      <td>...</td>\n",
       "      <td>...</td>\n",
       "      <td>...</td>\n",
       "      <td>...</td>\n",
       "      <td>...</td>\n",
       "      <td>...</td>\n",
       "      <td>...</td>\n",
       "      <td>...</td>\n",
       "      <td>...</td>\n",
       "      <td>...</td>\n",
       "    </tr>\n",
       "    <tr>\n",
       "      <th>135521</th>\n",
       "      <td>42.0</td>\n",
       "      <td>163.0</td>\n",
       "      <td>2.0</td>\n",
       "      <td>61.0</td>\n",
       "      <td>4.0</td>\n",
       "      <td>3.0</td>\n",
       "      <td>2.0</td>\n",
       "      <td>1.0</td>\n",
       "      <td>NaN</td>\n",
       "      <td>1.0</td>\n",
       "      <td>...</td>\n",
       "      <td>NaN</td>\n",
       "      <td>NaN</td>\n",
       "      <td>1.0</td>\n",
       "      <td>4.0</td>\n",
       "      <td>5.0</td>\n",
       "      <td>2.0</td>\n",
       "      <td>2.0</td>\n",
       "      <td>1.0</td>\n",
       "      <td>3.0</td>\n",
       "      <td>HiperCVD</td>\n",
       "    </tr>\n",
       "    <tr>\n",
       "      <th>135586</th>\n",
       "      <td>35.0</td>\n",
       "      <td>152.0</td>\n",
       "      <td>2.0</td>\n",
       "      <td>85.0</td>\n",
       "      <td>1.0</td>\n",
       "      <td>4.0</td>\n",
       "      <td>2.0</td>\n",
       "      <td>3.0</td>\n",
       "      <td>1.0</td>\n",
       "      <td>NaN</td>\n",
       "      <td>...</td>\n",
       "      <td>NaN</td>\n",
       "      <td>NaN</td>\n",
       "      <td>1.0</td>\n",
       "      <td>3.0</td>\n",
       "      <td>3.0</td>\n",
       "      <td>1.0</td>\n",
       "      <td>2.0</td>\n",
       "      <td>2.0</td>\n",
       "      <td>3.0</td>\n",
       "      <td>HiperCVD</td>\n",
       "    </tr>\n",
       "    <tr>\n",
       "      <th>135593</th>\n",
       "      <td>37.0</td>\n",
       "      <td>160.0</td>\n",
       "      <td>1.0</td>\n",
       "      <td>71.0</td>\n",
       "      <td>4.0</td>\n",
       "      <td>3.0</td>\n",
       "      <td>2.0</td>\n",
       "      <td>1.0</td>\n",
       "      <td>NaN</td>\n",
       "      <td>1.0</td>\n",
       "      <td>...</td>\n",
       "      <td>NaN</td>\n",
       "      <td>NaN</td>\n",
       "      <td>1.0</td>\n",
       "      <td>3.0</td>\n",
       "      <td>3.0</td>\n",
       "      <td>2.0</td>\n",
       "      <td>1.0</td>\n",
       "      <td>1.0</td>\n",
       "      <td>4.0</td>\n",
       "      <td>HiperCVD</td>\n",
       "    </tr>\n",
       "    <tr>\n",
       "      <th>135637</th>\n",
       "      <td>40.0</td>\n",
       "      <td>144.0</td>\n",
       "      <td>2.0</td>\n",
       "      <td>41.0</td>\n",
       "      <td>4.0</td>\n",
       "      <td>4.0</td>\n",
       "      <td>2.0</td>\n",
       "      <td>3.0</td>\n",
       "      <td>1.0</td>\n",
       "      <td>NaN</td>\n",
       "      <td>...</td>\n",
       "      <td>NaN</td>\n",
       "      <td>NaN</td>\n",
       "      <td>2.0</td>\n",
       "      <td>1.0</td>\n",
       "      <td>3.0</td>\n",
       "      <td>2.0</td>\n",
       "      <td>1.0</td>\n",
       "      <td>2.0</td>\n",
       "      <td>4.0</td>\n",
       "      <td>HiperCVD</td>\n",
       "    </tr>\n",
       "    <tr>\n",
       "      <th>135645</th>\n",
       "      <td>37.0</td>\n",
       "      <td>160.0</td>\n",
       "      <td>2.0</td>\n",
       "      <td>68.0</td>\n",
       "      <td>4.0</td>\n",
       "      <td>4.0</td>\n",
       "      <td>2.0</td>\n",
       "      <td>3.0</td>\n",
       "      <td>1.0</td>\n",
       "      <td>NaN</td>\n",
       "      <td>...</td>\n",
       "      <td>NaN</td>\n",
       "      <td>NaN</td>\n",
       "      <td>2.0</td>\n",
       "      <td>1.0</td>\n",
       "      <td>4.0</td>\n",
       "      <td>2.0</td>\n",
       "      <td>1.0</td>\n",
       "      <td>2.0</td>\n",
       "      <td>3.0</td>\n",
       "      <td>HiperCVD</td>\n",
       "    </tr>\n",
       "  </tbody>\n",
       "</table>\n",
       "<p>478 rows × 27 columns</p>\n",
       "</div>"
      ],
      "text/plain": [
       "        Peso  Altura  Sexo  Idade  Raca_etnia  Consumo_sal  \\\n",
       "177     43.0   165.0   2.0   61.0         2.0          4.0   \n",
       "484     39.0   140.0   2.0   37.0         4.0          2.0   \n",
       "665     41.0   140.0   2.0   90.0         1.0          3.0   \n",
       "731     41.0   160.0   2.0   30.0         4.0          3.0   \n",
       "743     41.0   160.0   2.0   51.0         4.0          4.0   \n",
       "...      ...     ...   ...    ...         ...          ...   \n",
       "135521  42.0   163.0   2.0   61.0         4.0          3.0   \n",
       "135586  35.0   152.0   2.0   85.0         1.0          4.0   \n",
       "135593  37.0   160.0   1.0   71.0         4.0          3.0   \n",
       "135637  40.0   144.0   2.0   41.0         4.0          4.0   \n",
       "135645  37.0   160.0   2.0   68.0         4.0          4.0   \n",
       "\n",
       "        Atividades_fisicas  P050  P052  P05401  ...  Qtd_alcool_semanal  \\\n",
       "177                    2.0   1.0   NaN     1.0  ...                 NaN   \n",
       "484                    2.0   3.0   3.0     NaN  ...                 NaN   \n",
       "665                    2.0   3.0   1.0     NaN  ...                 NaN   \n",
       "731                    1.0   3.0   3.0     NaN  ...                 NaN   \n",
       "743                    1.0   3.0   3.0     NaN  ...                 NaN   \n",
       "...                    ...   ...   ...     ...  ...                 ...   \n",
       "135521                 2.0   1.0   NaN     1.0  ...                 NaN   \n",
       "135586                 2.0   3.0   1.0     NaN  ...                 NaN   \n",
       "135593                 2.0   1.0   NaN     1.0  ...                 NaN   \n",
       "135637                 2.0   3.0   1.0     NaN  ...                 NaN   \n",
       "135645                 2.0   3.0   1.0     NaN  ...                 NaN   \n",
       "\n",
       "        Qtd_doses_alcoolicas  Ficou_internado  Ultima_consulta  \\\n",
       "177                      NaN              2.0              3.0   \n",
       "484                      NaN              2.0              1.0   \n",
       "665                      NaN              2.0              2.0   \n",
       "731                      NaN              2.0              2.0   \n",
       "743                      NaN              2.0              4.0   \n",
       "...                      ...              ...              ...   \n",
       "135521                   NaN              1.0              4.0   \n",
       "135586                   NaN              1.0              3.0   \n",
       "135593                   NaN              1.0              3.0   \n",
       "135637                   NaN              2.0              1.0   \n",
       "135645                   NaN              2.0              1.0   \n",
       "\n",
       "        Percepcao_estado_saude  Tem_plano  Alfabetizacao  Escolaridade  \\\n",
       "177                        2.0        1.0            1.0           2.0   \n",
       "484                        4.0        2.0            1.0           2.0   \n",
       "665                        3.0        2.0            2.0           1.0   \n",
       "731                        2.0        2.0            1.0           6.0   \n",
       "743                        2.0        2.0            1.0           3.0   \n",
       "...                        ...        ...            ...           ...   \n",
       "135521                     5.0        2.0            2.0           1.0   \n",
       "135586                     3.0        1.0            2.0           2.0   \n",
       "135593                     3.0        2.0            1.0           1.0   \n",
       "135637                     3.0        2.0            1.0           2.0   \n",
       "135645                     4.0        2.0            1.0           2.0   \n",
       "\n",
       "        Faixa_salarial  Condicao  \n",
       "177                3.0  Saudavel  \n",
       "484                2.0  Saudavel  \n",
       "665                4.0  Saudavel  \n",
       "731                4.0  Saudavel  \n",
       "743                3.0  Saudavel  \n",
       "...                ...       ...  \n",
       "135521             3.0  HiperCVD  \n",
       "135586             3.0  HiperCVD  \n",
       "135593             4.0  HiperCVD  \n",
       "135637             4.0  HiperCVD  \n",
       "135645             3.0  HiperCVD  \n",
       "\n",
       "[478 rows x 27 columns]"
      ]
     },
     "execution_count": 337,
     "metadata": {},
     "output_type": "execute_result"
    }
   ],
   "source": [
    "df.loc[(df[\"Peso\"] < 45) & (df[\"Altura\"] <= 200)]"
   ]
  },
  {
   "cell_type": "markdown",
   "id": "ad3733fd-1035-4f7b-98b2-83420513a7c9",
   "metadata": {},
   "source": [
    "Há 478 pessoas que pesam menos de 45 kg, esse peso para pessoas de pelo menos 30 anos é bem fora do padrão, até mesmo para pessoas de 90 anos.\n",
    "\n",
    "**Conclusão:** Vou excluir esses 478 registros. São valores extremamente incomuns para pessoas com essas condições de idade."
   ]
  },
  {
   "cell_type": "code",
   "execution_count": 338,
   "id": "c7bdfb21-ee36-4d3f-82ee-7af511e219d9",
   "metadata": {},
   "outputs": [],
   "source": [
    "indices_exclusao = df.loc[(df[\"Peso\"] < 45) & (df[\"Altura\"] <= 200)].index"
   ]
  },
  {
   "cell_type": "code",
   "execution_count": 339,
   "id": "5bb6aaf5-a69b-48f9-a786-d86df0738761",
   "metadata": {},
   "outputs": [],
   "source": [
    "#Remoção dessas instâncias do conjunto de dados.\n",
    "df.drop(indices_exclusao, inplace=True)"
   ]
  },
  {
   "cell_type": "code",
   "execution_count": 340,
   "id": "9b60b6a3-874d-4302-a152-b5bec46490e5",
   "metadata": {},
   "outputs": [
    {
     "data": {
      "text/plain": [
       "(54712, 27)"
      ]
     },
     "execution_count": 340,
     "metadata": {},
     "output_type": "execute_result"
    }
   ],
   "source": [
    "df.shape"
   ]
  },
  {
   "cell_type": "code",
   "execution_count": 341,
   "id": "562af562-3ecc-4aca-9850-41e7019d8b6f",
   "metadata": {},
   "outputs": [
    {
     "data": {
      "text/plain": [
       "count    54712.000000\n",
       "mean        73.497734\n",
       "std         14.879452\n",
       "min         45.000000\n",
       "25%         63.000000\n",
       "50%         72.000000\n",
       "75%         82.000000\n",
       "max        170.000000\n",
       "Name: Peso, dtype: float64"
      ]
     },
     "execution_count": 341,
     "metadata": {},
     "output_type": "execute_result"
    }
   ],
   "source": [
    "df[\"Peso\"].describe()"
   ]
  },
  {
   "cell_type": "markdown",
   "id": "bcc87189-0869-48b0-9cc1-5558efba7c57",
   "metadata": {
    "jp-MarkdownHeadingCollapsed": true
   },
   "source": [
    "### **3.1.3 Codificação: IMC e Categoria IMC**"
   ]
  },
  {
   "cell_type": "markdown",
   "id": "f2b0a22d-acd5-4018-b176-311c0538500c",
   "metadata": {},
   "source": [
    "Para doenças cardiovasculares e hipertensão, o IMC é uma variável que indica se uma pessoa pode desenvolver essas comorbidades, isso porque ela informa se uma pessoa está em estado de desnutrição, saudável, obesa, muito obesa.\n",
    "\n",
    "Logo, vamos criar uma nova coluna que represente o IMC das pessoas."
   ]
  },
  {
   "cell_type": "code",
   "execution_count": 342,
   "id": "8d529bd1-0c03-4320-b427-d94da102c864",
   "metadata": {},
   "outputs": [],
   "source": [
    "df[\"IMC\"] = df[\"Peso\"] / (df[\"Altura\"]/100)**2"
   ]
  },
  {
   "cell_type": "code",
   "execution_count": 343,
   "id": "dfb5a55a-9204-48a4-9fa7-42754c6761f6",
   "metadata": {},
   "outputs": [],
   "source": [
    "bins = [-float('inf'), 18.5, 24.9, 29.9, float('inf')]\n",
    "labels = ['Baixo Peso', 'Peso Ideal', 'Sobrepeso', 'Obeso']\n",
    "\n",
    "\n",
    "#Categorizando as pessoas de acordo com o valor de IMC.\n",
    "df[\"Categoria_IMC\"] = pd.cut(df[\"IMC\"], bins=bins, labels=labels)"
   ]
  },
  {
   "cell_type": "code",
   "execution_count": 344,
   "id": "b1e20c08-fb3d-4301-86bd-39c80494ad67",
   "metadata": {},
   "outputs": [
    {
     "data": {
      "text/plain": [
       "Categoria_IMC\n",
       "Sobrepeso     22131\n",
       "Peso Ideal    19127\n",
       "Obeso         12903\n",
       "Baixo Peso      551\n",
       "Name: count, dtype: int64"
      ]
     },
     "execution_count": 344,
     "metadata": {},
     "output_type": "execute_result"
    }
   ],
   "source": [
    "df[\"Categoria_IMC\"].value_counts()"
   ]
  },
  {
   "cell_type": "markdown",
   "id": "9c33781d-f662-43b7-bc3e-6864d3c8408b",
   "metadata": {},
   "source": [
    "A grande maioria das pessoas estão classificadas com sobrepeso e obesidade. Isso é aceitável, visto que atualmente as pessoas alimentam-se de ultraprocessados, fast-foods, produtos químicos, etc."
   ]
  },
  {
   "cell_type": "markdown",
   "id": "8450ab79-004b-4a47-940f-9d24109aa768",
   "metadata": {},
   "source": [
    "## **3.2. Aspecto - Antropometria 🧍‍♂️**"
   ]
  },
  {
   "cell_type": "markdown",
   "id": "92b045b5-5f1d-456b-807a-7475d4b166cc",
   "metadata": {},
   "source": [
    "### 3.2.1 Nulos"
   ]
  },
  {
   "cell_type": "code",
   "execution_count": 345,
   "id": "cdf2a9fa-ef16-4866-a289-a5aa61e8911d",
   "metadata": {},
   "outputs": [
    {
     "data": {
      "text/plain": [
       "Idade         0\n",
       "Sexo          0\n",
       "Raca_etnia    0\n",
       "dtype: int64"
      ]
     },
     "execution_count": 345,
     "metadata": {},
     "output_type": "execute_result"
    }
   ],
   "source": [
    "colunas_especificas = [\n",
    "             \"Idade\",\n",
    "             \"Sexo\",\n",
    "             \"Raca_etnia\",\n",
    "]\n",
    "\n",
    "df[colunas_especificas].isnull().sum()"
   ]
  },
  {
   "cell_type": "markdown",
   "id": "4671de9e-a1a9-4fea-8cc7-277f1bef3361",
   "metadata": {},
   "source": [
    "Não há nulos no aspecto antropométrico"
   ]
  },
  {
   "cell_type": "markdown",
   "id": "cb7514d7-6bed-45c0-80f2-1869dd45b400",
   "metadata": {},
   "source": [
    "### 3.2.2. Codificação: Categorização das Raças: Pretos e Não Pretos"
   ]
  },
  {
   "cell_type": "code",
   "execution_count": 346,
   "id": "ed0e0683-a598-4d36-b6d7-8e8958f83c59",
   "metadata": {},
   "outputs": [
    {
     "data": {
      "text/plain": [
       "Raca_etnia\n",
       "4.0    27478\n",
       "1.0    19870\n",
       "2.0     6519\n",
       "3.0      424\n",
       "5.0      413\n",
       "9.0        8\n",
       "Name: count, dtype: int64"
      ]
     },
     "execution_count": 346,
     "metadata": {},
     "output_type": "execute_result"
    }
   ],
   "source": [
    "df[\"Raca_etnia\"].value_counts()"
   ]
  },
  {
   "cell_type": "markdown",
   "id": "575b46f2-bda3-40ff-a157-2ba3ce533a84",
   "metadata": {},
   "source": [
    "As raças estão dispostas da seguinte forma:\n",
    "\n",
    "- Pardos (4.0):  27.478 pessoas.\n",
    "\n",
    "- Brancos (1.0): 19.870 pessoas.\n",
    "\n",
    "- Pretos (2.0):  6.519 pessoas.\n",
    "\n",
    "- Amarelos (3.0): 424 pessoas.\n",
    "\n",
    "- Indigenas (5.0): 413 pessoas.\n",
    "\n",
    "- Ignorado (9.0):  8 pessoas."
   ]
  },
  {
   "cell_type": "code",
   "execution_count": 347,
   "id": "30e8d432-264c-46d0-b9ed-7d6df863a08e",
   "metadata": {},
   "outputs": [
    {
     "data": {
      "application/vnd.plotly.v1+json": {
       "config": {
        "plotlyServerURL": "https://plot.ly"
       },
       "data": [
        {
         "alignmentgroup": "True",
         "hovertemplate": "Raca=%{x}<br>Contagem=%{text}<extra></extra>",
         "legendgroup": "Pardos",
         "marker": {
          "color": "#636efa",
          "pattern": {
           "shape": ""
          }
         },
         "name": "Pardos",
         "offsetgroup": "Pardos",
         "orientation": "v",
         "showlegend": true,
         "text": [
          27478
         ],
         "textposition": "outside",
         "type": "bar",
         "x": [
          "Pardos"
         ],
         "xaxis": "x",
         "y": [
          27478
         ],
         "yaxis": "y"
        },
        {
         "alignmentgroup": "True",
         "hovertemplate": "Raca=%{x}<br>Contagem=%{text}<extra></extra>",
         "legendgroup": "Brancos",
         "marker": {
          "color": "#EF553B",
          "pattern": {
           "shape": ""
          }
         },
         "name": "Brancos",
         "offsetgroup": "Brancos",
         "orientation": "v",
         "showlegend": true,
         "text": [
          19870
         ],
         "textposition": "outside",
         "type": "bar",
         "x": [
          "Brancos"
         ],
         "xaxis": "x",
         "y": [
          19870
         ],
         "yaxis": "y"
        },
        {
         "alignmentgroup": "True",
         "hovertemplate": "Raca=%{x}<br>Contagem=%{text}<extra></extra>",
         "legendgroup": "Pretos",
         "marker": {
          "color": "#00cc96",
          "pattern": {
           "shape": ""
          }
         },
         "name": "Pretos",
         "offsetgroup": "Pretos",
         "orientation": "v",
         "showlegend": true,
         "text": [
          6519
         ],
         "textposition": "outside",
         "type": "bar",
         "x": [
          "Pretos"
         ],
         "xaxis": "x",
         "y": [
          6519
         ],
         "yaxis": "y"
        },
        {
         "alignmentgroup": "True",
         "hovertemplate": "Raca=%{x}<br>Contagem=%{text}<extra></extra>",
         "legendgroup": "Amarelos",
         "marker": {
          "color": "#ab63fa",
          "pattern": {
           "shape": ""
          }
         },
         "name": "Amarelos",
         "offsetgroup": "Amarelos",
         "orientation": "v",
         "showlegend": true,
         "text": [
          424
         ],
         "textposition": "outside",
         "type": "bar",
         "x": [
          "Amarelos"
         ],
         "xaxis": "x",
         "y": [
          424
         ],
         "yaxis": "y"
        },
        {
         "alignmentgroup": "True",
         "hovertemplate": "Raca=%{x}<br>Contagem=%{text}<extra></extra>",
         "legendgroup": "Indigenas",
         "marker": {
          "color": "#FFA15A",
          "pattern": {
           "shape": ""
          }
         },
         "name": "Indigenas",
         "offsetgroup": "Indigenas",
         "orientation": "v",
         "showlegend": true,
         "text": [
          413
         ],
         "textposition": "outside",
         "type": "bar",
         "x": [
          "Indigenas"
         ],
         "xaxis": "x",
         "y": [
          413
         ],
         "yaxis": "y"
        },
        {
         "alignmentgroup": "True",
         "hovertemplate": "Raca=%{x}<br>Contagem=%{text}<extra></extra>",
         "legendgroup": "Ignorado",
         "marker": {
          "color": "#19d3f3",
          "pattern": {
           "shape": ""
          }
         },
         "name": "Ignorado",
         "offsetgroup": "Ignorado",
         "orientation": "v",
         "showlegend": true,
         "text": [
          8
         ],
         "textposition": "outside",
         "type": "bar",
         "x": [
          "Ignorado"
         ],
         "xaxis": "x",
         "y": [
          8
         ],
         "yaxis": "y"
        }
       ],
       "layout": {
        "barmode": "relative",
        "height": 500,
        "legend": {
         "title": {
          "text": "Raca"
         },
         "tracegroupgap": 0
        },
        "template": {
         "data": {
          "bar": [
           {
            "error_x": {
             "color": "#2a3f5f"
            },
            "error_y": {
             "color": "#2a3f5f"
            },
            "marker": {
             "line": {
              "color": "#E5ECF6",
              "width": 0.5
             },
             "pattern": {
              "fillmode": "overlay",
              "size": 10,
              "solidity": 0.2
             }
            },
            "type": "bar"
           }
          ],
          "barpolar": [
           {
            "marker": {
             "line": {
              "color": "#E5ECF6",
              "width": 0.5
             },
             "pattern": {
              "fillmode": "overlay",
              "size": 10,
              "solidity": 0.2
             }
            },
            "type": "barpolar"
           }
          ],
          "carpet": [
           {
            "aaxis": {
             "endlinecolor": "#2a3f5f",
             "gridcolor": "white",
             "linecolor": "white",
             "minorgridcolor": "white",
             "startlinecolor": "#2a3f5f"
            },
            "baxis": {
             "endlinecolor": "#2a3f5f",
             "gridcolor": "white",
             "linecolor": "white",
             "minorgridcolor": "white",
             "startlinecolor": "#2a3f5f"
            },
            "type": "carpet"
           }
          ],
          "choropleth": [
           {
            "colorbar": {
             "outlinewidth": 0,
             "ticks": ""
            },
            "type": "choropleth"
           }
          ],
          "contour": [
           {
            "colorbar": {
             "outlinewidth": 0,
             "ticks": ""
            },
            "colorscale": [
             [
              0,
              "#0d0887"
             ],
             [
              0.1111111111111111,
              "#46039f"
             ],
             [
              0.2222222222222222,
              "#7201a8"
             ],
             [
              0.3333333333333333,
              "#9c179e"
             ],
             [
              0.4444444444444444,
              "#bd3786"
             ],
             [
              0.5555555555555556,
              "#d8576b"
             ],
             [
              0.6666666666666666,
              "#ed7953"
             ],
             [
              0.7777777777777778,
              "#fb9f3a"
             ],
             [
              0.8888888888888888,
              "#fdca26"
             ],
             [
              1,
              "#f0f921"
             ]
            ],
            "type": "contour"
           }
          ],
          "contourcarpet": [
           {
            "colorbar": {
             "outlinewidth": 0,
             "ticks": ""
            },
            "type": "contourcarpet"
           }
          ],
          "heatmap": [
           {
            "colorbar": {
             "outlinewidth": 0,
             "ticks": ""
            },
            "colorscale": [
             [
              0,
              "#0d0887"
             ],
             [
              0.1111111111111111,
              "#46039f"
             ],
             [
              0.2222222222222222,
              "#7201a8"
             ],
             [
              0.3333333333333333,
              "#9c179e"
             ],
             [
              0.4444444444444444,
              "#bd3786"
             ],
             [
              0.5555555555555556,
              "#d8576b"
             ],
             [
              0.6666666666666666,
              "#ed7953"
             ],
             [
              0.7777777777777778,
              "#fb9f3a"
             ],
             [
              0.8888888888888888,
              "#fdca26"
             ],
             [
              1,
              "#f0f921"
             ]
            ],
            "type": "heatmap"
           }
          ],
          "heatmapgl": [
           {
            "colorbar": {
             "outlinewidth": 0,
             "ticks": ""
            },
            "colorscale": [
             [
              0,
              "#0d0887"
             ],
             [
              0.1111111111111111,
              "#46039f"
             ],
             [
              0.2222222222222222,
              "#7201a8"
             ],
             [
              0.3333333333333333,
              "#9c179e"
             ],
             [
              0.4444444444444444,
              "#bd3786"
             ],
             [
              0.5555555555555556,
              "#d8576b"
             ],
             [
              0.6666666666666666,
              "#ed7953"
             ],
             [
              0.7777777777777778,
              "#fb9f3a"
             ],
             [
              0.8888888888888888,
              "#fdca26"
             ],
             [
              1,
              "#f0f921"
             ]
            ],
            "type": "heatmapgl"
           }
          ],
          "histogram": [
           {
            "marker": {
             "pattern": {
              "fillmode": "overlay",
              "size": 10,
              "solidity": 0.2
             }
            },
            "type": "histogram"
           }
          ],
          "histogram2d": [
           {
            "colorbar": {
             "outlinewidth": 0,
             "ticks": ""
            },
            "colorscale": [
             [
              0,
              "#0d0887"
             ],
             [
              0.1111111111111111,
              "#46039f"
             ],
             [
              0.2222222222222222,
              "#7201a8"
             ],
             [
              0.3333333333333333,
              "#9c179e"
             ],
             [
              0.4444444444444444,
              "#bd3786"
             ],
             [
              0.5555555555555556,
              "#d8576b"
             ],
             [
              0.6666666666666666,
              "#ed7953"
             ],
             [
              0.7777777777777778,
              "#fb9f3a"
             ],
             [
              0.8888888888888888,
              "#fdca26"
             ],
             [
              1,
              "#f0f921"
             ]
            ],
            "type": "histogram2d"
           }
          ],
          "histogram2dcontour": [
           {
            "colorbar": {
             "outlinewidth": 0,
             "ticks": ""
            },
            "colorscale": [
             [
              0,
              "#0d0887"
             ],
             [
              0.1111111111111111,
              "#46039f"
             ],
             [
              0.2222222222222222,
              "#7201a8"
             ],
             [
              0.3333333333333333,
              "#9c179e"
             ],
             [
              0.4444444444444444,
              "#bd3786"
             ],
             [
              0.5555555555555556,
              "#d8576b"
             ],
             [
              0.6666666666666666,
              "#ed7953"
             ],
             [
              0.7777777777777778,
              "#fb9f3a"
             ],
             [
              0.8888888888888888,
              "#fdca26"
             ],
             [
              1,
              "#f0f921"
             ]
            ],
            "type": "histogram2dcontour"
           }
          ],
          "mesh3d": [
           {
            "colorbar": {
             "outlinewidth": 0,
             "ticks": ""
            },
            "type": "mesh3d"
           }
          ],
          "parcoords": [
           {
            "line": {
             "colorbar": {
              "outlinewidth": 0,
              "ticks": ""
             }
            },
            "type": "parcoords"
           }
          ],
          "pie": [
           {
            "automargin": true,
            "type": "pie"
           }
          ],
          "scatter": [
           {
            "fillpattern": {
             "fillmode": "overlay",
             "size": 10,
             "solidity": 0.2
            },
            "type": "scatter"
           }
          ],
          "scatter3d": [
           {
            "line": {
             "colorbar": {
              "outlinewidth": 0,
              "ticks": ""
             }
            },
            "marker": {
             "colorbar": {
              "outlinewidth": 0,
              "ticks": ""
             }
            },
            "type": "scatter3d"
           }
          ],
          "scattercarpet": [
           {
            "marker": {
             "colorbar": {
              "outlinewidth": 0,
              "ticks": ""
             }
            },
            "type": "scattercarpet"
           }
          ],
          "scattergeo": [
           {
            "marker": {
             "colorbar": {
              "outlinewidth": 0,
              "ticks": ""
             }
            },
            "type": "scattergeo"
           }
          ],
          "scattergl": [
           {
            "marker": {
             "colorbar": {
              "outlinewidth": 0,
              "ticks": ""
             }
            },
            "type": "scattergl"
           }
          ],
          "scattermapbox": [
           {
            "marker": {
             "colorbar": {
              "outlinewidth": 0,
              "ticks": ""
             }
            },
            "type": "scattermapbox"
           }
          ],
          "scatterpolar": [
           {
            "marker": {
             "colorbar": {
              "outlinewidth": 0,
              "ticks": ""
             }
            },
            "type": "scatterpolar"
           }
          ],
          "scatterpolargl": [
           {
            "marker": {
             "colorbar": {
              "outlinewidth": 0,
              "ticks": ""
             }
            },
            "type": "scatterpolargl"
           }
          ],
          "scatterternary": [
           {
            "marker": {
             "colorbar": {
              "outlinewidth": 0,
              "ticks": ""
             }
            },
            "type": "scatterternary"
           }
          ],
          "surface": [
           {
            "colorbar": {
             "outlinewidth": 0,
             "ticks": ""
            },
            "colorscale": [
             [
              0,
              "#0d0887"
             ],
             [
              0.1111111111111111,
              "#46039f"
             ],
             [
              0.2222222222222222,
              "#7201a8"
             ],
             [
              0.3333333333333333,
              "#9c179e"
             ],
             [
              0.4444444444444444,
              "#bd3786"
             ],
             [
              0.5555555555555556,
              "#d8576b"
             ],
             [
              0.6666666666666666,
              "#ed7953"
             ],
             [
              0.7777777777777778,
              "#fb9f3a"
             ],
             [
              0.8888888888888888,
              "#fdca26"
             ],
             [
              1,
              "#f0f921"
             ]
            ],
            "type": "surface"
           }
          ],
          "table": [
           {
            "cells": {
             "fill": {
              "color": "#EBF0F8"
             },
             "line": {
              "color": "white"
             }
            },
            "header": {
             "fill": {
              "color": "#C8D4E3"
             },
             "line": {
              "color": "white"
             }
            },
            "type": "table"
           }
          ]
         },
         "layout": {
          "annotationdefaults": {
           "arrowcolor": "#2a3f5f",
           "arrowhead": 0,
           "arrowwidth": 1
          },
          "autotypenumbers": "strict",
          "coloraxis": {
           "colorbar": {
            "outlinewidth": 0,
            "ticks": ""
           }
          },
          "colorscale": {
           "diverging": [
            [
             0,
             "#8e0152"
            ],
            [
             0.1,
             "#c51b7d"
            ],
            [
             0.2,
             "#de77ae"
            ],
            [
             0.3,
             "#f1b6da"
            ],
            [
             0.4,
             "#fde0ef"
            ],
            [
             0.5,
             "#f7f7f7"
            ],
            [
             0.6,
             "#e6f5d0"
            ],
            [
             0.7,
             "#b8e186"
            ],
            [
             0.8,
             "#7fbc41"
            ],
            [
             0.9,
             "#4d9221"
            ],
            [
             1,
             "#276419"
            ]
           ],
           "sequential": [
            [
             0,
             "#0d0887"
            ],
            [
             0.1111111111111111,
             "#46039f"
            ],
            [
             0.2222222222222222,
             "#7201a8"
            ],
            [
             0.3333333333333333,
             "#9c179e"
            ],
            [
             0.4444444444444444,
             "#bd3786"
            ],
            [
             0.5555555555555556,
             "#d8576b"
            ],
            [
             0.6666666666666666,
             "#ed7953"
            ],
            [
             0.7777777777777778,
             "#fb9f3a"
            ],
            [
             0.8888888888888888,
             "#fdca26"
            ],
            [
             1,
             "#f0f921"
            ]
           ],
           "sequentialminus": [
            [
             0,
             "#0d0887"
            ],
            [
             0.1111111111111111,
             "#46039f"
            ],
            [
             0.2222222222222222,
             "#7201a8"
            ],
            [
             0.3333333333333333,
             "#9c179e"
            ],
            [
             0.4444444444444444,
             "#bd3786"
            ],
            [
             0.5555555555555556,
             "#d8576b"
            ],
            [
             0.6666666666666666,
             "#ed7953"
            ],
            [
             0.7777777777777778,
             "#fb9f3a"
            ],
            [
             0.8888888888888888,
             "#fdca26"
            ],
            [
             1,
             "#f0f921"
            ]
           ]
          },
          "colorway": [
           "#636efa",
           "#EF553B",
           "#00cc96",
           "#ab63fa",
           "#FFA15A",
           "#19d3f3",
           "#FF6692",
           "#B6E880",
           "#FF97FF",
           "#FECB52"
          ],
          "font": {
           "color": "#2a3f5f"
          },
          "geo": {
           "bgcolor": "white",
           "lakecolor": "white",
           "landcolor": "#E5ECF6",
           "showlakes": true,
           "showland": true,
           "subunitcolor": "white"
          },
          "hoverlabel": {
           "align": "left"
          },
          "hovermode": "closest",
          "mapbox": {
           "style": "light"
          },
          "paper_bgcolor": "white",
          "plot_bgcolor": "#E5ECF6",
          "polar": {
           "angularaxis": {
            "gridcolor": "white",
            "linecolor": "white",
            "ticks": ""
           },
           "bgcolor": "#E5ECF6",
           "radialaxis": {
            "gridcolor": "white",
            "linecolor": "white",
            "ticks": ""
           }
          },
          "scene": {
           "xaxis": {
            "backgroundcolor": "#E5ECF6",
            "gridcolor": "white",
            "gridwidth": 2,
            "linecolor": "white",
            "showbackground": true,
            "ticks": "",
            "zerolinecolor": "white"
           },
           "yaxis": {
            "backgroundcolor": "#E5ECF6",
            "gridcolor": "white",
            "gridwidth": 2,
            "linecolor": "white",
            "showbackground": true,
            "ticks": "",
            "zerolinecolor": "white"
           },
           "zaxis": {
            "backgroundcolor": "#E5ECF6",
            "gridcolor": "white",
            "gridwidth": 2,
            "linecolor": "white",
            "showbackground": true,
            "ticks": "",
            "zerolinecolor": "white"
           }
          },
          "shapedefaults": {
           "line": {
            "color": "#2a3f5f"
           }
          },
          "ternary": {
           "aaxis": {
            "gridcolor": "white",
            "linecolor": "white",
            "ticks": ""
           },
           "baxis": {
            "gridcolor": "white",
            "linecolor": "white",
            "ticks": ""
           },
           "bgcolor": "#E5ECF6",
           "caxis": {
            "gridcolor": "white",
            "linecolor": "white",
            "ticks": ""
           }
          },
          "title": {
           "x": 0.05
          },
          "xaxis": {
           "automargin": true,
           "gridcolor": "white",
           "linecolor": "white",
           "ticks": "",
           "title": {
            "standoff": 15
           },
           "zerolinecolor": "white",
           "zerolinewidth": 2
          },
          "yaxis": {
           "automargin": true,
           "gridcolor": "white",
           "linecolor": "white",
           "ticks": "",
           "title": {
            "standoff": 15
           },
           "zerolinecolor": "white",
           "zerolinewidth": 2
          }
         }
        },
        "title": {
         "text": "Distribuição das Raças/Enias"
        },
        "width": 1000,
        "xaxis": {
         "anchor": "y",
         "autorange": true,
         "categoryarray": [
          "Pardos",
          "Brancos",
          "Pretos",
          "Amarelos",
          "Indigenas",
          "Ignorado"
         ],
         "categoryorder": "array",
         "domain": [
          0,
          1
         ],
         "range": [
          -0.5,
          5.5
         ],
         "title": {
          "text": "Raca"
         },
         "type": "category"
        },
        "yaxis": {
         "anchor": "x",
         "autorange": true,
         "domain": [
          0,
          1
         ],
         "range": [
          0,
          28924.21052631579
         ],
         "title": {
          "text": "Contagem"
         },
         "type": "linear"
        }
       }
      },
      "image/png": "[encoded data removed]",
      "text/html": [
       "<div>                            <div id=\"b3c22aa5-4b5d-4604-8d2c-56cc3bd9e3c8\" class=\"plotly-graph-div\" style=\"height:500px; width:1000px;\"></div>            <script type=\"text/javascript\">                require([\"plotly\"], function(Plotly) {                    window.PLOTLYENV=window.PLOTLYENV || {};                                    if (document.getElementById(\"b3c22aa5-4b5d-4604-8d2c-56cc3bd9e3c8\")) {                    Plotly.newPlot(                        \"b3c22aa5-4b5d-4604-8d2c-56cc3bd9e3c8\",                        [{\"alignmentgroup\":\"True\",\"hovertemplate\":\"Raca=%{x}\\u003cbr\\u003eContagem=%{text}\\u003cextra\\u003e\\u003c\\u002fextra\\u003e\",\"legendgroup\":\"Pardos\",\"marker\":{\"color\":\"#636efa\",\"pattern\":{\"shape\":\"\"}},\"name\":\"Pardos\",\"offsetgroup\":\"Pardos\",\"orientation\":\"v\",\"showlegend\":true,\"text\":[27478.0],\"textposition\":\"outside\",\"x\":[\"Pardos\"],\"xaxis\":\"x\",\"y\":[27478],\"yaxis\":\"y\",\"type\":\"bar\"},{\"alignmentgroup\":\"True\",\"hovertemplate\":\"Raca=%{x}\\u003cbr\\u003eContagem=%{text}\\u003cextra\\u003e\\u003c\\u002fextra\\u003e\",\"legendgroup\":\"Brancos\",\"marker\":{\"color\":\"#EF553B\",\"pattern\":{\"shape\":\"\"}},\"name\":\"Brancos\",\"offsetgroup\":\"Brancos\",\"orientation\":\"v\",\"showlegend\":true,\"text\":[19870.0],\"textposition\":\"outside\",\"x\":[\"Brancos\"],\"xaxis\":\"x\",\"y\":[19870],\"yaxis\":\"y\",\"type\":\"bar\"},{\"alignmentgroup\":\"True\",\"hovertemplate\":\"Raca=%{x}\\u003cbr\\u003eContagem=%{text}\\u003cextra\\u003e\\u003c\\u002fextra\\u003e\",\"legendgroup\":\"Pretos\",\"marker\":{\"color\":\"#00cc96\",\"pattern\":{\"shape\":\"\"}},\"name\":\"Pretos\",\"offsetgroup\":\"Pretos\",\"orientation\":\"v\",\"showlegend\":true,\"text\":[6519.0],\"textposition\":\"outside\",\"x\":[\"Pretos\"],\"xaxis\":\"x\",\"y\":[6519],\"yaxis\":\"y\",\"type\":\"bar\"},{\"alignmentgroup\":\"True\",\"hovertemplate\":\"Raca=%{x}\\u003cbr\\u003eContagem=%{text}\\u003cextra\\u003e\\u003c\\u002fextra\\u003e\",\"legendgroup\":\"Amarelos\",\"marker\":{\"color\":\"#ab63fa\",\"pattern\":{\"shape\":\"\"}},\"name\":\"Amarelos\",\"offsetgroup\":\"Amarelos\",\"orientation\":\"v\",\"showlegend\":true,\"text\":[424.0],\"textposition\":\"outside\",\"x\":[\"Amarelos\"],\"xaxis\":\"x\",\"y\":[424],\"yaxis\":\"y\",\"type\":\"bar\"},{\"alignmentgroup\":\"True\",\"hovertemplate\":\"Raca=%{x}\\u003cbr\\u003eContagem=%{text}\\u003cextra\\u003e\\u003c\\u002fextra\\u003e\",\"legendgroup\":\"Indigenas\",\"marker\":{\"color\":\"#FFA15A\",\"pattern\":{\"shape\":\"\"}},\"name\":\"Indigenas\",\"offsetgroup\":\"Indigenas\",\"orientation\":\"v\",\"showlegend\":true,\"text\":[413.0],\"textposition\":\"outside\",\"x\":[\"Indigenas\"],\"xaxis\":\"x\",\"y\":[413],\"yaxis\":\"y\",\"type\":\"bar\"},{\"alignmentgroup\":\"True\",\"hovertemplate\":\"Raca=%{x}\\u003cbr\\u003eContagem=%{text}\\u003cextra\\u003e\\u003c\\u002fextra\\u003e\",\"legendgroup\":\"Ignorado\",\"marker\":{\"color\":\"#19d3f3\",\"pattern\":{\"shape\":\"\"}},\"name\":\"Ignorado\",\"offsetgroup\":\"Ignorado\",\"orientation\":\"v\",\"showlegend\":true,\"text\":[8.0],\"textposition\":\"outside\",\"x\":[\"Ignorado\"],\"xaxis\":\"x\",\"y\":[8],\"yaxis\":\"y\",\"type\":\"bar\"}],                        {\"template\":{\"data\":{\"histogram2dcontour\":[{\"type\":\"histogram2dcontour\",\"colorbar\":{\"outlinewidth\":0,\"ticks\":\"\"},\"colorscale\":[[0.0,\"#0d0887\"],[0.1111111111111111,\"#46039f\"],[0.2222222222222222,\"#7201a8\"],[0.3333333333333333,\"#9c179e\"],[0.4444444444444444,\"#bd3786\"],[0.5555555555555556,\"#d8576b\"],[0.6666666666666666,\"#ed7953\"],[0.7777777777777778,\"#fb9f3a\"],[0.8888888888888888,\"#fdca26\"],[1.0,\"#f0f921\"]]}],\"choropleth\":[{\"type\":\"choropleth\",\"colorbar\":{\"outlinewidth\":0,\"ticks\":\"\"}}],\"histogram2d\":[{\"type\":\"histogram2d\",\"colorbar\":{\"outlinewidth\":0,\"ticks\":\"\"},\"colorscale\":[[0.0,\"#0d0887\"],[0.1111111111111111,\"#46039f\"],[0.2222222222222222,\"#7201a8\"],[0.3333333333333333,\"#9c179e\"],[0.4444444444444444,\"#bd3786\"],[0.5555555555555556,\"#d8576b\"],[0.6666666666666666,\"#ed7953\"],[0.7777777777777778,\"#fb9f3a\"],[0.8888888888888888,\"#fdca26\"],[1.0,\"#f0f921\"]]}],\"heatmap\":[{\"type\":\"heatmap\",\"colorbar\":{\"outlinewidth\":0,\"ticks\":\"\"},\"colorscale\":[[0.0,\"#0d0887\"],[0.1111111111111111,\"#46039f\"],[0.2222222222222222,\"#7201a8\"],[0.3333333333333333,\"#9c179e\"],[0.4444444444444444,\"#bd3786\"],[0.5555555555555556,\"#d8576b\"],[0.6666666666666666,\"#ed7953\"],[0.7777777777777778,\"#fb9f3a\"],[0.8888888888888888,\"#fdca26\"],[1.0,\"#f0f921\"]]}],\"heatmapgl\":[{\"type\":\"heatmapgl\",\"colorbar\":{\"outlinewidth\":0,\"ticks\":\"\"},\"colorscale\":[[0.0,\"#0d0887\"],[0.1111111111111111,\"#46039f\"],[0.2222222222222222,\"#7201a8\"],[0.3333333333333333,\"#9c179e\"],[0.4444444444444444,\"#bd3786\"],[0.5555555555555556,\"#d8576b\"],[0.6666666666666666,\"#ed7953\"],[0.7777777777777778,\"#fb9f3a\"],[0.8888888888888888,\"#fdca26\"],[1.0,\"#f0f921\"]]}],\"contourcarpet\":[{\"type\":\"contourcarpet\",\"colorbar\":{\"outlinewidth\":0,\"ticks\":\"\"}}],\"contour\":[{\"type\":\"contour\",\"colorbar\":{\"outlinewidth\":0,\"ticks\":\"\"},\"colorscale\":[[0.0,\"#0d0887\"],[0.1111111111111111,\"#46039f\"],[0.2222222222222222,\"#7201a8\"],[0.3333333333333333,\"#9c179e\"],[0.4444444444444444,\"#bd3786\"],[0.5555555555555556,\"#d8576b\"],[0.6666666666666666,\"#ed7953\"],[0.7777777777777778,\"#fb9f3a\"],[0.8888888888888888,\"#fdca26\"],[1.0,\"#f0f921\"]]}],\"surface\":[{\"type\":\"surface\",\"colorbar\":{\"outlinewidth\":0,\"ticks\":\"\"},\"colorscale\":[[0.0,\"#0d0887\"],[0.1111111111111111,\"#46039f\"],[0.2222222222222222,\"#7201a8\"],[0.3333333333333333,\"#9c179e\"],[0.4444444444444444,\"#bd3786\"],[0.5555555555555556,\"#d8576b\"],[0.6666666666666666,\"#ed7953\"],[0.7777777777777778,\"#fb9f3a\"],[0.8888888888888888,\"#fdca26\"],[1.0,\"#f0f921\"]]}],\"mesh3d\":[{\"type\":\"mesh3d\",\"colorbar\":{\"outlinewidth\":0,\"ticks\":\"\"}}],\"scatter\":[{\"fillpattern\":{\"fillmode\":\"overlay\",\"size\":10,\"solidity\":0.2},\"type\":\"scatter\"}],\"parcoords\":[{\"type\":\"parcoords\",\"line\":{\"colorbar\":{\"outlinewidth\":0,\"ticks\":\"\"}}}],\"scatterpolargl\":[{\"type\":\"scatterpolargl\",\"marker\":{\"colorbar\":{\"outlinewidth\":0,\"ticks\":\"\"}}}],\"bar\":[{\"error_x\":{\"color\":\"#2a3f5f\"},\"error_y\":{\"color\":\"#2a3f5f\"},\"marker\":{\"line\":{\"color\":\"#E5ECF6\",\"width\":0.5},\"pattern\":{\"fillmode\":\"overlay\",\"size\":10,\"solidity\":0.2}},\"type\":\"bar\"}],\"scattergeo\":[{\"type\":\"scattergeo\",\"marker\":{\"colorbar\":{\"outlinewidth\":0,\"ticks\":\"\"}}}],\"scatterpolar\":[{\"type\":\"scatterpolar\",\"marker\":{\"colorbar\":{\"outlinewidth\":0,\"ticks\":\"\"}}}],\"histogram\":[{\"marker\":{\"pattern\":{\"fillmode\":\"overlay\",\"size\":10,\"solidity\":0.2}},\"type\":\"histogram\"}],\"scattergl\":[{\"type\":\"scattergl\",\"marker\":{\"colorbar\":{\"outlinewidth\":0,\"ticks\":\"\"}}}],\"scatter3d\":[{\"type\":\"scatter3d\",\"line\":{\"colorbar\":{\"outlinewidth\":0,\"ticks\":\"\"}},\"marker\":{\"colorbar\":{\"outlinewidth\":0,\"ticks\":\"\"}}}],\"scattermapbox\":[{\"type\":\"scattermapbox\",\"marker\":{\"colorbar\":{\"outlinewidth\":0,\"ticks\":\"\"}}}],\"scatterternary\":[{\"type\":\"scatterternary\",\"marker\":{\"colorbar\":{\"outlinewidth\":0,\"ticks\":\"\"}}}],\"scattercarpet\":[{\"type\":\"scattercarpet\",\"marker\":{\"colorbar\":{\"outlinewidth\":0,\"ticks\":\"\"}}}],\"carpet\":[{\"aaxis\":{\"endlinecolor\":\"#2a3f5f\",\"gridcolor\":\"white\",\"linecolor\":\"white\",\"minorgridcolor\":\"white\",\"startlinecolor\":\"#2a3f5f\"},\"baxis\":{\"endlinecolor\":\"#2a3f5f\",\"gridcolor\":\"white\",\"linecolor\":\"white\",\"minorgridcolor\":\"white\",\"startlinecolor\":\"#2a3f5f\"},\"type\":\"carpet\"}],\"table\":[{\"cells\":{\"fill\":{\"color\":\"#EBF0F8\"},\"line\":{\"color\":\"white\"}},\"header\":{\"fill\":{\"color\":\"#C8D4E3\"},\"line\":{\"color\":\"white\"}},\"type\":\"table\"}],\"barpolar\":[{\"marker\":{\"line\":{\"color\":\"#E5ECF6\",\"width\":0.5},\"pattern\":{\"fillmode\":\"overlay\",\"size\":10,\"solidity\":0.2}},\"type\":\"barpolar\"}],\"pie\":[{\"automargin\":true,\"type\":\"pie\"}]},\"layout\":{\"autotypenumbers\":\"strict\",\"colorway\":[\"#636efa\",\"#EF553B\",\"#00cc96\",\"#ab63fa\",\"#FFA15A\",\"#19d3f3\",\"#FF6692\",\"#B6E880\",\"#FF97FF\",\"#FECB52\"],\"font\":{\"color\":\"#2a3f5f\"},\"hovermode\":\"closest\",\"hoverlabel\":{\"align\":\"left\"},\"paper_bgcolor\":\"white\",\"plot_bgcolor\":\"#E5ECF6\",\"polar\":{\"bgcolor\":\"#E5ECF6\",\"angularaxis\":{\"gridcolor\":\"white\",\"linecolor\":\"white\",\"ticks\":\"\"},\"radialaxis\":{\"gridcolor\":\"white\",\"linecolor\":\"white\",\"ticks\":\"\"}},\"ternary\":{\"bgcolor\":\"#E5ECF6\",\"aaxis\":{\"gridcolor\":\"white\",\"linecolor\":\"white\",\"ticks\":\"\"},\"baxis\":{\"gridcolor\":\"white\",\"linecolor\":\"white\",\"ticks\":\"\"},\"caxis\":{\"gridcolor\":\"white\",\"linecolor\":\"white\",\"ticks\":\"\"}},\"coloraxis\":{\"colorbar\":{\"outlinewidth\":0,\"ticks\":\"\"}},\"colorscale\":{\"sequential\":[[0.0,\"#0d0887\"],[0.1111111111111111,\"#46039f\"],[0.2222222222222222,\"#7201a8\"],[0.3333333333333333,\"#9c179e\"],[0.4444444444444444,\"#bd3786\"],[0.5555555555555556,\"#d8576b\"],[0.6666666666666666,\"#ed7953\"],[0.7777777777777778,\"#fb9f3a\"],[0.8888888888888888,\"#fdca26\"],[1.0,\"#f0f921\"]],\"sequentialminus\":[[0.0,\"#0d0887\"],[0.1111111111111111,\"#46039f\"],[0.2222222222222222,\"#7201a8\"],[0.3333333333333333,\"#9c179e\"],[0.4444444444444444,\"#bd3786\"],[0.5555555555555556,\"#d8576b\"],[0.6666666666666666,\"#ed7953\"],[0.7777777777777778,\"#fb9f3a\"],[0.8888888888888888,\"#fdca26\"],[1.0,\"#f0f921\"]],\"diverging\":[[0,\"#8e0152\"],[0.1,\"#c51b7d\"],[0.2,\"#de77ae\"],[0.3,\"#f1b6da\"],[0.4,\"#fde0ef\"],[0.5,\"#f7f7f7\"],[0.6,\"#e6f5d0\"],[0.7,\"#b8e186\"],[0.8,\"#7fbc41\"],[0.9,\"#4d9221\"],[1,\"#276419\"]]},\"xaxis\":{\"gridcolor\":\"white\",\"linecolor\":\"white\",\"ticks\":\"\",\"title\":{\"standoff\":15},\"zerolinecolor\":\"white\",\"automargin\":true,\"zerolinewidth\":2},\"yaxis\":{\"gridcolor\":\"white\",\"linecolor\":\"white\",\"ticks\":\"\",\"title\":{\"standoff\":15},\"zerolinecolor\":\"white\",\"automargin\":true,\"zerolinewidth\":2},\"scene\":{\"xaxis\":{\"backgroundcolor\":\"#E5ECF6\",\"gridcolor\":\"white\",\"linecolor\":\"white\",\"showbackground\":true,\"ticks\":\"\",\"zerolinecolor\":\"white\",\"gridwidth\":2},\"yaxis\":{\"backgroundcolor\":\"#E5ECF6\",\"gridcolor\":\"white\",\"linecolor\":\"white\",\"showbackground\":true,\"ticks\":\"\",\"zerolinecolor\":\"white\",\"gridwidth\":2},\"zaxis\":{\"backgroundcolor\":\"#E5ECF6\",\"gridcolor\":\"white\",\"linecolor\":\"white\",\"showbackground\":true,\"ticks\":\"\",\"zerolinecolor\":\"white\",\"gridwidth\":2}},\"shapedefaults\":{\"line\":{\"color\":\"#2a3f5f\"}},\"annotationdefaults\":{\"arrowcolor\":\"#2a3f5f\",\"arrowhead\":0,\"arrowwidth\":1},\"geo\":{\"bgcolor\":\"white\",\"landcolor\":\"#E5ECF6\",\"subunitcolor\":\"white\",\"showland\":true,\"showlakes\":true,\"lakecolor\":\"white\"},\"title\":{\"x\":0.05},\"mapbox\":{\"style\":\"light\"}}},\"xaxis\":{\"anchor\":\"y\",\"domain\":[0.0,1.0],\"title\":{\"text\":\"Raca\"},\"categoryorder\":\"array\",\"categoryarray\":[\"Pardos\",\"Brancos\",\"Pretos\",\"Amarelos\",\"Indigenas\",\"Ignorado\"]},\"yaxis\":{\"anchor\":\"x\",\"domain\":[0.0,1.0],\"title\":{\"text\":\"Contagem\"}},\"legend\":{\"title\":{\"text\":\"Raca\"},\"tracegroupgap\":0},\"title\":{\"text\":\"Distribui\\u00e7\\u00e3o das Ra\\u00e7as\\u002fEnias\"},\"barmode\":\"relative\",\"width\":1000,\"height\":500},                        {\"responsive\": true}                    ).then(function(){\n",
       "                            \n",
       "var gd = document.getElementById('b3c22aa5-4b5d-4604-8d2c-56cc3bd9e3c8');\n",
       "var x = new MutationObserver(function (mutations, observer) {{\n",
       "        var display = window.getComputedStyle(gd).display;\n",
       "        if (!display || display === 'none') {{\n",
       "            console.log([gd, 'removed!']);\n",
       "            Plotly.purge(gd);\n",
       "            observer.disconnect();\n",
       "        }}\n",
       "}});\n",
       "\n",
       "// Listen for the removal of the full notebook cells\n",
       "var notebookContainer = gd.closest('#notebook-container');\n",
       "if (notebookContainer) {{\n",
       "    x.observe(notebookContainer, {childList: true});\n",
       "}}\n",
       "\n",
       "// Listen for the clearing of the current output cell\n",
       "var outputEl = gd.closest('.output');\n",
       "if (outputEl) {{\n",
       "    x.observe(outputEl, {childList: true});\n",
       "}}\n",
       "\n",
       "                        })                };                });            </script>        </div>"
      ]
     },
     "metadata": {},
     "output_type": "display_data"
    }
   ],
   "source": [
    "#Dicionario para mapeamento.\n",
    "dicionario = {\n",
    "    1: 'Brancos',\n",
    "    2: 'Pretos',\n",
    "    3: 'Amarelos',\n",
    "    4: 'Pardos',\n",
    "    5: 'Indigenas',\n",
    "    9: 'Ignorado',\n",
    "}\n",
    "\n",
    "contagem = df[\"Raca_etnia\"].value_counts().reset_index()\n",
    "contagem.columns = ['Raca', 'Contagem']\n",
    "\n",
    "#mapeamento das instruções na própria coluna Instrução.\n",
    "contagem['Raca'] = contagem['Raca'].map(dicionario)\n",
    "contagem = contagem.sort_values(by='Contagem', ascending=False)\n",
    "\n",
    "# Supondo que a coluna de nível de instrução seja 'NivelInstrucao'\n",
    "fig = px.bar(\n",
    "    contagem,\n",
    "    x='Raca',\n",
    "    y='Contagem',\n",
    "    labels={'count': 'Contagem', 'Raca_etnia': 'Raça/Etnia'},\n",
    "    title='Distribuição das Raças/Enias',\n",
    "    color='Raca',\n",
    "    text='Contagem'\n",
    ")\n",
    "\n",
    "fig.update_traces(textposition='outside')\n",
    "\n",
    "fig.update_layout(\n",
    "    width=1000,\n",
    "    height=500,\n",
    ")\n",
    "\n",
    "fig.show()"
   ]
  },
  {
   "cell_type": "markdown",
   "id": "c1a780ac-8c42-434b-8b55-916a92899f55",
   "metadata": {},
   "source": [
    "**A maioria das pessoas são pardas**, isso corresponde à 50,22% do conjunto total de dados. Em seguida os brancos ocupam 36,31% do conjunto de dados.\n",
    "\n",
    "**Conclusão:** De acordo com as literaturas estudadas, pessoas pardas e pretas possuem uma **tendência genética maior a desenvolverem hipertensão e problemas cardiovasculares**, por isso irei aplicar a categorização das raças em 2 conjuntos: pretos e não pretos."
   ]
  },
  {
   "cell_type": "code",
   "execution_count": 348,
   "id": "bf12aa2d-4fd4-4cff-ba3a-7f1b78153892",
   "metadata": {},
   "outputs": [
    {
     "data": {
      "text/plain": [
       "Raca_etnia\n",
       "4.0    27478\n",
       "1.0    19870\n",
       "2.0     6519\n",
       "3.0      424\n",
       "5.0      413\n",
       "9.0        8\n",
       "Name: count, dtype: int64"
      ]
     },
     "execution_count": 348,
     "metadata": {},
     "output_type": "execute_result"
    }
   ],
   "source": [
    "df[\"Raca_etnia\"].value_counts()"
   ]
  },
  {
   "cell_type": "code",
   "execution_count": 349,
   "id": "0e0471ee-aa2f-4aea-9fb8-764f436aa18a",
   "metadata": {},
   "outputs": [],
   "source": [
    "# Atualizar a coluna C009: 0 para pessoas não pretas e 1 para pessoas pretas.\n",
    "df[\"Raca_etnia\"] = np.where(df[\"Raca_etnia\"].isin([1, 3, 5, 9]), 0, 1)"
   ]
  },
  {
   "cell_type": "code",
   "execution_count": 350,
   "id": "d9336e92-f3d5-418e-817a-40a68e073e89",
   "metadata": {},
   "outputs": [
    {
     "data": {
      "application/vnd.plotly.v1+json": {
       "config": {
        "plotlyServerURL": "https://plot.ly"
       },
       "data": [
        {
         "alignmentgroup": "True",
         "hovertemplate": "Raca=%{x}<br>Contagem=%{text}<extra></extra>",
         "legendgroup": "Pretos",
         "marker": {
          "color": "#636efa",
          "pattern": {
           "shape": ""
          }
         },
         "name": "Pretos",
         "offsetgroup": "Pretos",
         "orientation": "v",
         "showlegend": true,
         "text": [
          33997
         ],
         "textposition": "outside",
         "type": "bar",
         "x": [
          "Pretos"
         ],
         "xaxis": "x",
         "y": [
          33997
         ],
         "yaxis": "y"
        },
        {
         "alignmentgroup": "True",
         "hovertemplate": "Raca=%{x}<br>Contagem=%{text}<extra></extra>",
         "legendgroup": "Não Pretos",
         "marker": {
          "color": "#EF553B",
          "pattern": {
           "shape": ""
          }
         },
         "name": "Não Pretos",
         "offsetgroup": "Não Pretos",
         "orientation": "v",
         "showlegend": true,
         "text": [
          20715
         ],
         "textposition": "outside",
         "type": "bar",
         "x": [
          "Não Pretos"
         ],
         "xaxis": "x",
         "y": [
          20715
         ],
         "yaxis": "y"
        }
       ],
       "layout": {
        "barmode": "relative",
        "height": 500,
        "legend": {
         "title": {
          "text": "Raca"
         },
         "tracegroupgap": 0
        },
        "template": {
         "data": {
          "bar": [
           {
            "error_x": {
             "color": "#2a3f5f"
            },
            "error_y": {
             "color": "#2a3f5f"
            },
            "marker": {
             "line": {
              "color": "#E5ECF6",
              "width": 0.5
             },
             "pattern": {
              "fillmode": "overlay",
              "size": 10,
              "solidity": 0.2
             }
            },
            "type": "bar"
           }
          ],
          "barpolar": [
           {
            "marker": {
             "line": {
              "color": "#E5ECF6",
              "width": 0.5
             },
             "pattern": {
              "fillmode": "overlay",
              "size": 10,
              "solidity": 0.2
             }
            },
            "type": "barpolar"
           }
          ],
          "carpet": [
           {
            "aaxis": {
             "endlinecolor": "#2a3f5f",
             "gridcolor": "white",
             "linecolor": "white",
             "minorgridcolor": "white",
             "startlinecolor": "#2a3f5f"
            },
            "baxis": {
             "endlinecolor": "#2a3f5f",
             "gridcolor": "white",
             "linecolor": "white",
             "minorgridcolor": "white",
             "startlinecolor": "#2a3f5f"
            },
            "type": "carpet"
           }
          ],
          "choropleth": [
           {
            "colorbar": {
             "outlinewidth": 0,
             "ticks": ""
            },
            "type": "choropleth"
           }
          ],
          "contour": [
           {
            "colorbar": {
             "outlinewidth": 0,
             "ticks": ""
            },
            "colorscale": [
             [
              0,
              "#0d0887"
             ],
             [
              0.1111111111111111,
              "#46039f"
             ],
             [
              0.2222222222222222,
              "#7201a8"
             ],
             [
              0.3333333333333333,
              "#9c179e"
             ],
             [
              0.4444444444444444,
              "#bd3786"
             ],
             [
              0.5555555555555556,
              "#d8576b"
             ],
             [
              0.6666666666666666,
              "#ed7953"
             ],
             [
              0.7777777777777778,
              "#fb9f3a"
             ],
             [
              0.8888888888888888,
              "#fdca26"
             ],
             [
              1,
              "#f0f921"
             ]
            ],
            "type": "contour"
           }
          ],
          "contourcarpet": [
           {
            "colorbar": {
             "outlinewidth": 0,
             "ticks": ""
            },
            "type": "contourcarpet"
           }
          ],
          "heatmap": [
           {
            "colorbar": {
             "outlinewidth": 0,
             "ticks": ""
            },
            "colorscale": [
             [
              0,
              "#0d0887"
             ],
             [
              0.1111111111111111,
              "#46039f"
             ],
             [
              0.2222222222222222,
              "#7201a8"
             ],
             [
              0.3333333333333333,
              "#9c179e"
             ],
             [
              0.4444444444444444,
              "#bd3786"
             ],
             [
              0.5555555555555556,
              "#d8576b"
             ],
             [
              0.6666666666666666,
              "#ed7953"
             ],
             [
              0.7777777777777778,
              "#fb9f3a"
             ],
             [
              0.8888888888888888,
              "#fdca26"
             ],
             [
              1,
              "#f0f921"
             ]
            ],
            "type": "heatmap"
           }
          ],
          "heatmapgl": [
           {
            "colorbar": {
             "outlinewidth": 0,
             "ticks": ""
            },
            "colorscale": [
             [
              0,
              "#0d0887"
             ],
             [
              0.1111111111111111,
              "#46039f"
             ],
             [
              0.2222222222222222,
              "#7201a8"
             ],
             [
              0.3333333333333333,
              "#9c179e"
             ],
             [
              0.4444444444444444,
              "#bd3786"
             ],
             [
              0.5555555555555556,
              "#d8576b"
             ],
             [
              0.6666666666666666,
              "#ed7953"
             ],
             [
              0.7777777777777778,
              "#fb9f3a"
             ],
             [
              0.8888888888888888,
              "#fdca26"
             ],
             [
              1,
              "#f0f921"
             ]
            ],
            "type": "heatmapgl"
           }
          ],
          "histogram": [
           {
            "marker": {
             "pattern": {
              "fillmode": "overlay",
              "size": 10,
              "solidity": 0.2
             }
            },
            "type": "histogram"
           }
          ],
          "histogram2d": [
           {
            "colorbar": {
             "outlinewidth": 0,
             "ticks": ""
            },
            "colorscale": [
             [
              0,
              "#0d0887"
             ],
             [
              0.1111111111111111,
              "#46039f"
             ],
             [
              0.2222222222222222,
              "#7201a8"
             ],
             [
              0.3333333333333333,
              "#9c179e"
             ],
             [
              0.4444444444444444,
              "#bd3786"
             ],
             [
              0.5555555555555556,
              "#d8576b"
             ],
             [
              0.6666666666666666,
              "#ed7953"
             ],
             [
              0.7777777777777778,
              "#fb9f3a"
             ],
             [
              0.8888888888888888,
              "#fdca26"
             ],
             [
              1,
              "#f0f921"
             ]
            ],
            "type": "histogram2d"
           }
          ],
          "histogram2dcontour": [
           {
            "colorbar": {
             "outlinewidth": 0,
             "ticks": ""
            },
            "colorscale": [
             [
              0,
              "#0d0887"
             ],
             [
              0.1111111111111111,
              "#46039f"
             ],
             [
              0.2222222222222222,
              "#7201a8"
             ],
             [
              0.3333333333333333,
              "#9c179e"
             ],
             [
              0.4444444444444444,
              "#bd3786"
             ],
             [
              0.5555555555555556,
              "#d8576b"
             ],
             [
              0.6666666666666666,
              "#ed7953"
             ],
             [
              0.7777777777777778,
              "#fb9f3a"
             ],
             [
              0.8888888888888888,
              "#fdca26"
             ],
             [
              1,
              "#f0f921"
             ]
            ],
            "type": "histogram2dcontour"
           }
          ],
          "mesh3d": [
           {
            "colorbar": {
             "outlinewidth": 0,
             "ticks": ""
            },
            "type": "mesh3d"
           }
          ],
          "parcoords": [
           {
            "line": {
             "colorbar": {
              "outlinewidth": 0,
              "ticks": ""
             }
            },
            "type": "parcoords"
           }
          ],
          "pie": [
           {
            "automargin": true,
            "type": "pie"
           }
          ],
          "scatter": [
           {
            "fillpattern": {
             "fillmode": "overlay",
             "size": 10,
             "solidity": 0.2
            },
            "type": "scatter"
           }
          ],
          "scatter3d": [
           {
            "line": {
             "colorbar": {
              "outlinewidth": 0,
              "ticks": ""
             }
            },
            "marker": {
             "colorbar": {
              "outlinewidth": 0,
              "ticks": ""
             }
            },
            "type": "scatter3d"
           }
          ],
          "scattercarpet": [
           {
            "marker": {
             "colorbar": {
              "outlinewidth": 0,
              "ticks": ""
             }
            },
            "type": "scattercarpet"
           }
          ],
          "scattergeo": [
           {
            "marker": {
             "colorbar": {
              "outlinewidth": 0,
              "ticks": ""
             }
            },
            "type": "scattergeo"
           }
          ],
          "scattergl": [
           {
            "marker": {
             "colorbar": {
              "outlinewidth": 0,
              "ticks": ""
             }
            },
            "type": "scattergl"
           }
          ],
          "scattermapbox": [
           {
            "marker": {
             "colorbar": {
              "outlinewidth": 0,
              "ticks": ""
             }
            },
            "type": "scattermapbox"
           }
          ],
          "scatterpolar": [
           {
            "marker": {
             "colorbar": {
              "outlinewidth": 0,
              "ticks": ""
             }
            },
            "type": "scatterpolar"
           }
          ],
          "scatterpolargl": [
           {
            "marker": {
             "colorbar": {
              "outlinewidth": 0,
              "ticks": ""
             }
            },
            "type": "scatterpolargl"
           }
          ],
          "scatterternary": [
           {
            "marker": {
             "colorbar": {
              "outlinewidth": 0,
              "ticks": ""
             }
            },
            "type": "scatterternary"
           }
          ],
          "surface": [
           {
            "colorbar": {
             "outlinewidth": 0,
             "ticks": ""
            },
            "colorscale": [
             [
              0,
              "#0d0887"
             ],
             [
              0.1111111111111111,
              "#46039f"
             ],
             [
              0.2222222222222222,
              "#7201a8"
             ],
             [
              0.3333333333333333,
              "#9c179e"
             ],
             [
              0.4444444444444444,
              "#bd3786"
             ],
             [
              0.5555555555555556,
              "#d8576b"
             ],
             [
              0.6666666666666666,
              "#ed7953"
             ],
             [
              0.7777777777777778,
              "#fb9f3a"
             ],
             [
              0.8888888888888888,
              "#fdca26"
             ],
             [
              1,
              "#f0f921"
             ]
            ],
            "type": "surface"
           }
          ],
          "table": [
           {
            "cells": {
             "fill": {
              "color": "#EBF0F8"
             },
             "line": {
              "color": "white"
             }
            },
            "header": {
             "fill": {
              "color": "#C8D4E3"
             },
             "line": {
              "color": "white"
             }
            },
            "type": "table"
           }
          ]
         },
         "layout": {
          "annotationdefaults": {
           "arrowcolor": "#2a3f5f",
           "arrowhead": 0,
           "arrowwidth": 1
          },
          "autotypenumbers": "strict",
          "coloraxis": {
           "colorbar": {
            "outlinewidth": 0,
            "ticks": ""
           }
          },
          "colorscale": {
           "diverging": [
            [
             0,
             "#8e0152"
            ],
            [
             0.1,
             "#c51b7d"
            ],
            [
             0.2,
             "#de77ae"
            ],
            [
             0.3,
             "#f1b6da"
            ],
            [
             0.4,
             "#fde0ef"
            ],
            [
             0.5,
             "#f7f7f7"
            ],
            [
             0.6,
             "#e6f5d0"
            ],
            [
             0.7,
             "#b8e186"
            ],
            [
             0.8,
             "#7fbc41"
            ],
            [
             0.9,
             "#4d9221"
            ],
            [
             1,
             "#276419"
            ]
           ],
           "sequential": [
            [
             0,
             "#0d0887"
            ],
            [
             0.1111111111111111,
             "#46039f"
            ],
            [
             0.2222222222222222,
             "#7201a8"
            ],
            [
             0.3333333333333333,
             "#9c179e"
            ],
            [
             0.4444444444444444,
             "#bd3786"
            ],
            [
             0.5555555555555556,
             "#d8576b"
            ],
            [
             0.6666666666666666,
             "#ed7953"
            ],
            [
             0.7777777777777778,
             "#fb9f3a"
            ],
            [
             0.8888888888888888,
             "#fdca26"
            ],
            [
             1,
             "#f0f921"
            ]
           ],
           "sequentialminus": [
            [
             0,
             "#0d0887"
            ],
            [
             0.1111111111111111,
             "#46039f"
            ],
            [
             0.2222222222222222,
             "#7201a8"
            ],
            [
             0.3333333333333333,
             "#9c179e"
            ],
            [
             0.4444444444444444,
             "#bd3786"
            ],
            [
             0.5555555555555556,
             "#d8576b"
            ],
            [
             0.6666666666666666,
             "#ed7953"
            ],
            [
             0.7777777777777778,
             "#fb9f3a"
            ],
            [
             0.8888888888888888,
             "#fdca26"
            ],
            [
             1,
             "#f0f921"
            ]
           ]
          },
          "colorway": [
           "#636efa",
           "#EF553B",
           "#00cc96",
           "#ab63fa",
           "#FFA15A",
           "#19d3f3",
           "#FF6692",
           "#B6E880",
           "#FF97FF",
           "#FECB52"
          ],
          "font": {
           "color": "#2a3f5f"
          },
          "geo": {
           "bgcolor": "white",
           "lakecolor": "white",
           "landcolor": "#E5ECF6",
           "showlakes": true,
           "showland": true,
           "subunitcolor": "white"
          },
          "hoverlabel": {
           "align": "left"
          },
          "hovermode": "closest",
          "mapbox": {
           "style": "light"
          },
          "paper_bgcolor": "white",
          "plot_bgcolor": "#E5ECF6",
          "polar": {
           "angularaxis": {
            "gridcolor": "white",
            "linecolor": "white",
            "ticks": ""
           },
           "bgcolor": "#E5ECF6",
           "radialaxis": {
            "gridcolor": "white",
            "linecolor": "white",
            "ticks": ""
           }
          },
          "scene": {
           "xaxis": {
            "backgroundcolor": "#E5ECF6",
            "gridcolor": "white",
            "gridwidth": 2,
            "linecolor": "white",
            "showbackground": true,
            "ticks": "",
            "zerolinecolor": "white"
           },
           "yaxis": {
            "backgroundcolor": "#E5ECF6",
            "gridcolor": "white",
            "gridwidth": 2,
            "linecolor": "white",
            "showbackground": true,
            "ticks": "",
            "zerolinecolor": "white"
           },
           "zaxis": {
            "backgroundcolor": "#E5ECF6",
            "gridcolor": "white",
            "gridwidth": 2,
            "linecolor": "white",
            "showbackground": true,
            "ticks": "",
            "zerolinecolor": "white"
           }
          },
          "shapedefaults": {
           "line": {
            "color": "#2a3f5f"
           }
          },
          "ternary": {
           "aaxis": {
            "gridcolor": "white",
            "linecolor": "white",
            "ticks": ""
           },
           "baxis": {
            "gridcolor": "white",
            "linecolor": "white",
            "ticks": ""
           },
           "bgcolor": "#E5ECF6",
           "caxis": {
            "gridcolor": "white",
            "linecolor": "white",
            "ticks": ""
           }
          },
          "title": {
           "x": 0.05
          },
          "xaxis": {
           "automargin": true,
           "gridcolor": "white",
           "linecolor": "white",
           "ticks": "",
           "title": {
            "standoff": 15
           },
           "zerolinecolor": "white",
           "zerolinewidth": 2
          },
          "yaxis": {
           "automargin": true,
           "gridcolor": "white",
           "linecolor": "white",
           "ticks": "",
           "title": {
            "standoff": 15
           },
           "zerolinecolor": "white",
           "zerolinewidth": 2
          }
         }
        },
        "title": {
         "text": "Distribuição das Raças/Enias"
        },
        "width": 1000,
        "xaxis": {
         "anchor": "y",
         "autorange": true,
         "categoryarray": [
          "Pretos",
          "Não Pretos"
         ],
         "categoryorder": "array",
         "domain": [
          0,
          1
         ],
         "range": [
          -0.5,
          1.5
         ],
         "title": {
          "text": "Raca"
         },
         "type": "category"
        },
        "yaxis": {
         "anchor": "x",
         "autorange": true,
         "domain": [
          0,
          1
         ],
         "range": [
          0,
          35786.31578947369
         ],
         "title": {
          "text": "Contagem"
         },
         "type": "linear"
        }
       }
      },
      "image/png": "[encoded data removed]",
      "text/html": [
       "<div>                            <div id=\"8c6f9409-3062-42e6-9ae6-0c3daf223a1b\" class=\"plotly-graph-div\" style=\"height:500px; width:1000px;\"></div>            <script type=\"text/javascript\">                require([\"plotly\"], function(Plotly) {                    window.PLOTLYENV=window.PLOTLYENV || {};                                    if (document.getElementById(\"8c6f9409-3062-42e6-9ae6-0c3daf223a1b\")) {                    Plotly.newPlot(                        \"8c6f9409-3062-42e6-9ae6-0c3daf223a1b\",                        [{\"alignmentgroup\":\"True\",\"hovertemplate\":\"Raca=%{x}\\u003cbr\\u003eContagem=%{text}\\u003cextra\\u003e\\u003c\\u002fextra\\u003e\",\"legendgroup\":\"Pretos\",\"marker\":{\"color\":\"#636efa\",\"pattern\":{\"shape\":\"\"}},\"name\":\"Pretos\",\"offsetgroup\":\"Pretos\",\"orientation\":\"v\",\"showlegend\":true,\"text\":[33997.0],\"textposition\":\"outside\",\"x\":[\"Pretos\"],\"xaxis\":\"x\",\"y\":[33997],\"yaxis\":\"y\",\"type\":\"bar\"},{\"alignmentgroup\":\"True\",\"hovertemplate\":\"Raca=%{x}\\u003cbr\\u003eContagem=%{text}\\u003cextra\\u003e\\u003c\\u002fextra\\u003e\",\"legendgroup\":\"N\\u00e3o Pretos\",\"marker\":{\"color\":\"#EF553B\",\"pattern\":{\"shape\":\"\"}},\"name\":\"N\\u00e3o Pretos\",\"offsetgroup\":\"N\\u00e3o Pretos\",\"orientation\":\"v\",\"showlegend\":true,\"text\":[20715.0],\"textposition\":\"outside\",\"x\":[\"N\\u00e3o Pretos\"],\"xaxis\":\"x\",\"y\":[20715],\"yaxis\":\"y\",\"type\":\"bar\"}],                        {\"template\":{\"data\":{\"histogram2dcontour\":[{\"type\":\"histogram2dcontour\",\"colorbar\":{\"outlinewidth\":0,\"ticks\":\"\"},\"colorscale\":[[0.0,\"#0d0887\"],[0.1111111111111111,\"#46039f\"],[0.2222222222222222,\"#7201a8\"],[0.3333333333333333,\"#9c179e\"],[0.4444444444444444,\"#bd3786\"],[0.5555555555555556,\"#d8576b\"],[0.6666666666666666,\"#ed7953\"],[0.7777777777777778,\"#fb9f3a\"],[0.8888888888888888,\"#fdca26\"],[1.0,\"#f0f921\"]]}],\"choropleth\":[{\"type\":\"choropleth\",\"colorbar\":{\"outlinewidth\":0,\"ticks\":\"\"}}],\"histogram2d\":[{\"type\":\"histogram2d\",\"colorbar\":{\"outlinewidth\":0,\"ticks\":\"\"},\"colorscale\":[[0.0,\"#0d0887\"],[0.1111111111111111,\"#46039f\"],[0.2222222222222222,\"#7201a8\"],[0.3333333333333333,\"#9c179e\"],[0.4444444444444444,\"#bd3786\"],[0.5555555555555556,\"#d8576b\"],[0.6666666666666666,\"#ed7953\"],[0.7777777777777778,\"#fb9f3a\"],[0.8888888888888888,\"#fdca26\"],[1.0,\"#f0f921\"]]}],\"heatmap\":[{\"type\":\"heatmap\",\"colorbar\":{\"outlinewidth\":0,\"ticks\":\"\"},\"colorscale\":[[0.0,\"#0d0887\"],[0.1111111111111111,\"#46039f\"],[0.2222222222222222,\"#7201a8\"],[0.3333333333333333,\"#9c179e\"],[0.4444444444444444,\"#bd3786\"],[0.5555555555555556,\"#d8576b\"],[0.6666666666666666,\"#ed7953\"],[0.7777777777777778,\"#fb9f3a\"],[0.8888888888888888,\"#fdca26\"],[1.0,\"#f0f921\"]]}],\"heatmapgl\":[{\"type\":\"heatmapgl\",\"colorbar\":{\"outlinewidth\":0,\"ticks\":\"\"},\"colorscale\":[[0.0,\"#0d0887\"],[0.1111111111111111,\"#46039f\"],[0.2222222222222222,\"#7201a8\"],[0.3333333333333333,\"#9c179e\"],[0.4444444444444444,\"#bd3786\"],[0.5555555555555556,\"#d8576b\"],[0.6666666666666666,\"#ed7953\"],[0.7777777777777778,\"#fb9f3a\"],[0.8888888888888888,\"#fdca26\"],[1.0,\"#f0f921\"]]}],\"contourcarpet\":[{\"type\":\"contourcarpet\",\"colorbar\":{\"outlinewidth\":0,\"ticks\":\"\"}}],\"contour\":[{\"type\":\"contour\",\"colorbar\":{\"outlinewidth\":0,\"ticks\":\"\"},\"colorscale\":[[0.0,\"#0d0887\"],[0.1111111111111111,\"#46039f\"],[0.2222222222222222,\"#7201a8\"],[0.3333333333333333,\"#9c179e\"],[0.4444444444444444,\"#bd3786\"],[0.5555555555555556,\"#d8576b\"],[0.6666666666666666,\"#ed7953\"],[0.7777777777777778,\"#fb9f3a\"],[0.8888888888888888,\"#fdca26\"],[1.0,\"#f0f921\"]]}],\"surface\":[{\"type\":\"surface\",\"colorbar\":{\"outlinewidth\":0,\"ticks\":\"\"},\"colorscale\":[[0.0,\"#0d0887\"],[0.1111111111111111,\"#46039f\"],[0.2222222222222222,\"#7201a8\"],[0.3333333333333333,\"#9c179e\"],[0.4444444444444444,\"#bd3786\"],[0.5555555555555556,\"#d8576b\"],[0.6666666666666666,\"#ed7953\"],[0.7777777777777778,\"#fb9f3a\"],[0.8888888888888888,\"#fdca26\"],[1.0,\"#f0f921\"]]}],\"mesh3d\":[{\"type\":\"mesh3d\",\"colorbar\":{\"outlinewidth\":0,\"ticks\":\"\"}}],\"scatter\":[{\"fillpattern\":{\"fillmode\":\"overlay\",\"size\":10,\"solidity\":0.2},\"type\":\"scatter\"}],\"parcoords\":[{\"type\":\"parcoords\",\"line\":{\"colorbar\":{\"outlinewidth\":0,\"ticks\":\"\"}}}],\"scatterpolargl\":[{\"type\":\"scatterpolargl\",\"marker\":{\"colorbar\":{\"outlinewidth\":0,\"ticks\":\"\"}}}],\"bar\":[{\"error_x\":{\"color\":\"#2a3f5f\"},\"error_y\":{\"color\":\"#2a3f5f\"},\"marker\":{\"line\":{\"color\":\"#E5ECF6\",\"width\":0.5},\"pattern\":{\"fillmode\":\"overlay\",\"size\":10,\"solidity\":0.2}},\"type\":\"bar\"}],\"scattergeo\":[{\"type\":\"scattergeo\",\"marker\":{\"colorbar\":{\"outlinewidth\":0,\"ticks\":\"\"}}}],\"scatterpolar\":[{\"type\":\"scatterpolar\",\"marker\":{\"colorbar\":{\"outlinewidth\":0,\"ticks\":\"\"}}}],\"histogram\":[{\"marker\":{\"pattern\":{\"fillmode\":\"overlay\",\"size\":10,\"solidity\":0.2}},\"type\":\"histogram\"}],\"scattergl\":[{\"type\":\"scattergl\",\"marker\":{\"colorbar\":{\"outlinewidth\":0,\"ticks\":\"\"}}}],\"scatter3d\":[{\"type\":\"scatter3d\",\"line\":{\"colorbar\":{\"outlinewidth\":0,\"ticks\":\"\"}},\"marker\":{\"colorbar\":{\"outlinewidth\":0,\"ticks\":\"\"}}}],\"scattermapbox\":[{\"type\":\"scattermapbox\",\"marker\":{\"colorbar\":{\"outlinewidth\":0,\"ticks\":\"\"}}}],\"scatterternary\":[{\"type\":\"scatterternary\",\"marker\":{\"colorbar\":{\"outlinewidth\":0,\"ticks\":\"\"}}}],\"scattercarpet\":[{\"type\":\"scattercarpet\",\"marker\":{\"colorbar\":{\"outlinewidth\":0,\"ticks\":\"\"}}}],\"carpet\":[{\"aaxis\":{\"endlinecolor\":\"#2a3f5f\",\"gridcolor\":\"white\",\"linecolor\":\"white\",\"minorgridcolor\":\"white\",\"startlinecolor\":\"#2a3f5f\"},\"baxis\":{\"endlinecolor\":\"#2a3f5f\",\"gridcolor\":\"white\",\"linecolor\":\"white\",\"minorgridcolor\":\"white\",\"startlinecolor\":\"#2a3f5f\"},\"type\":\"carpet\"}],\"table\":[{\"cells\":{\"fill\":{\"color\":\"#EBF0F8\"},\"line\":{\"color\":\"white\"}},\"header\":{\"fill\":{\"color\":\"#C8D4E3\"},\"line\":{\"color\":\"white\"}},\"type\":\"table\"}],\"barpolar\":[{\"marker\":{\"line\":{\"color\":\"#E5ECF6\",\"width\":0.5},\"pattern\":{\"fillmode\":\"overlay\",\"size\":10,\"solidity\":0.2}},\"type\":\"barpolar\"}],\"pie\":[{\"automargin\":true,\"type\":\"pie\"}]},\"layout\":{\"autotypenumbers\":\"strict\",\"colorway\":[\"#636efa\",\"#EF553B\",\"#00cc96\",\"#ab63fa\",\"#FFA15A\",\"#19d3f3\",\"#FF6692\",\"#B6E880\",\"#FF97FF\",\"#FECB52\"],\"font\":{\"color\":\"#2a3f5f\"},\"hovermode\":\"closest\",\"hoverlabel\":{\"align\":\"left\"},\"paper_bgcolor\":\"white\",\"plot_bgcolor\":\"#E5ECF6\",\"polar\":{\"bgcolor\":\"#E5ECF6\",\"angularaxis\":{\"gridcolor\":\"white\",\"linecolor\":\"white\",\"ticks\":\"\"},\"radialaxis\":{\"gridcolor\":\"white\",\"linecolor\":\"white\",\"ticks\":\"\"}},\"ternary\":{\"bgcolor\":\"#E5ECF6\",\"aaxis\":{\"gridcolor\":\"white\",\"linecolor\":\"white\",\"ticks\":\"\"},\"baxis\":{\"gridcolor\":\"white\",\"linecolor\":\"white\",\"ticks\":\"\"},\"caxis\":{\"gridcolor\":\"white\",\"linecolor\":\"white\",\"ticks\":\"\"}},\"coloraxis\":{\"colorbar\":{\"outlinewidth\":0,\"ticks\":\"\"}},\"colorscale\":{\"sequential\":[[0.0,\"#0d0887\"],[0.1111111111111111,\"#46039f\"],[0.2222222222222222,\"#7201a8\"],[0.3333333333333333,\"#9c179e\"],[0.4444444444444444,\"#bd3786\"],[0.5555555555555556,\"#d8576b\"],[0.6666666666666666,\"#ed7953\"],[0.7777777777777778,\"#fb9f3a\"],[0.8888888888888888,\"#fdca26\"],[1.0,\"#f0f921\"]],\"sequentialminus\":[[0.0,\"#0d0887\"],[0.1111111111111111,\"#46039f\"],[0.2222222222222222,\"#7201a8\"],[0.3333333333333333,\"#9c179e\"],[0.4444444444444444,\"#bd3786\"],[0.5555555555555556,\"#d8576b\"],[0.6666666666666666,\"#ed7953\"],[0.7777777777777778,\"#fb9f3a\"],[0.8888888888888888,\"#fdca26\"],[1.0,\"#f0f921\"]],\"diverging\":[[0,\"#8e0152\"],[0.1,\"#c51b7d\"],[0.2,\"#de77ae\"],[0.3,\"#f1b6da\"],[0.4,\"#fde0ef\"],[0.5,\"#f7f7f7\"],[0.6,\"#e6f5d0\"],[0.7,\"#b8e186\"],[0.8,\"#7fbc41\"],[0.9,\"#4d9221\"],[1,\"#276419\"]]},\"xaxis\":{\"gridcolor\":\"white\",\"linecolor\":\"white\",\"ticks\":\"\",\"title\":{\"standoff\":15},\"zerolinecolor\":\"white\",\"automargin\":true,\"zerolinewidth\":2},\"yaxis\":{\"gridcolor\":\"white\",\"linecolor\":\"white\",\"ticks\":\"\",\"title\":{\"standoff\":15},\"zerolinecolor\":\"white\",\"automargin\":true,\"zerolinewidth\":2},\"scene\":{\"xaxis\":{\"backgroundcolor\":\"#E5ECF6\",\"gridcolor\":\"white\",\"linecolor\":\"white\",\"showbackground\":true,\"ticks\":\"\",\"zerolinecolor\":\"white\",\"gridwidth\":2},\"yaxis\":{\"backgroundcolor\":\"#E5ECF6\",\"gridcolor\":\"white\",\"linecolor\":\"white\",\"showbackground\":true,\"ticks\":\"\",\"zerolinecolor\":\"white\",\"gridwidth\":2},\"zaxis\":{\"backgroundcolor\":\"#E5ECF6\",\"gridcolor\":\"white\",\"linecolor\":\"white\",\"showbackground\":true,\"ticks\":\"\",\"zerolinecolor\":\"white\",\"gridwidth\":2}},\"shapedefaults\":{\"line\":{\"color\":\"#2a3f5f\"}},\"annotationdefaults\":{\"arrowcolor\":\"#2a3f5f\",\"arrowhead\":0,\"arrowwidth\":1},\"geo\":{\"bgcolor\":\"white\",\"landcolor\":\"#E5ECF6\",\"subunitcolor\":\"white\",\"showland\":true,\"showlakes\":true,\"lakecolor\":\"white\"},\"title\":{\"x\":0.05},\"mapbox\":{\"style\":\"light\"}}},\"xaxis\":{\"anchor\":\"y\",\"domain\":[0.0,1.0],\"title\":{\"text\":\"Raca\"},\"categoryorder\":\"array\",\"categoryarray\":[\"Pretos\",\"N\\u00e3o Pretos\"]},\"yaxis\":{\"anchor\":\"x\",\"domain\":[0.0,1.0],\"title\":{\"text\":\"Contagem\"}},\"legend\":{\"title\":{\"text\":\"Raca\"},\"tracegroupgap\":0},\"title\":{\"text\":\"Distribui\\u00e7\\u00e3o das Ra\\u00e7as\\u002fEnias\"},\"barmode\":\"relative\",\"width\":1000,\"height\":500},                        {\"responsive\": true}                    ).then(function(){\n",
       "                            \n",
       "var gd = document.getElementById('8c6f9409-3062-42e6-9ae6-0c3daf223a1b');\n",
       "var x = new MutationObserver(function (mutations, observer) {{\n",
       "        var display = window.getComputedStyle(gd).display;\n",
       "        if (!display || display === 'none') {{\n",
       "            console.log([gd, 'removed!']);\n",
       "            Plotly.purge(gd);\n",
       "            observer.disconnect();\n",
       "        }}\n",
       "}});\n",
       "\n",
       "// Listen for the removal of the full notebook cells\n",
       "var notebookContainer = gd.closest('#notebook-container');\n",
       "if (notebookContainer) {{\n",
       "    x.observe(notebookContainer, {childList: true});\n",
       "}}\n",
       "\n",
       "// Listen for the clearing of the current output cell\n",
       "var outputEl = gd.closest('.output');\n",
       "if (outputEl) {{\n",
       "    x.observe(outputEl, {childList: true});\n",
       "}}\n",
       "\n",
       "                        })                };                });            </script>        </div>"
      ]
     },
     "metadata": {},
     "output_type": "display_data"
    }
   ],
   "source": [
    "#Dicionario para mapeamento.\n",
    "dicionario = {\n",
    "    1: 'Pretos',\n",
    "    0: 'Não Pretos',\n",
    "}\n",
    "\n",
    "contagem = df[\"Raca_etnia\"].value_counts().reset_index()\n",
    "contagem.columns = ['Raca', 'Contagem']\n",
    "\n",
    "#mapeamento das instruções na própria coluna Instrução.\n",
    "contagem['Raca'] = contagem['Raca'].map(dicionario)\n",
    "contagem = contagem.sort_values(by='Contagem', ascending=False)\n",
    "\n",
    "# Supondo que a coluna de nível de instrução seja 'NivelInstrucao'\n",
    "fig = px.bar(\n",
    "    contagem,\n",
    "    x='Raca',\n",
    "    y='Contagem',\n",
    "    labels={'count': 'Contagem', 'Raca_etnia': 'Raça/Etnia'},\n",
    "    title='Distribuição das Raças/Enias',\n",
    "    color='Raca',\n",
    "    text='Contagem'\n",
    ")\n",
    "\n",
    "fig.update_traces(textposition='outside')\n",
    "\n",
    "fig.update_layout(\n",
    "    width=1000,\n",
    "    height=500,\n",
    ")\n",
    "\n",
    "fig.show()"
   ]
  },
  {
   "cell_type": "markdown",
   "id": "31a74999-b1d2-4e66-875e-c3c4b1f48b9c",
   "metadata": {},
   "source": [
    "Dessa forma, temos as pessoas categorizadas em dois conjuntos predominantes de acordo com a predisposição genética a desenvolver as comorbidades."
   ]
  },
  {
   "cell_type": "markdown",
   "id": "6e2ac741-1dc5-4d0a-b8f8-77926c63929f",
   "metadata": {
    "jp-MarkdownHeadingCollapsed": true
   },
   "source": [
    "## **3.3. Aspecto -Hábitos Alimentares 🍕**"
   ]
  },
  {
   "cell_type": "markdown",
   "id": "d1ce99cc-d453-4d3b-a67a-91f5bfac3e5d",
   "metadata": {},
   "source": [
    "### 3.3.1. Tratando Nulos"
   ]
  },
  {
   "cell_type": "code",
   "execution_count": 351,
   "id": "0ef06d8a-6e2c-4f19-b650-30daca216f9c",
   "metadata": {
    "scrolled": true
   },
   "outputs": [
    {
     "data": {
      "text/plain": [
       "Consumo_sal    0\n",
       "dtype: int64"
      ]
     },
     "execution_count": 351,
     "metadata": {},
     "output_type": "execute_result"
    }
   ],
   "source": [
    "colunas_especificas = [\n",
    "             \"Consumo_sal\",\n",
    "]\n",
    "\n",
    "df[colunas_especificas].isnull().sum()"
   ]
  },
  {
   "cell_type": "markdown",
   "id": "780a736b-657e-4737-b30a-96f993ca7f07",
   "metadata": {},
   "source": [
    "Não há nulos para o consumo de Sal."
   ]
  },
  {
   "cell_type": "markdown",
   "id": "ef6f022d-14fe-4065-ab5e-8cdbf153bdb0",
   "metadata": {},
   "source": [
    "## **3.4. Aspecto - Atividades Físicas 🏋️‍♂️**"
   ]
  },
  {
   "cell_type": "markdown",
   "id": "8c9d15d5-fb93-4b45-a91d-5ad08823e13a",
   "metadata": {},
   "source": [
    "### 3.4.1. Tratando Nulos"
   ]
  },
  {
   "cell_type": "code",
   "execution_count": 352,
   "id": "7e485964-bfa4-4de4-8c35-8e0e4c50a7f1",
   "metadata": {},
   "outputs": [
    {
     "data": {
      "text/plain": [
       "Atividades_fisicas    0\n",
       "dtype: int64"
      ]
     },
     "execution_count": 352,
     "metadata": {},
     "output_type": "execute_result"
    }
   ],
   "source": [
    "colunas_especificas = [\n",
    "     \"Atividades_fisicas\",\n",
    "]\n",
    "\n",
    "df[colunas_especificas].isnull().sum()"
   ]
  },
  {
   "cell_type": "markdown",
   "id": "01473c68-58d1-4e29-8082-f471512e7234",
   "metadata": {},
   "source": [
    "Não há nulos nos atributos selecionados."
   ]
  },
  {
   "cell_type": "code",
   "execution_count": 353,
   "id": "6b7afe38-82d0-4580-9ac0-d99ed50bb11e",
   "metadata": {},
   "outputs": [
    {
     "data": {
      "text/plain": [
       "Atividades_fisicas\n",
       "2.0    34783\n",
       "1.0    19929\n",
       "Name: count, dtype: int64"
      ]
     },
     "execution_count": 353,
     "metadata": {},
     "output_type": "execute_result"
    }
   ],
   "source": [
    "df[\"Atividades_fisicas\"].value_counts()"
   ]
  },
  {
   "cell_type": "markdown",
   "id": "50af3f2b-69ec-4cae-9fee-c2f93696f0e0",
   "metadata": {},
   "source": [
    "De aproximadamente 55 mil pessoas, a maioria não praticou **nenhum esporte físico nos últimos 3 meses!** Isso significa que a maioria das pessoas não se exercitam nem mesmo com alguma frequência."
   ]
  },
  {
   "cell_type": "markdown",
   "id": "b5c5281b-ef0c-453b-a278-ebcea0421dd7",
   "metadata": {},
   "source": [
    "## **3.5. Aspecto - Tabagismo 🚬**"
   ]
  },
  {
   "cell_type": "markdown",
   "id": "332d49bb-7113-4c74-97d2-655af5519f6c",
   "metadata": {},
   "source": [
    "### 3.5.1. Tratando Nulos"
   ]
  },
  {
   "cell_type": "code",
   "execution_count": 354,
   "id": "3a6b1e54-995c-4d73-a1a8-fa68f8a7e378",
   "metadata": {},
   "outputs": [
    {
     "data": {
      "text/plain": [
       "P050          0\n",
       "P052       7119\n",
       "P05401    47593\n",
       "P05404    47593\n",
       "P05407    47593\n",
       "P05410    47593\n",
       "P05413    47593\n",
       "P05416    47593\n",
       "P05419    47593\n",
       "dtype: int64"
      ]
     },
     "execution_count": 354,
     "metadata": {},
     "output_type": "execute_result"
    }
   ],
   "source": [
    "colunas_especificas = [\n",
    "    \"P050\",\n",
    "     \"P052\",\n",
    "     \"P05401\",\n",
    "     \"P05404\",\n",
    "     \"P05407\",\n",
    "     \"P05410\",\n",
    "     \"P05413\",\n",
    "     \"P05416\",\n",
    "     \"P05419\",\n",
    "]\n",
    "\n",
    "df[colunas_especificas].isnull().sum()"
   ]
  },
  {
   "cell_type": "markdown",
   "id": "b8f6848c-5dc0-4776-ac38-a33317643ce6",
   "metadata": {},
   "source": [
    "Há muitos nulos nos produtos de tabaco, mas é necessário analisar se a pessoa fuma um produto X mas não fuma um produto Y."
   ]
  },
  {
   "cell_type": "code",
   "execution_count": 355,
   "id": "0b6ea424-7b2f-470d-a211-f381696dd480",
   "metadata": {},
   "outputs": [
    {
     "data": {
      "text/html": [
       "<div>\n",
       "<style scoped>\n",
       "    .dataframe tbody tr th:only-of-type {\n",
       "        vertical-align: middle;\n",
       "    }\n",
       "\n",
       "    .dataframe tbody tr th {\n",
       "        vertical-align: top;\n",
       "    }\n",
       "\n",
       "    .dataframe thead th {\n",
       "        text-align: right;\n",
       "    }\n",
       "</style>\n",
       "<table border=\"1\" class=\"dataframe\">\n",
       "  <thead>\n",
       "    <tr style=\"text-align: right;\">\n",
       "      <th></th>\n",
       "      <th>Peso</th>\n",
       "      <th>Altura</th>\n",
       "      <th>Sexo</th>\n",
       "      <th>Idade</th>\n",
       "      <th>Raca_etnia</th>\n",
       "      <th>Consumo_sal</th>\n",
       "      <th>Atividades_fisicas</th>\n",
       "      <th>P050</th>\n",
       "      <th>P052</th>\n",
       "      <th>P05401</th>\n",
       "      <th>...</th>\n",
       "      <th>Ficou_internado</th>\n",
       "      <th>Ultima_consulta</th>\n",
       "      <th>Percepcao_estado_saude</th>\n",
       "      <th>Tem_plano</th>\n",
       "      <th>Alfabetizacao</th>\n",
       "      <th>Escolaridade</th>\n",
       "      <th>Faixa_salarial</th>\n",
       "      <th>Condicao</th>\n",
       "      <th>IMC</th>\n",
       "      <th>Categoria_IMC</th>\n",
       "    </tr>\n",
       "  </thead>\n",
       "  <tbody>\n",
       "    <tr>\n",
       "      <th>3</th>\n",
       "      <td>77.0</td>\n",
       "      <td>155.0</td>\n",
       "      <td>2.0</td>\n",
       "      <td>45.0</td>\n",
       "      <td>1</td>\n",
       "      <td>4.0</td>\n",
       "      <td>2.0</td>\n",
       "      <td>3.0</td>\n",
       "      <td>1.0</td>\n",
       "      <td>NaN</td>\n",
       "      <td>...</td>\n",
       "      <td>2.0</td>\n",
       "      <td>4.0</td>\n",
       "      <td>3.0</td>\n",
       "      <td>2.0</td>\n",
       "      <td>1.0</td>\n",
       "      <td>5.0</td>\n",
       "      <td>3.0</td>\n",
       "      <td>Saudavel</td>\n",
       "      <td>32.049948</td>\n",
       "      <td>Obeso</td>\n",
       "    </tr>\n",
       "    <tr>\n",
       "      <th>5</th>\n",
       "      <td>56.0</td>\n",
       "      <td>159.0</td>\n",
       "      <td>2.0</td>\n",
       "      <td>58.0</td>\n",
       "      <td>1</td>\n",
       "      <td>3.0</td>\n",
       "      <td>1.0</td>\n",
       "      <td>3.0</td>\n",
       "      <td>3.0</td>\n",
       "      <td>NaN</td>\n",
       "      <td>...</td>\n",
       "      <td>2.0</td>\n",
       "      <td>4.0</td>\n",
       "      <td>3.0</td>\n",
       "      <td>2.0</td>\n",
       "      <td>2.0</td>\n",
       "      <td>1.0</td>\n",
       "      <td>2.0</td>\n",
       "      <td>Saudavel</td>\n",
       "      <td>22.151023</td>\n",
       "      <td>Peso Ideal</td>\n",
       "    </tr>\n",
       "    <tr>\n",
       "      <th>6</th>\n",
       "      <td>75.0</td>\n",
       "      <td>170.0</td>\n",
       "      <td>2.0</td>\n",
       "      <td>41.0</td>\n",
       "      <td>1</td>\n",
       "      <td>3.0</td>\n",
       "      <td>1.0</td>\n",
       "      <td>3.0</td>\n",
       "      <td>3.0</td>\n",
       "      <td>NaN</td>\n",
       "      <td>...</td>\n",
       "      <td>2.0</td>\n",
       "      <td>2.0</td>\n",
       "      <td>2.0</td>\n",
       "      <td>2.0</td>\n",
       "      <td>1.0</td>\n",
       "      <td>5.0</td>\n",
       "      <td>4.0</td>\n",
       "      <td>Saudavel</td>\n",
       "      <td>25.951557</td>\n",
       "      <td>Sobrepeso</td>\n",
       "    </tr>\n",
       "    <tr>\n",
       "      <th>10</th>\n",
       "      <td>80.0</td>\n",
       "      <td>172.0</td>\n",
       "      <td>1.0</td>\n",
       "      <td>33.0</td>\n",
       "      <td>1</td>\n",
       "      <td>3.0</td>\n",
       "      <td>1.0</td>\n",
       "      <td>3.0</td>\n",
       "      <td>2.0</td>\n",
       "      <td>NaN</td>\n",
       "      <td>...</td>\n",
       "      <td>2.0</td>\n",
       "      <td>1.0</td>\n",
       "      <td>2.0</td>\n",
       "      <td>1.0</td>\n",
       "      <td>1.0</td>\n",
       "      <td>4.0</td>\n",
       "      <td>3.0</td>\n",
       "      <td>Saudavel</td>\n",
       "      <td>27.041644</td>\n",
       "      <td>Sobrepeso</td>\n",
       "    </tr>\n",
       "    <tr>\n",
       "      <th>11</th>\n",
       "      <td>80.0</td>\n",
       "      <td>172.0</td>\n",
       "      <td>1.0</td>\n",
       "      <td>36.0</td>\n",
       "      <td>0</td>\n",
       "      <td>4.0</td>\n",
       "      <td>1.0</td>\n",
       "      <td>3.0</td>\n",
       "      <td>3.0</td>\n",
       "      <td>NaN</td>\n",
       "      <td>...</td>\n",
       "      <td>2.0</td>\n",
       "      <td>4.0</td>\n",
       "      <td>2.0</td>\n",
       "      <td>2.0</td>\n",
       "      <td>1.0</td>\n",
       "      <td>5.0</td>\n",
       "      <td>4.0</td>\n",
       "      <td>Saudavel</td>\n",
       "      <td>27.041644</td>\n",
       "      <td>Sobrepeso</td>\n",
       "    </tr>\n",
       "    <tr>\n",
       "      <th>...</th>\n",
       "      <td>...</td>\n",
       "      <td>...</td>\n",
       "      <td>...</td>\n",
       "      <td>...</td>\n",
       "      <td>...</td>\n",
       "      <td>...</td>\n",
       "      <td>...</td>\n",
       "      <td>...</td>\n",
       "      <td>...</td>\n",
       "      <td>...</td>\n",
       "      <td>...</td>\n",
       "      <td>...</td>\n",
       "      <td>...</td>\n",
       "      <td>...</td>\n",
       "      <td>...</td>\n",
       "      <td>...</td>\n",
       "      <td>...</td>\n",
       "      <td>...</td>\n",
       "      <td>...</td>\n",
       "      <td>...</td>\n",
       "      <td>...</td>\n",
       "    </tr>\n",
       "    <tr>\n",
       "      <th>135652</th>\n",
       "      <td>65.0</td>\n",
       "      <td>149.0</td>\n",
       "      <td>2.0</td>\n",
       "      <td>52.0</td>\n",
       "      <td>0</td>\n",
       "      <td>3.0</td>\n",
       "      <td>2.0</td>\n",
       "      <td>3.0</td>\n",
       "      <td>3.0</td>\n",
       "      <td>NaN</td>\n",
       "      <td>...</td>\n",
       "      <td>1.0</td>\n",
       "      <td>2.0</td>\n",
       "      <td>3.0</td>\n",
       "      <td>2.0</td>\n",
       "      <td>1.0</td>\n",
       "      <td>5.0</td>\n",
       "      <td>3.0</td>\n",
       "      <td>HiperCVD</td>\n",
       "      <td>29.277960</td>\n",
       "      <td>Sobrepeso</td>\n",
       "    </tr>\n",
       "    <tr>\n",
       "      <th>135653</th>\n",
       "      <td>79.0</td>\n",
       "      <td>155.0</td>\n",
       "      <td>2.0</td>\n",
       "      <td>45.0</td>\n",
       "      <td>0</td>\n",
       "      <td>4.0</td>\n",
       "      <td>2.0</td>\n",
       "      <td>3.0</td>\n",
       "      <td>3.0</td>\n",
       "      <td>NaN</td>\n",
       "      <td>...</td>\n",
       "      <td>1.0</td>\n",
       "      <td>3.0</td>\n",
       "      <td>3.0</td>\n",
       "      <td>2.0</td>\n",
       "      <td>1.0</td>\n",
       "      <td>1.0</td>\n",
       "      <td>3.0</td>\n",
       "      <td>HiperCVD</td>\n",
       "      <td>32.882414</td>\n",
       "      <td>Obeso</td>\n",
       "    </tr>\n",
       "    <tr>\n",
       "      <th>135654</th>\n",
       "      <td>84.0</td>\n",
       "      <td>178.0</td>\n",
       "      <td>1.0</td>\n",
       "      <td>68.0</td>\n",
       "      <td>0</td>\n",
       "      <td>3.0</td>\n",
       "      <td>2.0</td>\n",
       "      <td>3.0</td>\n",
       "      <td>1.0</td>\n",
       "      <td>NaN</td>\n",
       "      <td>...</td>\n",
       "      <td>1.0</td>\n",
       "      <td>3.0</td>\n",
       "      <td>4.0</td>\n",
       "      <td>1.0</td>\n",
       "      <td>2.0</td>\n",
       "      <td>1.0</td>\n",
       "      <td>3.0</td>\n",
       "      <td>HiperCVD</td>\n",
       "      <td>26.511804</td>\n",
       "      <td>Sobrepeso</td>\n",
       "    </tr>\n",
       "    <tr>\n",
       "      <th>135655</th>\n",
       "      <td>74.0</td>\n",
       "      <td>172.0</td>\n",
       "      <td>1.0</td>\n",
       "      <td>73.0</td>\n",
       "      <td>1</td>\n",
       "      <td>4.0</td>\n",
       "      <td>2.0</td>\n",
       "      <td>3.0</td>\n",
       "      <td>1.0</td>\n",
       "      <td>NaN</td>\n",
       "      <td>...</td>\n",
       "      <td>1.0</td>\n",
       "      <td>3.0</td>\n",
       "      <td>3.0</td>\n",
       "      <td>2.0</td>\n",
       "      <td>2.0</td>\n",
       "      <td>1.0</td>\n",
       "      <td>4.0</td>\n",
       "      <td>HiperCVD</td>\n",
       "      <td>25.013521</td>\n",
       "      <td>Sobrepeso</td>\n",
       "    </tr>\n",
       "    <tr>\n",
       "      <th>135657</th>\n",
       "      <td>74.0</td>\n",
       "      <td>177.0</td>\n",
       "      <td>1.0</td>\n",
       "      <td>55.0</td>\n",
       "      <td>1</td>\n",
       "      <td>4.0</td>\n",
       "      <td>2.0</td>\n",
       "      <td>3.0</td>\n",
       "      <td>3.0</td>\n",
       "      <td>NaN</td>\n",
       "      <td>...</td>\n",
       "      <td>2.0</td>\n",
       "      <td>1.0</td>\n",
       "      <td>3.0</td>\n",
       "      <td>2.0</td>\n",
       "      <td>1.0</td>\n",
       "      <td>2.0</td>\n",
       "      <td>3.0</td>\n",
       "      <td>HiperCVD</td>\n",
       "      <td>23.620288</td>\n",
       "      <td>Peso Ideal</td>\n",
       "    </tr>\n",
       "  </tbody>\n",
       "</table>\n",
       "<p>47593 rows × 29 columns</p>\n",
       "</div>"
      ],
      "text/plain": [
       "        Peso  Altura  Sexo  Idade  Raca_etnia  Consumo_sal  \\\n",
       "3       77.0   155.0   2.0   45.0           1          4.0   \n",
       "5       56.0   159.0   2.0   58.0           1          3.0   \n",
       "6       75.0   170.0   2.0   41.0           1          3.0   \n",
       "10      80.0   172.0   1.0   33.0           1          3.0   \n",
       "11      80.0   172.0   1.0   36.0           0          4.0   \n",
       "...      ...     ...   ...    ...         ...          ...   \n",
       "135652  65.0   149.0   2.0   52.0           0          3.0   \n",
       "135653  79.0   155.0   2.0   45.0           0          4.0   \n",
       "135654  84.0   178.0   1.0   68.0           0          3.0   \n",
       "135655  74.0   172.0   1.0   73.0           1          4.0   \n",
       "135657  74.0   177.0   1.0   55.0           1          4.0   \n",
       "\n",
       "        Atividades_fisicas  P050  P052  P05401  ...  Ficou_internado  \\\n",
       "3                      2.0   3.0   1.0     NaN  ...              2.0   \n",
       "5                      1.0   3.0   3.0     NaN  ...              2.0   \n",
       "6                      1.0   3.0   3.0     NaN  ...              2.0   \n",
       "10                     1.0   3.0   2.0     NaN  ...              2.0   \n",
       "11                     1.0   3.0   3.0     NaN  ...              2.0   \n",
       "...                    ...   ...   ...     ...  ...              ...   \n",
       "135652                 2.0   3.0   3.0     NaN  ...              1.0   \n",
       "135653                 2.0   3.0   3.0     NaN  ...              1.0   \n",
       "135654                 2.0   3.0   1.0     NaN  ...              1.0   \n",
       "135655                 2.0   3.0   1.0     NaN  ...              1.0   \n",
       "135657                 2.0   3.0   3.0     NaN  ...              2.0   \n",
       "\n",
       "        Ultima_consulta  Percepcao_estado_saude  Tem_plano  Alfabetizacao  \\\n",
       "3                   4.0                     3.0        2.0            1.0   \n",
       "5                   4.0                     3.0        2.0            2.0   \n",
       "6                   2.0                     2.0        2.0            1.0   \n",
       "10                  1.0                     2.0        1.0            1.0   \n",
       "11                  4.0                     2.0        2.0            1.0   \n",
       "...                 ...                     ...        ...            ...   \n",
       "135652              2.0                     3.0        2.0            1.0   \n",
       "135653              3.0                     3.0        2.0            1.0   \n",
       "135654              3.0                     4.0        1.0            2.0   \n",
       "135655              3.0                     3.0        2.0            2.0   \n",
       "135657              1.0                     3.0        2.0            1.0   \n",
       "\n",
       "        Escolaridade  Faixa_salarial  Condicao        IMC  Categoria_IMC  \n",
       "3                5.0             3.0  Saudavel  32.049948          Obeso  \n",
       "5                1.0             2.0  Saudavel  22.151023     Peso Ideal  \n",
       "6                5.0             4.0  Saudavel  25.951557      Sobrepeso  \n",
       "10               4.0             3.0  Saudavel  27.041644      Sobrepeso  \n",
       "11               5.0             4.0  Saudavel  27.041644      Sobrepeso  \n",
       "...              ...             ...       ...        ...            ...  \n",
       "135652           5.0             3.0  HiperCVD  29.277960      Sobrepeso  \n",
       "135653           1.0             3.0  HiperCVD  32.882414          Obeso  \n",
       "135654           1.0             3.0  HiperCVD  26.511804      Sobrepeso  \n",
       "135655           1.0             4.0  HiperCVD  25.013521      Sobrepeso  \n",
       "135657           2.0             3.0  HiperCVD  23.620288     Peso Ideal  \n",
       "\n",
       "[47593 rows x 29 columns]"
      ]
     },
     "execution_count": 355,
     "metadata": {},
     "output_type": "execute_result"
    }
   ],
   "source": [
    "df.loc[(df[\"P050\"] == 3) & (df[\"P05401\"].isna())]"
   ]
  },
  {
   "cell_type": "markdown",
   "id": "8678f12f-e8d2-4037-a8d1-bb5395709cd3",
   "metadata": {},
   "source": [
    "Olha que **interessante!** As pessoas que não responderam sobre o consumo e a frequência dos produtos do tabaco é porque **elas não fumam!** Logo, vamos substituir todos esses nulos por 0.\n",
    "\n",
    "**Conclusão:** Substituição dos nulos por 0, que significa que a pessoa não usa esse tipo de produto."
   ]
  },
  {
   "cell_type": "code",
   "execution_count": 356,
   "id": "70ab33d4-502c-422e-9df9-5334dd62afea",
   "metadata": {},
   "outputs": [],
   "source": [
    "# Lista das colunas a serem 'consertados' os valores nulos\n",
    "colunas_a_substituir = [\"P05401\", \"P05404\", \"P05407\", \"P05410\", \"P05413\", \"P05416\", \"P05419\"]\n",
    "\n",
    "# Substituindo por 0, coluna por coluna\n",
    "for coluna in colunas_a_substituir:\n",
    "    df.loc[(df[\"P050\"] == 3) & (df[coluna].isna()), coluna] = 0\n"
   ]
  },
  {
   "cell_type": "code",
   "execution_count": 357,
   "id": "3310e422-efd4-4b34-9ea7-60724210f7ea",
   "metadata": {},
   "outputs": [
    {
     "data": {
      "text/plain": [
       "P050         0\n",
       "P052      7119\n",
       "P05401       0\n",
       "P05404       0\n",
       "P05407       0\n",
       "P05410       0\n",
       "P05413       0\n",
       "P05416       0\n",
       "P05419       0\n",
       "dtype: int64"
      ]
     },
     "execution_count": 357,
     "metadata": {},
     "output_type": "execute_result"
    }
   ],
   "source": [
    "colunas_especificas = [\n",
    "    \"P050\",\n",
    "     \"P052\",\n",
    "     \"P05401\",\n",
    "     \"P05404\",\n",
    "     \"P05407\",\n",
    "     \"P05410\",\n",
    "     \"P05413\",\n",
    "     \"P05416\",\n",
    "     \"P05419\",\n",
    "]\n",
    "\n",
    "df[colunas_especificas].isnull().sum()"
   ]
  },
  {
   "cell_type": "code",
   "execution_count": 358,
   "id": "6eb2da67-cd25-4b6c-a319-5e2523f8f037",
   "metadata": {
    "scrolled": true
   },
   "outputs": [
    {
     "data": {
      "text/html": [
       "<div>\n",
       "<style scoped>\n",
       "    .dataframe tbody tr th:only-of-type {\n",
       "        vertical-align: middle;\n",
       "    }\n",
       "\n",
       "    .dataframe tbody tr th {\n",
       "        vertical-align: top;\n",
       "    }\n",
       "\n",
       "    .dataframe thead th {\n",
       "        text-align: right;\n",
       "    }\n",
       "</style>\n",
       "<table border=\"1\" class=\"dataframe\">\n",
       "  <thead>\n",
       "    <tr style=\"text-align: right;\">\n",
       "      <th></th>\n",
       "      <th>Peso</th>\n",
       "      <th>Altura</th>\n",
       "      <th>Sexo</th>\n",
       "      <th>Idade</th>\n",
       "      <th>Raca_etnia</th>\n",
       "      <th>Consumo_sal</th>\n",
       "      <th>Atividades_fisicas</th>\n",
       "      <th>P050</th>\n",
       "      <th>P052</th>\n",
       "      <th>P05401</th>\n",
       "      <th>...</th>\n",
       "      <th>Ficou_internado</th>\n",
       "      <th>Ultima_consulta</th>\n",
       "      <th>Percepcao_estado_saude</th>\n",
       "      <th>Tem_plano</th>\n",
       "      <th>Alfabetizacao</th>\n",
       "      <th>Escolaridade</th>\n",
       "      <th>Faixa_salarial</th>\n",
       "      <th>Condicao</th>\n",
       "      <th>IMC</th>\n",
       "      <th>Categoria_IMC</th>\n",
       "    </tr>\n",
       "  </thead>\n",
       "  <tbody>\n",
       "    <tr>\n",
       "      <th>41</th>\n",
       "      <td>68.0</td>\n",
       "      <td>176.0</td>\n",
       "      <td>1.0</td>\n",
       "      <td>59.0</td>\n",
       "      <td>1</td>\n",
       "      <td>3.0</td>\n",
       "      <td>2.0</td>\n",
       "      <td>1.0</td>\n",
       "      <td>NaN</td>\n",
       "      <td>1.0</td>\n",
       "      <td>...</td>\n",
       "      <td>1.0</td>\n",
       "      <td>3.0</td>\n",
       "      <td>2.0</td>\n",
       "      <td>2.0</td>\n",
       "      <td>1.0</td>\n",
       "      <td>5.0</td>\n",
       "      <td>4.0</td>\n",
       "      <td>Saudavel</td>\n",
       "      <td>21.952479</td>\n",
       "      <td>Peso Ideal</td>\n",
       "    </tr>\n",
       "    <tr>\n",
       "      <th>53</th>\n",
       "      <td>66.0</td>\n",
       "      <td>165.0</td>\n",
       "      <td>1.0</td>\n",
       "      <td>48.0</td>\n",
       "      <td>1</td>\n",
       "      <td>1.0</td>\n",
       "      <td>2.0</td>\n",
       "      <td>1.0</td>\n",
       "      <td>NaN</td>\n",
       "      <td>1.0</td>\n",
       "      <td>...</td>\n",
       "      <td>2.0</td>\n",
       "      <td>3.0</td>\n",
       "      <td>3.0</td>\n",
       "      <td>2.0</td>\n",
       "      <td>2.0</td>\n",
       "      <td>2.0</td>\n",
       "      <td>3.0</td>\n",
       "      <td>Saudavel</td>\n",
       "      <td>24.242424</td>\n",
       "      <td>Peso Ideal</td>\n",
       "    </tr>\n",
       "    <tr>\n",
       "      <th>90</th>\n",
       "      <td>86.0</td>\n",
       "      <td>178.0</td>\n",
       "      <td>1.0</td>\n",
       "      <td>38.0</td>\n",
       "      <td>0</td>\n",
       "      <td>4.0</td>\n",
       "      <td>1.0</td>\n",
       "      <td>1.0</td>\n",
       "      <td>NaN</td>\n",
       "      <td>1.0</td>\n",
       "      <td>...</td>\n",
       "      <td>2.0</td>\n",
       "      <td>4.0</td>\n",
       "      <td>2.0</td>\n",
       "      <td>1.0</td>\n",
       "      <td>1.0</td>\n",
       "      <td>2.0</td>\n",
       "      <td>5.0</td>\n",
       "      <td>Saudavel</td>\n",
       "      <td>27.143037</td>\n",
       "      <td>Sobrepeso</td>\n",
       "    </tr>\n",
       "    <tr>\n",
       "      <th>92</th>\n",
       "      <td>72.0</td>\n",
       "      <td>172.0</td>\n",
       "      <td>1.0</td>\n",
       "      <td>51.0</td>\n",
       "      <td>1</td>\n",
       "      <td>4.0</td>\n",
       "      <td>2.0</td>\n",
       "      <td>1.0</td>\n",
       "      <td>NaN</td>\n",
       "      <td>1.0</td>\n",
       "      <td>...</td>\n",
       "      <td>2.0</td>\n",
       "      <td>4.0</td>\n",
       "      <td>2.0</td>\n",
       "      <td>2.0</td>\n",
       "      <td>1.0</td>\n",
       "      <td>2.0</td>\n",
       "      <td>4.0</td>\n",
       "      <td>Saudavel</td>\n",
       "      <td>24.337480</td>\n",
       "      <td>Peso Ideal</td>\n",
       "    </tr>\n",
       "    <tr>\n",
       "      <th>105</th>\n",
       "      <td>75.0</td>\n",
       "      <td>174.0</td>\n",
       "      <td>1.0</td>\n",
       "      <td>32.0</td>\n",
       "      <td>0</td>\n",
       "      <td>3.0</td>\n",
       "      <td>2.0</td>\n",
       "      <td>1.0</td>\n",
       "      <td>NaN</td>\n",
       "      <td>1.0</td>\n",
       "      <td>...</td>\n",
       "      <td>2.0</td>\n",
       "      <td>4.0</td>\n",
       "      <td>2.0</td>\n",
       "      <td>2.0</td>\n",
       "      <td>1.0</td>\n",
       "      <td>4.0</td>\n",
       "      <td>1.0</td>\n",
       "      <td>Saudavel</td>\n",
       "      <td>24.772097</td>\n",
       "      <td>Peso Ideal</td>\n",
       "    </tr>\n",
       "    <tr>\n",
       "      <th>...</th>\n",
       "      <td>...</td>\n",
       "      <td>...</td>\n",
       "      <td>...</td>\n",
       "      <td>...</td>\n",
       "      <td>...</td>\n",
       "      <td>...</td>\n",
       "      <td>...</td>\n",
       "      <td>...</td>\n",
       "      <td>...</td>\n",
       "      <td>...</td>\n",
       "      <td>...</td>\n",
       "      <td>...</td>\n",
       "      <td>...</td>\n",
       "      <td>...</td>\n",
       "      <td>...</td>\n",
       "      <td>...</td>\n",
       "      <td>...</td>\n",
       "      <td>...</td>\n",
       "      <td>...</td>\n",
       "      <td>...</td>\n",
       "      <td>...</td>\n",
       "    </tr>\n",
       "    <tr>\n",
       "      <th>135607</th>\n",
       "      <td>98.0</td>\n",
       "      <td>178.0</td>\n",
       "      <td>1.0</td>\n",
       "      <td>54.0</td>\n",
       "      <td>0</td>\n",
       "      <td>3.0</td>\n",
       "      <td>2.0</td>\n",
       "      <td>1.0</td>\n",
       "      <td>NaN</td>\n",
       "      <td>5.0</td>\n",
       "      <td>...</td>\n",
       "      <td>2.0</td>\n",
       "      <td>3.0</td>\n",
       "      <td>2.0</td>\n",
       "      <td>1.0</td>\n",
       "      <td>1.0</td>\n",
       "      <td>7.0</td>\n",
       "      <td>7.0</td>\n",
       "      <td>HiperCVD</td>\n",
       "      <td>30.930438</td>\n",
       "      <td>Obeso</td>\n",
       "    </tr>\n",
       "    <tr>\n",
       "      <th>135618</th>\n",
       "      <td>112.0</td>\n",
       "      <td>185.0</td>\n",
       "      <td>1.0</td>\n",
       "      <td>52.0</td>\n",
       "      <td>0</td>\n",
       "      <td>4.0</td>\n",
       "      <td>1.0</td>\n",
       "      <td>1.0</td>\n",
       "      <td>NaN</td>\n",
       "      <td>5.0</td>\n",
       "      <td>...</td>\n",
       "      <td>2.0</td>\n",
       "      <td>3.0</td>\n",
       "      <td>4.0</td>\n",
       "      <td>1.0</td>\n",
       "      <td>1.0</td>\n",
       "      <td>7.0</td>\n",
       "      <td>4.0</td>\n",
       "      <td>HiperCVD</td>\n",
       "      <td>32.724617</td>\n",
       "      <td>Obeso</td>\n",
       "    </tr>\n",
       "    <tr>\n",
       "      <th>135619</th>\n",
       "      <td>70.0</td>\n",
       "      <td>166.0</td>\n",
       "      <td>1.0</td>\n",
       "      <td>53.0</td>\n",
       "      <td>0</td>\n",
       "      <td>2.0</td>\n",
       "      <td>2.0</td>\n",
       "      <td>1.0</td>\n",
       "      <td>NaN</td>\n",
       "      <td>1.0</td>\n",
       "      <td>...</td>\n",
       "      <td>2.0</td>\n",
       "      <td>3.0</td>\n",
       "      <td>2.0</td>\n",
       "      <td>1.0</td>\n",
       "      <td>1.0</td>\n",
       "      <td>5.0</td>\n",
       "      <td>7.0</td>\n",
       "      <td>HiperCVD</td>\n",
       "      <td>25.402816</td>\n",
       "      <td>Sobrepeso</td>\n",
       "    </tr>\n",
       "    <tr>\n",
       "      <th>135648</th>\n",
       "      <td>78.0</td>\n",
       "      <td>178.0</td>\n",
       "      <td>1.0</td>\n",
       "      <td>75.0</td>\n",
       "      <td>0</td>\n",
       "      <td>3.0</td>\n",
       "      <td>2.0</td>\n",
       "      <td>1.0</td>\n",
       "      <td>NaN</td>\n",
       "      <td>1.0</td>\n",
       "      <td>...</td>\n",
       "      <td>1.0</td>\n",
       "      <td>1.0</td>\n",
       "      <td>2.0</td>\n",
       "      <td>2.0</td>\n",
       "      <td>2.0</td>\n",
       "      <td>2.0</td>\n",
       "      <td>4.0</td>\n",
       "      <td>HiperCVD</td>\n",
       "      <td>24.618104</td>\n",
       "      <td>Peso Ideal</td>\n",
       "    </tr>\n",
       "    <tr>\n",
       "      <th>135656</th>\n",
       "      <td>56.0</td>\n",
       "      <td>154.0</td>\n",
       "      <td>2.0</td>\n",
       "      <td>44.0</td>\n",
       "      <td>0</td>\n",
       "      <td>4.0</td>\n",
       "      <td>2.0</td>\n",
       "      <td>1.0</td>\n",
       "      <td>NaN</td>\n",
       "      <td>1.0</td>\n",
       "      <td>...</td>\n",
       "      <td>2.0</td>\n",
       "      <td>4.0</td>\n",
       "      <td>2.0</td>\n",
       "      <td>2.0</td>\n",
       "      <td>1.0</td>\n",
       "      <td>5.0</td>\n",
       "      <td>1.0</td>\n",
       "      <td>HiperCVD</td>\n",
       "      <td>23.612751</td>\n",
       "      <td>Peso Ideal</td>\n",
       "    </tr>\n",
       "  </tbody>\n",
       "</table>\n",
       "<p>6514 rows × 29 columns</p>\n",
       "</div>"
      ],
      "text/plain": [
       "         Peso  Altura  Sexo  Idade  Raca_etnia  Consumo_sal  \\\n",
       "41       68.0   176.0   1.0   59.0           1          3.0   \n",
       "53       66.0   165.0   1.0   48.0           1          1.0   \n",
       "90       86.0   178.0   1.0   38.0           0          4.0   \n",
       "92       72.0   172.0   1.0   51.0           1          4.0   \n",
       "105      75.0   174.0   1.0   32.0           0          3.0   \n",
       "...       ...     ...   ...    ...         ...          ...   \n",
       "135607   98.0   178.0   1.0   54.0           0          3.0   \n",
       "135618  112.0   185.0   1.0   52.0           0          4.0   \n",
       "135619   70.0   166.0   1.0   53.0           0          2.0   \n",
       "135648   78.0   178.0   1.0   75.0           0          3.0   \n",
       "135656   56.0   154.0   2.0   44.0           0          4.0   \n",
       "\n",
       "        Atividades_fisicas  P050  P052  P05401  ...  Ficou_internado  \\\n",
       "41                     2.0   1.0   NaN     1.0  ...              1.0   \n",
       "53                     2.0   1.0   NaN     1.0  ...              2.0   \n",
       "90                     1.0   1.0   NaN     1.0  ...              2.0   \n",
       "92                     2.0   1.0   NaN     1.0  ...              2.0   \n",
       "105                    2.0   1.0   NaN     1.0  ...              2.0   \n",
       "...                    ...   ...   ...     ...  ...              ...   \n",
       "135607                 2.0   1.0   NaN     5.0  ...              2.0   \n",
       "135618                 1.0   1.0   NaN     5.0  ...              2.0   \n",
       "135619                 2.0   1.0   NaN     1.0  ...              2.0   \n",
       "135648                 2.0   1.0   NaN     1.0  ...              1.0   \n",
       "135656                 2.0   1.0   NaN     1.0  ...              2.0   \n",
       "\n",
       "        Ultima_consulta  Percepcao_estado_saude  Tem_plano  Alfabetizacao  \\\n",
       "41                  3.0                     2.0        2.0            1.0   \n",
       "53                  3.0                     3.0        2.0            2.0   \n",
       "90                  4.0                     2.0        1.0            1.0   \n",
       "92                  4.0                     2.0        2.0            1.0   \n",
       "105                 4.0                     2.0        2.0            1.0   \n",
       "...                 ...                     ...        ...            ...   \n",
       "135607              3.0                     2.0        1.0            1.0   \n",
       "135618              3.0                     4.0        1.0            1.0   \n",
       "135619              3.0                     2.0        1.0            1.0   \n",
       "135648              1.0                     2.0        2.0            2.0   \n",
       "135656              4.0                     2.0        2.0            1.0   \n",
       "\n",
       "        Escolaridade  Faixa_salarial  Condicao        IMC  Categoria_IMC  \n",
       "41               5.0             4.0  Saudavel  21.952479     Peso Ideal  \n",
       "53               2.0             3.0  Saudavel  24.242424     Peso Ideal  \n",
       "90               2.0             5.0  Saudavel  27.143037      Sobrepeso  \n",
       "92               2.0             4.0  Saudavel  24.337480     Peso Ideal  \n",
       "105              4.0             1.0  Saudavel  24.772097     Peso Ideal  \n",
       "...              ...             ...       ...        ...            ...  \n",
       "135607           7.0             7.0  HiperCVD  30.930438          Obeso  \n",
       "135618           7.0             4.0  HiperCVD  32.724617          Obeso  \n",
       "135619           5.0             7.0  HiperCVD  25.402816      Sobrepeso  \n",
       "135648           2.0             4.0  HiperCVD  24.618104     Peso Ideal  \n",
       "135656           5.0             1.0  HiperCVD  23.612751     Peso Ideal  \n",
       "\n",
       "[6514 rows x 29 columns]"
      ]
     },
     "execution_count": 358,
     "metadata": {},
     "output_type": "execute_result"
    }
   ],
   "source": [
    "df.loc[(df[\"P050\"] == 1) & (df[\"P052\"].isna())]"
   ]
  },
  {
   "cell_type": "markdown",
   "id": "de47898e-0f30-4386-9401-0df2ac7327a1",
   "metadata": {},
   "source": [
    "Muitas pessoas que fumam atualmente, não foi aplicadas à elas a pergunta de fumar no passado. De 7.119 nulos, 6.514 são fumantes diários.\n",
    "\n",
    "**Conclusão:** para essas pessoas, vamos substituir os nulos por 1 que significa que no passado fumaram diariamente."
   ]
  },
  {
   "cell_type": "code",
   "execution_count": 359,
   "id": "1d6689c5-ef65-4606-a3be-3b8cb2f0b4bd",
   "metadata": {},
   "outputs": [
    {
     "data": {
      "text/html": [
       "<div>\n",
       "<style scoped>\n",
       "    .dataframe tbody tr th:only-of-type {\n",
       "        vertical-align: middle;\n",
       "    }\n",
       "\n",
       "    .dataframe tbody tr th {\n",
       "        vertical-align: top;\n",
       "    }\n",
       "\n",
       "    .dataframe thead th {\n",
       "        text-align: right;\n",
       "    }\n",
       "</style>\n",
       "<table border=\"1\" class=\"dataframe\">\n",
       "  <thead>\n",
       "    <tr style=\"text-align: right;\">\n",
       "      <th></th>\n",
       "      <th>Peso</th>\n",
       "      <th>Altura</th>\n",
       "      <th>Sexo</th>\n",
       "      <th>Idade</th>\n",
       "      <th>Raca_etnia</th>\n",
       "      <th>Consumo_sal</th>\n",
       "      <th>Atividades_fisicas</th>\n",
       "      <th>P050</th>\n",
       "      <th>P052</th>\n",
       "      <th>P05401</th>\n",
       "      <th>...</th>\n",
       "      <th>Ficou_internado</th>\n",
       "      <th>Ultima_consulta</th>\n",
       "      <th>Percepcao_estado_saude</th>\n",
       "      <th>Tem_plano</th>\n",
       "      <th>Alfabetizacao</th>\n",
       "      <th>Escolaridade</th>\n",
       "      <th>Faixa_salarial</th>\n",
       "      <th>Condicao</th>\n",
       "      <th>IMC</th>\n",
       "      <th>Categoria_IMC</th>\n",
       "    </tr>\n",
       "  </thead>\n",
       "  <tbody>\n",
       "    <tr>\n",
       "      <th>9</th>\n",
       "      <td>60.0</td>\n",
       "      <td>156.0</td>\n",
       "      <td>2.0</td>\n",
       "      <td>38.0</td>\n",
       "      <td>0</td>\n",
       "      <td>4.0</td>\n",
       "      <td>2.0</td>\n",
       "      <td>2.0</td>\n",
       "      <td>NaN</td>\n",
       "      <td>2.0</td>\n",
       "      <td>...</td>\n",
       "      <td>2.0</td>\n",
       "      <td>4.0</td>\n",
       "      <td>2.0</td>\n",
       "      <td>2.0</td>\n",
       "      <td>1.0</td>\n",
       "      <td>5.0</td>\n",
       "      <td>1.0</td>\n",
       "      <td>Saudavel</td>\n",
       "      <td>24.654832</td>\n",
       "      <td>Peso Ideal</td>\n",
       "    </tr>\n",
       "    <tr>\n",
       "      <th>122</th>\n",
       "      <td>76.0</td>\n",
       "      <td>171.0</td>\n",
       "      <td>1.0</td>\n",
       "      <td>32.0</td>\n",
       "      <td>0</td>\n",
       "      <td>3.0</td>\n",
       "      <td>1.0</td>\n",
       "      <td>2.0</td>\n",
       "      <td>NaN</td>\n",
       "      <td>2.0</td>\n",
       "      <td>...</td>\n",
       "      <td>2.0</td>\n",
       "      <td>1.0</td>\n",
       "      <td>2.0</td>\n",
       "      <td>2.0</td>\n",
       "      <td>1.0</td>\n",
       "      <td>2.0</td>\n",
       "      <td>2.0</td>\n",
       "      <td>Saudavel</td>\n",
       "      <td>25.990903</td>\n",
       "      <td>Sobrepeso</td>\n",
       "    </tr>\n",
       "    <tr>\n",
       "      <th>179</th>\n",
       "      <td>80.0</td>\n",
       "      <td>168.0</td>\n",
       "      <td>1.0</td>\n",
       "      <td>47.0</td>\n",
       "      <td>1</td>\n",
       "      <td>3.0</td>\n",
       "      <td>2.0</td>\n",
       "      <td>2.0</td>\n",
       "      <td>NaN</td>\n",
       "      <td>3.0</td>\n",
       "      <td>...</td>\n",
       "      <td>2.0</td>\n",
       "      <td>4.0</td>\n",
       "      <td>2.0</td>\n",
       "      <td>2.0</td>\n",
       "      <td>1.0</td>\n",
       "      <td>7.0</td>\n",
       "      <td>4.0</td>\n",
       "      <td>Saudavel</td>\n",
       "      <td>28.344671</td>\n",
       "      <td>Sobrepeso</td>\n",
       "    </tr>\n",
       "    <tr>\n",
       "      <th>360</th>\n",
       "      <td>68.0</td>\n",
       "      <td>177.0</td>\n",
       "      <td>1.0</td>\n",
       "      <td>36.0</td>\n",
       "      <td>1</td>\n",
       "      <td>3.0</td>\n",
       "      <td>1.0</td>\n",
       "      <td>2.0</td>\n",
       "      <td>NaN</td>\n",
       "      <td>4.0</td>\n",
       "      <td>...</td>\n",
       "      <td>2.0</td>\n",
       "      <td>1.0</td>\n",
       "      <td>1.0</td>\n",
       "      <td>1.0</td>\n",
       "      <td>1.0</td>\n",
       "      <td>7.0</td>\n",
       "      <td>7.0</td>\n",
       "      <td>Saudavel</td>\n",
       "      <td>21.705129</td>\n",
       "      <td>Peso Ideal</td>\n",
       "    </tr>\n",
       "    <tr>\n",
       "      <th>525</th>\n",
       "      <td>56.0</td>\n",
       "      <td>170.0</td>\n",
       "      <td>1.0</td>\n",
       "      <td>47.0</td>\n",
       "      <td>0</td>\n",
       "      <td>3.0</td>\n",
       "      <td>2.0</td>\n",
       "      <td>2.0</td>\n",
       "      <td>NaN</td>\n",
       "      <td>3.0</td>\n",
       "      <td>...</td>\n",
       "      <td>2.0</td>\n",
       "      <td>4.0</td>\n",
       "      <td>4.0</td>\n",
       "      <td>2.0</td>\n",
       "      <td>2.0</td>\n",
       "      <td>2.0</td>\n",
       "      <td>3.0</td>\n",
       "      <td>Saudavel</td>\n",
       "      <td>19.377163</td>\n",
       "      <td>Peso Ideal</td>\n",
       "    </tr>\n",
       "    <tr>\n",
       "      <th>...</th>\n",
       "      <td>...</td>\n",
       "      <td>...</td>\n",
       "      <td>...</td>\n",
       "      <td>...</td>\n",
       "      <td>...</td>\n",
       "      <td>...</td>\n",
       "      <td>...</td>\n",
       "      <td>...</td>\n",
       "      <td>...</td>\n",
       "      <td>...</td>\n",
       "      <td>...</td>\n",
       "      <td>...</td>\n",
       "      <td>...</td>\n",
       "      <td>...</td>\n",
       "      <td>...</td>\n",
       "      <td>...</td>\n",
       "      <td>...</td>\n",
       "      <td>...</td>\n",
       "      <td>...</td>\n",
       "      <td>...</td>\n",
       "      <td>...</td>\n",
       "    </tr>\n",
       "    <tr>\n",
       "      <th>134908</th>\n",
       "      <td>87.0</td>\n",
       "      <td>168.0</td>\n",
       "      <td>2.0</td>\n",
       "      <td>46.0</td>\n",
       "      <td>0</td>\n",
       "      <td>3.0</td>\n",
       "      <td>2.0</td>\n",
       "      <td>2.0</td>\n",
       "      <td>NaN</td>\n",
       "      <td>2.0</td>\n",
       "      <td>...</td>\n",
       "      <td>1.0</td>\n",
       "      <td>3.0</td>\n",
       "      <td>3.0</td>\n",
       "      <td>2.0</td>\n",
       "      <td>1.0</td>\n",
       "      <td>5.0</td>\n",
       "      <td>1.0</td>\n",
       "      <td>HiperCVD</td>\n",
       "      <td>30.824830</td>\n",
       "      <td>Obeso</td>\n",
       "    </tr>\n",
       "    <tr>\n",
       "      <th>134943</th>\n",
       "      <td>65.0</td>\n",
       "      <td>154.0</td>\n",
       "      <td>1.0</td>\n",
       "      <td>47.0</td>\n",
       "      <td>0</td>\n",
       "      <td>3.0</td>\n",
       "      <td>2.0</td>\n",
       "      <td>2.0</td>\n",
       "      <td>NaN</td>\n",
       "      <td>5.0</td>\n",
       "      <td>...</td>\n",
       "      <td>1.0</td>\n",
       "      <td>3.0</td>\n",
       "      <td>3.0</td>\n",
       "      <td>2.0</td>\n",
       "      <td>1.0</td>\n",
       "      <td>2.0</td>\n",
       "      <td>1.0</td>\n",
       "      <td>HiperCVD</td>\n",
       "      <td>27.407657</td>\n",
       "      <td>Sobrepeso</td>\n",
       "    </tr>\n",
       "    <tr>\n",
       "      <th>135192</th>\n",
       "      <td>52.0</td>\n",
       "      <td>155.0</td>\n",
       "      <td>2.0</td>\n",
       "      <td>61.0</td>\n",
       "      <td>0</td>\n",
       "      <td>3.0</td>\n",
       "      <td>1.0</td>\n",
       "      <td>2.0</td>\n",
       "      <td>NaN</td>\n",
       "      <td>2.0</td>\n",
       "      <td>...</td>\n",
       "      <td>2.0</td>\n",
       "      <td>1.0</td>\n",
       "      <td>2.0</td>\n",
       "      <td>1.0</td>\n",
       "      <td>1.0</td>\n",
       "      <td>7.0</td>\n",
       "      <td>5.0</td>\n",
       "      <td>HiperCVD</td>\n",
       "      <td>21.644121</td>\n",
       "      <td>Peso Ideal</td>\n",
       "    </tr>\n",
       "    <tr>\n",
       "      <th>135481</th>\n",
       "      <td>112.0</td>\n",
       "      <td>152.0</td>\n",
       "      <td>2.0</td>\n",
       "      <td>53.0</td>\n",
       "      <td>0</td>\n",
       "      <td>4.0</td>\n",
       "      <td>1.0</td>\n",
       "      <td>2.0</td>\n",
       "      <td>NaN</td>\n",
       "      <td>2.0</td>\n",
       "      <td>...</td>\n",
       "      <td>1.0</td>\n",
       "      <td>1.0</td>\n",
       "      <td>3.0</td>\n",
       "      <td>2.0</td>\n",
       "      <td>1.0</td>\n",
       "      <td>5.0</td>\n",
       "      <td>4.0</td>\n",
       "      <td>HiperCVD</td>\n",
       "      <td>48.476454</td>\n",
       "      <td>Obeso</td>\n",
       "    </tr>\n",
       "    <tr>\n",
       "      <th>135594</th>\n",
       "      <td>53.0</td>\n",
       "      <td>175.0</td>\n",
       "      <td>1.0</td>\n",
       "      <td>63.0</td>\n",
       "      <td>1</td>\n",
       "      <td>3.0</td>\n",
       "      <td>2.0</td>\n",
       "      <td>2.0</td>\n",
       "      <td>NaN</td>\n",
       "      <td>3.0</td>\n",
       "      <td>...</td>\n",
       "      <td>1.0</td>\n",
       "      <td>3.0</td>\n",
       "      <td>3.0</td>\n",
       "      <td>2.0</td>\n",
       "      <td>1.0</td>\n",
       "      <td>2.0</td>\n",
       "      <td>4.0</td>\n",
       "      <td>HiperCVD</td>\n",
       "      <td>17.306122</td>\n",
       "      <td>Baixo Peso</td>\n",
       "    </tr>\n",
       "  </tbody>\n",
       "</table>\n",
       "<p>605 rows × 29 columns</p>\n",
       "</div>"
      ],
      "text/plain": [
       "         Peso  Altura  Sexo  Idade  Raca_etnia  Consumo_sal  \\\n",
       "9        60.0   156.0   2.0   38.0           0          4.0   \n",
       "122      76.0   171.0   1.0   32.0           0          3.0   \n",
       "179      80.0   168.0   1.0   47.0           1          3.0   \n",
       "360      68.0   177.0   1.0   36.0           1          3.0   \n",
       "525      56.0   170.0   1.0   47.0           0          3.0   \n",
       "...       ...     ...   ...    ...         ...          ...   \n",
       "134908   87.0   168.0   2.0   46.0           0          3.0   \n",
       "134943   65.0   154.0   1.0   47.0           0          3.0   \n",
       "135192   52.0   155.0   2.0   61.0           0          3.0   \n",
       "135481  112.0   152.0   2.0   53.0           0          4.0   \n",
       "135594   53.0   175.0   1.0   63.0           1          3.0   \n",
       "\n",
       "        Atividades_fisicas  P050  P052  P05401  ...  Ficou_internado  \\\n",
       "9                      2.0   2.0   NaN     2.0  ...              2.0   \n",
       "122                    1.0   2.0   NaN     2.0  ...              2.0   \n",
       "179                    2.0   2.0   NaN     3.0  ...              2.0   \n",
       "360                    1.0   2.0   NaN     4.0  ...              2.0   \n",
       "525                    2.0   2.0   NaN     3.0  ...              2.0   \n",
       "...                    ...   ...   ...     ...  ...              ...   \n",
       "134908                 2.0   2.0   NaN     2.0  ...              1.0   \n",
       "134943                 2.0   2.0   NaN     5.0  ...              1.0   \n",
       "135192                 1.0   2.0   NaN     2.0  ...              2.0   \n",
       "135481                 1.0   2.0   NaN     2.0  ...              1.0   \n",
       "135594                 2.0   2.0   NaN     3.0  ...              1.0   \n",
       "\n",
       "        Ultima_consulta  Percepcao_estado_saude  Tem_plano  Alfabetizacao  \\\n",
       "9                   4.0                     2.0        2.0            1.0   \n",
       "122                 1.0                     2.0        2.0            1.0   \n",
       "179                 4.0                     2.0        2.0            1.0   \n",
       "360                 1.0                     1.0        1.0            1.0   \n",
       "525                 4.0                     4.0        2.0            2.0   \n",
       "...                 ...                     ...        ...            ...   \n",
       "134908              3.0                     3.0        2.0            1.0   \n",
       "134943              3.0                     3.0        2.0            1.0   \n",
       "135192              1.0                     2.0        1.0            1.0   \n",
       "135481              1.0                     3.0        2.0            1.0   \n",
       "135594              3.0                     3.0        2.0            1.0   \n",
       "\n",
       "        Escolaridade  Faixa_salarial  Condicao        IMC  Categoria_IMC  \n",
       "9                5.0             1.0  Saudavel  24.654832     Peso Ideal  \n",
       "122              2.0             2.0  Saudavel  25.990903      Sobrepeso  \n",
       "179              7.0             4.0  Saudavel  28.344671      Sobrepeso  \n",
       "360              7.0             7.0  Saudavel  21.705129     Peso Ideal  \n",
       "525              2.0             3.0  Saudavel  19.377163     Peso Ideal  \n",
       "...              ...             ...       ...        ...            ...  \n",
       "134908           5.0             1.0  HiperCVD  30.824830          Obeso  \n",
       "134943           2.0             1.0  HiperCVD  27.407657      Sobrepeso  \n",
       "135192           7.0             5.0  HiperCVD  21.644121     Peso Ideal  \n",
       "135481           5.0             4.0  HiperCVD  48.476454          Obeso  \n",
       "135594           2.0             4.0  HiperCVD  17.306122     Baixo Peso  \n",
       "\n",
       "[605 rows x 29 columns]"
      ]
     },
     "execution_count": 359,
     "metadata": {},
     "output_type": "execute_result"
    }
   ],
   "source": [
    "df.loc[(df[\"P050\"] == 2) & (df[\"P052\"].isna())]"
   ]
  },
  {
   "cell_type": "markdown",
   "id": "3169fcdb-5e1e-4a00-ab29-40f61e711c4f",
   "metadata": {},
   "source": [
    "A mesma coisa ocorre para pessoas que responderam que fumam menos que diariamente. Não foi aplicada a pergunta de tabagismo delas no passado, vamos substituir esses valores nulos por 2.\n",
    "\n",
    "**Conclusão:** para as pessoas que fumam menos que diariamente atualmente, receberão 2 para o tabagismo no passado."
   ]
  },
  {
   "cell_type": "code",
   "execution_count": 360,
   "id": "a99455a4-d397-45bc-8ce6-29faaa688209",
   "metadata": {},
   "outputs": [],
   "source": [
    "# Substituição dos nulos das pessoas que fumam diariamente mas que não tiveram a pergunta do passado aplicada.\n",
    "df.loc[(df[\"P050\"] == 1) & (df[\"P052\"].isna()), \"P052\"] = 1\n",
    "\n",
    "# Substituição dos nulos das pessoas que fumam menos que diariamente mas que não tiveram a pergunta do passado aplicada.\n",
    "df.loc[(df[\"P050\"] == 2) & (df[\"P052\"].isna()), \"P052\"] = 2"
   ]
  },
  {
   "cell_type": "code",
   "execution_count": 361,
   "id": "8ae64751-3c6f-4f1d-b816-8c8a8e7851c3",
   "metadata": {},
   "outputs": [
    {
     "data": {
      "text/plain": [
       "P050      0\n",
       "P052      0\n",
       "P05401    0\n",
       "P05404    0\n",
       "P05407    0\n",
       "P05410    0\n",
       "P05413    0\n",
       "P05416    0\n",
       "P05419    0\n",
       "dtype: int64"
      ]
     },
     "execution_count": 361,
     "metadata": {},
     "output_type": "execute_result"
    }
   ],
   "source": [
    "colunas_especificas = [\n",
    "    \"P050\",\n",
    "     \"P052\",\n",
    "     \"P05401\",\n",
    "     \"P05404\",\n",
    "     \"P05407\",\n",
    "     \"P05410\",\n",
    "     \"P05413\",\n",
    "     \"P05416\",\n",
    "     \"P05419\",\n",
    "]\n",
    "\n",
    "df[colunas_especificas].isnull().sum()"
   ]
  },
  {
   "cell_type": "markdown",
   "id": "5149c364-0cd1-4e2b-b984-b7db9cb8b30a",
   "metadata": {},
   "source": [
    "Todos os nulos foram devidamente tratados. Agora, vamos criar classificações de hábito de tabagismo para as pessoas, de maneira que vamos fundir atributos do tabaco. Assim, será feita a **redução de dimensionalidade**"
   ]
  },
  {
   "cell_type": "markdown",
   "id": "aaa1633f-8d46-49ef-ac71-1858dd08361e",
   "metadata": {},
   "source": [
    "### 3.5.2. Codificação: Categorizando os fumantes e não fumantes"
   ]
  },
  {
   "cell_type": "markdown",
   "id": "0dbe97ec-fec8-47e0-a69c-bf22c5e50be2",
   "metadata": {},
   "source": [
    "O objetivo dessa etapa é dizer o seguinte:\n",
    "\n",
    "- Fuma muito\n",
    "- Fuma razoavelmente\n",
    "- Fuma pouco\n",
    "- Não fuma"
   ]
  },
  {
   "cell_type": "code",
   "execution_count": 362,
   "id": "371386de-0d1c-41b2-9343-70921f6d70f9",
   "metadata": {},
   "outputs": [],
   "source": [
    "def categorizar_fumantes(linha):\n",
    "\n",
    "    if linha[\"P050\"] == 3 and linha[\"P052\"] == 1: # Se não fuma atualmente, mas fumou diariamente no passado -> FUMA RAZOAVEL\n",
    "        return 2\n",
    "    elif linha[\"P050\"] == 3 and linha[\"P052\"] == 2: # Se não fuma atualmente mas fumou menos que diariamente no passado -> FUMA POUCO.\n",
    "        return 3\n",
    "    elif linha[\"P050\"] == 1: # Se fuma diariamente atualmente -> FUMA MUITO.\n",
    "        return 1\n",
    "    elif linha[\"P050\"] == 2: # Se fuma menos que diariamente atualmente -> DEPENDE\n",
    "        if linha[\"P05401\"] == 1 or linha[\"P05404\"] == 1 or linha[\"P05410\"] == 1 or linha[\"P05413\"] == 1 or linha[\"P05416\"] == 1 or linha[\"P05419\"] == 1:\n",
    "            return 1 # fuma muito.\n",
    "        elif linha[\"P05401\"] == 2 or linha[\"P05404\"] == 2 or linha[\"P05410\"] == 2 or linha[\"P05413\"] == 2 or linha[\"P05416\"] == 2 or linha[\"P05419\"] == 2:\n",
    "            return 2 #fuma razoavelmente.\n",
    "        elif linha[\"P05401\"] == 3 or linha[\"P05404\"] == 3 or linha[\"P05410\"] == 3 or linha[\"P05413\"] == 3 or linha[\"P05416\"] == 3 or linha[\"P05419\"] == 3:\n",
    "            return 3 # fuma pouco.\n",
    "        elif linha[\"P05401\"] == 4 or linha[\"P05404\"] == 4 or linha[\"P05410\"] == 4 or linha[\"P05413\"] == 4 or linha[\"P05416\"] == 4 or linha[\"P05419\"] == 4:\n",
    "            return 3 # fuma pouco.\n",
    "         \n",
    "    elif linha[\"P050\"] == 3 and linha[\"P052\"] == 3: # Se não fuma atualmente e não fumou no passado -> NÃO FUMA. \n",
    "        return 4\n",
    "    else: # Se houver ignorados, serão considerados como não fumantes\n",
    "        return 4\n",
    "    "
   ]
  },
  {
   "cell_type": "code",
   "execution_count": 363,
   "id": "f4c664f0-7701-4cfc-914c-839d86c7a965",
   "metadata": {},
   "outputs": [],
   "source": [
    "# Aplicando a função a cada linha do DataFrame\n",
    "df[\"Categoria_tabagismo\"] = df.apply(categorizar_fumantes, axis=1)"
   ]
  },
  {
   "cell_type": "code",
   "execution_count": 364,
   "id": "cf265eab-d445-4c02-b3d5-28155db122d9",
   "metadata": {},
   "outputs": [
    {
     "data": {
      "text/plain": [
       "Categoria_tabagismo\n",
       "4.0    32010\n",
       "2.0    14171\n",
       "1.0     6514\n",
       "3.0     2016\n",
       "Name: count, dtype: int64"
      ]
     },
     "execution_count": 364,
     "metadata": {},
     "output_type": "execute_result"
    }
   ],
   "source": [
    "df[\"Categoria_tabagismo\"].value_counts()"
   ]
  },
  {
   "cell_type": "code",
   "execution_count": 365,
   "id": "f72b8a12-428c-4fe1-8c00-5cdbf7e8422c",
   "metadata": {},
   "outputs": [
    {
     "data": {
      "application/vnd.plotly.v1+json": {
       "config": {
        "plotlyServerURL": "https://plot.ly"
       },
       "data": [
        {
         "alignmentgroup": "True",
         "hovertemplate": "Categoria de Tabagismo=%{x}<br>Contagem=%{text}<extra></extra>",
         "legendgroup": "Não Fuma",
         "marker": {
          "color": "#FF6347",
          "pattern": {
           "shape": ""
          }
         },
         "name": "Não Fuma",
         "offsetgroup": "Não Fuma",
         "orientation": "v",
         "showlegend": true,
         "text": [
          32010
         ],
         "textposition": "outside",
         "type": "bar",
         "x": [
          "Não Fuma"
         ],
         "xaxis": "x",
         "y": [
          32010
         ],
         "yaxis": "y"
        },
        {
         "alignmentgroup": "True",
         "hovertemplate": "Categoria de Tabagismo=%{x}<br>Contagem=%{text}<extra></extra>",
         "legendgroup": "Fuma Razoavelmente",
         "marker": {
          "color": "#4682B4",
          "pattern": {
           "shape": ""
          }
         },
         "name": "Fuma Razoavelmente",
         "offsetgroup": "Fuma Razoavelmente",
         "orientation": "v",
         "showlegend": true,
         "text": [
          14171
         ],
         "textposition": "outside",
         "type": "bar",
         "x": [
          "Fuma Razoavelmente"
         ],
         "xaxis": "x",
         "y": [
          14171
         ],
         "yaxis": "y"
        },
        {
         "alignmentgroup": "True",
         "hovertemplate": "Categoria de Tabagismo=%{x}<br>Contagem=%{text}<extra></extra>",
         "legendgroup": "Fuma Muito",
         "marker": {
          "color": "#32CD32",
          "pattern": {
           "shape": ""
          }
         },
         "name": "Fuma Muito",
         "offsetgroup": "Fuma Muito",
         "orientation": "v",
         "showlegend": true,
         "text": [
          6514
         ],
         "textposition": "outside",
         "type": "bar",
         "x": [
          "Fuma Muito"
         ],
         "xaxis": "x",
         "y": [
          6514
         ],
         "yaxis": "y"
        },
        {
         "alignmentgroup": "True",
         "hovertemplate": "Categoria de Tabagismo=%{x}<br>Contagem=%{text}<extra></extra>",
         "legendgroup": "Fuma Pouco",
         "marker": {
          "color": "#FFD700",
          "pattern": {
           "shape": ""
          }
         },
         "name": "Fuma Pouco",
         "offsetgroup": "Fuma Pouco",
         "orientation": "v",
         "showlegend": true,
         "text": [
          2016
         ],
         "textposition": "outside",
         "type": "bar",
         "x": [
          "Fuma Pouco"
         ],
         "xaxis": "x",
         "y": [
          2016
         ],
         "yaxis": "y"
        }
       ],
       "layout": {
        "barmode": "relative",
        "height": 500,
        "legend": {
         "title": {
          "text": "Categoria de Tabagismo"
         },
         "tracegroupgap": 0
        },
        "template": {
         "data": {
          "bar": [
           {
            "error_x": {
             "color": "#2a3f5f"
            },
            "error_y": {
             "color": "#2a3f5f"
            },
            "marker": {
             "line": {
              "color": "#E5ECF6",
              "width": 0.5
             },
             "pattern": {
              "fillmode": "overlay",
              "size": 10,
              "solidity": 0.2
             }
            },
            "type": "bar"
           }
          ],
          "barpolar": [
           {
            "marker": {
             "line": {
              "color": "#E5ECF6",
              "width": 0.5
             },
             "pattern": {
              "fillmode": "overlay",
              "size": 10,
              "solidity": 0.2
             }
            },
            "type": "barpolar"
           }
          ],
          "carpet": [
           {
            "aaxis": {
             "endlinecolor": "#2a3f5f",
             "gridcolor": "white",
             "linecolor": "white",
             "minorgridcolor": "white",
             "startlinecolor": "#2a3f5f"
            },
            "baxis": {
             "endlinecolor": "#2a3f5f",
             "gridcolor": "white",
             "linecolor": "white",
             "minorgridcolor": "white",
             "startlinecolor": "#2a3f5f"
            },
            "type": "carpet"
           }
          ],
          "choropleth": [
           {
            "colorbar": {
             "outlinewidth": 0,
             "ticks": ""
            },
            "type": "choropleth"
           }
          ],
          "contour": [
           {
            "colorbar": {
             "outlinewidth": 0,
             "ticks": ""
            },
            "colorscale": [
             [
              0,
              "#0d0887"
             ],
             [
              0.1111111111111111,
              "#46039f"
             ],
             [
              0.2222222222222222,
              "#7201a8"
             ],
             [
              0.3333333333333333,
              "#9c179e"
             ],
             [
              0.4444444444444444,
              "#bd3786"
             ],
             [
              0.5555555555555556,
              "#d8576b"
             ],
             [
              0.6666666666666666,
              "#ed7953"
             ],
             [
              0.7777777777777778,
              "#fb9f3a"
             ],
             [
              0.8888888888888888,
              "#fdca26"
             ],
             [
              1,
              "#f0f921"
             ]
            ],
            "type": "contour"
           }
          ],
          "contourcarpet": [
           {
            "colorbar": {
             "outlinewidth": 0,
             "ticks": ""
            },
            "type": "contourcarpet"
           }
          ],
          "heatmap": [
           {
            "colorbar": {
             "outlinewidth": 0,
             "ticks": ""
            },
            "colorscale": [
             [
              0,
              "#0d0887"
             ],
             [
              0.1111111111111111,
              "#46039f"
             ],
             [
              0.2222222222222222,
              "#7201a8"
             ],
             [
              0.3333333333333333,
              "#9c179e"
             ],
             [
              0.4444444444444444,
              "#bd3786"
             ],
             [
              0.5555555555555556,
              "#d8576b"
             ],
             [
              0.6666666666666666,
              "#ed7953"
             ],
             [
              0.7777777777777778,
              "#fb9f3a"
             ],
             [
              0.8888888888888888,
              "#fdca26"
             ],
             [
              1,
              "#f0f921"
             ]
            ],
            "type": "heatmap"
           }
          ],
          "heatmapgl": [
           {
            "colorbar": {
             "outlinewidth": 0,
             "ticks": ""
            },
            "colorscale": [
             [
              0,
              "#0d0887"
             ],
             [
              0.1111111111111111,
              "#46039f"
             ],
             [
              0.2222222222222222,
              "#7201a8"
             ],
             [
              0.3333333333333333,
              "#9c179e"
             ],
             [
              0.4444444444444444,
              "#bd3786"
             ],
             [
              0.5555555555555556,
              "#d8576b"
             ],
             [
              0.6666666666666666,
              "#ed7953"
             ],
             [
              0.7777777777777778,
              "#fb9f3a"
             ],
             [
              0.8888888888888888,
              "#fdca26"
             ],
             [
              1,
              "#f0f921"
             ]
            ],
            "type": "heatmapgl"
           }
          ],
          "histogram": [
           {
            "marker": {
             "pattern": {
              "fillmode": "overlay",
              "size": 10,
              "solidity": 0.2
             }
            },
            "type": "histogram"
           }
          ],
          "histogram2d": [
           {
            "colorbar": {
             "outlinewidth": 0,
             "ticks": ""
            },
            "colorscale": [
             [
              0,
              "#0d0887"
             ],
             [
              0.1111111111111111,
              "#46039f"
             ],
             [
              0.2222222222222222,
              "#7201a8"
             ],
             [
              0.3333333333333333,
              "#9c179e"
             ],
             [
              0.4444444444444444,
              "#bd3786"
             ],
             [
              0.5555555555555556,
              "#d8576b"
             ],
             [
              0.6666666666666666,
              "#ed7953"
             ],
             [
              0.7777777777777778,
              "#fb9f3a"
             ],
             [
              0.8888888888888888,
              "#fdca26"
             ],
             [
              1,
              "#f0f921"
             ]
            ],
            "type": "histogram2d"
           }
          ],
          "histogram2dcontour": [
           {
            "colorbar": {
             "outlinewidth": 0,
             "ticks": ""
            },
            "colorscale": [
             [
              0,
              "#0d0887"
             ],
             [
              0.1111111111111111,
              "#46039f"
             ],
             [
              0.2222222222222222,
              "#7201a8"
             ],
             [
              0.3333333333333333,
              "#9c179e"
             ],
             [
              0.4444444444444444,
              "#bd3786"
             ],
             [
              0.5555555555555556,
              "#d8576b"
             ],
             [
              0.6666666666666666,
              "#ed7953"
             ],
             [
              0.7777777777777778,
              "#fb9f3a"
             ],
             [
              0.8888888888888888,
              "#fdca26"
             ],
             [
              1,
              "#f0f921"
             ]
            ],
            "type": "histogram2dcontour"
           }
          ],
          "mesh3d": [
           {
            "colorbar": {
             "outlinewidth": 0,
             "ticks": ""
            },
            "type": "mesh3d"
           }
          ],
          "parcoords": [
           {
            "line": {
             "colorbar": {
              "outlinewidth": 0,
              "ticks": ""
             }
            },
            "type": "parcoords"
           }
          ],
          "pie": [
           {
            "automargin": true,
            "type": "pie"
           }
          ],
          "scatter": [
           {
            "fillpattern": {
             "fillmode": "overlay",
             "size": 10,
             "solidity": 0.2
            },
            "type": "scatter"
           }
          ],
          "scatter3d": [
           {
            "line": {
             "colorbar": {
              "outlinewidth": 0,
              "ticks": ""
             }
            },
            "marker": {
             "colorbar": {
              "outlinewidth": 0,
              "ticks": ""
             }
            },
            "type": "scatter3d"
           }
          ],
          "scattercarpet": [
           {
            "marker": {
             "colorbar": {
              "outlinewidth": 0,
              "ticks": ""
             }
            },
            "type": "scattercarpet"
           }
          ],
          "scattergeo": [
           {
            "marker": {
             "colorbar": {
              "outlinewidth": 0,
              "ticks": ""
             }
            },
            "type": "scattergeo"
           }
          ],
          "scattergl": [
           {
            "marker": {
             "colorbar": {
              "outlinewidth": 0,
              "ticks": ""
             }
            },
            "type": "scattergl"
           }
          ],
          "scattermapbox": [
           {
            "marker": {
             "colorbar": {
              "outlinewidth": 0,
              "ticks": ""
             }
            },
            "type": "scattermapbox"
           }
          ],
          "scatterpolar": [
           {
            "marker": {
             "colorbar": {
              "outlinewidth": 0,
              "ticks": ""
             }
            },
            "type": "scatterpolar"
           }
          ],
          "scatterpolargl": [
           {
            "marker": {
             "colorbar": {
              "outlinewidth": 0,
              "ticks": ""
             }
            },
            "type": "scatterpolargl"
           }
          ],
          "scatterternary": [
           {
            "marker": {
             "colorbar": {
              "outlinewidth": 0,
              "ticks": ""
             }
            },
            "type": "scatterternary"
           }
          ],
          "surface": [
           {
            "colorbar": {
             "outlinewidth": 0,
             "ticks": ""
            },
            "colorscale": [
             [
              0,
              "#0d0887"
             ],
             [
              0.1111111111111111,
              "#46039f"
             ],
             [
              0.2222222222222222,
              "#7201a8"
             ],
             [
              0.3333333333333333,
              "#9c179e"
             ],
             [
              0.4444444444444444,
              "#bd3786"
             ],
             [
              0.5555555555555556,
              "#d8576b"
             ],
             [
              0.6666666666666666,
              "#ed7953"
             ],
             [
              0.7777777777777778,
              "#fb9f3a"
             ],
             [
              0.8888888888888888,
              "#fdca26"
             ],
             [
              1,
              "#f0f921"
             ]
            ],
            "type": "surface"
           }
          ],
          "table": [
           {
            "cells": {
             "fill": {
              "color": "#EBF0F8"
             },
             "line": {
              "color": "white"
             }
            },
            "header": {
             "fill": {
              "color": "#C8D4E3"
             },
             "line": {
              "color": "white"
             }
            },
            "type": "table"
           }
          ]
         },
         "layout": {
          "annotationdefaults": {
           "arrowcolor": "#2a3f5f",
           "arrowhead": 0,
           "arrowwidth": 1
          },
          "autotypenumbers": "strict",
          "coloraxis": {
           "colorbar": {
            "outlinewidth": 0,
            "ticks": ""
           }
          },
          "colorscale": {
           "diverging": [
            [
             0,
             "#8e0152"
            ],
            [
             0.1,
             "#c51b7d"
            ],
            [
             0.2,
             "#de77ae"
            ],
            [
             0.3,
             "#f1b6da"
            ],
            [
             0.4,
             "#fde0ef"
            ],
            [
             0.5,
             "#f7f7f7"
            ],
            [
             0.6,
             "#e6f5d0"
            ],
            [
             0.7,
             "#b8e186"
            ],
            [
             0.8,
             "#7fbc41"
            ],
            [
             0.9,
             "#4d9221"
            ],
            [
             1,
             "#276419"
            ]
           ],
           "sequential": [
            [
             0,
             "#0d0887"
            ],
            [
             0.1111111111111111,
             "#46039f"
            ],
            [
             0.2222222222222222,
             "#7201a8"
            ],
            [
             0.3333333333333333,
             "#9c179e"
            ],
            [
             0.4444444444444444,
             "#bd3786"
            ],
            [
             0.5555555555555556,
             "#d8576b"
            ],
            [
             0.6666666666666666,
             "#ed7953"
            ],
            [
             0.7777777777777778,
             "#fb9f3a"
            ],
            [
             0.8888888888888888,
             "#fdca26"
            ],
            [
             1,
             "#f0f921"
            ]
           ],
           "sequentialminus": [
            [
             0,
             "#0d0887"
            ],
            [
             0.1111111111111111,
             "#46039f"
            ],
            [
             0.2222222222222222,
             "#7201a8"
            ],
            [
             0.3333333333333333,
             "#9c179e"
            ],
            [
             0.4444444444444444,
             "#bd3786"
            ],
            [
             0.5555555555555556,
             "#d8576b"
            ],
            [
             0.6666666666666666,
             "#ed7953"
            ],
            [
             0.7777777777777778,
             "#fb9f3a"
            ],
            [
             0.8888888888888888,
             "#fdca26"
            ],
            [
             1,
             "#f0f921"
            ]
           ]
          },
          "colorway": [
           "#636efa",
           "#EF553B",
           "#00cc96",
           "#ab63fa",
           "#FFA15A",
           "#19d3f3",
           "#FF6692",
           "#B6E880",
           "#FF97FF",
           "#FECB52"
          ],
          "font": {
           "color": "#2a3f5f"
          },
          "geo": {
           "bgcolor": "white",
           "lakecolor": "white",
           "landcolor": "#E5ECF6",
           "showlakes": true,
           "showland": true,
           "subunitcolor": "white"
          },
          "hoverlabel": {
           "align": "left"
          },
          "hovermode": "closest",
          "mapbox": {
           "style": "light"
          },
          "paper_bgcolor": "white",
          "plot_bgcolor": "#E5ECF6",
          "polar": {
           "angularaxis": {
            "gridcolor": "white",
            "linecolor": "white",
            "ticks": ""
           },
           "bgcolor": "#E5ECF6",
           "radialaxis": {
            "gridcolor": "white",
            "linecolor": "white",
            "ticks": ""
           }
          },
          "scene": {
           "xaxis": {
            "backgroundcolor": "#E5ECF6",
            "gridcolor": "white",
            "gridwidth": 2,
            "linecolor": "white",
            "showbackground": true,
            "ticks": "",
            "zerolinecolor": "white"
           },
           "yaxis": {
            "backgroundcolor": "#E5ECF6",
            "gridcolor": "white",
            "gridwidth": 2,
            "linecolor": "white",
            "showbackground": true,
            "ticks": "",
            "zerolinecolor": "white"
           },
           "zaxis": {
            "backgroundcolor": "#E5ECF6",
            "gridcolor": "white",
            "gridwidth": 2,
            "linecolor": "white",
            "showbackground": true,
            "ticks": "",
            "zerolinecolor": "white"
           }
          },
          "shapedefaults": {
           "line": {
            "color": "#2a3f5f"
           }
          },
          "ternary": {
           "aaxis": {
            "gridcolor": "white",
            "linecolor": "white",
            "ticks": ""
           },
           "baxis": {
            "gridcolor": "white",
            "linecolor": "white",
            "ticks": ""
           },
           "bgcolor": "#E5ECF6",
           "caxis": {
            "gridcolor": "white",
            "linecolor": "white",
            "ticks": ""
           }
          },
          "title": {
           "x": 0.05
          },
          "xaxis": {
           "automargin": true,
           "gridcolor": "white",
           "linecolor": "white",
           "ticks": "",
           "title": {
            "standoff": 15
           },
           "zerolinecolor": "white",
           "zerolinewidth": 2
          },
          "yaxis": {
           "automargin": true,
           "gridcolor": "white",
           "linecolor": "white",
           "ticks": "",
           "title": {
            "standoff": 15
           },
           "zerolinecolor": "white",
           "zerolinewidth": 2
          }
         }
        },
        "title": {
         "text": "Distribuição das Categorias de Tabagismo"
        },
        "width": 1000,
        "xaxis": {
         "anchor": "y",
         "autorange": true,
         "categoryarray": [
          "Não Fuma",
          "Fuma Razoavelmente",
          "Fuma Muito",
          "Fuma Pouco"
         ],
         "categoryorder": "array",
         "domain": [
          0,
          1
         ],
         "range": [
          -0.5,
          3.5
         ],
         "title": {
          "text": "Categoria de Tabagismo"
         },
         "type": "category"
        },
        "yaxis": {
         "anchor": "x",
         "autorange": true,
         "domain": [
          0,
          1
         ],
         "range": [
          0,
          33694.73684210526
         ],
         "title": {
          "text": "Contagem"
         },
         "type": "linear"
        }
       }
      },
      "text/html": [
       "<div>                            <div id=\"73bf09a0-31ed-458d-872b-298b9d144f7b\" class=\"plotly-graph-div\" style=\"height:500px; width:1000px;\"></div>            <script type=\"text/javascript\">                require([\"plotly\"], function(Plotly) {                    window.PLOTLYENV=window.PLOTLYENV || {};                                    if (document.getElementById(\"73bf09a0-31ed-458d-872b-298b9d144f7b\")) {                    Plotly.newPlot(                        \"73bf09a0-31ed-458d-872b-298b9d144f7b\",                        [{\"alignmentgroup\":\"True\",\"hovertemplate\":\"Categoria de Tabagismo=%{x}\\u003cbr\\u003eContagem=%{text}\\u003cextra\\u003e\\u003c\\u002fextra\\u003e\",\"legendgroup\":\"N\\u00e3o Fuma\",\"marker\":{\"color\":\"#FF6347\",\"pattern\":{\"shape\":\"\"}},\"name\":\"N\\u00e3o Fuma\",\"offsetgroup\":\"N\\u00e3o Fuma\",\"orientation\":\"v\",\"showlegend\":true,\"text\":[32010.0],\"textposition\":\"outside\",\"x\":[\"N\\u00e3o Fuma\"],\"xaxis\":\"x\",\"y\":[32010],\"yaxis\":\"y\",\"type\":\"bar\"},{\"alignmentgroup\":\"True\",\"hovertemplate\":\"Categoria de Tabagismo=%{x}\\u003cbr\\u003eContagem=%{text}\\u003cextra\\u003e\\u003c\\u002fextra\\u003e\",\"legendgroup\":\"Fuma Razoavelmente\",\"marker\":{\"color\":\"#4682B4\",\"pattern\":{\"shape\":\"\"}},\"name\":\"Fuma Razoavelmente\",\"offsetgroup\":\"Fuma Razoavelmente\",\"orientation\":\"v\",\"showlegend\":true,\"text\":[14171.0],\"textposition\":\"outside\",\"x\":[\"Fuma Razoavelmente\"],\"xaxis\":\"x\",\"y\":[14171],\"yaxis\":\"y\",\"type\":\"bar\"},{\"alignmentgroup\":\"True\",\"hovertemplate\":\"Categoria de Tabagismo=%{x}\\u003cbr\\u003eContagem=%{text}\\u003cextra\\u003e\\u003c\\u002fextra\\u003e\",\"legendgroup\":\"Fuma Muito\",\"marker\":{\"color\":\"#32CD32\",\"pattern\":{\"shape\":\"\"}},\"name\":\"Fuma Muito\",\"offsetgroup\":\"Fuma Muito\",\"orientation\":\"v\",\"showlegend\":true,\"text\":[6514.0],\"textposition\":\"outside\",\"x\":[\"Fuma Muito\"],\"xaxis\":\"x\",\"y\":[6514],\"yaxis\":\"y\",\"type\":\"bar\"},{\"alignmentgroup\":\"True\",\"hovertemplate\":\"Categoria de Tabagismo=%{x}\\u003cbr\\u003eContagem=%{text}\\u003cextra\\u003e\\u003c\\u002fextra\\u003e\",\"legendgroup\":\"Fuma Pouco\",\"marker\":{\"color\":\"#FFD700\",\"pattern\":{\"shape\":\"\"}},\"name\":\"Fuma Pouco\",\"offsetgroup\":\"Fuma Pouco\",\"orientation\":\"v\",\"showlegend\":true,\"text\":[2016.0],\"textposition\":\"outside\",\"x\":[\"Fuma Pouco\"],\"xaxis\":\"x\",\"y\":[2016],\"yaxis\":\"y\",\"type\":\"bar\"}],                        {\"template\":{\"data\":{\"histogram2dcontour\":[{\"type\":\"histogram2dcontour\",\"colorbar\":{\"outlinewidth\":0,\"ticks\":\"\"},\"colorscale\":[[0.0,\"#0d0887\"],[0.1111111111111111,\"#46039f\"],[0.2222222222222222,\"#7201a8\"],[0.3333333333333333,\"#9c179e\"],[0.4444444444444444,\"#bd3786\"],[0.5555555555555556,\"#d8576b\"],[0.6666666666666666,\"#ed7953\"],[0.7777777777777778,\"#fb9f3a\"],[0.8888888888888888,\"#fdca26\"],[1.0,\"#f0f921\"]]}],\"choropleth\":[{\"type\":\"choropleth\",\"colorbar\":{\"outlinewidth\":0,\"ticks\":\"\"}}],\"histogram2d\":[{\"type\":\"histogram2d\",\"colorbar\":{\"outlinewidth\":0,\"ticks\":\"\"},\"colorscale\":[[0.0,\"#0d0887\"],[0.1111111111111111,\"#46039f\"],[0.2222222222222222,\"#7201a8\"],[0.3333333333333333,\"#9c179e\"],[0.4444444444444444,\"#bd3786\"],[0.5555555555555556,\"#d8576b\"],[0.6666666666666666,\"#ed7953\"],[0.7777777777777778,\"#fb9f3a\"],[0.8888888888888888,\"#fdca26\"],[1.0,\"#f0f921\"]]}],\"heatmap\":[{\"type\":\"heatmap\",\"colorbar\":{\"outlinewidth\":0,\"ticks\":\"\"},\"colorscale\":[[0.0,\"#0d0887\"],[0.1111111111111111,\"#46039f\"],[0.2222222222222222,\"#7201a8\"],[0.3333333333333333,\"#9c179e\"],[0.4444444444444444,\"#bd3786\"],[0.5555555555555556,\"#d8576b\"],[0.6666666666666666,\"#ed7953\"],[0.7777777777777778,\"#fb9f3a\"],[0.8888888888888888,\"#fdca26\"],[1.0,\"#f0f921\"]]}],\"heatmapgl\":[{\"type\":\"heatmapgl\",\"colorbar\":{\"outlinewidth\":0,\"ticks\":\"\"},\"colorscale\":[[0.0,\"#0d0887\"],[0.1111111111111111,\"#46039f\"],[0.2222222222222222,\"#7201a8\"],[0.3333333333333333,\"#9c179e\"],[0.4444444444444444,\"#bd3786\"],[0.5555555555555556,\"#d8576b\"],[0.6666666666666666,\"#ed7953\"],[0.7777777777777778,\"#fb9f3a\"],[0.8888888888888888,\"#fdca26\"],[1.0,\"#f0f921\"]]}],\"contourcarpet\":[{\"type\":\"contourcarpet\",\"colorbar\":{\"outlinewidth\":0,\"ticks\":\"\"}}],\"contour\":[{\"type\":\"contour\",\"colorbar\":{\"outlinewidth\":0,\"ticks\":\"\"},\"colorscale\":[[0.0,\"#0d0887\"],[0.1111111111111111,\"#46039f\"],[0.2222222222222222,\"#7201a8\"],[0.3333333333333333,\"#9c179e\"],[0.4444444444444444,\"#bd3786\"],[0.5555555555555556,\"#d8576b\"],[0.6666666666666666,\"#ed7953\"],[0.7777777777777778,\"#fb9f3a\"],[0.8888888888888888,\"#fdca26\"],[1.0,\"#f0f921\"]]}],\"surface\":[{\"type\":\"surface\",\"colorbar\":{\"outlinewidth\":0,\"ticks\":\"\"},\"colorscale\":[[0.0,\"#0d0887\"],[0.1111111111111111,\"#46039f\"],[0.2222222222222222,\"#7201a8\"],[0.3333333333333333,\"#9c179e\"],[0.4444444444444444,\"#bd3786\"],[0.5555555555555556,\"#d8576b\"],[0.6666666666666666,\"#ed7953\"],[0.7777777777777778,\"#fb9f3a\"],[0.8888888888888888,\"#fdca26\"],[1.0,\"#f0f921\"]]}],\"mesh3d\":[{\"type\":\"mesh3d\",\"colorbar\":{\"outlinewidth\":0,\"ticks\":\"\"}}],\"scatter\":[{\"fillpattern\":{\"fillmode\":\"overlay\",\"size\":10,\"solidity\":0.2},\"type\":\"scatter\"}],\"parcoords\":[{\"type\":\"parcoords\",\"line\":{\"colorbar\":{\"outlinewidth\":0,\"ticks\":\"\"}}}],\"scatterpolargl\":[{\"type\":\"scatterpolargl\",\"marker\":{\"colorbar\":{\"outlinewidth\":0,\"ticks\":\"\"}}}],\"bar\":[{\"error_x\":{\"color\":\"#2a3f5f\"},\"error_y\":{\"color\":\"#2a3f5f\"},\"marker\":{\"line\":{\"color\":\"#E5ECF6\",\"width\":0.5},\"pattern\":{\"fillmode\":\"overlay\",\"size\":10,\"solidity\":0.2}},\"type\":\"bar\"}],\"scattergeo\":[{\"type\":\"scattergeo\",\"marker\":{\"colorbar\":{\"outlinewidth\":0,\"ticks\":\"\"}}}],\"scatterpolar\":[{\"type\":\"scatterpolar\",\"marker\":{\"colorbar\":{\"outlinewidth\":0,\"ticks\":\"\"}}}],\"histogram\":[{\"marker\":{\"pattern\":{\"fillmode\":\"overlay\",\"size\":10,\"solidity\":0.2}},\"type\":\"histogram\"}],\"scattergl\":[{\"type\":\"scattergl\",\"marker\":{\"colorbar\":{\"outlinewidth\":0,\"ticks\":\"\"}}}],\"scatter3d\":[{\"type\":\"scatter3d\",\"line\":{\"colorbar\":{\"outlinewidth\":0,\"ticks\":\"\"}},\"marker\":{\"colorbar\":{\"outlinewidth\":0,\"ticks\":\"\"}}}],\"scattermapbox\":[{\"type\":\"scattermapbox\",\"marker\":{\"colorbar\":{\"outlinewidth\":0,\"ticks\":\"\"}}}],\"scatterternary\":[{\"type\":\"scatterternary\",\"marker\":{\"colorbar\":{\"outlinewidth\":0,\"ticks\":\"\"}}}],\"scattercarpet\":[{\"type\":\"scattercarpet\",\"marker\":{\"colorbar\":{\"outlinewidth\":0,\"ticks\":\"\"}}}],\"carpet\":[{\"aaxis\":{\"endlinecolor\":\"#2a3f5f\",\"gridcolor\":\"white\",\"linecolor\":\"white\",\"minorgridcolor\":\"white\",\"startlinecolor\":\"#2a3f5f\"},\"baxis\":{\"endlinecolor\":\"#2a3f5f\",\"gridcolor\":\"white\",\"linecolor\":\"white\",\"minorgridcolor\":\"white\",\"startlinecolor\":\"#2a3f5f\"},\"type\":\"carpet\"}],\"table\":[{\"cells\":{\"fill\":{\"color\":\"#EBF0F8\"},\"line\":{\"color\":\"white\"}},\"header\":{\"fill\":{\"color\":\"#C8D4E3\"},\"line\":{\"color\":\"white\"}},\"type\":\"table\"}],\"barpolar\":[{\"marker\":{\"line\":{\"color\":\"#E5ECF6\",\"width\":0.5},\"pattern\":{\"fillmode\":\"overlay\",\"size\":10,\"solidity\":0.2}},\"type\":\"barpolar\"}],\"pie\":[{\"automargin\":true,\"type\":\"pie\"}]},\"layout\":{\"autotypenumbers\":\"strict\",\"colorway\":[\"#636efa\",\"#EF553B\",\"#00cc96\",\"#ab63fa\",\"#FFA15A\",\"#19d3f3\",\"#FF6692\",\"#B6E880\",\"#FF97FF\",\"#FECB52\"],\"font\":{\"color\":\"#2a3f5f\"},\"hovermode\":\"closest\",\"hoverlabel\":{\"align\":\"left\"},\"paper_bgcolor\":\"white\",\"plot_bgcolor\":\"#E5ECF6\",\"polar\":{\"bgcolor\":\"#E5ECF6\",\"angularaxis\":{\"gridcolor\":\"white\",\"linecolor\":\"white\",\"ticks\":\"\"},\"radialaxis\":{\"gridcolor\":\"white\",\"linecolor\":\"white\",\"ticks\":\"\"}},\"ternary\":{\"bgcolor\":\"#E5ECF6\",\"aaxis\":{\"gridcolor\":\"white\",\"linecolor\":\"white\",\"ticks\":\"\"},\"baxis\":{\"gridcolor\":\"white\",\"linecolor\":\"white\",\"ticks\":\"\"},\"caxis\":{\"gridcolor\":\"white\",\"linecolor\":\"white\",\"ticks\":\"\"}},\"coloraxis\":{\"colorbar\":{\"outlinewidth\":0,\"ticks\":\"\"}},\"colorscale\":{\"sequential\":[[0.0,\"#0d0887\"],[0.1111111111111111,\"#46039f\"],[0.2222222222222222,\"#7201a8\"],[0.3333333333333333,\"#9c179e\"],[0.4444444444444444,\"#bd3786\"],[0.5555555555555556,\"#d8576b\"],[0.6666666666666666,\"#ed7953\"],[0.7777777777777778,\"#fb9f3a\"],[0.8888888888888888,\"#fdca26\"],[1.0,\"#f0f921\"]],\"sequentialminus\":[[0.0,\"#0d0887\"],[0.1111111111111111,\"#46039f\"],[0.2222222222222222,\"#7201a8\"],[0.3333333333333333,\"#9c179e\"],[0.4444444444444444,\"#bd3786\"],[0.5555555555555556,\"#d8576b\"],[0.6666666666666666,\"#ed7953\"],[0.7777777777777778,\"#fb9f3a\"],[0.8888888888888888,\"#fdca26\"],[1.0,\"#f0f921\"]],\"diverging\":[[0,\"#8e0152\"],[0.1,\"#c51b7d\"],[0.2,\"#de77ae\"],[0.3,\"#f1b6da\"],[0.4,\"#fde0ef\"],[0.5,\"#f7f7f7\"],[0.6,\"#e6f5d0\"],[0.7,\"#b8e186\"],[0.8,\"#7fbc41\"],[0.9,\"#4d9221\"],[1,\"#276419\"]]},\"xaxis\":{\"gridcolor\":\"white\",\"linecolor\":\"white\",\"ticks\":\"\",\"title\":{\"standoff\":15},\"zerolinecolor\":\"white\",\"automargin\":true,\"zerolinewidth\":2},\"yaxis\":{\"gridcolor\":\"white\",\"linecolor\":\"white\",\"ticks\":\"\",\"title\":{\"standoff\":15},\"zerolinecolor\":\"white\",\"automargin\":true,\"zerolinewidth\":2},\"scene\":{\"xaxis\":{\"backgroundcolor\":\"#E5ECF6\",\"gridcolor\":\"white\",\"linecolor\":\"white\",\"showbackground\":true,\"ticks\":\"\",\"zerolinecolor\":\"white\",\"gridwidth\":2},\"yaxis\":{\"backgroundcolor\":\"#E5ECF6\",\"gridcolor\":\"white\",\"linecolor\":\"white\",\"showbackground\":true,\"ticks\":\"\",\"zerolinecolor\":\"white\",\"gridwidth\":2},\"zaxis\":{\"backgroundcolor\":\"#E5ECF6\",\"gridcolor\":\"white\",\"linecolor\":\"white\",\"showbackground\":true,\"ticks\":\"\",\"zerolinecolor\":\"white\",\"gridwidth\":2}},\"shapedefaults\":{\"line\":{\"color\":\"#2a3f5f\"}},\"annotationdefaults\":{\"arrowcolor\":\"#2a3f5f\",\"arrowhead\":0,\"arrowwidth\":1},\"geo\":{\"bgcolor\":\"white\",\"landcolor\":\"#E5ECF6\",\"subunitcolor\":\"white\",\"showland\":true,\"showlakes\":true,\"lakecolor\":\"white\"},\"title\":{\"x\":0.05},\"mapbox\":{\"style\":\"light\"}}},\"xaxis\":{\"anchor\":\"y\",\"domain\":[0.0,1.0],\"title\":{\"text\":\"Categoria de Tabagismo\"},\"categoryorder\":\"array\",\"categoryarray\":[\"N\\u00e3o Fuma\",\"Fuma Razoavelmente\",\"Fuma Muito\",\"Fuma Pouco\"]},\"yaxis\":{\"anchor\":\"x\",\"domain\":[0.0,1.0],\"title\":{\"text\":\"Contagem\"}},\"legend\":{\"title\":{\"text\":\"Categoria de Tabagismo\"},\"tracegroupgap\":0},\"title\":{\"text\":\"Distribui\\u00e7\\u00e3o das Categorias de Tabagismo\"},\"barmode\":\"relative\",\"width\":1000,\"height\":500},                        {\"responsive\": true}                    ).then(function(){\n",
       "                            \n",
       "var gd = document.getElementById('73bf09a0-31ed-458d-872b-298b9d144f7b');\n",
       "var x = new MutationObserver(function (mutations, observer) {{\n",
       "        var display = window.getComputedStyle(gd).display;\n",
       "        if (!display || display === 'none') {{\n",
       "            console.log([gd, 'removed!']);\n",
       "            Plotly.purge(gd);\n",
       "            observer.disconnect();\n",
       "        }}\n",
       "}});\n",
       "\n",
       "// Listen for the removal of the full notebook cells\n",
       "var notebookContainer = gd.closest('#notebook-container');\n",
       "if (notebookContainer) {{\n",
       "    x.observe(notebookContainer, {childList: true});\n",
       "}}\n",
       "\n",
       "// Listen for the clearing of the current output cell\n",
       "var outputEl = gd.closest('.output');\n",
       "if (outputEl) {{\n",
       "    x.observe(outputEl, {childList: true});\n",
       "}}\n",
       "\n",
       "                        })                };                });            </script>        </div>"
      ]
     },
     "metadata": {},
     "output_type": "display_data"
    }
   ],
   "source": [
    "#Dicionario para mapeamento.\n",
    "dicionario = {\n",
    "    1: 'Fuma Muito',\n",
    "    2: 'Fuma Razoavelmente',\n",
    "    3: 'Fuma Pouco',\n",
    "    4: 'Não Fuma'\n",
    "}\n",
    "\n",
    "contagem = df[\"Categoria_tabagismo\"].value_counts().reset_index()\n",
    "contagem.columns = ['Categoria_tabagismo', 'Contagem']\n",
    "\n",
    "#mapeamento das instruções na própria coluna Instrução.\n",
    "contagem['Categoria_tabagismo'] = contagem['Categoria_tabagismo'].map(dicionario)\n",
    "contagem = contagem.sort_values(by='Contagem', ascending=False)\n",
    "\n",
    "# Supondo que a coluna de nível de instrução seja 'NivelInstrucao'\n",
    "fig = px.bar(\n",
    "    contagem,\n",
    "    x='Categoria_tabagismo',\n",
    "    y='Contagem',\n",
    "    labels={'count': 'Contagem', 'Categoria_tabagismo': 'Categoria de Tabagismo'},\n",
    "    title='Distribuição das Categorias de Tabagismo',\n",
    "    color='Categoria_tabagismo',\n",
    "    text='Contagem',\n",
    "    color_discrete_sequence=[\"#FF6347\", \"#4682B4\", \"#32CD32\", \"#FFD700\"]\n",
    ")\n",
    "\n",
    "fig.update_traces(textposition='outside')\n",
    "\n",
    "fig.update_layout(\n",
    "    width=1000,\n",
    "    height=500,\n",
    ")\n",
    "\n",
    "fig.show()"
   ]
  },
  {
   "cell_type": "markdown",
   "id": "4643de2c-f9fe-4c5e-8707-6c759298008a",
   "metadata": {},
   "source": [
    "A maioria das pessoas da base de dados não fumam. Já as que fumam, independentemente da frequência de fumo, **totalizam 22.701 pessoas**. Se pensarmos que temos 55 mil pessoas aproximadamente, cerca de 41,49% delas configuram-se como fumantes."
   ]
  },
  {
   "cell_type": "code",
   "execution_count": 366,
   "id": "7e6064c8-e223-4f80-9ef9-da1806205a2e",
   "metadata": {},
   "outputs": [],
   "source": [
    "# Com a coluna 'Categoria_tabagismo' criada, as outras já não são mais interessantes para o modelo, vamos jogá-las fora.\n",
    "df.drop([\"P050\", \"P052\", \"P05401\", \"P05404\", \"P05407\", \"P05410\", \"P05413\", \"P05416\", \"P05419\"], axis=1, inplace=True)"
   ]
  },
  {
   "cell_type": "code",
   "execution_count": 367,
   "id": "a081b650-390f-4240-a85a-48d1e97e82e9",
   "metadata": {},
   "outputs": [
    {
     "data": {
      "text/plain": [
       "(54712, 21)"
      ]
     },
     "execution_count": 367,
     "metadata": {},
     "output_type": "execute_result"
    }
   ],
   "source": [
    "df.shape"
   ]
  },
  {
   "cell_type": "markdown",
   "id": "0d36a81b-a76c-4300-ae4e-4e4b8c1e2db6",
   "metadata": {
    "jp-MarkdownHeadingCollapsed": true
   },
   "source": [
    "## **3.6. Aspecto Alcoolismo 🍺**"
   ]
  },
  {
   "cell_type": "markdown",
   "id": "c7767d58-9f93-48a5-a4e3-eff2ac9d9d0d",
   "metadata": {
    "jp-MarkdownHeadingCollapsed": true
   },
   "source": [
    "### 3.6.1. Tratando Nulos"
   ]
  },
  {
   "cell_type": "code",
   "execution_count": 368,
   "id": "f91e10d5-b3ef-4cdc-b633-4d300a54570e",
   "metadata": {},
   "outputs": [
    {
     "data": {
      "text/plain": [
       "Frequencia_alcoolismo        0\n",
       "Qtd_alcool_semanal       40173\n",
       "Qtd_doses_alcoolicas     33702\n",
       "dtype: int64"
      ]
     },
     "execution_count": 368,
     "metadata": {},
     "output_type": "execute_result"
    }
   ],
   "source": [
    "colunas_especificas = [\n",
    "             \"Frequencia_alcoolismo\",\n",
    "             \"Qtd_alcool_semanal\",\n",
    "             \"Qtd_doses_alcoolicas\",\n",
    "]\n",
    "\n",
    "df[colunas_especificas].isnull().sum()"
   ]
  },
  {
   "cell_type": "code",
   "execution_count": 369,
   "id": "02796ca8-3692-459f-86c3-67eab16210c2",
   "metadata": {},
   "outputs": [
    {
     "data": {
      "text/plain": [
       "33702"
      ]
     },
     "execution_count": 369,
     "metadata": {},
     "output_type": "execute_result"
    }
   ],
   "source": [
    "len(df.loc[(df[\"Frequencia_alcoolismo\"] == 1) & (df[\"Qtd_alcool_semanal\"].isna())])"
   ]
  },
  {
   "cell_type": "markdown",
   "id": "4afab68e-8456-437f-a99e-0e22dae23b7f",
   "metadata": {},
   "source": [
    "Quantidade de pessoas que não responderam sobre a **frequência semanal, pelo fato de não beberem bebidas álcoolicas**."
   ]
  },
  {
   "cell_type": "code",
   "execution_count": 370,
   "id": "19e71ffb-25d5-4b89-9df0-69121412313d",
   "metadata": {},
   "outputs": [
    {
     "data": {
      "text/plain": [
       "33702"
      ]
     },
     "execution_count": 370,
     "metadata": {},
     "output_type": "execute_result"
    }
   ],
   "source": [
    "len(df.loc[(df[\"Frequencia_alcoolismo\"] == 1) & (df[\"Qtd_doses_alcoolicas\"].isna())])"
   ]
  },
  {
   "cell_type": "markdown",
   "id": "a9af9553-bbc4-445d-8bba-8118f55512f2",
   "metadata": {},
   "source": [
    "Quantidade de pessoas que não responderam sobre a **quantidade de doses, pelo fato de não beberem bebidas álcoolicas**."
   ]
  },
  {
   "cell_type": "code",
   "execution_count": 371,
   "id": "17853942-80f4-4479-ae38-d003e149b117",
   "metadata": {},
   "outputs": [],
   "source": [
    "# Lista das colunas a serem 'consertados' os valores nulos\n",
    "colunas_a_substituir = [\"Qtd_alcool_semanal\", \"Qtd_doses_alcoolicas\"]\n",
    "\n",
    "# Substituindo por 0, coluna por coluna\n",
    "for coluna in colunas_a_substituir:\n",
    "    df.loc[(df[\"Frequencia_alcoolismo\"] == 1) & (df[coluna].isna()), coluna] = 0"
   ]
  },
  {
   "cell_type": "markdown",
   "id": "2993cb43-6862-474d-9906-9daa86a77b1d",
   "metadata": {},
   "source": [
    "**Conclusão:** Nulos em relação a frequência semanal e diária substuidos por 0, isso significa que quem respondeu 0 é porque simplesmente não bebe."
   ]
  },
  {
   "cell_type": "code",
   "execution_count": 372,
   "id": "bc8e529a-86bd-4ab4-bc85-adcb14be180d",
   "metadata": {},
   "outputs": [
    {
     "data": {
      "text/plain": [
       "Frequencia_alcoolismo       0\n",
       "Qtd_alcool_semanal       6471\n",
       "Qtd_doses_alcoolicas        0\n",
       "dtype: int64"
      ]
     },
     "execution_count": 372,
     "metadata": {},
     "output_type": "execute_result"
    }
   ],
   "source": [
    "colunas_especificas = [\n",
    "             \"Frequencia_alcoolismo\",\n",
    "             \"Qtd_alcool_semanal\",\n",
    "             \"Qtd_doses_alcoolicas\",\n",
    "]\n",
    "\n",
    "df[colunas_especificas].isnull().sum()"
   ]
  },
  {
   "cell_type": "markdown",
   "id": "5b87e77d-8e87-4ab4-b05f-930eea071069",
   "metadata": {},
   "source": [
    "Ainda assim, há 6.471 valores nulos em relação à frequência semanal de consumo de bebidas álcoolicas. Essas pessoas que não responderam, são pessoas que bebem. Isso porque as que não bebem já foram **tratadas anteriormente**."
   ]
  },
  {
   "cell_type": "code",
   "execution_count": 373,
   "id": "cfbe78d3-7d12-4e43-b6bb-497b636a54c7",
   "metadata": {},
   "outputs": [
    {
     "data": {
      "text/plain": [
       "Condicao\n",
       "Saudavel      4254\n",
       "Hipertenso    1946\n",
       "HiperCVD       271\n",
       "Name: count, dtype: int64"
      ]
     },
     "execution_count": 373,
     "metadata": {},
     "output_type": "execute_result"
    }
   ],
   "source": [
    "df.loc[df[\"Qtd_alcool_semanal\"].isnull(), \"Condicao\"].value_counts()"
   ]
  },
  {
   "cell_type": "markdown",
   "id": "77b3a1db-c818-413b-9e6f-1043519ef07e",
   "metadata": {},
   "source": [
    "Desses 6.471 valores nulos, são:\n",
    "- 4.254 pessoas saudáveis\n",
    "- 1.946 pessoas hipertensas\n",
    "- 271 pessoas com doenças cardiovasculares e hipertensas"
   ]
  },
  {
   "cell_type": "code",
   "execution_count": 374,
   "id": "bef0c08c-c116-4f52-b5de-ac96cc9ede20",
   "metadata": {},
   "outputs": [
    {
     "data": {
      "text/plain": [
       "count    4182.000000\n",
       "mean        2.096365\n",
       "std         1.936208\n",
       "min         0.000000\n",
       "25%         1.000000\n",
       "50%         1.000000\n",
       "75%         3.000000\n",
       "max         7.000000\n",
       "Name: Qtd_alcool_semanal, dtype: float64"
      ]
     },
     "execution_count": 374,
     "metadata": {},
     "output_type": "execute_result"
    }
   ],
   "source": [
    "df_hipertensos[\"Qtd_alcool_semanal\"].describe()"
   ]
  },
  {
   "cell_type": "code",
   "execution_count": 375,
   "id": "223d3e03-2c4a-4f8a-9afb-435823a2f884",
   "metadata": {},
   "outputs": [
    {
     "data": {
      "text/plain": [
       "count    432.000000\n",
       "mean       2.384259\n",
       "std        2.140220\n",
       "min        0.000000\n",
       "25%        1.000000\n",
       "50%        2.000000\n",
       "75%        3.000000\n",
       "max        7.000000\n",
       "Name: Qtd_alcool_semanal, dtype: float64"
      ]
     },
     "execution_count": 375,
     "metadata": {},
     "output_type": "execute_result"
    }
   ],
   "source": [
    "df_hiper_cvd[\"Qtd_alcool_semanal\"].describe()"
   ]
  },
  {
   "cell_type": "code",
   "execution_count": 376,
   "id": "3ec1b531-c53d-4cac-9e19-eccfae8c8c0f",
   "metadata": {},
   "outputs": [
    {
     "data": {
      "text/plain": [
       "count    9995.000000\n",
       "mean        1.870835\n",
       "std         1.669640\n",
       "min         0.000000\n",
       "25%         1.000000\n",
       "50%         1.000000\n",
       "75%         2.000000\n",
       "max         7.000000\n",
       "Name: Qtd_alcool_semanal, dtype: float64"
      ]
     },
     "execution_count": 376,
     "metadata": {},
     "output_type": "execute_result"
    }
   ],
   "source": [
    "df_saudaveis[\"Qtd_alcool_semanal\"].describe()"
   ]
  },
  {
   "cell_type": "markdown",
   "id": "e2d3bb46-871b-4dc9-8671-c1dc5ba7073b",
   "metadata": {},
   "source": [
    "Para cada rótulo, substituirei pela média de consumo de cada classe."
   ]
  },
  {
   "cell_type": "code",
   "execution_count": 377,
   "id": "4c8d586e-b8e6-4bb4-805a-c2598846826e",
   "metadata": {},
   "outputs": [],
   "source": [
    "# Pessoas Saudáveis que bebem mas não informaram a frequência com que bebem por semana.\n",
    "df.loc[df[\"Qtd_alcool_semanal\"].isnull() & (df[\"Condicao\"] == 'Saudavel'), \"Qtd_alcool_semanal\"] = 1\n",
    "\n",
    "# Pessoas Hipertensas que bebem mas não informaram a frequência com que bebem por semana.\n",
    "df.loc[df[\"Qtd_alcool_semanal\"].isnull() & (df[\"Condicao\"] == 'Hipertenso'), \"Qtd_alcool_semanal\"] = 2\n",
    "\n",
    "# Pessoas HiperCVD que bebem mas não informaram a frequência com que bebem por semana.\n",
    "df.loc[df[\"Qtd_alcool_semanal\"].isnull() & (df[\"Condicao\"] == 'HiperCVD'), \"Qtd_alcool_semanal\"] = 3"
   ]
  },
  {
   "cell_type": "code",
   "execution_count": 378,
   "id": "6c344c52-1eaa-4312-a384-131d53c9d2b7",
   "metadata": {},
   "outputs": [
    {
     "data": {
      "text/plain": [
       "Frequencia_alcoolismo    0\n",
       "Qtd_alcool_semanal       0\n",
       "Qtd_doses_alcoolicas     0\n",
       "dtype: int64"
      ]
     },
     "execution_count": 378,
     "metadata": {},
     "output_type": "execute_result"
    }
   ],
   "source": [
    "colunas_especificas = [\n",
    "             \"Frequencia_alcoolismo\",\n",
    "             \"Qtd_alcool_semanal\",\n",
    "             \"Qtd_doses_alcoolicas\",\n",
    "]\n",
    "\n",
    "df[colunas_especificas].isnull().sum()"
   ]
  },
  {
   "cell_type": "markdown",
   "id": "ab87a42d-df41-4e19-bd94-6c216295f98a",
   "metadata": {},
   "source": [
    "Nulos tratados."
   ]
  },
  {
   "cell_type": "markdown",
   "id": "2d5af94c-44aa-4a51-a38e-f54d1ceccc1f",
   "metadata": {
    "jp-MarkdownHeadingCollapsed": true
   },
   "source": [
    "### 3.6.2. Outliers"
   ]
  },
  {
   "cell_type": "code",
   "execution_count": 379,
   "id": "e12c8e14-f507-4ab8-9e3a-feeb7ee51e2b",
   "metadata": {},
   "outputs": [
    {
     "data": {
      "text/plain": [
       "count    54712.000000\n",
       "mean         1.798710\n",
       "std          3.660134\n",
       "min          0.000000\n",
       "25%          0.000000\n",
       "50%          0.000000\n",
       "75%          2.000000\n",
       "max         60.000000\n",
       "Name: Qtd_doses_alcoolicas, dtype: float64"
      ]
     },
     "execution_count": 379,
     "metadata": {},
     "output_type": "execute_result"
    }
   ],
   "source": [
    "df[\"Qtd_doses_alcoolicas\"].describe()"
   ]
  },
  {
   "cell_type": "markdown",
   "id": "e2d1cde9-a4ae-4efb-a316-6f1d18b3db20",
   "metadata": {},
   "source": [
    "Há pessoas que tomam 60 doses por dia? Com certeza representa um valor atípico, estamos falando de uma quantidade muito grande de álcool diária mesmo que seja distríbuida. Vamos aprofundar."
   ]
  },
  {
   "cell_type": "code",
   "execution_count": 380,
   "id": "5eeff896-d1d4-455b-8614-78da95d3ef30",
   "metadata": {},
   "outputs": [
    {
     "data": {
      "text/plain": [
       "745"
      ]
     },
     "execution_count": 380,
     "metadata": {},
     "output_type": "execute_result"
    }
   ],
   "source": [
    "len(df.loc[df[\"Qtd_doses_alcoolicas\"] >= 15])"
   ]
  },
  {
   "cell_type": "code",
   "execution_count": 381,
   "id": "12da62e2-586f-4701-a176-132732ec2703",
   "metadata": {},
   "outputs": [
    {
     "data": {
      "text/plain": [
       "Condicao\n",
       "Saudavel      569\n",
       "Hipertenso    160\n",
       "HiperCVD       16\n",
       "Name: count, dtype: int64"
      ]
     },
     "execution_count": 381,
     "metadata": {},
     "output_type": "execute_result"
    }
   ],
   "source": [
    "df.loc[df[\"Qtd_doses_alcoolicas\"] >= 15, \"Condicao\"].value_counts()"
   ]
  },
  {
   "cell_type": "markdown",
   "id": "ab1e40b4-ebc7-4182-8fb5-f3f44b47371f",
   "metadata": {},
   "source": [
    "Há 745 pessoas entre 55 mil que tomam pelo menos 15 doses no dia em que bebem, isso já é um valor alto de álcool. Segundo a OMS, o consumo máximo de álcool por semana é de 21 unidades para homens e 14 unidades para mulheres.\n",
    "\n",
    "Isso significa que essas pessoas que tomam para além de 15 doses são valores extremamente longiquos da maioria das outras instâncias."
   ]
  },
  {
   "cell_type": "code",
   "execution_count": 382,
   "id": "e028b6ca-1d66-483b-beaa-907e0315d020",
   "metadata": {},
   "outputs": [],
   "source": [
    "index_removidos  = df.loc[df[\"Qtd_doses_alcoolicas\"] >= 15].index"
   ]
  },
  {
   "cell_type": "code",
   "execution_count": 383,
   "id": "6000ce8b-01f6-42e1-ab50-f3d1ebd19cce",
   "metadata": {},
   "outputs": [],
   "source": [
    "df.drop(index_removidos, inplace=True)"
   ]
  },
  {
   "cell_type": "markdown",
   "id": "c71cfdd9-8eff-4649-9cfb-e32a02f555de",
   "metadata": {},
   "source": [
    "Outliers removidos."
   ]
  },
  {
   "cell_type": "markdown",
   "id": "845f34aa-818b-4642-b9bf-f60b9d4dad79",
   "metadata": {
    "jp-MarkdownHeadingCollapsed": true
   },
   "source": [
    "## **3.7. Aspecto - Acompanhamento Médico 🚑**"
   ]
  },
  {
   "cell_type": "markdown",
   "id": "3f5a81f5-64db-4ee5-8581-8d31afa61ee1",
   "metadata": {},
   "source": [
    "### 3.7.1 Tratando Nulos"
   ]
  },
  {
   "cell_type": "code",
   "execution_count": 384,
   "id": "0b0b05ff-c0e6-44e0-b2af-1daed2f77549",
   "metadata": {},
   "outputs": [
    {
     "data": {
      "text/plain": [
       "Ultima_consulta           0\n",
       "Ficou_internado           0\n",
       "Tem_plano                 0\n",
       "Percepcao_estado_saude    0\n",
       "dtype: int64"
      ]
     },
     "execution_count": 384,
     "metadata": {},
     "output_type": "execute_result"
    }
   ],
   "source": [
    "colunas_especificas = [\n",
    "             \"Ultima_consulta\",\n",
    "             \"Ficou_internado\",\n",
    "             \"Tem_plano\",\n",
    "             \"Percepcao_estado_saude\"\n",
    "]\n",
    "\n",
    "df[colunas_especificas].isnull().sum()"
   ]
  },
  {
   "cell_type": "markdown",
   "id": "850f0ffd-ad23-4160-9f8b-58338d67f9d3",
   "metadata": {},
   "source": [
    "Não há nulos no Acompanhamento Médico."
   ]
  },
  {
   "cell_type": "code",
   "execution_count": 385,
   "id": "8fca3dda-2a91-4ab2-beb9-10843cbf1cc8",
   "metadata": {},
   "outputs": [
    {
     "data": {
      "text/plain": [
       "Ultima_consulta\n",
       "4.0    16646\n",
       "3.0     9144\n",
       "1.0     3599\n",
       "2.0     2614\n",
       "5.0      377\n",
       "Name: count, dtype: int64"
      ]
     },
     "execution_count": 385,
     "metadata": {},
     "output_type": "execute_result"
    }
   ],
   "source": [
    "df_saudaveis[\"Ultima_consulta\"].value_counts()"
   ]
  },
  {
   "cell_type": "markdown",
   "id": "f331f702-7d23-4744-8c2f-67cc869b678f",
   "metadata": {},
   "source": [
    "## **3.8. Aspecto - Social 🧑‍🎓**"
   ]
  },
  {
   "cell_type": "markdown",
   "id": "a93743d0-bb7c-4782-a69c-3f283b743eca",
   "metadata": {},
   "source": [
    "### 3.8.1. Tratando Nulos"
   ]
  },
  {
   "cell_type": "code",
   "execution_count": 386,
   "id": "b65b4d98-a120-4f9f-8c92-8e296f607bfd",
   "metadata": {},
   "outputs": [
    {
     "data": {
      "text/plain": [
       "Alfabetizacao    0\n",
       "Escolaridade     0\n",
       "dtype: int64"
      ]
     },
     "execution_count": 386,
     "metadata": {},
     "output_type": "execute_result"
    }
   ],
   "source": [
    "colunas_especificas = [\n",
    "             \"Alfabetizacao\",\n",
    "             \"Escolaridade\",\n",
    "]\n",
    "\n",
    "df[colunas_especificas].isnull().sum()"
   ]
  },
  {
   "cell_type": "markdown",
   "id": "033139dc-69bc-401d-a21a-80c829a42582",
   "metadata": {},
   "source": [
    "Não há nulos no aspecto social."
   ]
  },
  {
   "cell_type": "markdown",
   "id": "364327d9-b3bd-4ca7-bed9-976ca78c965a",
   "metadata": {},
   "source": [
    "## **3.9 Aspecto - Econômico 💸**"
   ]
  },
  {
   "cell_type": "markdown",
   "id": "364a8b72-7097-4a6d-a4a1-1fd558e47b60",
   "metadata": {},
   "source": [
    "### 3.9.1 Tratando Nulos"
   ]
  },
  {
   "cell_type": "code",
   "execution_count": 387,
   "id": "d07bab51-1e3f-4e7c-9a2b-dcd0893c7fea",
   "metadata": {},
   "outputs": [
    {
     "data": {
      "text/plain": [
       "Faixa_salarial    13\n",
       "dtype: int64"
      ]
     },
     "execution_count": 387,
     "metadata": {},
     "output_type": "execute_result"
    }
   ],
   "source": [
    "colunas_especificas = [\"Faixa_salarial\",]\n",
    "\n",
    "df[colunas_especificas].isnull().sum()"
   ]
  },
  {
   "cell_type": "code",
   "execution_count": 388,
   "id": "1fece18f-eb50-4944-b5ed-d89ab56e8987",
   "metadata": {},
   "outputs": [
    {
     "data": {
      "text/html": [
       "<div>\n",
       "<style scoped>\n",
       "    .dataframe tbody tr th:only-of-type {\n",
       "        vertical-align: middle;\n",
       "    }\n",
       "\n",
       "    .dataframe tbody tr th {\n",
       "        vertical-align: top;\n",
       "    }\n",
       "\n",
       "    .dataframe thead th {\n",
       "        text-align: right;\n",
       "    }\n",
       "</style>\n",
       "<table border=\"1\" class=\"dataframe\">\n",
       "  <thead>\n",
       "    <tr style=\"text-align: right;\">\n",
       "      <th></th>\n",
       "      <th>Peso</th>\n",
       "      <th>Altura</th>\n",
       "      <th>Sexo</th>\n",
       "      <th>Idade</th>\n",
       "      <th>Raca_etnia</th>\n",
       "      <th>Consumo_sal</th>\n",
       "      <th>Atividades_fisicas</th>\n",
       "      <th>Frequencia_alcoolismo</th>\n",
       "      <th>Qtd_alcool_semanal</th>\n",
       "      <th>Qtd_doses_alcoolicas</th>\n",
       "      <th>...</th>\n",
       "      <th>Ultima_consulta</th>\n",
       "      <th>Percepcao_estado_saude</th>\n",
       "      <th>Tem_plano</th>\n",
       "      <th>Alfabetizacao</th>\n",
       "      <th>Escolaridade</th>\n",
       "      <th>Faixa_salarial</th>\n",
       "      <th>Condicao</th>\n",
       "      <th>IMC</th>\n",
       "      <th>Categoria_IMC</th>\n",
       "      <th>Categoria_tabagismo</th>\n",
       "    </tr>\n",
       "  </thead>\n",
       "  <tbody>\n",
       "    <tr>\n",
       "      <th>11565</th>\n",
       "      <td>79.0</td>\n",
       "      <td>153.0</td>\n",
       "      <td>2.0</td>\n",
       "      <td>46.0</td>\n",
       "      <td>1</td>\n",
       "      <td>3.0</td>\n",
       "      <td>2.0</td>\n",
       "      <td>1.0</td>\n",
       "      <td>0.0</td>\n",
       "      <td>0.0</td>\n",
       "      <td>...</td>\n",
       "      <td>3.0</td>\n",
       "      <td>2.0</td>\n",
       "      <td>2.0</td>\n",
       "      <td>1.0</td>\n",
       "      <td>5.0</td>\n",
       "      <td>NaN</td>\n",
       "      <td>Saudavel</td>\n",
       "      <td>33.747704</td>\n",
       "      <td>Obeso</td>\n",
       "      <td>4.0</td>\n",
       "    </tr>\n",
       "    <tr>\n",
       "      <th>12896</th>\n",
       "      <td>55.0</td>\n",
       "      <td>155.0</td>\n",
       "      <td>2.0</td>\n",
       "      <td>39.0</td>\n",
       "      <td>1</td>\n",
       "      <td>4.0</td>\n",
       "      <td>1.0</td>\n",
       "      <td>3.0</td>\n",
       "      <td>7.0</td>\n",
       "      <td>10.0</td>\n",
       "      <td>...</td>\n",
       "      <td>4.0</td>\n",
       "      <td>1.0</td>\n",
       "      <td>2.0</td>\n",
       "      <td>1.0</td>\n",
       "      <td>2.0</td>\n",
       "      <td>NaN</td>\n",
       "      <td>Saudavel</td>\n",
       "      <td>22.892820</td>\n",
       "      <td>Peso Ideal</td>\n",
       "      <td>1.0</td>\n",
       "    </tr>\n",
       "    <tr>\n",
       "      <th>24287</th>\n",
       "      <td>75.0</td>\n",
       "      <td>154.0</td>\n",
       "      <td>2.0</td>\n",
       "      <td>45.0</td>\n",
       "      <td>1</td>\n",
       "      <td>4.0</td>\n",
       "      <td>1.0</td>\n",
       "      <td>1.0</td>\n",
       "      <td>0.0</td>\n",
       "      <td>0.0</td>\n",
       "      <td>...</td>\n",
       "      <td>3.0</td>\n",
       "      <td>2.0</td>\n",
       "      <td>2.0</td>\n",
       "      <td>1.0</td>\n",
       "      <td>5.0</td>\n",
       "      <td>NaN</td>\n",
       "      <td>Saudavel</td>\n",
       "      <td>31.624220</td>\n",
       "      <td>Obeso</td>\n",
       "      <td>4.0</td>\n",
       "    </tr>\n",
       "    <tr>\n",
       "      <th>33936</th>\n",
       "      <td>63.0</td>\n",
       "      <td>170.0</td>\n",
       "      <td>2.0</td>\n",
       "      <td>43.0</td>\n",
       "      <td>0</td>\n",
       "      <td>4.0</td>\n",
       "      <td>1.0</td>\n",
       "      <td>1.0</td>\n",
       "      <td>0.0</td>\n",
       "      <td>0.0</td>\n",
       "      <td>...</td>\n",
       "      <td>3.0</td>\n",
       "      <td>2.0</td>\n",
       "      <td>2.0</td>\n",
       "      <td>1.0</td>\n",
       "      <td>2.0</td>\n",
       "      <td>NaN</td>\n",
       "      <td>Saudavel</td>\n",
       "      <td>21.799308</td>\n",
       "      <td>Peso Ideal</td>\n",
       "      <td>4.0</td>\n",
       "    </tr>\n",
       "    <tr>\n",
       "      <th>43445</th>\n",
       "      <td>48.0</td>\n",
       "      <td>158.0</td>\n",
       "      <td>2.0</td>\n",
       "      <td>41.0</td>\n",
       "      <td>1</td>\n",
       "      <td>3.0</td>\n",
       "      <td>2.0</td>\n",
       "      <td>1.0</td>\n",
       "      <td>0.0</td>\n",
       "      <td>0.0</td>\n",
       "      <td>...</td>\n",
       "      <td>1.0</td>\n",
       "      <td>2.0</td>\n",
       "      <td>2.0</td>\n",
       "      <td>1.0</td>\n",
       "      <td>3.0</td>\n",
       "      <td>NaN</td>\n",
       "      <td>Saudavel</td>\n",
       "      <td>19.227688</td>\n",
       "      <td>Peso Ideal</td>\n",
       "      <td>4.0</td>\n",
       "    </tr>\n",
       "    <tr>\n",
       "      <th>75247</th>\n",
       "      <td>63.0</td>\n",
       "      <td>170.0</td>\n",
       "      <td>2.0</td>\n",
       "      <td>60.0</td>\n",
       "      <td>0</td>\n",
       "      <td>3.0</td>\n",
       "      <td>2.0</td>\n",
       "      <td>1.0</td>\n",
       "      <td>0.0</td>\n",
       "      <td>0.0</td>\n",
       "      <td>...</td>\n",
       "      <td>4.0</td>\n",
       "      <td>2.0</td>\n",
       "      <td>1.0</td>\n",
       "      <td>1.0</td>\n",
       "      <td>4.0</td>\n",
       "      <td>NaN</td>\n",
       "      <td>Saudavel</td>\n",
       "      <td>21.799308</td>\n",
       "      <td>Peso Ideal</td>\n",
       "      <td>1.0</td>\n",
       "    </tr>\n",
       "    <tr>\n",
       "      <th>96078</th>\n",
       "      <td>98.0</td>\n",
       "      <td>163.0</td>\n",
       "      <td>2.0</td>\n",
       "      <td>35.0</td>\n",
       "      <td>0</td>\n",
       "      <td>3.0</td>\n",
       "      <td>1.0</td>\n",
       "      <td>1.0</td>\n",
       "      <td>0.0</td>\n",
       "      <td>0.0</td>\n",
       "      <td>...</td>\n",
       "      <td>4.0</td>\n",
       "      <td>1.0</td>\n",
       "      <td>2.0</td>\n",
       "      <td>1.0</td>\n",
       "      <td>5.0</td>\n",
       "      <td>NaN</td>\n",
       "      <td>Saudavel</td>\n",
       "      <td>36.885092</td>\n",
       "      <td>Obeso</td>\n",
       "      <td>4.0</td>\n",
       "    </tr>\n",
       "    <tr>\n",
       "      <th>101164</th>\n",
       "      <td>85.0</td>\n",
       "      <td>174.0</td>\n",
       "      <td>1.0</td>\n",
       "      <td>33.0</td>\n",
       "      <td>1</td>\n",
       "      <td>3.0</td>\n",
       "      <td>1.0</td>\n",
       "      <td>3.0</td>\n",
       "      <td>2.0</td>\n",
       "      <td>2.0</td>\n",
       "      <td>...</td>\n",
       "      <td>4.0</td>\n",
       "      <td>2.0</td>\n",
       "      <td>1.0</td>\n",
       "      <td>1.0</td>\n",
       "      <td>5.0</td>\n",
       "      <td>NaN</td>\n",
       "      <td>Saudavel</td>\n",
       "      <td>28.075043</td>\n",
       "      <td>Sobrepeso</td>\n",
       "      <td>1.0</td>\n",
       "    </tr>\n",
       "    <tr>\n",
       "      <th>106175</th>\n",
       "      <td>95.0</td>\n",
       "      <td>175.0</td>\n",
       "      <td>1.0</td>\n",
       "      <td>50.0</td>\n",
       "      <td>0</td>\n",
       "      <td>4.0</td>\n",
       "      <td>1.0</td>\n",
       "      <td>3.0</td>\n",
       "      <td>1.0</td>\n",
       "      <td>8.0</td>\n",
       "      <td>...</td>\n",
       "      <td>4.0</td>\n",
       "      <td>1.0</td>\n",
       "      <td>2.0</td>\n",
       "      <td>1.0</td>\n",
       "      <td>7.0</td>\n",
       "      <td>NaN</td>\n",
       "      <td>Saudavel</td>\n",
       "      <td>31.020408</td>\n",
       "      <td>Obeso</td>\n",
       "      <td>3.0</td>\n",
       "    </tr>\n",
       "    <tr>\n",
       "      <th>110637</th>\n",
       "      <td>97.0</td>\n",
       "      <td>168.0</td>\n",
       "      <td>1.0</td>\n",
       "      <td>41.0</td>\n",
       "      <td>1</td>\n",
       "      <td>2.0</td>\n",
       "      <td>2.0</td>\n",
       "      <td>3.0</td>\n",
       "      <td>2.0</td>\n",
       "      <td>3.0</td>\n",
       "      <td>...</td>\n",
       "      <td>1.0</td>\n",
       "      <td>3.0</td>\n",
       "      <td>1.0</td>\n",
       "      <td>1.0</td>\n",
       "      <td>4.0</td>\n",
       "      <td>NaN</td>\n",
       "      <td>Saudavel</td>\n",
       "      <td>34.367914</td>\n",
       "      <td>Obeso</td>\n",
       "      <td>4.0</td>\n",
       "    </tr>\n",
       "    <tr>\n",
       "      <th>122732</th>\n",
       "      <td>60.0</td>\n",
       "      <td>153.0</td>\n",
       "      <td>2.0</td>\n",
       "      <td>62.0</td>\n",
       "      <td>1</td>\n",
       "      <td>3.0</td>\n",
       "      <td>2.0</td>\n",
       "      <td>1.0</td>\n",
       "      <td>0.0</td>\n",
       "      <td>0.0</td>\n",
       "      <td>...</td>\n",
       "      <td>3.0</td>\n",
       "      <td>1.0</td>\n",
       "      <td>2.0</td>\n",
       "      <td>1.0</td>\n",
       "      <td>5.0</td>\n",
       "      <td>NaN</td>\n",
       "      <td>Hipertenso</td>\n",
       "      <td>25.631167</td>\n",
       "      <td>Sobrepeso</td>\n",
       "      <td>4.0</td>\n",
       "    </tr>\n",
       "    <tr>\n",
       "      <th>122845</th>\n",
       "      <td>58.0</td>\n",
       "      <td>163.0</td>\n",
       "      <td>2.0</td>\n",
       "      <td>55.0</td>\n",
       "      <td>1</td>\n",
       "      <td>3.0</td>\n",
       "      <td>2.0</td>\n",
       "      <td>1.0</td>\n",
       "      <td>0.0</td>\n",
       "      <td>0.0</td>\n",
       "      <td>...</td>\n",
       "      <td>1.0</td>\n",
       "      <td>2.0</td>\n",
       "      <td>1.0</td>\n",
       "      <td>1.0</td>\n",
       "      <td>2.0</td>\n",
       "      <td>NaN</td>\n",
       "      <td>Hipertenso</td>\n",
       "      <td>21.829952</td>\n",
       "      <td>Peso Ideal</td>\n",
       "      <td>4.0</td>\n",
       "    </tr>\n",
       "    <tr>\n",
       "      <th>132387</th>\n",
       "      <td>102.0</td>\n",
       "      <td>155.0</td>\n",
       "      <td>2.0</td>\n",
       "      <td>50.0</td>\n",
       "      <td>1</td>\n",
       "      <td>4.0</td>\n",
       "      <td>1.0</td>\n",
       "      <td>3.0</td>\n",
       "      <td>0.0</td>\n",
       "      <td>9.0</td>\n",
       "      <td>...</td>\n",
       "      <td>3.0</td>\n",
       "      <td>1.0</td>\n",
       "      <td>2.0</td>\n",
       "      <td>1.0</td>\n",
       "      <td>4.0</td>\n",
       "      <td>NaN</td>\n",
       "      <td>Hipertenso</td>\n",
       "      <td>42.455775</td>\n",
       "      <td>Obeso</td>\n",
       "      <td>4.0</td>\n",
       "    </tr>\n",
       "  </tbody>\n",
       "</table>\n",
       "<p>13 rows × 21 columns</p>\n",
       "</div>"
      ],
      "text/plain": [
       "         Peso  Altura  Sexo  Idade  Raca_etnia  Consumo_sal  \\\n",
       "11565    79.0   153.0   2.0   46.0           1          3.0   \n",
       "12896    55.0   155.0   2.0   39.0           1          4.0   \n",
       "24287    75.0   154.0   2.0   45.0           1          4.0   \n",
       "33936    63.0   170.0   2.0   43.0           0          4.0   \n",
       "43445    48.0   158.0   2.0   41.0           1          3.0   \n",
       "75247    63.0   170.0   2.0   60.0           0          3.0   \n",
       "96078    98.0   163.0   2.0   35.0           0          3.0   \n",
       "101164   85.0   174.0   1.0   33.0           1          3.0   \n",
       "106175   95.0   175.0   1.0   50.0           0          4.0   \n",
       "110637   97.0   168.0   1.0   41.0           1          2.0   \n",
       "122732   60.0   153.0   2.0   62.0           1          3.0   \n",
       "122845   58.0   163.0   2.0   55.0           1          3.0   \n",
       "132387  102.0   155.0   2.0   50.0           1          4.0   \n",
       "\n",
       "        Atividades_fisicas  Frequencia_alcoolismo  Qtd_alcool_semanal  \\\n",
       "11565                  2.0                    1.0                 0.0   \n",
       "12896                  1.0                    3.0                 7.0   \n",
       "24287                  1.0                    1.0                 0.0   \n",
       "33936                  1.0                    1.0                 0.0   \n",
       "43445                  2.0                    1.0                 0.0   \n",
       "75247                  2.0                    1.0                 0.0   \n",
       "96078                  1.0                    1.0                 0.0   \n",
       "101164                 1.0                    3.0                 2.0   \n",
       "106175                 1.0                    3.0                 1.0   \n",
       "110637                 2.0                    3.0                 2.0   \n",
       "122732                 2.0                    1.0                 0.0   \n",
       "122845                 2.0                    1.0                 0.0   \n",
       "132387                 1.0                    3.0                 0.0   \n",
       "\n",
       "        Qtd_doses_alcoolicas  ...  Ultima_consulta  Percepcao_estado_saude  \\\n",
       "11565                    0.0  ...              3.0                     2.0   \n",
       "12896                   10.0  ...              4.0                     1.0   \n",
       "24287                    0.0  ...              3.0                     2.0   \n",
       "33936                    0.0  ...              3.0                     2.0   \n",
       "43445                    0.0  ...              1.0                     2.0   \n",
       "75247                    0.0  ...              4.0                     2.0   \n",
       "96078                    0.0  ...              4.0                     1.0   \n",
       "101164                   2.0  ...              4.0                     2.0   \n",
       "106175                   8.0  ...              4.0                     1.0   \n",
       "110637                   3.0  ...              1.0                     3.0   \n",
       "122732                   0.0  ...              3.0                     1.0   \n",
       "122845                   0.0  ...              1.0                     2.0   \n",
       "132387                   9.0  ...              3.0                     1.0   \n",
       "\n",
       "        Tem_plano  Alfabetizacao  Escolaridade  Faixa_salarial    Condicao  \\\n",
       "11565         2.0            1.0           5.0             NaN    Saudavel   \n",
       "12896         2.0            1.0           2.0             NaN    Saudavel   \n",
       "24287         2.0            1.0           5.0             NaN    Saudavel   \n",
       "33936         2.0            1.0           2.0             NaN    Saudavel   \n",
       "43445         2.0            1.0           3.0             NaN    Saudavel   \n",
       "75247         1.0            1.0           4.0             NaN    Saudavel   \n",
       "96078         2.0            1.0           5.0             NaN    Saudavel   \n",
       "101164        1.0            1.0           5.0             NaN    Saudavel   \n",
       "106175        2.0            1.0           7.0             NaN    Saudavel   \n",
       "110637        1.0            1.0           4.0             NaN    Saudavel   \n",
       "122732        2.0            1.0           5.0             NaN  Hipertenso   \n",
       "122845        1.0            1.0           2.0             NaN  Hipertenso   \n",
       "132387        2.0            1.0           4.0             NaN  Hipertenso   \n",
       "\n",
       "              IMC  Categoria_IMC Categoria_tabagismo  \n",
       "11565   33.747704          Obeso                 4.0  \n",
       "12896   22.892820     Peso Ideal                 1.0  \n",
       "24287   31.624220          Obeso                 4.0  \n",
       "33936   21.799308     Peso Ideal                 4.0  \n",
       "43445   19.227688     Peso Ideal                 4.0  \n",
       "75247   21.799308     Peso Ideal                 1.0  \n",
       "96078   36.885092          Obeso                 4.0  \n",
       "101164  28.075043      Sobrepeso                 1.0  \n",
       "106175  31.020408          Obeso                 3.0  \n",
       "110637  34.367914          Obeso                 4.0  \n",
       "122732  25.631167      Sobrepeso                 4.0  \n",
       "122845  21.829952     Peso Ideal                 4.0  \n",
       "132387  42.455775          Obeso                 4.0  \n",
       "\n",
       "[13 rows x 21 columns]"
      ]
     },
     "execution_count": 388,
     "metadata": {},
     "output_type": "execute_result"
    }
   ],
   "source": [
    "df.loc[df[\"Faixa_salarial\"].isna()]\n",
    "#df.loc[df[\"VDF002\", \"VDF003\", \"VDF004\"].isna()]"
   ]
  },
  {
   "cell_type": "markdown",
   "id": "b260eb3b-ac98-4445-ab47-63ebb9937344",
   "metadata": {},
   "source": [
    "Como os 13 nulos pertencem às classes majoritárias de Hipertensos e Saudáveis, optei por apenas descartá-los."
   ]
  },
  {
   "cell_type": "code",
   "execution_count": 389,
   "id": "a132efc7-798d-415a-ac59-7d1adf6118dd",
   "metadata": {},
   "outputs": [],
   "source": [
    "index_removidos = df[df[\"Faixa_salarial\"].isna()].index\n",
    "\n",
    "df.drop(index_removidos, inplace=True)"
   ]
  },
  {
   "cell_type": "code",
   "execution_count": 390,
   "id": "bfad225e-ca2f-406e-a668-13f2a1fc24c6",
   "metadata": {},
   "outputs": [
    {
     "data": {
      "text/plain": [
       "Faixa_salarial    0\n",
       "dtype: int64"
      ]
     },
     "execution_count": 390,
     "metadata": {},
     "output_type": "execute_result"
    }
   ],
   "source": [
    "colunas_especificas = [\"Faixa_salarial\"]\n",
    "\n",
    "df[colunas_especificas].isnull().sum()"
   ]
  },
  {
   "cell_type": "markdown",
   "id": "ace2b487-ebc3-464a-9830-dc10a2c8758a",
   "metadata": {},
   "source": [
    "Nulos do aspecto econômico removidos."
   ]
  },
  {
   "cell_type": "markdown",
   "id": "969c5683-37fe-4d42-a091-135cf8245a86",
   "metadata": {},
   "source": [
    "## **3.10. Aplicação do LabelEncoder e OneHotEncoder**"
   ]
  },
  {
   "cell_type": "code",
   "execution_count": 391,
   "id": "2159c291-0b14-42e0-a0aa-d0d17634ad41",
   "metadata": {},
   "outputs": [
    {
     "data": {
      "text/plain": [
       "(53954, 21)"
      ]
     },
     "execution_count": 391,
     "metadata": {},
     "output_type": "execute_result"
    }
   ],
   "source": [
    "df.shape"
   ]
  },
  {
   "cell_type": "markdown",
   "id": "2ea09361-8ab7-4f8e-bd5f-a63f6305588f",
   "metadata": {},
   "source": [
    "Há 21 atributos finais no conjunto de dados."
   ]
  },
  {
   "cell_type": "code",
   "execution_count": 392,
   "id": "7d105228-969b-43cb-b1f0-104c654fdf79",
   "metadata": {},
   "outputs": [
    {
     "data": {
      "text/plain": [
       "Index(['Peso', 'Altura', 'Sexo', 'Idade', 'Raca_etnia', 'Consumo_sal',\n",
       "       'Atividades_fisicas', 'Frequencia_alcoolismo', 'Qtd_alcool_semanal',\n",
       "       'Qtd_doses_alcoolicas', 'Ficou_internado', 'Ultima_consulta',\n",
       "       'Percepcao_estado_saude', 'Tem_plano', 'Alfabetizacao', 'Escolaridade',\n",
       "       'Faixa_salarial', 'Condicao', 'IMC', 'Categoria_IMC',\n",
       "       'Categoria_tabagismo'],\n",
       "      dtype='object')"
      ]
     },
     "execution_count": 392,
     "metadata": {},
     "output_type": "execute_result"
    }
   ],
   "source": [
    "df.columns"
   ]
  },
  {
   "cell_type": "markdown",
   "id": "0ed50c29-64f3-44b6-a7d5-98cb057fbd82",
   "metadata": {},
   "source": [
    "As colunas categóricas são:\n",
    "\n",
    "- Alfabetização\n",
    "- Tem plano?\n",
    "- Raça/Etnia\n",
    "- Sexo\n",
    "\n",
    "Para todas essas colunas, por mais que não possuam ordem, há apenas 2 valores possíveis de resposta, portanto, não será preciso utilizar OneHotEncoder e aumentar a dimensionalidade do problema."
   ]
  },
  {
   "cell_type": "markdown",
   "id": "2e241edd-d5b2-451a-a4ad-d750a2f5f347",
   "metadata": {},
   "source": [
    "### 3.10.1 Aplicando LabelEncoder"
   ]
  },
  {
   "cell_type": "markdown",
   "id": "57358921-e792-410f-8b4f-5f34c943cde9",
   "metadata": {},
   "source": [
    "Há 1 coluna que é necessário aplicar o Label Encoder: Categoria IMC. Esse atributo é categórico ordinal."
   ]
  },
  {
   "cell_type": "code",
   "execution_count": 393,
   "id": "98285aeb-f63a-4a4c-870d-74c32fe0c15f",
   "metadata": {},
   "outputs": [],
   "source": [
    "# Criando o dicionário\n",
    "dic_imc = { 'Baixo Peso': 0, \n",
    "            'Peso Ideal': 1, \n",
    "            'Sobrepeso': 2, \n",
    "            'Obeso': 3\n",
    "          }\n",
    "\n",
    "# Subistituindo os dados da variável Categoria_IMC pelo valores do dicionário.\n",
    "df['Categoria_IMC'] = df['Categoria_IMC'].map(dic_imc)\n",
    "\n",
    "df['Categoria_IMC'] = df['Categoria_IMC'].astype(int)"
   ]
  },
  {
   "cell_type": "code",
   "execution_count": 394,
   "id": "dd21dab6-c9c2-4a25-8a28-65a8e08565eb",
   "metadata": {
    "scrolled": true
   },
   "outputs": [
    {
     "data": {
      "text/plain": [
       "Categoria_IMC\n",
       "2    21844\n",
       "1    18883\n",
       "3    12682\n",
       "0      545\n",
       "Name: count, dtype: int64"
      ]
     },
     "execution_count": 394,
     "metadata": {},
     "output_type": "execute_result"
    }
   ],
   "source": [
    "df['Categoria_IMC'].value_counts()"
   ]
  },
  {
   "cell_type": "markdown",
   "id": "73bbd5b6-9df1-4843-b00b-73a639a06367",
   "metadata": {},
   "source": [
    "## **3.11. Balanceamento das Classes**"
   ]
  },
  {
   "cell_type": "code",
   "execution_count": 395,
   "id": "0274cc5f-7d0f-4102-b1d2-f211006827a2",
   "metadata": {},
   "outputs": [
    {
     "data": {
      "text/plain": [
       "31322"
      ]
     },
     "execution_count": 395,
     "metadata": {},
     "output_type": "execute_result"
    }
   ],
   "source": [
    "len(df.loc[df[\"Condicao\"]==\"Saudavel\"])"
   ]
  },
  {
   "cell_type": "markdown",
   "id": "57d4880f-bbe6-411b-a255-7e39961acc8c",
   "metadata": {},
   "source": [
    "Utilizaremos a realização do **undersampling** da classe das pessoas saudáveis."
   ]
  },
  {
   "cell_type": "code",
   "execution_count": 396,
   "id": "b91d7d1b-154d-4f0e-9272-446a614ede52",
   "metadata": {},
   "outputs": [
    {
     "data": {
      "text/plain": [
       "2928"
      ]
     },
     "execution_count": 396,
     "metadata": {},
     "output_type": "execute_result"
    }
   ],
   "source": [
    "len(df.loc[df[\"Condicao\"]==\"HiperCVD\"])"
   ]
  },
  {
   "cell_type": "code",
   "execution_count": 397,
   "id": "3098c118-13f1-4350-880e-99a282e72bad",
   "metadata": {},
   "outputs": [
    {
     "data": {
      "text/plain": [
       "19704"
      ]
     },
     "execution_count": 397,
     "metadata": {},
     "output_type": "execute_result"
    }
   ],
   "source": [
    "len(df.loc[df[\"Condicao\"]==\"Hipertenso\"])"
   ]
  },
  {
   "cell_type": "markdown",
   "id": "72fa7a16-8953-4089-8b34-f73fdd7d59fb",
   "metadata": {},
   "source": [
    "Para os hipertensos, é preciso que seja feita o **undersampling**."
   ]
  },
  {
   "cell_type": "markdown",
   "id": "13a8cd00-2887-4f74-ad5c-66043ec2021c",
   "metadata": {},
   "source": [
    "### 3.11.1. Transformando a coluna de rótulos em números"
   ]
  },
  {
   "cell_type": "code",
   "execution_count": 398,
   "id": "dfa611f1-8dec-4e04-8715-6ea15e127fa2",
   "metadata": {},
   "outputs": [
    {
     "name": "stdout",
     "output_type": "stream",
     "text": [
      "['HiperCVD' 'Hipertenso' 'Saudavel']\n"
     ]
    }
   ],
   "source": [
    "from sklearn.preprocessing import LabelEncoder\n",
    "\n",
    "# Instanciação do objeto LabelEncoder.\n",
    "label_encoder = LabelEncoder()\n",
    "\n",
    "# Ajuste e transforme a coluna de rótulo.\n",
    "df['Condicao'] = label_encoder.fit_transform(df['Condicao'])\n",
    "\n",
    "print(label_encoder.classes_)\n"
   ]
  },
  {
   "cell_type": "markdown",
   "id": "32c3cda1-446a-4d1c-b5fe-247b4269682f",
   "metadata": {},
   "source": [
    "### 3.11.2. Divisão Conjunto Treino e Teste"
   ]
  },
  {
   "cell_type": "code",
   "execution_count": 399,
   "id": "ca3535aa-43f0-4703-a158-d6513a1d8b9b",
   "metadata": {},
   "outputs": [],
   "source": [
    "from sklearn.model_selection import train_test_split\n",
    "\n",
    "# Separar o rótulo dos dados.\n",
    "y = df['Condicao']\n",
    "X = df.drop('Condicao', axis=1)\n",
    "\n",
    "X_train, X_test, y_train, y_test = train_test_split(X, y, test_size=0.2, random_state=42, stratify=y)"
   ]
  },
  {
   "cell_type": "code",
   "execution_count": 400,
   "id": "0a2e2c8f-7a1d-49bb-984a-b17d2a753059",
   "metadata": {},
   "outputs": [
    {
     "data": {
      "text/plain": [
       "43163"
      ]
     },
     "execution_count": 400,
     "metadata": {},
     "output_type": "execute_result"
    }
   ],
   "source": [
    "len(y_train)"
   ]
  },
  {
   "cell_type": "markdown",
   "id": "4defae36-e40b-4f62-8346-3135b48dbd5a",
   "metadata": {},
   "source": [
    "43.163 instâncias para o conjunto de treino."
   ]
  },
  {
   "cell_type": "code",
   "execution_count": 401,
   "id": "7613a136-b205-4602-a89c-f12ae1d8c24c",
   "metadata": {},
   "outputs": [
    {
     "data": {
      "text/plain": [
       "Condicao\n",
       "2    25058\n",
       "1    15763\n",
       "0     2342\n",
       "Name: count, dtype: int64"
      ]
     },
     "execution_count": 401,
     "metadata": {},
     "output_type": "execute_result"
    }
   ],
   "source": [
    "y_train.value_counts()"
   ]
  },
  {
   "cell_type": "markdown",
   "id": "731de899-bd15-473a-ac03-b74f19c4d431",
   "metadata": {},
   "source": [
    "divisão por classe, **conjunto de treino:**\n",
    "\n",
    "- 15.763 pessoas com HA.\n",
    "- 2.342 pessoas com HA e DCV.\n",
    "- 25.058 pessoas saudáveis."
   ]
  },
  {
   "cell_type": "code",
   "execution_count": 402,
   "id": "0baec25d-0448-4088-9afd-edef20051920",
   "metadata": {},
   "outputs": [
    {
     "data": {
      "text/plain": [
       "Condicao\n",
       "2    6264\n",
       "1    3941\n",
       "0     586\n",
       "Name: count, dtype: int64"
      ]
     },
     "execution_count": 402,
     "metadata": {},
     "output_type": "execute_result"
    }
   ],
   "source": [
    "y_test.value_counts()"
   ]
  },
  {
   "cell_type": "markdown",
   "id": "a22fe5b1-f3e8-40e6-a2f9-6043c68e7540",
   "metadata": {},
   "source": [
    "divisão por classe, **conjunto de teste:**\n",
    "\n",
    "- 3.941 pessoas com HA.\n",
    "- 586 pessoas com HA e DCV.\n",
    "- 6.264 pessoas saudáveis."
   ]
  },
  {
   "cell_type": "markdown",
   "id": "64377d1f-c0a2-4cae-9af5-0426c723ce08",
   "metadata": {},
   "source": [
    "### 3.11.3. Undersampling - Pessoas Hipertensas e Saudáveis"
   ]
  },
  {
   "cell_type": "markdown",
   "id": "ae20596e-acee-4d30-91e0-01b8406434cb",
   "metadata": {},
   "source": [
    "O objetivo desse subtópico é **diminuir as instâncias das pessoas hipertensas e saudáveis** no conjunto de treinamento."
   ]
  },
  {
   "cell_type": "code",
   "execution_count": 403,
   "id": "bfe8f32b-7235-4537-8acb-21137bdde9e3",
   "metadata": {},
   "outputs": [
    {
     "name": "stdout",
     "output_type": "stream",
     "text": [
      "Contagem no conjunto de treino:\n",
      "Condicao\n",
      "0    2342\n",
      "1    2342\n",
      "2    2342\n",
      "Name: count, dtype: int64\n",
      "\n",
      "Contagem no conjunto de teste:\n",
      "Condicao\n",
      "2    6264\n",
      "1    3941\n",
      "0     586\n",
      "Name: count, dtype: int64\n"
     ]
    }
   ],
   "source": [
    "from imblearn.under_sampling import RandomUnderSampler\n",
    "\n",
    "# Cria uma cópia do conjunto de treino original\n",
    "X_train_original = X_train.copy()\n",
    "y_train_original = y_train.copy()\n",
    "\n",
    "# Aplica o undersampling\n",
    "undersampler = RandomUnderSampler(sampling_strategy={0: 2342, 1: 2342, 2: 2342}, random_state=42)\n",
    "X_train_balanceado, y_train_balanceado = undersampler.fit_resample(X_train, y_train)\n",
    "\n",
    "# Verificando as novas contagens\n",
    "print(\"Contagem no conjunto de treino:\")\n",
    "print(y_train_balanceado.value_counts())\n",
    "\n",
    "print(\"\\nContagem no conjunto de teste:\")\n",
    "print(y_test.value_counts())"
   ]
  },
  {
   "cell_type": "markdown",
   "id": "74fb94dc-e1e5-4e74-8e8e-9f185347962d",
   "metadata": {},
   "source": [
    "Agora, temos o conjunto de treinamento balanceado."
   ]
  },
  {
   "cell_type": "markdown",
   "id": "9d8e6b75-d1c2-4ecf-9689-1949682d5ff1",
   "metadata": {},
   "source": [
    "## **3.12. Salvando o Conjunto de Dados Pré-Processado**"
   ]
  },
  {
   "cell_type": "code",
   "execution_count": 404,
   "id": "7b8048c4-fd62-4c1e-aa8e-0ecbaa50589f",
   "metadata": {},
   "outputs": [
    {
     "name": "stdout",
     "output_type": "stream",
     "text": [
      "Arquivos salvos com sucesso!\n"
     ]
    }
   ],
   "source": [
    "import pickle\n",
    "import os\n",
    "\n",
    "diretorio = \"../dados\"\n",
    "\n",
    "# Criar o diretório, se não existir\n",
    "if not os.path.exists(diretorio):\n",
    "    os.makedirs(diretorio)\n",
    "\n",
    "\n",
    "# Salvar X_TRAIN \n",
    "with open(os.path.join(diretorio, 'X_train.pkl'), 'wb') as f:\n",
    "    pickle.dump(X_train_balanceado, f)\n",
    "\n",
    "# Salvar Y_TRAIN \n",
    "with open(os.path.join(diretorio, 'y_train.pkl'), 'wb') as f:\n",
    "    pickle.dump(y_train_balanceado, f)\n",
    "\n",
    "# Salvar X_TEST \n",
    "with open(os.path.join(diretorio, 'X_test.pkl'), 'wb') as f:\n",
    "    pickle.dump(X_test, f)\n",
    "\n",
    "# Salvar Y_TEST \n",
    "with open(os.path.join(diretorio, 'Y_test.pkl'), 'wb') as f:\n",
    "    pickle.dump(y_test, f)\n",
    "\n",
    "print(\"Arquivos salvos com sucesso!\")"
   ]
  },
  {
   "cell_type": "code",
   "execution_count": null,
   "id": "7470659f-d963-4ac8-ad58-a6c8f8759cf6",
   "metadata": {},
   "outputs": [],
   "source": []
  }
 ],
 "metadata": {
  "kernelspec": {
   "display_name": "Python 3 (ipykernel)",
   "language": "python",
   "name": "python3"
  },
  "language_info": {
   "codemirror_mode": {
    "name": "ipython",
    "version": 3
   },
   "file_extension": ".py",
   "mimetype": "text/x-python",
   "name": "python",
   "nbconvert_exporter": "python",
   "pygments_lexer": "ipython3",
   "version": "3.12.4"
  }
 },
 "nbformat": 4,
 "nbformat_minor": 5
}
